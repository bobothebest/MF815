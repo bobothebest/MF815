{
 "cells": [
  {
   "cell_type": "markdown",
   "id": "dCndVq0z9MsM",
   "metadata": {
    "id": "dCndVq0z9MsM"
   },
   "source": [
    "## Wayfair Product Search\n",
    "\n",
    "Search relevance – the relationship between users’ queries and the products returned in search results – is one of the most important performance indicators for ecommerce storefronts. However, the sheer volume of the data makes evaluating and improving search relevance a difficult proposition.\n",
    "\n",
    "The [Wayfair Annotation Dataset (WANDS)](https://www.aboutwayfair.com/careers/tech-blog/wayfair-releases-wands-the-largest-and-richest-publicly-available-dataset-for-e-commerce-product-search-relevance) dataset includes details such as product title, product description, primary classes, product category hierarchy, various product attributes such as size and color, average customer ratings, and review numbers. It also contains the richest descriptions of the products and queries in the English language.\n",
    "\n",
    "In this task, we will use NLP building a search engine to match user's queries and the products.\n",
    "\n",
    "Author: Hao Xing. This code is private. Please do not distribute."
   ]
  },
  {
   "cell_type": "code",
   "execution_count": 1,
   "id": "8b781e47-2986-4c1d-b1f6-28361312aa93",
   "metadata": {
    "executionInfo": {
     "elapsed": 1290,
     "status": "ok",
     "timestamp": 1712089428263,
     "user": {
      "displayName": "Hao Xing",
      "userId": "09879780144362031268"
     },
     "user_tz": 240
    },
    "id": "8b781e47-2986-4c1d-b1f6-28361312aa93",
    "tags": []
   },
   "outputs": [],
   "source": [
    "import pandas as pd\n",
    "import numpy as np\n",
    "from sklearn.feature_extraction.text import TfidfVectorizer\n",
    "from sklearn.metrics.pairwise import cosine_similarity"
   ]
  },
  {
   "cell_type": "code",
   "execution_count": 2,
   "id": "f2384d13-941a-4c49-b903-68c5cf55ac15",
   "metadata": {
    "colab": {
     "base_uri": "https://localhost:8080/"
    },
    "executionInfo": {
     "elapsed": 5157,
     "status": "ok",
     "timestamp": 1712089463540,
     "user": {
      "displayName": "Hao Xing",
      "userId": "09879780144362031268"
     },
     "user_tz": 240
    },
    "id": "f2384d13-941a-4c49-b903-68c5cf55ac15",
    "outputId": "d609ff5c-b38b-4799-a99a-93b085131073",
    "tags": []
   },
   "outputs": [
    {
     "name": "stdout",
     "output_type": "stream",
     "text": [
      "Cloning into 'WANDS'...\n",
      "remote: Enumerating objects: 40, done.\u001b[K\n",
      "remote: Counting objects: 100% (40/40), done.\u001b[K\n",
      "remote: Compressing objects: 100% (37/37), done.\u001b[K\n",
      "remote: Total 40 (delta 7), reused 23 (delta 3), pack-reused 0\u001b[K\n",
      "Receiving objects: 100% (40/40), 33.32 MiB | 10.23 MiB/s, done.\n",
      "Resolving deltas: 100% (7/7), done.\n"
     ]
    }
   ],
   "source": [
    "#clone the git repo that contains the WAND data\n",
    "!git clone https://github.com/wayfair/WANDS.git"
   ]
  },
  {
   "cell_type": "code",
   "execution_count": 3,
   "id": "42485468-77e2-4fc3-9a70-319a70603472",
   "metadata": {
    "executionInfo": {
     "elapsed": 338,
     "status": "ok",
     "timestamp": 1712089465583,
     "user": {
      "displayName": "Hao Xing",
      "userId": "09879780144362031268"
     },
     "user_tz": 240
    },
    "id": "42485468-77e2-4fc3-9a70-319a70603472",
    "tags": []
   },
   "outputs": [],
   "source": [
    "#define functions for search using Tf-IDF\n",
    "def calculate_tfidf(dataframe):\n",
    "    \"\"\"\n",
    "    Calculate the TF-IDF for combined product name and description.\n",
    "\n",
    "    \"\"\"\n",
    "    # Combine product name and description to vectorize\n",
    "\n",
    "    combined_text = dataframe['product_name'] + ' ' + dataframe['product_description']\n",
    "    vectorizer = TfidfVectorizer()\n",
    "\n",
    "    # convert combined_text to list of unicode strings\n",
    "    tfidf_matrix = vectorizer.fit_transform(combined_text.values.astype('U'))\n",
    "    return vectorizer, tfidf_matrix"
   ]
  },
  {
   "cell_type": "code",
   "execution_count": 4,
   "id": "zVr-8WBlW8pJ",
   "metadata": {
    "executionInfo": {
     "elapsed": 478,
     "status": "ok",
     "timestamp": 1712089468147,
     "user": {
      "displayName": "Hao Xing",
      "userId": "09879780144362031268"
     },
     "user_tz": 240
    },
    "id": "zVr-8WBlW8pJ"
   },
   "outputs": [],
   "source": [
    "#a function for getting top N matched products for a given query based on TF-IDF similarity\n",
    "def get_top_products(vectorizer, tfidf_matrix, query, top_n=10):\n",
    "\n",
    "    query_vector = vectorizer.transform([query]) # change a query to its TF-IDF representation\n",
    "    cosine_similarities = cosine_similarity(query_vector, tfidf_matrix).flatten()\n",
    "    top_product_indices = cosine_similarities.argsort()[-top_n:][::-1]\n",
    "    return top_product_indices"
   ]
  },
  {
   "cell_type": "markdown",
   "id": "89HM1iGEYCgi",
   "metadata": {
    "id": "89HM1iGEYCgi"
   },
   "source": [
    "[Mean Average Precision (MAP) at K](https://www.evidentlyai.com/ranking-metrics/mean-average-precision-map) is one of the metrics that helps evaluate the quality of ranking and recommender systems. It measures both the relevance of suggested items and how good the system is at placing more relevant items at the top."
   ]
  },
  {
   "cell_type": "code",
   "execution_count": 5,
   "id": "8dd06913-4149-44c7-a876-787316e1b1a4",
   "metadata": {
    "executionInfo": {
     "elapsed": 3,
     "status": "ok",
     "timestamp": 1712089469614,
     "user": {
      "displayName": "Hao Xing",
      "userId": "09879780144362031268"
     },
     "user_tz": 240
    },
    "id": "8dd06913-4149-44c7-a876-787316e1b1a4",
    "tags": []
   },
   "outputs": [],
   "source": [
    "#define functions for evaluating retrieval performance using MAP@K\n",
    "def map_at_k(true_ids, predicted_ids, k=10):\n",
    "\n",
    "    #if either list is empty, return 0\n",
    "    if not len(true_ids) or not len(predicted_ids):\n",
    "        return 0.0\n",
    "\n",
    "    score = 0.0\n",
    "    num_hits = 0.0\n",
    "\n",
    "    for i, p_id in enumerate(predicted_ids[:k]):\n",
    "        if p_id in true_ids and p_id not in predicted_ids[:i]:\n",
    "            num_hits += 1.0\n",
    "            score += num_hits / (i + 1.0)\n",
    "\n",
    "    return score / min(len(true_ids), k)"
   ]
  },
  {
   "cell_type": "markdown",
   "id": "f5637d6a",
   "metadata": {
    "id": "f5637d6a"
   },
   "source": [
    "[Normalized Discounted Cumulative Gain (NDCG)](https://www.evidentlyai.com/ranking-metrics/ndcg-metric) is a metric that evaluates the quality of recommendation and information retrieval systems. We assume that there is some ideal ranking with all the items sorted in decreasing order of relevance. NDCG helps measure how close the algorithm output comes to this perfect order.\n",
    "\n",
    "Please note that we use a modified NDCG@K metric, instead of the traditional NDCG@K metric, to better refect the quality of match.\n",
    "\n",
    "Suppose that we assign a relevance score 2 to each exact match, relevance score 1 to each partial match, and relevance score 0 to each irrelevant item. For a predicted top 5 relevance score list [2, 0, 1, 1, 0], the traditional IDCG should be calculated based on the perfect ranking order [2, 1, 1, 0, 0] among the given predicted list. However, if the query has 30 exact match products, the predicted top 5 list [2, 0, 1, 1, 0] only captures 1 exact match which performs very poor. So we adjust the calculation of IDCG by using the modified perfect ranking among the ground truth. Since the query has 30 exact matches, the modified top 5 perfect ranking list is [2, 2, 2, 2, 2]. It increases the value of IDCG and decreases the value of NDCG, allowing the modified NDCG to give penalty to the prediction that do not capture many exact matches.\n",
    "\n",
    "In addition, considering the following two cases:\n",
    "- Case A: there are 200 exact matches, and we get a predicted relevance score [2,2,1,0,0,0], which only predicted 2 exact matches correctly;\n",
    "- Case B: there are only 2 exact matches, and we get a predicted relevance score [2,2,1,0,0,0], which predicted all 2 exact matches correctly;\n",
    "\n",
    "By common sense, case B should get better score than case A. The traditional NDCG score will give the same score to both cases, while our modified NDCG score will give high score to case B than case A.\n"
   ]
  },
  {
   "cell_type": "code",
   "execution_count": 6,
   "id": "0e26f68c",
   "metadata": {
    "executionInfo": {
     "elapsed": 467,
     "status": "ok",
     "timestamp": 1712089473461,
     "user": {
      "displayName": "Hao Xing",
      "userId": "09879780144362031268"
     },
     "user_tz": 240
    },
    "id": "0e26f68c"
   },
   "outputs": [],
   "source": [
    "# Calculate the Normalized Discounted Cumulative Gain (NDCG) at K (NDCG@K)\n",
    "\n",
    "def ndcg_at_k(\n",
    "        true_ids_exact: list[str],\n",
    "        true_ids_partial: list[str],\n",
    "        predicted_ids: list[str],\n",
    "        k: int =10\n",
    "    ) -> float:\n",
    "\n",
    "\n",
    "    len_exact, len_partial, len_predicted = len(true_ids_exact), len(true_ids_partial), len(predicted_ids)\n",
    "\n",
    "    #if length of true_ids (exact+partial) or length of predicted_ids less than k, replace k as the minimum of these numbers.\n",
    "    k = min(len_exact+len_partial, len_predicted, k)\n",
    "\n",
    "    if k == 0:\n",
    "        print(\"Please check the length of true_ids_exact, true_ids_partial or predicted_ids\")\n",
    "        return 0\n",
    "\n",
    "    predicted_ids_k = predicted_ids[:k]\n",
    "\n",
    "    # creat predicted relevance score.\n",
    "    predicted_rel_score_k = []\n",
    "    for id in predicted_ids_k:\n",
    "        if id in true_ids_exact:\n",
    "            predicted_rel_score_k.append(2)  # Give a relevance score 2 if the predicted id is a exact match.\n",
    "        elif id in true_ids_partial:\n",
    "            predicted_rel_score_k.append(1)  # Give a relevance score 1 if the predicted id is a partial match.\n",
    "        else:\n",
    "            predicted_rel_score_k.append(0) # Give a relevance score 0 if the predicted id is a irrelevant.\n",
    "\n",
    "    # creat true relevance score.\n",
    "    # Note: please note that the true relevance score is created using true_ids_exact and true_ids_partial, instead of using predicted_ids.\n",
    "    #       the reason is considering the following two cases:\n",
    "    #       case A: there is 200 true_ids_exact, and I get a predicted relevance score [2,2,1,0,0,0], which only predicted 2 exact match correctly;\n",
    "    #       case B: there is only 2 true_ids_exact, and I get a predicted relevance score [2,2,1,0,0,0], which predicted all 2 exact match correctly;\n",
    "    #       case B should get better NDCG score than case A.\n",
    "    true_rel_score = [2 for i in true_ids_exact] + [1 for i in true_ids_partial]\n",
    "\n",
    "    # select the top k elements to consider.\n",
    "    true_rel_score_k = true_rel_score[:k]\n",
    "\n",
    "    # calculate array of 1/log2(i+2)\n",
    "    arange = np.arange(k, dtype=np.float32)\n",
    "    denom = np.log2(arange + 2.)\n",
    "    gains = 1. / denom\n",
    "\n",
    "    # calculate dcg using predicted_rel_score_k\n",
    "    dcg = (np.array(predicted_rel_score_k)* gains).sum()\n",
    "\n",
    "    # calculate idcg using true_rel_score_k\n",
    "    idcg = (np.array(true_rel_score_k)* gains).sum()\n",
    "\n",
    "    # calculate ndcg\n",
    "    ndcg = dcg/idcg\n",
    "\n",
    "    return ndcg\n",
    "\n"
   ]
  },
  {
   "cell_type": "markdown",
   "id": "u0MjaMW6bks4",
   "metadata": {
    "id": "u0MjaMW6bks4"
   },
   "source": [
    "## Data Preparation"
   ]
  },
  {
   "cell_type": "code",
   "execution_count": 7,
   "id": "2e6f66b3-37d1-48b0-a9f5-fb58003f4cd5",
   "metadata": {
    "executionInfo": {
     "elapsed": 563,
     "status": "ok",
     "timestamp": 1712089480570,
     "user": {
      "displayName": "Hao Xing",
      "userId": "09879780144362031268"
     },
     "user_tz": 240
    },
    "id": "2e6f66b3-37d1-48b0-a9f5-fb58003f4cd5",
    "tags": []
   },
   "outputs": [],
   "source": [
    "# get search queries\n",
    "query_df = pd.read_csv(\"WANDS/dataset/query.csv\", sep='\\t')"
   ]
  },
  {
   "cell_type": "code",
   "execution_count": 8,
   "id": "041c7b89-1985-4dff-86e6-67353c96bdc6",
   "metadata": {
    "colab": {
     "base_uri": "https://localhost:8080/",
     "height": 381
    },
    "executionInfo": {
     "elapsed": 332,
     "status": "ok",
     "timestamp": 1712089482642,
     "user": {
      "displayName": "Hao Xing",
      "userId": "09879780144362031268"
     },
     "user_tz": 240
    },
    "id": "041c7b89-1985-4dff-86e6-67353c96bdc6",
    "outputId": "205e541f-2c97-470b-c621-4c1b0d4a6945",
    "tags": []
   },
   "outputs": [
    {
     "name": "stdout",
     "output_type": "stream",
     "text": [
      "(480, 3)\n"
     ]
    },
    {
     "data": {
      "application/vnd.google.colaboratory.intrinsic+json": {
       "summary": "{\n  \"name\": \"query_df\",\n  \"rows\": 480,\n  \"fields\": [\n    {\n      \"column\": \"query_id\",\n      \"properties\": {\n        \"dtype\": \"number\",\n        \"std\": 141,\n        \"min\": 0,\n        \"max\": 487,\n        \"num_unique_values\": 480,\n        \"samples\": [\n          73,\n          420,\n          400\n        ],\n        \"semantic_type\": \"\",\n        \"description\": \"\"\n      }\n    },\n    {\n      \"column\": \"query\",\n      \"properties\": {\n        \"dtype\": \"string\",\n        \"num_unique_values\": 480,\n        \"samples\": [\n          \"certified international melamine\",\n          \"tile backsplash\",\n          \"small ladies rocker swivel recliner\"\n        ],\n        \"semantic_type\": \"\",\n        \"description\": \"\"\n      }\n    },\n    {\n      \"column\": \"query_class\",\n      \"properties\": {\n        \"dtype\": \"category\",\n        \"num_unique_values\": 188,\n        \"samples\": [\n          \"Flatware Serving Pieces\",\n          \"Dining Linens\",\n          \"Wallpaper\"\n        ],\n        \"semantic_type\": \"\",\n        \"description\": \"\"\n      }\n    }\n  ]\n}",
       "type": "dataframe",
       "variable_name": "query_df"
      },
      "text/html": [
       "\n",
       "  <div id=\"df-26cc06fb-c210-4c40-8d00-da35dfab9213\" class=\"colab-df-container\">\n",
       "    <div>\n",
       "<style scoped>\n",
       "    .dataframe tbody tr th:only-of-type {\n",
       "        vertical-align: middle;\n",
       "    }\n",
       "\n",
       "    .dataframe tbody tr th {\n",
       "        vertical-align: top;\n",
       "    }\n",
       "\n",
       "    .dataframe thead th {\n",
       "        text-align: right;\n",
       "    }\n",
       "</style>\n",
       "<table border=\"1\" class=\"dataframe\">\n",
       "  <thead>\n",
       "    <tr style=\"text-align: right;\">\n",
       "      <th></th>\n",
       "      <th>query_id</th>\n",
       "      <th>query</th>\n",
       "      <th>query_class</th>\n",
       "    </tr>\n",
       "  </thead>\n",
       "  <tbody>\n",
       "    <tr>\n",
       "      <th>0</th>\n",
       "      <td>0</td>\n",
       "      <td>salon chair</td>\n",
       "      <td>Massage Chairs</td>\n",
       "    </tr>\n",
       "    <tr>\n",
       "      <th>1</th>\n",
       "      <td>1</td>\n",
       "      <td>smart coffee table</td>\n",
       "      <td>Coffee &amp; Cocktail Tables</td>\n",
       "    </tr>\n",
       "    <tr>\n",
       "      <th>2</th>\n",
       "      <td>2</td>\n",
       "      <td>dinosaur</td>\n",
       "      <td>Kids Wall Décor</td>\n",
       "    </tr>\n",
       "    <tr>\n",
       "      <th>3</th>\n",
       "      <td>3</td>\n",
       "      <td>turquoise pillows</td>\n",
       "      <td>Accent Pillows</td>\n",
       "    </tr>\n",
       "    <tr>\n",
       "      <th>4</th>\n",
       "      <td>4</td>\n",
       "      <td>chair and a half recliner</td>\n",
       "      <td>Recliners</td>\n",
       "    </tr>\n",
       "    <tr>\n",
       "      <th>5</th>\n",
       "      <td>5</td>\n",
       "      <td>sofa with ottoman</td>\n",
       "      <td>Sectionals</td>\n",
       "    </tr>\n",
       "    <tr>\n",
       "      <th>6</th>\n",
       "      <td>6</td>\n",
       "      <td>acrylic clear chair</td>\n",
       "      <td>Dining Chairs</td>\n",
       "    </tr>\n",
       "    <tr>\n",
       "      <th>7</th>\n",
       "      <td>7</td>\n",
       "      <td>driftwood mirror</td>\n",
       "      <td>Wall &amp; Accent Mirrors</td>\n",
       "    </tr>\n",
       "    <tr>\n",
       "      <th>8</th>\n",
       "      <td>8</td>\n",
       "      <td>home sweet home sign</td>\n",
       "      <td>Wall Décor</td>\n",
       "    </tr>\n",
       "    <tr>\n",
       "      <th>9</th>\n",
       "      <td>9</td>\n",
       "      <td>coffee table fire pit</td>\n",
       "      <td>Outdoor Fireplaces</td>\n",
       "    </tr>\n",
       "  </tbody>\n",
       "</table>\n",
       "</div>\n",
       "    <div class=\"colab-df-buttons\">\n",
       "\n",
       "  <div class=\"colab-df-container\">\n",
       "    <button class=\"colab-df-convert\" onclick=\"convertToInteractive('df-26cc06fb-c210-4c40-8d00-da35dfab9213')\"\n",
       "            title=\"Convert this dataframe to an interactive table.\"\n",
       "            style=\"display:none;\">\n",
       "\n",
       "  <svg xmlns=\"http://www.w3.org/2000/svg\" height=\"24px\" viewBox=\"0 -960 960 960\">\n",
       "    <path d=\"M120-120v-720h720v720H120Zm60-500h600v-160H180v160Zm220 220h160v-160H400v160Zm0 220h160v-160H400v160ZM180-400h160v-160H180v160Zm440 0h160v-160H620v160ZM180-180h160v-160H180v160Zm440 0h160v-160H620v160Z\"/>\n",
       "  </svg>\n",
       "    </button>\n",
       "\n",
       "  <style>\n",
       "    .colab-df-container {\n",
       "      display:flex;\n",
       "      gap: 12px;\n",
       "    }\n",
       "\n",
       "    .colab-df-convert {\n",
       "      background-color: #E8F0FE;\n",
       "      border: none;\n",
       "      border-radius: 50%;\n",
       "      cursor: pointer;\n",
       "      display: none;\n",
       "      fill: #1967D2;\n",
       "      height: 32px;\n",
       "      padding: 0 0 0 0;\n",
       "      width: 32px;\n",
       "    }\n",
       "\n",
       "    .colab-df-convert:hover {\n",
       "      background-color: #E2EBFA;\n",
       "      box-shadow: 0px 1px 2px rgba(60, 64, 67, 0.3), 0px 1px 3px 1px rgba(60, 64, 67, 0.15);\n",
       "      fill: #174EA6;\n",
       "    }\n",
       "\n",
       "    .colab-df-buttons div {\n",
       "      margin-bottom: 4px;\n",
       "    }\n",
       "\n",
       "    [theme=dark] .colab-df-convert {\n",
       "      background-color: #3B4455;\n",
       "      fill: #D2E3FC;\n",
       "    }\n",
       "\n",
       "    [theme=dark] .colab-df-convert:hover {\n",
       "      background-color: #434B5C;\n",
       "      box-shadow: 0px 1px 3px 1px rgba(0, 0, 0, 0.15);\n",
       "      filter: drop-shadow(0px 1px 2px rgba(0, 0, 0, 0.3));\n",
       "      fill: #FFFFFF;\n",
       "    }\n",
       "  </style>\n",
       "\n",
       "    <script>\n",
       "      const buttonEl =\n",
       "        document.querySelector('#df-26cc06fb-c210-4c40-8d00-da35dfab9213 button.colab-df-convert');\n",
       "      buttonEl.style.display =\n",
       "        google.colab.kernel.accessAllowed ? 'block' : 'none';\n",
       "\n",
       "      async function convertToInteractive(key) {\n",
       "        const element = document.querySelector('#df-26cc06fb-c210-4c40-8d00-da35dfab9213');\n",
       "        const dataTable =\n",
       "          await google.colab.kernel.invokeFunction('convertToInteractive',\n",
       "                                                    [key], {});\n",
       "        if (!dataTable) return;\n",
       "\n",
       "        const docLinkHtml = 'Like what you see? Visit the ' +\n",
       "          '<a target=\"_blank\" href=https://colab.research.google.com/notebooks/data_table.ipynb>data table notebook</a>'\n",
       "          + ' to learn more about interactive tables.';\n",
       "        element.innerHTML = '';\n",
       "        dataTable['output_type'] = 'display_data';\n",
       "        await google.colab.output.renderOutput(dataTable, element);\n",
       "        const docLink = document.createElement('div');\n",
       "        docLink.innerHTML = docLinkHtml;\n",
       "        element.appendChild(docLink);\n",
       "      }\n",
       "    </script>\n",
       "  </div>\n",
       "\n",
       "\n",
       "<div id=\"df-c5837db0-7e36-4a80-be33-d2ab7370f128\">\n",
       "  <button class=\"colab-df-quickchart\" onclick=\"quickchart('df-c5837db0-7e36-4a80-be33-d2ab7370f128')\"\n",
       "            title=\"Suggest charts\"\n",
       "            style=\"display:none;\">\n",
       "\n",
       "<svg xmlns=\"http://www.w3.org/2000/svg\" height=\"24px\"viewBox=\"0 0 24 24\"\n",
       "     width=\"24px\">\n",
       "    <g>\n",
       "        <path d=\"M19 3H5c-1.1 0-2 .9-2 2v14c0 1.1.9 2 2 2h14c1.1 0 2-.9 2-2V5c0-1.1-.9-2-2-2zM9 17H7v-7h2v7zm4 0h-2V7h2v10zm4 0h-2v-4h2v4z\"/>\n",
       "    </g>\n",
       "</svg>\n",
       "  </button>\n",
       "\n",
       "<style>\n",
       "  .colab-df-quickchart {\n",
       "      --bg-color: #E8F0FE;\n",
       "      --fill-color: #1967D2;\n",
       "      --hover-bg-color: #E2EBFA;\n",
       "      --hover-fill-color: #174EA6;\n",
       "      --disabled-fill-color: #AAA;\n",
       "      --disabled-bg-color: #DDD;\n",
       "  }\n",
       "\n",
       "  [theme=dark] .colab-df-quickchart {\n",
       "      --bg-color: #3B4455;\n",
       "      --fill-color: #D2E3FC;\n",
       "      --hover-bg-color: #434B5C;\n",
       "      --hover-fill-color: #FFFFFF;\n",
       "      --disabled-bg-color: #3B4455;\n",
       "      --disabled-fill-color: #666;\n",
       "  }\n",
       "\n",
       "  .colab-df-quickchart {\n",
       "    background-color: var(--bg-color);\n",
       "    border: none;\n",
       "    border-radius: 50%;\n",
       "    cursor: pointer;\n",
       "    display: none;\n",
       "    fill: var(--fill-color);\n",
       "    height: 32px;\n",
       "    padding: 0;\n",
       "    width: 32px;\n",
       "  }\n",
       "\n",
       "  .colab-df-quickchart:hover {\n",
       "    background-color: var(--hover-bg-color);\n",
       "    box-shadow: 0 1px 2px rgba(60, 64, 67, 0.3), 0 1px 3px 1px rgba(60, 64, 67, 0.15);\n",
       "    fill: var(--button-hover-fill-color);\n",
       "  }\n",
       "\n",
       "  .colab-df-quickchart-complete:disabled,\n",
       "  .colab-df-quickchart-complete:disabled:hover {\n",
       "    background-color: var(--disabled-bg-color);\n",
       "    fill: var(--disabled-fill-color);\n",
       "    box-shadow: none;\n",
       "  }\n",
       "\n",
       "  .colab-df-spinner {\n",
       "    border: 2px solid var(--fill-color);\n",
       "    border-color: transparent;\n",
       "    border-bottom-color: var(--fill-color);\n",
       "    animation:\n",
       "      spin 1s steps(1) infinite;\n",
       "  }\n",
       "\n",
       "  @keyframes spin {\n",
       "    0% {\n",
       "      border-color: transparent;\n",
       "      border-bottom-color: var(--fill-color);\n",
       "      border-left-color: var(--fill-color);\n",
       "    }\n",
       "    20% {\n",
       "      border-color: transparent;\n",
       "      border-left-color: var(--fill-color);\n",
       "      border-top-color: var(--fill-color);\n",
       "    }\n",
       "    30% {\n",
       "      border-color: transparent;\n",
       "      border-left-color: var(--fill-color);\n",
       "      border-top-color: var(--fill-color);\n",
       "      border-right-color: var(--fill-color);\n",
       "    }\n",
       "    40% {\n",
       "      border-color: transparent;\n",
       "      border-right-color: var(--fill-color);\n",
       "      border-top-color: var(--fill-color);\n",
       "    }\n",
       "    60% {\n",
       "      border-color: transparent;\n",
       "      border-right-color: var(--fill-color);\n",
       "    }\n",
       "    80% {\n",
       "      border-color: transparent;\n",
       "      border-right-color: var(--fill-color);\n",
       "      border-bottom-color: var(--fill-color);\n",
       "    }\n",
       "    90% {\n",
       "      border-color: transparent;\n",
       "      border-bottom-color: var(--fill-color);\n",
       "    }\n",
       "  }\n",
       "</style>\n",
       "\n",
       "  <script>\n",
       "    async function quickchart(key) {\n",
       "      const quickchartButtonEl =\n",
       "        document.querySelector('#' + key + ' button');\n",
       "      quickchartButtonEl.disabled = true;  // To prevent multiple clicks.\n",
       "      quickchartButtonEl.classList.add('colab-df-spinner');\n",
       "      try {\n",
       "        const charts = await google.colab.kernel.invokeFunction(\n",
       "            'suggestCharts', [key], {});\n",
       "      } catch (error) {\n",
       "        console.error('Error during call to suggestCharts:', error);\n",
       "      }\n",
       "      quickchartButtonEl.classList.remove('colab-df-spinner');\n",
       "      quickchartButtonEl.classList.add('colab-df-quickchart-complete');\n",
       "    }\n",
       "    (() => {\n",
       "      let quickchartButtonEl =\n",
       "        document.querySelector('#df-c5837db0-7e36-4a80-be33-d2ab7370f128 button');\n",
       "      quickchartButtonEl.style.display =\n",
       "        google.colab.kernel.accessAllowed ? 'block' : 'none';\n",
       "    })();\n",
       "  </script>\n",
       "</div>\n",
       "\n",
       "    </div>\n",
       "  </div>\n"
      ],
      "text/plain": [
       "   query_id                      query               query_class\n",
       "0         0                salon chair            Massage Chairs\n",
       "1         1         smart coffee table  Coffee & Cocktail Tables\n",
       "2         2                   dinosaur           Kids Wall Décor\n",
       "3         3          turquoise pillows            Accent Pillows\n",
       "4         4  chair and a half recliner                 Recliners\n",
       "5         5          sofa with ottoman                Sectionals\n",
       "6         6        acrylic clear chair             Dining Chairs\n",
       "7         7           driftwood mirror     Wall & Accent Mirrors\n",
       "8         8       home sweet home sign                Wall Décor\n",
       "9         9      coffee table fire pit        Outdoor Fireplaces"
      ]
     },
     "execution_count": 8,
     "metadata": {},
     "output_type": "execute_result"
    }
   ],
   "source": [
    "print(query_df.shape)\n",
    "query_df.head(10)"
   ]
  },
  {
   "cell_type": "code",
   "execution_count": 9,
   "id": "d55b7820-00e2-4300-966c-8762d15fd407",
   "metadata": {
    "executionInfo": {
     "elapsed": 1240,
     "status": "ok",
     "timestamp": 1712089486621,
     "user": {
      "displayName": "Hao Xing",
      "userId": "09879780144362031268"
     },
     "user_tz": 240
    },
    "id": "d55b7820-00e2-4300-966c-8762d15fd407",
    "tags": []
   },
   "outputs": [],
   "source": [
    "# get products\n",
    "product_df = pd.read_csv(\"WANDS/dataset/product.csv\", sep='\\t')"
   ]
  },
  {
   "cell_type": "code",
   "execution_count": 10,
   "id": "b0d9c2a5-8c89-41fe-94d4-b0d57a09ca3c",
   "metadata": {
    "colab": {
     "base_uri": "https://localhost:8080/",
     "height": 485
    },
    "executionInfo": {
     "elapsed": 969,
     "status": "ok",
     "timestamp": 1712089489100,
     "user": {
      "displayName": "Hao Xing",
      "userId": "09879780144362031268"
     },
     "user_tz": 240
    },
    "id": "b0d9c2a5-8c89-41fe-94d4-b0d57a09ca3c",
    "outputId": "3c18e475-117b-4bde-887a-91f061523d29",
    "tags": []
   },
   "outputs": [
    {
     "name": "stdout",
     "output_type": "stream",
     "text": [
      "(42994, 9)\n"
     ]
    },
    {
     "data": {
      "application/vnd.google.colaboratory.intrinsic+json": {
       "summary": "{\n  \"name\": \"product_df\",\n  \"rows\": 42994,\n  \"fields\": [\n    {\n      \"column\": \"product_id\",\n      \"properties\": {\n        \"dtype\": \"number\",\n        \"std\": 12411,\n        \"min\": 0,\n        \"max\": 42993,\n        \"num_unique_values\": 42994,\n        \"samples\": [\n          32193,\n          21379,\n          42275\n        ],\n        \"semantic_type\": \"\",\n        \"description\": \"\"\n      }\n    },\n    {\n      \"column\": \"product_name\",\n      \"properties\": {\n        \"dtype\": \"string\",\n        \"num_unique_values\": 42577,\n        \"samples\": [\n          \"standard single hole bathroom faucet\",\n          \"marshaw wardrobe\",\n          \"sanner 55 '' wide power standard recliner\"\n        ],\n        \"semantic_type\": \"\",\n        \"description\": \"\"\n      }\n    },\n    {\n      \"column\": \"product_class\",\n      \"properties\": {\n        \"dtype\": \"category\",\n        \"num_unique_values\": 860,\n        \"samples\": [\n          \"Hall Trees|Benches\",\n          \"Patio Dining Sets|Patio Tables\",\n          \"Kitchen Islands\"\n        ],\n        \"semantic_type\": \"\",\n        \"description\": \"\"\n      }\n    },\n    {\n      \"column\": \"category hierarchy\",\n      \"properties\": {\n        \"dtype\": \"category\",\n        \"num_unique_values\": 1623,\n        \"samples\": [\n          \"Outdoor / Outdoor & Patio Furniture / Patio Furniture Sets / Patio Dining Sets\",\n          \"Kitchen & Tabletop / Kitchen Utensils & Tools / Knives & Accessories / Knife Sets / Starter Knife Sets\",\n          \"Home Improvement / Flooring, Walls & Ceiling / Floor Tiles & Wall Tiles / Shell Floor Tiles & Wall Tiles\"\n        ],\n        \"semantic_type\": \"\",\n        \"description\": \"\"\n      }\n    },\n    {\n      \"column\": \"product_description\",\n      \"properties\": {\n        \"dtype\": \"string\",\n        \"num_unique_values\": 33836,\n        \"samples\": [\n          \"get a fun novelty street sign for your home and office and show off your sense of humor . looking for a fun , hilarious street sign to hang on your cubicle or in your & ldquo ; man cave '' ? if so signmission has all the cute , funny , hilarious , and even work-related novelty signs you 're looking for ! something for everyone we 've got a wide range of american-made signs just like this sign that will tickle your funny bone , make others smile , or even show off your snarky attitude . made to last made from a special plastic designed to hold up to a beating , this sign can bend without breaking and will never chip or crack , the colorful lettering will last a lifetime indoors and up to 4 years in the sun for outdoor use .\",\n          \"greet two-legged and four-legged guests alike with this canine-friendly doormat ! it 's crafted in india from coir \\u2013 a natural fiber derived from coconut husks that scrape shoes clean \\u2013 with a beige hue , and it has an all-weather design that stands up to rain , wind , and other elements . this rectangular doormat showcases the word \\u201c welcome \\u201d adorned with a paw print \\u201c o \\u201d set in a thick 1 '' pile in the middle . plus , it comes with a 100 % rubber casing with a non-slip backing so it won \\u2019 t shift or while you \\u2019 re scuffing off your boots .\",\n          \"let this high-quality iron king size bed frame bring sophistication to your bedroom . with a gorgeous dark antique brass finish and intricate scrolling design , this bed frame will make your bedroom exude elegance . the rectangular shape makes it easier to match with bedrooms of all shapes and sizes . the metal material of this bed frame is high-quality iron selected after many tests , so you do n't have to worry about this bed frame not being strong enough , you just need to get comfortable and go to dreamland .\"\n        ],\n        \"semantic_type\": \"\",\n        \"description\": \"\"\n      }\n    },\n    {\n      \"column\": \"product_features\",\n      \"properties\": {\n        \"dtype\": \"string\",\n        \"num_unique_values\": 42979,\n        \"samples\": [\n          \"materialdetails : brass|levelofassembly : partial assembly|features : none|glassfeatures : tempered|shelfdepth-fronttoback:4.45|internalonly-roomuse : living|wallmountingtype : anchor + screw|material : glass|overalldepth-fronttoback:4.45|additionaltoolsrequirednotincluded : power drill|style : modern & contemporary|supplierintendedandapproveduse : non residential use|roomuse : bathroom|producttype : bracket shelf|shape : rectangle|finish : chrome plated|overallheight-toptobottom:1.65|overallproductweight:1.41|overallwidth-sidetoside:23.62|overallweightcapacity:30|warrantylength:2 years|countryoforigin : taiwan|countryoforigin-additionaldetails : made in taiwan|warrantylength : lifetime|shelfwidth-sidetoside:23.62|totalnumberofpiecesincluded:1|numberofshelves:1|numberofinstallationholes:2|uniformpackagingandlabelingregulationsuplrcompliant : no|compositewoodproductcwp : no| : no|canadaproductrestriction : no|adjustableshelves : no|avoidpowertools : no|commercialwarranty : yes|cpsc-16cfr1303compliant : yes|installationrequired : yes|productwarranty : yes|adultassemblyrequired : yes|sor2016-193-surfacecoatingmaterialsregulations : yes|assemblyhardwareincluded : yes|material : metal|fullorlimitedwarranty : limited|supplierintendedandapproveduse : residential use\",\n          \"sheetcolor : blue|theme : animal|cribsizeshape : standard crib|greenguardgoldcertified : |typeofsheetsincluded : fitted sheet|animal : safari / jungle|overallwidth-sidetoside:32|overallproductweight:2.3|piecesincluded:1 quilt , 1 skirt , and 1 fitted sheet|greenguardcertified : |dryingmethod : tumble dry|material : polyester|overallthickness-fronttoback:0.25|washingmethod : delicate cycle|totalnumberofpiecesincluded:3|overalllength-headtotoe:42|fillmaterial : polyester/polyfill|gender : gender neutral|washingmethod : machine wash|color : blue/yellow/beige|numberofsheetsincluded:1|numberofdustrufflescribskirtsincluded:1|numberofblanketsquiltsincluded:1|railguardcover : no|licensedproduct : no|changingpadcoverincluded : no| : no|pillowcaseincluded : no|additionalitem : no|reversible : no|mobileincluded : no|pillowsincluded : no|children \\u2019 sproductcertificatecpc : no|astmf1917-12compliant : no|toybagincluded : no|diaperstackerincluded : no|walldcor : no|mobile : no|pillow : no|walldcorincluded : no|railguardcoverincluded : no|oeko-texcertified : no|changingpadcover : no|pillowcase : no|bumperincluded : no|bumper : no|bib : no|organic : no|knitted : no|additionalitemsincluded : no|diaperstacker : no|bibincluded : no|toybag : no|windowtreatmentsincluded : no|windowtreatment : no| : yes|dustrufflecribskirtincluded : yes|blanketquiltincluded : yes|sheetsincluded : yes|cpsc-16cfr1303compliant : yes|sor2018-83-consumerproductscontainingleadregulations : yes|dustrufflecribskirt : yes|cpsc-16cfr1500.49compliant : yes|blanketquilt : yes|sheet : yes|embroidered : yes|countryoforigin : china\",\n          \"producttype : privacy screen|panellength-endtoend:45|supplierintendedandapproveduse : non residential use|overallheight-toptobottom:48|overalldepth-fronttoback:36|warrantydetails : warranty only covers residential use|overallproductweight:9|overallwidth-sidetoside:36|primarymaterial : vinyl|warrantylength:10 years|color : white|panelwidth-sidetoside:36|primarymaterialdetails : polyvinyl chloride|productcare : spray with garden hose or use cloth and mild cleanser|piecesincluded:2 privacy screens|heighttobottomoffence:2|stainable : no|gatehardwareincluded : no|commercialwarranty : no| : no|panelsincluded : no|fencepostanchorincluded : no|californiaproposition65warningrequired : no|post : no|compositewoodproductcwp : no|postrequired : no|uvresistant : yes|adultassemblyrequired : yes|installationrequired : yes|waterresistant : yes|productwarranty : yes|paintable : yes|weatherresistant : yes|doublesided : yes|countryoforigin : china|fullorlimitedwarranty : limited|supplierintendedandapproveduse : residential use\"\n        ],\n        \"semantic_type\": \"\",\n        \"description\": \"\"\n      }\n    },\n    {\n      \"column\": \"rating_count\",\n      \"properties\": {\n        \"dtype\": \"number\",\n        \"std\": 2407.9215791531997,\n        \"min\": 1.0,\n        \"max\": 109226.0,\n        \"num_unique_values\": 2861,\n        \"samples\": [\n          801.0,\n          18183.0,\n          690.0\n        ],\n        \"semantic_type\": \"\",\n        \"description\": \"\"\n      }\n    },\n    {\n      \"column\": \"average_rating\",\n      \"properties\": {\n        \"dtype\": \"number\",\n        \"std\": 0.5092626796749085,\n        \"min\": 1.0,\n        \"max\": 5.0,\n        \"num_unique_values\": 9,\n        \"samples\": [\n          3.5,\n          2.0,\n          4.0\n        ],\n        \"semantic_type\": \"\",\n        \"description\": \"\"\n      }\n    },\n    {\n      \"column\": \"review_count\",\n      \"properties\": {\n        \"dtype\": \"number\",\n        \"std\": 1539.6117373952231,\n        \"min\": 0.0,\n        \"max\": 61362.0,\n        \"num_unique_values\": 2310,\n        \"samples\": [\n          1430.0,\n          1489.0,\n          1663.0\n        ],\n        \"semantic_type\": \"\",\n        \"description\": \"\"\n      }\n    }\n  ]\n}",
       "type": "dataframe",
       "variable_name": "product_df"
      },
      "text/html": [
       "\n",
       "  <div id=\"df-c65db1b1-f184-4044-8203-ee7fba58c926\" class=\"colab-df-container\">\n",
       "    <div>\n",
       "<style scoped>\n",
       "    .dataframe tbody tr th:only-of-type {\n",
       "        vertical-align: middle;\n",
       "    }\n",
       "\n",
       "    .dataframe tbody tr th {\n",
       "        vertical-align: top;\n",
       "    }\n",
       "\n",
       "    .dataframe thead th {\n",
       "        text-align: right;\n",
       "    }\n",
       "</style>\n",
       "<table border=\"1\" class=\"dataframe\">\n",
       "  <thead>\n",
       "    <tr style=\"text-align: right;\">\n",
       "      <th></th>\n",
       "      <th>product_id</th>\n",
       "      <th>product_name</th>\n",
       "      <th>product_class</th>\n",
       "      <th>category hierarchy</th>\n",
       "      <th>product_description</th>\n",
       "      <th>product_features</th>\n",
       "      <th>rating_count</th>\n",
       "      <th>average_rating</th>\n",
       "      <th>review_count</th>\n",
       "    </tr>\n",
       "  </thead>\n",
       "  <tbody>\n",
       "    <tr>\n",
       "      <th>0</th>\n",
       "      <td>0</td>\n",
       "      <td>solid wood platform bed</td>\n",
       "      <td>Beds</td>\n",
       "      <td>Furniture / Bedroom Furniture / Beds &amp; Headboa...</td>\n",
       "      <td>good , deep sleep can be quite difficult to ha...</td>\n",
       "      <td>overallwidth-sidetoside:64.7|dsprimaryproducts...</td>\n",
       "      <td>15.0</td>\n",
       "      <td>4.5</td>\n",
       "      <td>15.0</td>\n",
       "    </tr>\n",
       "    <tr>\n",
       "      <th>1</th>\n",
       "      <td>1</td>\n",
       "      <td>all-clad 7 qt . slow cooker</td>\n",
       "      <td>Slow Cookers</td>\n",
       "      <td>Kitchen &amp; Tabletop / Small Kitchen Appliances ...</td>\n",
       "      <td>create delicious slow-cooked meals , from tend...</td>\n",
       "      <td>capacityquarts:7|producttype : slow cooker|pro...</td>\n",
       "      <td>100.0</td>\n",
       "      <td>2.0</td>\n",
       "      <td>98.0</td>\n",
       "    </tr>\n",
       "    <tr>\n",
       "      <th>2</th>\n",
       "      <td>2</td>\n",
       "      <td>all-clad electrics 6.5 qt . slow cooker</td>\n",
       "      <td>Slow Cookers</td>\n",
       "      <td>Kitchen &amp; Tabletop / Small Kitchen Appliances ...</td>\n",
       "      <td>prepare home-cooked meals on any schedule with...</td>\n",
       "      <td>features : keep warm setting|capacityquarts:6....</td>\n",
       "      <td>208.0</td>\n",
       "      <td>3.0</td>\n",
       "      <td>181.0</td>\n",
       "    </tr>\n",
       "    <tr>\n",
       "      <th>3</th>\n",
       "      <td>3</td>\n",
       "      <td>all-clad all professional tools pizza cutter</td>\n",
       "      <td>Slicers, Peelers And Graters</td>\n",
       "      <td>Browse By Brand / All-Clad</td>\n",
       "      <td>this original stainless tool was designed to c...</td>\n",
       "      <td>overallwidth-sidetoside:3.5|warrantylength : l...</td>\n",
       "      <td>69.0</td>\n",
       "      <td>4.5</td>\n",
       "      <td>42.0</td>\n",
       "    </tr>\n",
       "    <tr>\n",
       "      <th>4</th>\n",
       "      <td>4</td>\n",
       "      <td>baldwin prestige alcott passage knob with roun...</td>\n",
       "      <td>Door Knobs</td>\n",
       "      <td>Home Improvement / Doors &amp; Door Hardware / Doo...</td>\n",
       "      <td>the hardware has a rich heritage of delivering...</td>\n",
       "      <td>compatibledoorthickness:1.375 '' |countryofori...</td>\n",
       "      <td>70.0</td>\n",
       "      <td>5.0</td>\n",
       "      <td>42.0</td>\n",
       "    </tr>\n",
       "  </tbody>\n",
       "</table>\n",
       "</div>\n",
       "    <div class=\"colab-df-buttons\">\n",
       "\n",
       "  <div class=\"colab-df-container\">\n",
       "    <button class=\"colab-df-convert\" onclick=\"convertToInteractive('df-c65db1b1-f184-4044-8203-ee7fba58c926')\"\n",
       "            title=\"Convert this dataframe to an interactive table.\"\n",
       "            style=\"display:none;\">\n",
       "\n",
       "  <svg xmlns=\"http://www.w3.org/2000/svg\" height=\"24px\" viewBox=\"0 -960 960 960\">\n",
       "    <path d=\"M120-120v-720h720v720H120Zm60-500h600v-160H180v160Zm220 220h160v-160H400v160Zm0 220h160v-160H400v160ZM180-400h160v-160H180v160Zm440 0h160v-160H620v160ZM180-180h160v-160H180v160Zm440 0h160v-160H620v160Z\"/>\n",
       "  </svg>\n",
       "    </button>\n",
       "\n",
       "  <style>\n",
       "    .colab-df-container {\n",
       "      display:flex;\n",
       "      gap: 12px;\n",
       "    }\n",
       "\n",
       "    .colab-df-convert {\n",
       "      background-color: #E8F0FE;\n",
       "      border: none;\n",
       "      border-radius: 50%;\n",
       "      cursor: pointer;\n",
       "      display: none;\n",
       "      fill: #1967D2;\n",
       "      height: 32px;\n",
       "      padding: 0 0 0 0;\n",
       "      width: 32px;\n",
       "    }\n",
       "\n",
       "    .colab-df-convert:hover {\n",
       "      background-color: #E2EBFA;\n",
       "      box-shadow: 0px 1px 2px rgba(60, 64, 67, 0.3), 0px 1px 3px 1px rgba(60, 64, 67, 0.15);\n",
       "      fill: #174EA6;\n",
       "    }\n",
       "\n",
       "    .colab-df-buttons div {\n",
       "      margin-bottom: 4px;\n",
       "    }\n",
       "\n",
       "    [theme=dark] .colab-df-convert {\n",
       "      background-color: #3B4455;\n",
       "      fill: #D2E3FC;\n",
       "    }\n",
       "\n",
       "    [theme=dark] .colab-df-convert:hover {\n",
       "      background-color: #434B5C;\n",
       "      box-shadow: 0px 1px 3px 1px rgba(0, 0, 0, 0.15);\n",
       "      filter: drop-shadow(0px 1px 2px rgba(0, 0, 0, 0.3));\n",
       "      fill: #FFFFFF;\n",
       "    }\n",
       "  </style>\n",
       "\n",
       "    <script>\n",
       "      const buttonEl =\n",
       "        document.querySelector('#df-c65db1b1-f184-4044-8203-ee7fba58c926 button.colab-df-convert');\n",
       "      buttonEl.style.display =\n",
       "        google.colab.kernel.accessAllowed ? 'block' : 'none';\n",
       "\n",
       "      async function convertToInteractive(key) {\n",
       "        const element = document.querySelector('#df-c65db1b1-f184-4044-8203-ee7fba58c926');\n",
       "        const dataTable =\n",
       "          await google.colab.kernel.invokeFunction('convertToInteractive',\n",
       "                                                    [key], {});\n",
       "        if (!dataTable) return;\n",
       "\n",
       "        const docLinkHtml = 'Like what you see? Visit the ' +\n",
       "          '<a target=\"_blank\" href=https://colab.research.google.com/notebooks/data_table.ipynb>data table notebook</a>'\n",
       "          + ' to learn more about interactive tables.';\n",
       "        element.innerHTML = '';\n",
       "        dataTable['output_type'] = 'display_data';\n",
       "        await google.colab.output.renderOutput(dataTable, element);\n",
       "        const docLink = document.createElement('div');\n",
       "        docLink.innerHTML = docLinkHtml;\n",
       "        element.appendChild(docLink);\n",
       "      }\n",
       "    </script>\n",
       "  </div>\n",
       "\n",
       "\n",
       "<div id=\"df-1d508dc5-1e8e-4228-abd4-3f228889cf2a\">\n",
       "  <button class=\"colab-df-quickchart\" onclick=\"quickchart('df-1d508dc5-1e8e-4228-abd4-3f228889cf2a')\"\n",
       "            title=\"Suggest charts\"\n",
       "            style=\"display:none;\">\n",
       "\n",
       "<svg xmlns=\"http://www.w3.org/2000/svg\" height=\"24px\"viewBox=\"0 0 24 24\"\n",
       "     width=\"24px\">\n",
       "    <g>\n",
       "        <path d=\"M19 3H5c-1.1 0-2 .9-2 2v14c0 1.1.9 2 2 2h14c1.1 0 2-.9 2-2V5c0-1.1-.9-2-2-2zM9 17H7v-7h2v7zm4 0h-2V7h2v10zm4 0h-2v-4h2v4z\"/>\n",
       "    </g>\n",
       "</svg>\n",
       "  </button>\n",
       "\n",
       "<style>\n",
       "  .colab-df-quickchart {\n",
       "      --bg-color: #E8F0FE;\n",
       "      --fill-color: #1967D2;\n",
       "      --hover-bg-color: #E2EBFA;\n",
       "      --hover-fill-color: #174EA6;\n",
       "      --disabled-fill-color: #AAA;\n",
       "      --disabled-bg-color: #DDD;\n",
       "  }\n",
       "\n",
       "  [theme=dark] .colab-df-quickchart {\n",
       "      --bg-color: #3B4455;\n",
       "      --fill-color: #D2E3FC;\n",
       "      --hover-bg-color: #434B5C;\n",
       "      --hover-fill-color: #FFFFFF;\n",
       "      --disabled-bg-color: #3B4455;\n",
       "      --disabled-fill-color: #666;\n",
       "  }\n",
       "\n",
       "  .colab-df-quickchart {\n",
       "    background-color: var(--bg-color);\n",
       "    border: none;\n",
       "    border-radius: 50%;\n",
       "    cursor: pointer;\n",
       "    display: none;\n",
       "    fill: var(--fill-color);\n",
       "    height: 32px;\n",
       "    padding: 0;\n",
       "    width: 32px;\n",
       "  }\n",
       "\n",
       "  .colab-df-quickchart:hover {\n",
       "    background-color: var(--hover-bg-color);\n",
       "    box-shadow: 0 1px 2px rgba(60, 64, 67, 0.3), 0 1px 3px 1px rgba(60, 64, 67, 0.15);\n",
       "    fill: var(--button-hover-fill-color);\n",
       "  }\n",
       "\n",
       "  .colab-df-quickchart-complete:disabled,\n",
       "  .colab-df-quickchart-complete:disabled:hover {\n",
       "    background-color: var(--disabled-bg-color);\n",
       "    fill: var(--disabled-fill-color);\n",
       "    box-shadow: none;\n",
       "  }\n",
       "\n",
       "  .colab-df-spinner {\n",
       "    border: 2px solid var(--fill-color);\n",
       "    border-color: transparent;\n",
       "    border-bottom-color: var(--fill-color);\n",
       "    animation:\n",
       "      spin 1s steps(1) infinite;\n",
       "  }\n",
       "\n",
       "  @keyframes spin {\n",
       "    0% {\n",
       "      border-color: transparent;\n",
       "      border-bottom-color: var(--fill-color);\n",
       "      border-left-color: var(--fill-color);\n",
       "    }\n",
       "    20% {\n",
       "      border-color: transparent;\n",
       "      border-left-color: var(--fill-color);\n",
       "      border-top-color: var(--fill-color);\n",
       "    }\n",
       "    30% {\n",
       "      border-color: transparent;\n",
       "      border-left-color: var(--fill-color);\n",
       "      border-top-color: var(--fill-color);\n",
       "      border-right-color: var(--fill-color);\n",
       "    }\n",
       "    40% {\n",
       "      border-color: transparent;\n",
       "      border-right-color: var(--fill-color);\n",
       "      border-top-color: var(--fill-color);\n",
       "    }\n",
       "    60% {\n",
       "      border-color: transparent;\n",
       "      border-right-color: var(--fill-color);\n",
       "    }\n",
       "    80% {\n",
       "      border-color: transparent;\n",
       "      border-right-color: var(--fill-color);\n",
       "      border-bottom-color: var(--fill-color);\n",
       "    }\n",
       "    90% {\n",
       "      border-color: transparent;\n",
       "      border-bottom-color: var(--fill-color);\n",
       "    }\n",
       "  }\n",
       "</style>\n",
       "\n",
       "  <script>\n",
       "    async function quickchart(key) {\n",
       "      const quickchartButtonEl =\n",
       "        document.querySelector('#' + key + ' button');\n",
       "      quickchartButtonEl.disabled = true;  // To prevent multiple clicks.\n",
       "      quickchartButtonEl.classList.add('colab-df-spinner');\n",
       "      try {\n",
       "        const charts = await google.colab.kernel.invokeFunction(\n",
       "            'suggestCharts', [key], {});\n",
       "      } catch (error) {\n",
       "        console.error('Error during call to suggestCharts:', error);\n",
       "      }\n",
       "      quickchartButtonEl.classList.remove('colab-df-spinner');\n",
       "      quickchartButtonEl.classList.add('colab-df-quickchart-complete');\n",
       "    }\n",
       "    (() => {\n",
       "      let quickchartButtonEl =\n",
       "        document.querySelector('#df-1d508dc5-1e8e-4228-abd4-3f228889cf2a button');\n",
       "      quickchartButtonEl.style.display =\n",
       "        google.colab.kernel.accessAllowed ? 'block' : 'none';\n",
       "    })();\n",
       "  </script>\n",
       "</div>\n",
       "\n",
       "    </div>\n",
       "  </div>\n"
      ],
      "text/plain": [
       "   product_id                                       product_name  \\\n",
       "0           0                            solid wood platform bed   \n",
       "1           1                        all-clad 7 qt . slow cooker   \n",
       "2           2            all-clad electrics 6.5 qt . slow cooker   \n",
       "3           3       all-clad all professional tools pizza cutter   \n",
       "4           4  baldwin prestige alcott passage knob with roun...   \n",
       "\n",
       "                  product_class  \\\n",
       "0                          Beds   \n",
       "1                  Slow Cookers   \n",
       "2                  Slow Cookers   \n",
       "3  Slicers, Peelers And Graters   \n",
       "4                    Door Knobs   \n",
       "\n",
       "                                  category hierarchy  \\\n",
       "0  Furniture / Bedroom Furniture / Beds & Headboa...   \n",
       "1  Kitchen & Tabletop / Small Kitchen Appliances ...   \n",
       "2  Kitchen & Tabletop / Small Kitchen Appliances ...   \n",
       "3                         Browse By Brand / All-Clad   \n",
       "4  Home Improvement / Doors & Door Hardware / Doo...   \n",
       "\n",
       "                                 product_description  \\\n",
       "0  good , deep sleep can be quite difficult to ha...   \n",
       "1  create delicious slow-cooked meals , from tend...   \n",
       "2  prepare home-cooked meals on any schedule with...   \n",
       "3  this original stainless tool was designed to c...   \n",
       "4  the hardware has a rich heritage of delivering...   \n",
       "\n",
       "                                    product_features  rating_count  \\\n",
       "0  overallwidth-sidetoside:64.7|dsprimaryproducts...          15.0   \n",
       "1  capacityquarts:7|producttype : slow cooker|pro...         100.0   \n",
       "2  features : keep warm setting|capacityquarts:6....         208.0   \n",
       "3  overallwidth-sidetoside:3.5|warrantylength : l...          69.0   \n",
       "4  compatibledoorthickness:1.375 '' |countryofori...          70.0   \n",
       "\n",
       "   average_rating  review_count  \n",
       "0             4.5          15.0  \n",
       "1             2.0          98.0  \n",
       "2             3.0         181.0  \n",
       "3             4.5          42.0  \n",
       "4             5.0          42.0  "
      ]
     },
     "execution_count": 10,
     "metadata": {},
     "output_type": "execute_result"
    }
   ],
   "source": [
    "print(product_df.shape)\n",
    "product_df.head()"
   ]
  },
  {
   "cell_type": "code",
   "execution_count": 11,
   "id": "61d75f84-1152-43c7-b2a0-422267ab2298",
   "metadata": {
    "executionInfo": {
     "elapsed": 358,
     "status": "ok",
     "timestamp": 1712089492757,
     "user": {
      "displayName": "Hao Xing",
      "userId": "09879780144362031268"
     },
     "user_tz": 240
    },
    "id": "61d75f84-1152-43c7-b2a0-422267ab2298",
    "tags": []
   },
   "outputs": [],
   "source": [
    "# get manually labeled groundtruth lables\n",
    "label_df = pd.read_csv(\"WANDS/dataset/label.csv\", sep='\\t')"
   ]
  },
  {
   "cell_type": "code",
   "execution_count": 12,
   "id": "07b8f157-2049-4cdb-afc4-62e546d59dc9",
   "metadata": {
    "colab": {
     "base_uri": "https://localhost:8080/",
     "height": 381
    },
    "executionInfo": {
     "elapsed": 6,
     "status": "ok",
     "timestamp": 1712089494157,
     "user": {
      "displayName": "Hao Xing",
      "userId": "09879780144362031268"
     },
     "user_tz": 240
    },
    "id": "07b8f157-2049-4cdb-afc4-62e546d59dc9",
    "outputId": "4e906fec-a0ae-486d-8ff5-d86dee9c6e4e",
    "tags": []
   },
   "outputs": [
    {
     "name": "stdout",
     "output_type": "stream",
     "text": [
      "(233448, 4)\n"
     ]
    },
    {
     "data": {
      "application/vnd.google.colaboratory.intrinsic+json": {
       "type": "dataframe",
       "variable_name": "label_df"
      },
      "text/html": [
       "\n",
       "  <div id=\"df-e52a19d4-07cf-4717-89e5-1d4273718129\" class=\"colab-df-container\">\n",
       "    <div>\n",
       "<style scoped>\n",
       "    .dataframe tbody tr th:only-of-type {\n",
       "        vertical-align: middle;\n",
       "    }\n",
       "\n",
       "    .dataframe tbody tr th {\n",
       "        vertical-align: top;\n",
       "    }\n",
       "\n",
       "    .dataframe thead th {\n",
       "        text-align: right;\n",
       "    }\n",
       "</style>\n",
       "<table border=\"1\" class=\"dataframe\">\n",
       "  <thead>\n",
       "    <tr style=\"text-align: right;\">\n",
       "      <th></th>\n",
       "      <th>id</th>\n",
       "      <th>query_id</th>\n",
       "      <th>product_id</th>\n",
       "      <th>label</th>\n",
       "    </tr>\n",
       "  </thead>\n",
       "  <tbody>\n",
       "    <tr>\n",
       "      <th>0</th>\n",
       "      <td>0</td>\n",
       "      <td>0</td>\n",
       "      <td>25434</td>\n",
       "      <td>Exact</td>\n",
       "    </tr>\n",
       "    <tr>\n",
       "      <th>1</th>\n",
       "      <td>1</td>\n",
       "      <td>0</td>\n",
       "      <td>12088</td>\n",
       "      <td>Irrelevant</td>\n",
       "    </tr>\n",
       "    <tr>\n",
       "      <th>2</th>\n",
       "      <td>2</td>\n",
       "      <td>0</td>\n",
       "      <td>42931</td>\n",
       "      <td>Exact</td>\n",
       "    </tr>\n",
       "    <tr>\n",
       "      <th>3</th>\n",
       "      <td>3</td>\n",
       "      <td>0</td>\n",
       "      <td>2636</td>\n",
       "      <td>Exact</td>\n",
       "    </tr>\n",
       "    <tr>\n",
       "      <th>4</th>\n",
       "      <td>4</td>\n",
       "      <td>0</td>\n",
       "      <td>42923</td>\n",
       "      <td>Exact</td>\n",
       "    </tr>\n",
       "    <tr>\n",
       "      <th>5</th>\n",
       "      <td>5</td>\n",
       "      <td>0</td>\n",
       "      <td>41156</td>\n",
       "      <td>Exact</td>\n",
       "    </tr>\n",
       "    <tr>\n",
       "      <th>6</th>\n",
       "      <td>6</td>\n",
       "      <td>0</td>\n",
       "      <td>5938</td>\n",
       "      <td>Irrelevant</td>\n",
       "    </tr>\n",
       "    <tr>\n",
       "      <th>7</th>\n",
       "      <td>7</td>\n",
       "      <td>0</td>\n",
       "      <td>5937</td>\n",
       "      <td>Irrelevant</td>\n",
       "    </tr>\n",
       "    <tr>\n",
       "      <th>8</th>\n",
       "      <td>8</td>\n",
       "      <td>0</td>\n",
       "      <td>37072</td>\n",
       "      <td>Irrelevant</td>\n",
       "    </tr>\n",
       "    <tr>\n",
       "      <th>9</th>\n",
       "      <td>9</td>\n",
       "      <td>0</td>\n",
       "      <td>37071</td>\n",
       "      <td>Irrelevant</td>\n",
       "    </tr>\n",
       "  </tbody>\n",
       "</table>\n",
       "</div>\n",
       "    <div class=\"colab-df-buttons\">\n",
       "\n",
       "  <div class=\"colab-df-container\">\n",
       "    <button class=\"colab-df-convert\" onclick=\"convertToInteractive('df-e52a19d4-07cf-4717-89e5-1d4273718129')\"\n",
       "            title=\"Convert this dataframe to an interactive table.\"\n",
       "            style=\"display:none;\">\n",
       "\n",
       "  <svg xmlns=\"http://www.w3.org/2000/svg\" height=\"24px\" viewBox=\"0 -960 960 960\">\n",
       "    <path d=\"M120-120v-720h720v720H120Zm60-500h600v-160H180v160Zm220 220h160v-160H400v160Zm0 220h160v-160H400v160ZM180-400h160v-160H180v160Zm440 0h160v-160H620v160ZM180-180h160v-160H180v160Zm440 0h160v-160H620v160Z\"/>\n",
       "  </svg>\n",
       "    </button>\n",
       "\n",
       "  <style>\n",
       "    .colab-df-container {\n",
       "      display:flex;\n",
       "      gap: 12px;\n",
       "    }\n",
       "\n",
       "    .colab-df-convert {\n",
       "      background-color: #E8F0FE;\n",
       "      border: none;\n",
       "      border-radius: 50%;\n",
       "      cursor: pointer;\n",
       "      display: none;\n",
       "      fill: #1967D2;\n",
       "      height: 32px;\n",
       "      padding: 0 0 0 0;\n",
       "      width: 32px;\n",
       "    }\n",
       "\n",
       "    .colab-df-convert:hover {\n",
       "      background-color: #E2EBFA;\n",
       "      box-shadow: 0px 1px 2px rgba(60, 64, 67, 0.3), 0px 1px 3px 1px rgba(60, 64, 67, 0.15);\n",
       "      fill: #174EA6;\n",
       "    }\n",
       "\n",
       "    .colab-df-buttons div {\n",
       "      margin-bottom: 4px;\n",
       "    }\n",
       "\n",
       "    [theme=dark] .colab-df-convert {\n",
       "      background-color: #3B4455;\n",
       "      fill: #D2E3FC;\n",
       "    }\n",
       "\n",
       "    [theme=dark] .colab-df-convert:hover {\n",
       "      background-color: #434B5C;\n",
       "      box-shadow: 0px 1px 3px 1px rgba(0, 0, 0, 0.15);\n",
       "      filter: drop-shadow(0px 1px 2px rgba(0, 0, 0, 0.3));\n",
       "      fill: #FFFFFF;\n",
       "    }\n",
       "  </style>\n",
       "\n",
       "    <script>\n",
       "      const buttonEl =\n",
       "        document.querySelector('#df-e52a19d4-07cf-4717-89e5-1d4273718129 button.colab-df-convert');\n",
       "      buttonEl.style.display =\n",
       "        google.colab.kernel.accessAllowed ? 'block' : 'none';\n",
       "\n",
       "      async function convertToInteractive(key) {\n",
       "        const element = document.querySelector('#df-e52a19d4-07cf-4717-89e5-1d4273718129');\n",
       "        const dataTable =\n",
       "          await google.colab.kernel.invokeFunction('convertToInteractive',\n",
       "                                                    [key], {});\n",
       "        if (!dataTable) return;\n",
       "\n",
       "        const docLinkHtml = 'Like what you see? Visit the ' +\n",
       "          '<a target=\"_blank\" href=https://colab.research.google.com/notebooks/data_table.ipynb>data table notebook</a>'\n",
       "          + ' to learn more about interactive tables.';\n",
       "        element.innerHTML = '';\n",
       "        dataTable['output_type'] = 'display_data';\n",
       "        await google.colab.output.renderOutput(dataTable, element);\n",
       "        const docLink = document.createElement('div');\n",
       "        docLink.innerHTML = docLinkHtml;\n",
       "        element.appendChild(docLink);\n",
       "      }\n",
       "    </script>\n",
       "  </div>\n",
       "\n",
       "\n",
       "<div id=\"df-ed98a1dc-4788-48c4-ba00-1bad0f48e3d2\">\n",
       "  <button class=\"colab-df-quickchart\" onclick=\"quickchart('df-ed98a1dc-4788-48c4-ba00-1bad0f48e3d2')\"\n",
       "            title=\"Suggest charts\"\n",
       "            style=\"display:none;\">\n",
       "\n",
       "<svg xmlns=\"http://www.w3.org/2000/svg\" height=\"24px\"viewBox=\"0 0 24 24\"\n",
       "     width=\"24px\">\n",
       "    <g>\n",
       "        <path d=\"M19 3H5c-1.1 0-2 .9-2 2v14c0 1.1.9 2 2 2h14c1.1 0 2-.9 2-2V5c0-1.1-.9-2-2-2zM9 17H7v-7h2v7zm4 0h-2V7h2v10zm4 0h-2v-4h2v4z\"/>\n",
       "    </g>\n",
       "</svg>\n",
       "  </button>\n",
       "\n",
       "<style>\n",
       "  .colab-df-quickchart {\n",
       "      --bg-color: #E8F0FE;\n",
       "      --fill-color: #1967D2;\n",
       "      --hover-bg-color: #E2EBFA;\n",
       "      --hover-fill-color: #174EA6;\n",
       "      --disabled-fill-color: #AAA;\n",
       "      --disabled-bg-color: #DDD;\n",
       "  }\n",
       "\n",
       "  [theme=dark] .colab-df-quickchart {\n",
       "      --bg-color: #3B4455;\n",
       "      --fill-color: #D2E3FC;\n",
       "      --hover-bg-color: #434B5C;\n",
       "      --hover-fill-color: #FFFFFF;\n",
       "      --disabled-bg-color: #3B4455;\n",
       "      --disabled-fill-color: #666;\n",
       "  }\n",
       "\n",
       "  .colab-df-quickchart {\n",
       "    background-color: var(--bg-color);\n",
       "    border: none;\n",
       "    border-radius: 50%;\n",
       "    cursor: pointer;\n",
       "    display: none;\n",
       "    fill: var(--fill-color);\n",
       "    height: 32px;\n",
       "    padding: 0;\n",
       "    width: 32px;\n",
       "  }\n",
       "\n",
       "  .colab-df-quickchart:hover {\n",
       "    background-color: var(--hover-bg-color);\n",
       "    box-shadow: 0 1px 2px rgba(60, 64, 67, 0.3), 0 1px 3px 1px rgba(60, 64, 67, 0.15);\n",
       "    fill: var(--button-hover-fill-color);\n",
       "  }\n",
       "\n",
       "  .colab-df-quickchart-complete:disabled,\n",
       "  .colab-df-quickchart-complete:disabled:hover {\n",
       "    background-color: var(--disabled-bg-color);\n",
       "    fill: var(--disabled-fill-color);\n",
       "    box-shadow: none;\n",
       "  }\n",
       "\n",
       "  .colab-df-spinner {\n",
       "    border: 2px solid var(--fill-color);\n",
       "    border-color: transparent;\n",
       "    border-bottom-color: var(--fill-color);\n",
       "    animation:\n",
       "      spin 1s steps(1) infinite;\n",
       "  }\n",
       "\n",
       "  @keyframes spin {\n",
       "    0% {\n",
       "      border-color: transparent;\n",
       "      border-bottom-color: var(--fill-color);\n",
       "      border-left-color: var(--fill-color);\n",
       "    }\n",
       "    20% {\n",
       "      border-color: transparent;\n",
       "      border-left-color: var(--fill-color);\n",
       "      border-top-color: var(--fill-color);\n",
       "    }\n",
       "    30% {\n",
       "      border-color: transparent;\n",
       "      border-left-color: var(--fill-color);\n",
       "      border-top-color: var(--fill-color);\n",
       "      border-right-color: var(--fill-color);\n",
       "    }\n",
       "    40% {\n",
       "      border-color: transparent;\n",
       "      border-right-color: var(--fill-color);\n",
       "      border-top-color: var(--fill-color);\n",
       "    }\n",
       "    60% {\n",
       "      border-color: transparent;\n",
       "      border-right-color: var(--fill-color);\n",
       "    }\n",
       "    80% {\n",
       "      border-color: transparent;\n",
       "      border-right-color: var(--fill-color);\n",
       "      border-bottom-color: var(--fill-color);\n",
       "    }\n",
       "    90% {\n",
       "      border-color: transparent;\n",
       "      border-bottom-color: var(--fill-color);\n",
       "    }\n",
       "  }\n",
       "</style>\n",
       "\n",
       "  <script>\n",
       "    async function quickchart(key) {\n",
       "      const quickchartButtonEl =\n",
       "        document.querySelector('#' + key + ' button');\n",
       "      quickchartButtonEl.disabled = true;  // To prevent multiple clicks.\n",
       "      quickchartButtonEl.classList.add('colab-df-spinner');\n",
       "      try {\n",
       "        const charts = await google.colab.kernel.invokeFunction(\n",
       "            'suggestCharts', [key], {});\n",
       "      } catch (error) {\n",
       "        console.error('Error during call to suggestCharts:', error);\n",
       "      }\n",
       "      quickchartButtonEl.classList.remove('colab-df-spinner');\n",
       "      quickchartButtonEl.classList.add('colab-df-quickchart-complete');\n",
       "    }\n",
       "    (() => {\n",
       "      let quickchartButtonEl =\n",
       "        document.querySelector('#df-ed98a1dc-4788-48c4-ba00-1bad0f48e3d2 button');\n",
       "      quickchartButtonEl.style.display =\n",
       "        google.colab.kernel.accessAllowed ? 'block' : 'none';\n",
       "    })();\n",
       "  </script>\n",
       "</div>\n",
       "\n",
       "    </div>\n",
       "  </div>\n"
      ],
      "text/plain": [
       "   id  query_id  product_id       label\n",
       "0   0         0       25434       Exact\n",
       "1   1         0       12088  Irrelevant\n",
       "2   2         0       42931       Exact\n",
       "3   3         0        2636       Exact\n",
       "4   4         0       42923       Exact\n",
       "5   5         0       41156       Exact\n",
       "6   6         0        5938  Irrelevant\n",
       "7   7         0        5937  Irrelevant\n",
       "8   8         0       37072  Irrelevant\n",
       "9   9         0       37071  Irrelevant"
      ]
     },
     "execution_count": 12,
     "metadata": {},
     "output_type": "execute_result"
    }
   ],
   "source": [
    "print(label_df.shape)\n",
    "label_df.head(10)"
   ]
  },
  {
   "cell_type": "code",
   "execution_count": 13,
   "id": "59768978-5c40-45b0-84a7-d6cc5d469b5a",
   "metadata": {
    "executionInfo": {
     "elapsed": 2,
     "status": "ok",
     "timestamp": 1712089497234,
     "user": {
      "displayName": "Hao Xing",
      "userId": "09879780144362031268"
     },
     "user_tz": 240
    },
    "id": "59768978-5c40-45b0-84a7-d6cc5d469b5a",
    "tags": []
   },
   "outputs": [],
   "source": [
    "#group the labels for each query to use when identifying exact matches\n",
    "grouped_label_df = label_df.groupby('query_id')"
   ]
  },
  {
   "cell_type": "markdown",
   "id": "Odlyze6db9Hc",
   "metadata": {
    "id": "Odlyze6db9Hc"
   },
   "source": [
    "## Product search using TF-IDF"
   ]
  },
  {
   "cell_type": "code",
   "execution_count": 14,
   "id": "b1beab6d-1f59-427b-ad9f-1f0c6fcaadcc",
   "metadata": {
    "executionInfo": {
     "elapsed": 3999,
     "status": "ok",
     "timestamp": 1712089503101,
     "user": {
      "displayName": "Hao Xing",
      "userId": "09879780144362031268"
     },
     "user_tz": 240
    },
    "id": "b1beab6d-1f59-427b-ad9f-1f0c6fcaadcc",
    "tags": []
   },
   "outputs": [],
   "source": [
    "# Calculate TF-IDF\n",
    "vectorizer, tfidf_matrix = calculate_tfidf(product_df)"
   ]
  },
  {
   "cell_type": "code",
   "execution_count": 15,
   "id": "3e4b8333-b747-4c3e-87bc-4825f934ab6f",
   "metadata": {
    "colab": {
     "base_uri": "https://localhost:8080/"
    },
    "executionInfo": {
     "elapsed": 337,
     "status": "ok",
     "timestamp": 1712089505972,
     "user": {
      "displayName": "Hao Xing",
      "userId": "09879780144362031268"
     },
     "user_tz": 240
    },
    "id": "3e4b8333-b747-4c3e-87bc-4825f934ab6f",
    "outputId": "55d89936-4c88-4ed3-8b89-7ec0f5ed42b7",
    "tags": []
   },
   "outputs": [
    {
     "name": "stdout",
     "output_type": "stream",
     "text": [
      "Top products for 'sofa':\n",
      "33424 malta teak patio sofa with cushions\n",
      "42042 alexii patio sofa with cushions\n",
      "19818 ingulu 76 '' wide reversible modular sofa & chaise\n",
      "19817 mcgray 83.07 '' wide left hand facing modular sofa & chaise\n",
      "37935 finesse 84 '' square arm sofa\n",
      "30011 ayotunde patio sofa with cushions\n",
      "31365 drekjuan patio sofa with cushions\n",
      "38543 sofa bed with ottoman\n",
      "29667 canyon 136 '' genuine leather pillow top arm sofa\n",
      "42060 stines 131 '' wide reversible modular sofa & chaise\n"
     ]
    }
   ],
   "source": [
    "#check if the search results make sense\n",
    "\n",
    "def get_top_product_ids_for_query(query):\n",
    "    top_product_indices = get_top_products(vectorizer, tfidf_matrix, query, top_n=10)\n",
    "    top_product_ids = product_df.iloc[top_product_indices]['product_id'].tolist()\n",
    "    return top_product_ids\n",
    "\n",
    "#define the test query\n",
    "query = \"sofa\"\n",
    "\n",
    "#obtain top product IDs\n",
    "top_product_ids = get_top_product_ids_for_query(query)\n",
    "\n",
    "print(f\"Top products for '{query}':\")\n",
    "for product_id in top_product_ids:\n",
    "    product = product_df.loc[product_df['product_id'] == product_id]\n",
    "    print(product_id, product['product_name'].values[0])"
   ]
  },
  {
   "cell_type": "markdown",
   "id": "gI_YVyF1dTNq",
   "metadata": {
    "id": "gI_YVyF1dTNq"
   },
   "source": [
    "#### Calculate the MAP@10 score for the entire query set."
   ]
  },
  {
   "cell_type": "code",
   "execution_count": 16,
   "id": "036e1291",
   "metadata": {
    "executionInfo": {
     "elapsed": 409,
     "status": "ok",
     "timestamp": 1712089509035,
     "user": {
      "displayName": "Hao Xing",
      "userId": "09879780144362031268"
     },
     "user_tz": 240
    },
    "id": "036e1291"
   },
   "outputs": [],
   "source": [
    "#implementing a function to retrieve exact match product IDs for a query_id\n",
    "def get_exact_matches_for_query(query_id):\n",
    "    query_group = grouped_label_df.get_group(query_id)\n",
    "    exact_matches = query_group.loc[query_group['label'] == 'Exact']['product_id'].values\n",
    "    return exact_matches"
   ]
  },
  {
   "cell_type": "code",
   "execution_count": 17,
   "id": "5y9xR8xycrMf",
   "metadata": {
    "executionInfo": {
     "elapsed": 28047,
     "status": "ok",
     "timestamp": 1712089538369,
     "user": {
      "displayName": "Hao Xing",
      "userId": "09879780144362031268"
     },
     "user_tz": 240
    },
    "id": "5y9xR8xycrMf"
   },
   "outputs": [],
   "source": [
    "#applying the function to obtain top product IDs and adding top K product IDs to the dataframe\n",
    "query_df['top_product_ids'] = query_df['query'].apply(get_top_product_ids_for_query)\n",
    "\n",
    "#adding the list of exact match product_IDs from labels_df\n",
    "query_df['relevant_ids'] = query_df['query_id'].apply(get_exact_matches_for_query)\n",
    "\n",
    "#now assign the map@k score\n",
    "query_df['map@k'] = query_df.apply(lambda x: map_at_k(x['relevant_ids'], x['top_product_ids'], k=10), axis=1)"
   ]
  },
  {
   "cell_type": "code",
   "execution_count": 18,
   "id": "5be9a00e",
   "metadata": {
    "colab": {
     "base_uri": "https://localhost:8080/"
    },
    "executionInfo": {
     "elapsed": 5,
     "status": "ok",
     "timestamp": 1712089538369,
     "user": {
      "displayName": "Hao Xing",
      "userId": "09879780144362031268"
     },
     "user_tz": 240
    },
    "id": "5be9a00e",
    "outputId": "ec05dc94-3d90-47be-c8ba-473490b283e4"
   },
   "outputs": [
    {
     "data": {
      "text/plain": [
       "0.29320741016313934"
      ]
     },
     "execution_count": 18,
     "metadata": {},
     "output_type": "execute_result"
    }
   ],
   "source": [
    "# calculate the MAP across the entire query set\n",
    "query_df.loc[:, 'map@k'].mean()"
   ]
  },
  {
   "cell_type": "markdown",
   "id": "23f80ae9",
   "metadata": {
    "id": "23f80ae9"
   },
   "source": [
    "#### Calculate the NDCG@10 score for the entire query set."
   ]
  },
  {
   "cell_type": "code",
   "execution_count": 19,
   "id": "89389f35",
   "metadata": {
    "executionInfo": {
     "elapsed": 774,
     "status": "ok",
     "timestamp": 1712089539141,
     "user": {
      "displayName": "Hao Xing",
      "userId": "09879780144362031268"
     },
     "user_tz": 240
    },
    "id": "89389f35"
   },
   "outputs": [],
   "source": [
    "#implementing a function to retrieve EXACT match product IDs for a query_id\n",
    "def get_exact_matches_for_query(query_id):\n",
    "    query_group = grouped_label_df.get_group(query_id)\n",
    "    exact_matches = query_group.loc[query_group['label'] == 'Exact']['product_id'].values\n",
    "    return exact_matches\n",
    "\n",
    "#adding the list of EXACT match product_IDs from labels_df\n",
    "query_df['relevant_ids_exact'] = query_df['query_id'].apply(get_exact_matches_for_query)\n",
    "\n",
    "\n",
    "#implementing a function to retrieve PARTIAL match product IDs for a query_id\n",
    "def get_partial_matches_for_query(query_id):\n",
    "    query_group = grouped_label_df.get_group(query_id)\n",
    "    exact_matches = query_group.loc[query_group['label'] == 'Partial']['product_id'].values\n",
    "    return exact_matches\n",
    "\n",
    "#adding the list of PARTIAL match product_IDs from labels_df\n",
    "query_df['relevant_ids_partial'] = query_df['query_id'].apply(get_partial_matches_for_query)\n"
   ]
  },
  {
   "cell_type": "code",
   "execution_count": 20,
   "id": "4bdeda61-7fb0-4ca6-a9e1-f1789b539f66",
   "metadata": {
    "colab": {
     "base_uri": "https://localhost:8080/"
    },
    "executionInfo": {
     "elapsed": 8,
     "status": "ok",
     "timestamp": 1712089539141,
     "user": {
      "displayName": "Hao Xing",
      "userId": "09879780144362031268"
     },
     "user_tz": 240
    },
    "id": "4bdeda61-7fb0-4ca6-a9e1-f1789b539f66",
    "outputId": "ebc88dec-6e87-407d-af47-07341fe882c2",
    "tags": []
   },
   "outputs": [
    {
     "name": "stdout",
     "output_type": "stream",
     "text": [
      "Please check the length of true_ids_exact, true_ids_partial or predicted_ids\n"
     ]
    }
   ],
   "source": [
    "# now assign the ndcg@k score\n",
    "query_df['ndcg@k'] = query_df.apply(lambda x: ndcg_at_k(x['relevant_ids_exact'], x['relevant_ids_partial'], x['top_product_ids'], k=10), axis=1)\n"
   ]
  },
  {
   "cell_type": "code",
   "execution_count": 21,
   "id": "188376d4",
   "metadata": {
    "colab": {
     "base_uri": "https://localhost:8080/"
    },
    "executionInfo": {
     "elapsed": 6,
     "status": "ok",
     "timestamp": 1712089539141,
     "user": {
      "displayName": "Hao Xing",
      "userId": "09879780144362031268"
     },
     "user_tz": 240
    },
    "id": "188376d4",
    "outputId": "2071190f-9ecb-4e51-b912-5e229a67cabc"
   },
   "outputs": [
    {
     "name": "stdout",
     "output_type": "stream",
     "text": [
      "The NDCG@10 score across the entire query set is:   0.6170\n"
     ]
    }
   ],
   "source": [
    "# calculate the NDCG score across the entire query set\n",
    "ndcg_mean = query_df.loc[:, 'ndcg@k'].mean()\n",
    "print(\"The NDCG@10 score across the entire query set is: \", f\"{ndcg_mean: .4f}\")"
   ]
  },
  {
   "cell_type": "code",
   "execution_count": 21,
   "id": "48c83c32",
   "metadata": {
    "executionInfo": {
     "elapsed": 3,
     "status": "ok",
     "timestamp": 1712089539141,
     "user": {
      "displayName": "Hao Xing",
      "userId": "09879780144362031268"
     },
     "user_tz": 240
    },
    "id": "48c83c32"
   },
   "outputs": [],
   "source": []
  },
  {
   "cell_type": "markdown",
   "id": "45598820",
   "metadata": {
    "id": "45598820"
   },
   "source": [
    "## Use Semantic Search to Improve MAP@10 Score"
   ]
  },
  {
   "cell_type": "markdown",
   "id": "16c7a323",
   "metadata": {
    "id": "16c7a323"
   },
   "source": [
    "#### We [semantic search](https://medium.com/@naveenjothi040/semantic-search-with-llms-3661fd2a9331) using pre-trained LLMs. The [sentence transformer all-MiniLM-L6-v2](https://huggingface.co/sentence-transformers/all-MiniLM-L6-v2) is chosen here as it is not too big and could be run in CPU for embedding within about 10 minutes.\n",
    "#### We semantic search \"query\" within \"product_name\" and \"product_description\" separately, and then applied a weight 0.7 to the cos similarity score with  \"product_name\" and a weight 0.3 to the cos similarity score with \"product_description\". (The weights are obtained after some experiments.)\n",
    "#### The MAP@10 score improves to 0.35."
   ]
  },
  {
   "cell_type": "code",
   "execution_count": 22,
   "id": "1396b292",
   "metadata": {
    "colab": {
     "base_uri": "https://localhost:8080/"
    },
    "executionInfo": {
     "elapsed": 67185,
     "status": "ok",
     "timestamp": 1712089606324,
     "user": {
      "displayName": "Hao Xing",
      "userId": "09879780144362031268"
     },
     "user_tz": 240
    },
    "id": "1396b292",
    "outputId": "f7b71205-ec68-4f32-c374-e94a11eac93d"
   },
   "outputs": [
    {
     "name": "stdout",
     "output_type": "stream",
     "text": [
      "Collecting sentence_transformers\n",
      "  Downloading sentence_transformers-2.6.1-py3-none-any.whl (163 kB)\n",
      "\u001b[?25l     \u001b[90m━━━━━━━━━━━━━━━━━━━━━━━━━━━━━━━━━━━━━━━━\u001b[0m \u001b[32m0.0/163.3 kB\u001b[0m \u001b[31m?\u001b[0m eta \u001b[36m-:--:--\u001b[0m\r",
      "\u001b[2K     \u001b[91m━━━━━━━━━━━━━━━━━━━━━━━━━━━━━━━━━━━━━\u001b[0m\u001b[91m╸\u001b[0m\u001b[90m━━\u001b[0m \u001b[32m153.6/163.3 kB\u001b[0m \u001b[31m4.7 MB/s\u001b[0m eta \u001b[36m0:00:01\u001b[0m\r",
      "\u001b[2K     \u001b[90m━━━━━━━━━━━━━━━━━━━━━━━━━━━━━━━━━━━━━━━━\u001b[0m \u001b[32m163.3/163.3 kB\u001b[0m \u001b[31m4.2 MB/s\u001b[0m eta \u001b[36m0:00:00\u001b[0m\n",
      "\u001b[?25hRequirement already satisfied: transformers<5.0.0,>=4.32.0 in /usr/local/lib/python3.10/dist-packages (from sentence_transformers) (4.38.2)\n",
      "Requirement already satisfied: tqdm in /usr/local/lib/python3.10/dist-packages (from sentence_transformers) (4.66.2)\n",
      "Requirement already satisfied: torch>=1.11.0 in /usr/local/lib/python3.10/dist-packages (from sentence_transformers) (2.2.1+cu121)\n",
      "Requirement already satisfied: numpy in /usr/local/lib/python3.10/dist-packages (from sentence_transformers) (1.25.2)\n",
      "Requirement already satisfied: scikit-learn in /usr/local/lib/python3.10/dist-packages (from sentence_transformers) (1.2.2)\n",
      "Requirement already satisfied: scipy in /usr/local/lib/python3.10/dist-packages (from sentence_transformers) (1.11.4)\n",
      "Requirement already satisfied: huggingface-hub>=0.15.1 in /usr/local/lib/python3.10/dist-packages (from sentence_transformers) (0.20.3)\n",
      "Requirement already satisfied: Pillow in /usr/local/lib/python3.10/dist-packages (from sentence_transformers) (9.4.0)\n",
      "Requirement already satisfied: filelock in /usr/local/lib/python3.10/dist-packages (from huggingface-hub>=0.15.1->sentence_transformers) (3.13.3)\n",
      "Requirement already satisfied: fsspec>=2023.5.0 in /usr/local/lib/python3.10/dist-packages (from huggingface-hub>=0.15.1->sentence_transformers) (2023.6.0)\n",
      "Requirement already satisfied: requests in /usr/local/lib/python3.10/dist-packages (from huggingface-hub>=0.15.1->sentence_transformers) (2.31.0)\n",
      "Requirement already satisfied: pyyaml>=5.1 in /usr/local/lib/python3.10/dist-packages (from huggingface-hub>=0.15.1->sentence_transformers) (6.0.1)\n",
      "Requirement already satisfied: typing-extensions>=3.7.4.3 in /usr/local/lib/python3.10/dist-packages (from huggingface-hub>=0.15.1->sentence_transformers) (4.10.0)\n",
      "Requirement already satisfied: packaging>=20.9 in /usr/local/lib/python3.10/dist-packages (from huggingface-hub>=0.15.1->sentence_transformers) (24.0)\n",
      "Requirement already satisfied: sympy in /usr/local/lib/python3.10/dist-packages (from torch>=1.11.0->sentence_transformers) (1.12)\n",
      "Requirement already satisfied: networkx in /usr/local/lib/python3.10/dist-packages (from torch>=1.11.0->sentence_transformers) (3.2.1)\n",
      "Requirement already satisfied: jinja2 in /usr/local/lib/python3.10/dist-packages (from torch>=1.11.0->sentence_transformers) (3.1.3)\n",
      "Collecting nvidia-cuda-nvrtc-cu12==12.1.105 (from torch>=1.11.0->sentence_transformers)\n",
      "  Downloading nvidia_cuda_nvrtc_cu12-12.1.105-py3-none-manylinux1_x86_64.whl (23.7 MB)\n",
      "\u001b[2K     \u001b[90m━━━━━━━━━━━━━━━━━━━━━━━━━━━━━━━━━━━━━━━━\u001b[0m \u001b[32m23.7/23.7 MB\u001b[0m \u001b[31m66.0 MB/s\u001b[0m eta \u001b[36m0:00:00\u001b[0m\n",
      "\u001b[?25hCollecting nvidia-cuda-runtime-cu12==12.1.105 (from torch>=1.11.0->sentence_transformers)\n",
      "  Downloading nvidia_cuda_runtime_cu12-12.1.105-py3-none-manylinux1_x86_64.whl (823 kB)\n",
      "\u001b[2K     \u001b[90m━━━━━━━━━━━━━━━━━━━━━━━━━━━━━━━━━━━━━━━━\u001b[0m \u001b[32m823.6/823.6 kB\u001b[0m \u001b[31m67.9 MB/s\u001b[0m eta \u001b[36m0:00:00\u001b[0m\n",
      "\u001b[?25hCollecting nvidia-cuda-cupti-cu12==12.1.105 (from torch>=1.11.0->sentence_transformers)\n",
      "  Downloading nvidia_cuda_cupti_cu12-12.1.105-py3-none-manylinux1_x86_64.whl (14.1 MB)\n",
      "\u001b[2K     \u001b[90m━━━━━━━━━━━━━━━━━━━━━━━━━━━━━━━━━━━━━━━━\u001b[0m \u001b[32m14.1/14.1 MB\u001b[0m \u001b[31m93.1 MB/s\u001b[0m eta \u001b[36m0:00:00\u001b[0m\n",
      "\u001b[?25hCollecting nvidia-cudnn-cu12==8.9.2.26 (from torch>=1.11.0->sentence_transformers)\n",
      "  Downloading nvidia_cudnn_cu12-8.9.2.26-py3-none-manylinux1_x86_64.whl (731.7 MB)\n",
      "\u001b[2K     \u001b[90m━━━━━━━━━━━━━━━━━━━━━━━━━━━━━━━━━━━━━━━━\u001b[0m \u001b[32m731.7/731.7 MB\u001b[0m \u001b[31m1.5 MB/s\u001b[0m eta \u001b[36m0:00:00\u001b[0m\n",
      "\u001b[?25hCollecting nvidia-cublas-cu12==12.1.3.1 (from torch>=1.11.0->sentence_transformers)\n",
      "  Downloading nvidia_cublas_cu12-12.1.3.1-py3-none-manylinux1_x86_64.whl (410.6 MB)\n",
      "\u001b[2K     \u001b[90m━━━━━━━━━━━━━━━━━━━━━━━━━━━━━━━━━━━━━━━━\u001b[0m \u001b[32m410.6/410.6 MB\u001b[0m \u001b[31m1.9 MB/s\u001b[0m eta \u001b[36m0:00:00\u001b[0m\n",
      "\u001b[?25hCollecting nvidia-cufft-cu12==11.0.2.54 (from torch>=1.11.0->sentence_transformers)\n",
      "  Downloading nvidia_cufft_cu12-11.0.2.54-py3-none-manylinux1_x86_64.whl (121.6 MB)\n",
      "\u001b[2K     \u001b[90m━━━━━━━━━━━━━━━━━━━━━━━━━━━━━━━━━━━━━━━━\u001b[0m \u001b[32m121.6/121.6 MB\u001b[0m \u001b[31m13.3 MB/s\u001b[0m eta \u001b[36m0:00:00\u001b[0m\n",
      "\u001b[?25hCollecting nvidia-curand-cu12==10.3.2.106 (from torch>=1.11.0->sentence_transformers)\n",
      "  Downloading nvidia_curand_cu12-10.3.2.106-py3-none-manylinux1_x86_64.whl (56.5 MB)\n",
      "\u001b[2K     \u001b[90m━━━━━━━━━━━━━━━━━━━━━━━━━━━━━━━━━━━━━━━━\u001b[0m \u001b[32m56.5/56.5 MB\u001b[0m \u001b[31m27.9 MB/s\u001b[0m eta \u001b[36m0:00:00\u001b[0m\n",
      "\u001b[?25hCollecting nvidia-cusolver-cu12==11.4.5.107 (from torch>=1.11.0->sentence_transformers)\n",
      "  Downloading nvidia_cusolver_cu12-11.4.5.107-py3-none-manylinux1_x86_64.whl (124.2 MB)\n",
      "\u001b[2K     \u001b[90m━━━━━━━━━━━━━━━━━━━━━━━━━━━━━━━━━━━━━━━━\u001b[0m \u001b[32m124.2/124.2 MB\u001b[0m \u001b[31m12.8 MB/s\u001b[0m eta \u001b[36m0:00:00\u001b[0m\n",
      "\u001b[?25hCollecting nvidia-cusparse-cu12==12.1.0.106 (from torch>=1.11.0->sentence_transformers)\n",
      "  Downloading nvidia_cusparse_cu12-12.1.0.106-py3-none-manylinux1_x86_64.whl (196.0 MB)\n",
      "\u001b[2K     \u001b[90m━━━━━━━━━━━━━━━━━━━━━━━━━━━━━━━━━━━━━━━━\u001b[0m \u001b[32m196.0/196.0 MB\u001b[0m \u001b[31m4.7 MB/s\u001b[0m eta \u001b[36m0:00:00\u001b[0m\n",
      "\u001b[?25hCollecting nvidia-nccl-cu12==2.19.3 (from torch>=1.11.0->sentence_transformers)\n",
      "  Downloading nvidia_nccl_cu12-2.19.3-py3-none-manylinux1_x86_64.whl (166.0 MB)\n",
      "\u001b[2K     \u001b[90m━━━━━━━━━━━━━━━━━━━━━━━━━━━━━━━━━━━━━━━━\u001b[0m \u001b[32m166.0/166.0 MB\u001b[0m \u001b[31m9.6 MB/s\u001b[0m eta \u001b[36m0:00:00\u001b[0m\n",
      "\u001b[?25hCollecting nvidia-nvtx-cu12==12.1.105 (from torch>=1.11.0->sentence_transformers)\n",
      "  Downloading nvidia_nvtx_cu12-12.1.105-py3-none-manylinux1_x86_64.whl (99 kB)\n",
      "\u001b[2K     \u001b[90m━━━━━━━━━━━━━━━━━━━━━━━━━━━━━━━━━━━━━━━━\u001b[0m \u001b[32m99.1/99.1 kB\u001b[0m \u001b[31m15.9 MB/s\u001b[0m eta \u001b[36m0:00:00\u001b[0m\n",
      "\u001b[?25hRequirement already satisfied: triton==2.2.0 in /usr/local/lib/python3.10/dist-packages (from torch>=1.11.0->sentence_transformers) (2.2.0)\n",
      "Collecting nvidia-nvjitlink-cu12 (from nvidia-cusolver-cu12==11.4.5.107->torch>=1.11.0->sentence_transformers)\n",
      "  Downloading nvidia_nvjitlink_cu12-12.4.99-py3-none-manylinux2014_x86_64.whl (21.1 MB)\n",
      "\u001b[2K     \u001b[90m━━━━━━━━━━━━━━━━━━━━━━━━━━━━━━━━━━━━━━━━\u001b[0m \u001b[32m21.1/21.1 MB\u001b[0m \u001b[31m73.1 MB/s\u001b[0m eta \u001b[36m0:00:00\u001b[0m\n",
      "\u001b[?25hRequirement already satisfied: regex!=2019.12.17 in /usr/local/lib/python3.10/dist-packages (from transformers<5.0.0,>=4.32.0->sentence_transformers) (2023.12.25)\n",
      "Requirement already satisfied: tokenizers<0.19,>=0.14 in /usr/local/lib/python3.10/dist-packages (from transformers<5.0.0,>=4.32.0->sentence_transformers) (0.15.2)\n",
      "Requirement already satisfied: safetensors>=0.4.1 in /usr/local/lib/python3.10/dist-packages (from transformers<5.0.0,>=4.32.0->sentence_transformers) (0.4.2)\n",
      "Requirement already satisfied: joblib>=1.1.1 in /usr/local/lib/python3.10/dist-packages (from scikit-learn->sentence_transformers) (1.3.2)\n",
      "Requirement already satisfied: threadpoolctl>=2.0.0 in /usr/local/lib/python3.10/dist-packages (from scikit-learn->sentence_transformers) (3.4.0)\n",
      "Requirement already satisfied: MarkupSafe>=2.0 in /usr/local/lib/python3.10/dist-packages (from jinja2->torch>=1.11.0->sentence_transformers) (2.1.5)\n",
      "Requirement already satisfied: charset-normalizer<4,>=2 in /usr/local/lib/python3.10/dist-packages (from requests->huggingface-hub>=0.15.1->sentence_transformers) (3.3.2)\n",
      "Requirement already satisfied: idna<4,>=2.5 in /usr/local/lib/python3.10/dist-packages (from requests->huggingface-hub>=0.15.1->sentence_transformers) (3.6)\n",
      "Requirement already satisfied: urllib3<3,>=1.21.1 in /usr/local/lib/python3.10/dist-packages (from requests->huggingface-hub>=0.15.1->sentence_transformers) (2.0.7)\n",
      "Requirement already satisfied: certifi>=2017.4.17 in /usr/local/lib/python3.10/dist-packages (from requests->huggingface-hub>=0.15.1->sentence_transformers) (2024.2.2)\n",
      "Requirement already satisfied: mpmath>=0.19 in /usr/local/lib/python3.10/dist-packages (from sympy->torch>=1.11.0->sentence_transformers) (1.3.0)\n",
      "Installing collected packages: nvidia-nvtx-cu12, nvidia-nvjitlink-cu12, nvidia-nccl-cu12, nvidia-curand-cu12, nvidia-cufft-cu12, nvidia-cuda-runtime-cu12, nvidia-cuda-nvrtc-cu12, nvidia-cuda-cupti-cu12, nvidia-cublas-cu12, nvidia-cusparse-cu12, nvidia-cudnn-cu12, nvidia-cusolver-cu12, sentence_transformers\n",
      "Successfully installed nvidia-cublas-cu12-12.1.3.1 nvidia-cuda-cupti-cu12-12.1.105 nvidia-cuda-nvrtc-cu12-12.1.105 nvidia-cuda-runtime-cu12-12.1.105 nvidia-cudnn-cu12-8.9.2.26 nvidia-cufft-cu12-11.0.2.54 nvidia-curand-cu12-10.3.2.106 nvidia-cusolver-cu12-11.4.5.107 nvidia-cusparse-cu12-12.1.0.106 nvidia-nccl-cu12-2.19.3 nvidia-nvjitlink-cu12-12.4.99 nvidia-nvtx-cu12-12.1.105 sentence_transformers-2.6.1\n"
     ]
    }
   ],
   "source": [
    "!pip install sentence_transformers"
   ]
  },
  {
   "cell_type": "code",
   "execution_count": 23,
   "id": "8f3cd286",
   "metadata": {
    "executionInfo": {
     "elapsed": 4815,
     "status": "ok",
     "timestamp": 1712089611134,
     "user": {
      "displayName": "Hao Xing",
      "userId": "09879780144362031268"
     },
     "user_tz": 240
    },
    "id": "8f3cd286"
   },
   "outputs": [],
   "source": [
    "from sentence_transformers import SentenceTransformer, util\n",
    "import pickle\n",
    "import torch\n",
    "from sklearn.metrics.pairwise import cosine_similarity"
   ]
  },
  {
   "cell_type": "code",
   "execution_count": 24,
   "id": "a3641351",
   "metadata": {
    "colab": {
     "base_uri": "https://localhost:8080/"
    },
    "executionInfo": {
     "elapsed": 923,
     "status": "ok",
     "timestamp": 1712089612053,
     "user": {
      "displayName": "Hao Xing",
      "userId": "09879780144362031268"
     },
     "user_tz": 240
    },
    "id": "a3641351",
    "outputId": "8d4eea7c-5d8a-4ab5-ae99-635005270da7"
   },
   "outputs": [
    {
     "name": "stdout",
     "output_type": "stream",
     "text": [
      "(42994, 9) (480, 3) (233448, 4)\n"
     ]
    }
   ],
   "source": [
    "# Reload the datasets for analysis.\n",
    "\n",
    "# get products\n",
    "product_df = pd.read_csv(\"WANDS/dataset/product.csv\", sep='\\t')\n",
    "\n",
    "# get search queries\n",
    "query_df = pd.read_csv(\"WANDS/dataset/query.csv\", sep='\\t')\n",
    "\n",
    "# get manually labeled groundtruth lables\n",
    "label_df = pd.read_csv(\"WANDS/dataset/label.csv\", sep='\\t')\n",
    "\n",
    "#group the labels for each query to use when identifying exact matches\n",
    "grouped_label_df = label_df.groupby('query_id')\n",
    "\n",
    "print(product_df.shape, query_df.shape, label_df.shape)"
   ]
  },
  {
   "cell_type": "code",
   "execution_count": 46,
   "id": "7d1e68ba",
   "metadata": {
    "executionInfo": {
     "elapsed": 2,
     "status": "ok",
     "timestamp": 1712090775026,
     "user": {
      "displayName": "Hao Xing",
      "userId": "09879780144362031268"
     },
     "user_tz": 240
    },
    "id": "7d1e68ba"
   },
   "outputs": [],
   "source": [
    "# The sentence transformer all-MiniLM-L6-v2 is chosen here as it is not too big and could be run in CPU for embedding in about 10 minutes.\n",
    "\n",
    "#model = SentenceTransformer('sentence-transformers/all-MiniLM-L6-v2')\n",
    "\n",
    "model = tuned_model"
   ]
  },
  {
   "cell_type": "code",
   "execution_count": 47,
   "id": "ce82c4fc",
   "metadata": {
    "executionInfo": {
     "elapsed": 333,
     "status": "ok",
     "timestamp": 1712090780060,
     "user": {
      "displayName": "Hao Xing",
      "userId": "09879780144362031268"
     },
     "user_tz": 240
    },
    "id": "ce82c4fc"
   },
   "outputs": [],
   "source": [
    "product_df['product_name'] =  product_df['product_name'].apply(lambda x: str(x))\n",
    "product_df['product_description'] =  product_df['product_description'].apply(lambda x: str(x))\n"
   ]
  },
  {
   "cell_type": "markdown",
   "id": "c6cb2e67",
   "metadata": {
    "id": "c6cb2e67"
   },
   "source": [
    "#### Build embeddings for \"product_name\" and \"product_description\"\n",
    "- The next 2 cells will take in total 13 minutes to run using CPU. After running once, the embeddings are saved as pickle files, and you don't have to run them again."
   ]
  },
  {
   "cell_type": "code",
   "execution_count": 48,
   "id": "005ab049",
   "metadata": {
    "colab": {
     "base_uri": "https://localhost:8080/",
     "height": 49,
     "referenced_widgets": [
      "6d2afdcfd76d4a5a8749382791e07798",
      "5b14e1473edb42ba9b1d9a5ffead3b8d",
      "2a2c76defa5042788e2313b255735620",
      "61dcc91687134cae8fff7ae77f899961",
      "5876fdf0e87b4bfe8fdaee5c905b0df5",
      "fc74157f17e24c4fb28224e93c9694a9",
      "4af29f2a5d4948deb8b3b8a57fef827d",
      "b0dc1e7ec5dd4262bb8fb4c479f9f37d",
      "93042671cc134c97aa8fd55cde7816ce",
      "8dd785d22b6a4f619d33ec5bdc5b8471",
      "56eab682e5ed41f485344c3665bb42b0"
     ]
    },
    "executionInfo": {
     "elapsed": 10764,
     "status": "ok",
     "timestamp": 1712090797270,
     "user": {
      "displayName": "Hao Xing",
      "userId": "09879780144362031268"
     },
     "user_tz": 240
    },
    "id": "005ab049",
    "outputId": "38f41a1b-ea3b-45fa-8b7d-fb0dfc20921d"
   },
   "outputs": [
    {
     "data": {
      "application/vnd.jupyter.widget-view+json": {
       "model_id": "6d2afdcfd76d4a5a8749382791e07798",
       "version_major": 2,
       "version_minor": 0
      },
      "text/plain": [
       "Batches:   0%|          | 0/1344 [00:00<?, ?it/s]"
      ]
     },
     "metadata": {},
     "output_type": "display_data"
    }
   ],
   "source": [
    "## Build embedding for \"product_name\" -- take 2 min to run in CPU for model all-MiniLM-L6-v2.\n",
    "\n",
    "prodname_corpus_embeddings = model.encode(product_df['product_name'].to_list(), show_progress_bar=True)\n",
    "\n",
    "with open('prodname_corpus_embeddings_all-MiniLM-L6-v2.pkl', \"wb\") as fOut:\n",
    "    pickle.dump(prodname_corpus_embeddings, fOut)"
   ]
  },
  {
   "cell_type": "code",
   "execution_count": 49,
   "id": "72de0025",
   "metadata": {
    "colab": {
     "base_uri": "https://localhost:8080/",
     "height": 49,
     "referenced_widgets": [
      "030a8125cdde46aca33f4c0ebc8df76a",
      "e2b192e15703433fb6273606df90c017",
      "6b77301453d64a6f999237b25b3a3207",
      "4fca819b2b5341d895c6e909a48f3149",
      "03fa3e6b9d9d46019d5d749cf33d46d3",
      "6015912e9b524e91831cbb2bcc2d628a",
      "49982d2440b5433898f1d20b0d54b75e",
      "61eecdc7e0c5487f9b336f4858deea25",
      "b5bb78be4dc847ae9d2867b6c982ef77",
      "32e345f4899248ed857d8142e6a14ae7",
      "fe15a001a2964e2784feebbe31e6ad25"
     ]
    },
    "executionInfo": {
     "elapsed": 18356,
     "status": "ok",
     "timestamp": 1712090815625,
     "user": {
      "displayName": "Hao Xing",
      "userId": "09879780144362031268"
     },
     "user_tz": 240
    },
    "id": "72de0025",
    "outputId": "d411a4ff-bf9a-4098-c97d-e7f99e0afccd"
   },
   "outputs": [
    {
     "data": {
      "application/vnd.jupyter.widget-view+json": {
       "model_id": "030a8125cdde46aca33f4c0ebc8df76a",
       "version_major": 2,
       "version_minor": 0
      },
      "text/plain": [
       "Batches:   0%|          | 0/1344 [00:00<?, ?it/s]"
      ]
     },
     "metadata": {},
     "output_type": "display_data"
    }
   ],
   "source": [
    "## Build embedding for \"product_description\" -- take 11 min to run in CPU for model all-MiniLM-L6-v2.\n",
    "\n",
    "proddescription_corpus_embeddings = model.encode(product_df['product_description'].to_list(), show_progress_bar=True)\n",
    "\n",
    "with open('proddescription_corpus_embeddings_all-MiniLM-L6-v2.pkl', \"wb\") as fOut:\n",
    "    pickle.dump(proddescription_corpus_embeddings, fOut)"
   ]
  },
  {
   "cell_type": "markdown",
   "id": "a3fadcde",
   "metadata": {
    "id": "a3fadcde"
   },
   "source": [
    "#### Load saved embeddings"
   ]
  },
  {
   "cell_type": "code",
   "execution_count": 29,
   "id": "8bc767ac",
   "metadata": {
    "colab": {
     "base_uri": "https://localhost:8080/"
    },
    "executionInfo": {
     "elapsed": 355,
     "status": "ok",
     "timestamp": 1712089718738,
     "user": {
      "displayName": "Hao Xing",
      "userId": "09879780144362031268"
     },
     "user_tz": 240
    },
    "id": "8bc767ac",
    "outputId": "fbb3da24-80fb-4df6-f35d-fcb082662be4"
   },
   "outputs": [
    {
     "name": "stdout",
     "output_type": "stream",
     "text": [
      "(42994, 384) (42994, 384)\n"
     ]
    }
   ],
   "source": [
    "# load embeddings from pickle files saved before, so that the embedding steps don't need to be run repeatedly.\n",
    "\n",
    "# load product_name embeddings\n",
    "with open('prodname_corpus_embeddings_all-MiniLM-L6-v2.pkl', \"rb\") as file_in:\n",
    "    prodname_embeddings = pickle.load(file_in)\n",
    "\n",
    "# load product_description embeddings\n",
    "with open('proddescription_corpus_embeddings_all-MiniLM-L6-v2.pkl', \"rb\") as file_in:\n",
    "    proddescription_embeddings = pickle.load(file_in)\n",
    "\n",
    "print(prodname_embeddings.shape, proddescription_embeddings.shape)"
   ]
  },
  {
   "cell_type": "markdown",
   "id": "e0331d1d",
   "metadata": {
    "id": "e0331d1d"
   },
   "source": [
    "#### Get the top products using semantic search"
   ]
  },
  {
   "cell_type": "code",
   "execution_count": 30,
   "id": "76fdc18d",
   "metadata": {
    "executionInfo": {
     "elapsed": 352,
     "status": "ok",
     "timestamp": 1712089842606,
     "user": {
      "displayName": "Hao Xing",
      "userId": "09879780144362031268"
     },
     "user_tz": 240
    },
    "id": "76fdc18d"
   },
   "outputs": [],
   "source": [
    "def semantic_search_get_top_products(query, top_n=10):\n",
    "\n",
    "    query_vector = model.encode(query).reshape(1, -1)\n",
    "\n",
    "    name_sim = cosine_similarity(query_vector, prodname_embeddings).flatten()\n",
    "    des_sim = cosine_similarity(query_vector, proddescription_embeddings).flatten()\n",
    "\n",
    "    # We weight 0.7 to cosine-similarity between “query” and “product_name”, and assigned weight 0.3 to cosine-similarity between “query” and “product_description”.\n",
    "    # The weights could be further optimized in future.\n",
    "    sim = 0.7 * name_sim + 0.3 * des_sim\n",
    "    top_product_indices = sim.argsort()[-top_n:][::-1]\n",
    "\n",
    "    return top_product_indices"
   ]
  },
  {
   "cell_type": "code",
   "execution_count": 31,
   "id": "ebfa4667",
   "metadata": {
    "colab": {
     "base_uri": "https://localhost:8080/"
    },
    "executionInfo": {
     "elapsed": 347,
     "status": "ok",
     "timestamp": 1712089854448,
     "user": {
      "displayName": "Hao Xing",
      "userId": "09879780144362031268"
     },
     "user_tz": 240
    },
    "id": "ebfa4667",
    "outputId": "24282b6a-24a0-4925-b24f-f1a86ffc0eda"
   },
   "outputs": [
    {
     "data": {
      "text/plain": [
       "array([20392, 21389, 15793, 17856, 31606, 31121, 20279, 38543, 31563,\n",
       "       26318])"
      ]
     },
     "execution_count": 31,
     "metadata": {},
     "output_type": "execute_result"
    }
   ],
   "source": [
    "out = semantic_search_get_top_products(query='sofa', top_n=10)\n",
    "out"
   ]
  },
  {
   "cell_type": "code",
   "execution_count": 32,
   "id": "f65e2631",
   "metadata": {
    "executionInfo": {
     "elapsed": 411,
     "status": "ok",
     "timestamp": 1712089879546,
     "user": {
      "displayName": "Hao Xing",
      "userId": "09879780144362031268"
     },
     "user_tz": 240
    },
    "id": "f65e2631"
   },
   "outputs": [],
   "source": [
    "#implementing a function to retrieve top K product IDs for a query\n",
    "\n",
    "def semantic_search_get_top_product_ids_for_query(query):\n",
    "    top_product_indices = semantic_search_get_top_products(query, top_n=10)\n",
    "    top_product_ids = product_df.iloc[top_product_indices]['product_id'].tolist()\n",
    "    return top_product_ids\n",
    "\n",
    "#group the labels for each query to use when identifying exact matches\n",
    "grouped_label_df = label_df.groupby('query_id')\n",
    "\n",
    "def get_exact_matches_for_query(query_id):\n",
    "    query_group = grouped_label_df.get_group(query_id)\n",
    "    exact_matches = query_group.loc[query_group['label'] == 'Exact']['product_id'].values\n",
    "    return exact_matches"
   ]
  },
  {
   "cell_type": "code",
   "execution_count": 33,
   "id": "c6318588",
   "metadata": {
    "executionInfo": {
     "elapsed": 72740,
     "status": "ok",
     "timestamp": 1712089965367,
     "user": {
      "displayName": "Hao Xing",
      "userId": "09879780144362031268"
     },
     "user_tz": 240
    },
    "id": "c6318588"
   },
   "outputs": [],
   "source": [
    "#applying the function to obtain top product IDs and adding top K product IDs to the dataframe\n",
    "#this takes around a minute using GPU\n",
    "query_df['top_product_ids'] = query_df['query'].apply(semantic_search_get_top_product_ids_for_query)"
   ]
  },
  {
   "cell_type": "code",
   "execution_count": 34,
   "id": "9d97382a",
   "metadata": {
    "executionInfo": {
     "elapsed": 2,
     "status": "ok",
     "timestamp": 1712089989150,
     "user": {
      "displayName": "Hao Xing",
      "userId": "09879780144362031268"
     },
     "user_tz": 240
    },
    "id": "9d97382a"
   },
   "outputs": [],
   "source": [
    "#implementing a function to retrieve exact match product IDs for a query_id\n",
    "def get_exact_matches_for_query(query_id):\n",
    "    query_group = grouped_label_df.get_group(query_id)\n",
    "    exact_matches = query_group.loc[query_group['label'] == 'Exact']['product_id'].values\n",
    "    return exact_matches\n",
    "\n",
    "#adding the list of exact match product_IDs from labels_df\n",
    "query_df['relevant_ids'] = query_df['query_id'].apply(get_exact_matches_for_query)\n",
    "\n",
    "#now assign the map@k score\n",
    "query_df['map@k'] = query_df.apply(lambda x: map_at_k(x['relevant_ids'], x['top_product_ids'], k=10), axis=1)\n"
   ]
  },
  {
   "cell_type": "code",
   "execution_count": 35,
   "id": "341d1370",
   "metadata": {
    "colab": {
     "base_uri": "https://localhost:8080/"
    },
    "executionInfo": {
     "elapsed": 512,
     "status": "ok",
     "timestamp": 1712089997916,
     "user": {
      "displayName": "Hao Xing",
      "userId": "09879780144362031268"
     },
     "user_tz": 240
    },
    "id": "341d1370",
    "outputId": "7fd3dd07-b6d9-42aa-aaf6-07d0f008c7a6"
   },
   "outputs": [
    {
     "name": "stdout",
     "output_type": "stream",
     "text": [
      "The new MAP@10 score using sentence transformer semantic search is:   0.3514\n"
     ]
    }
   ],
   "source": [
    "# calculate the MAP across the entire query set\n",
    "mapk_change1_result = query_df.loc[:, 'map@k'].mean()\n",
    "print(\"The new MAP@10 score using sentence transformer semantic search is: \", f\"{mapk_change1_result: .4f}\")"
   ]
  },
  {
   "cell_type": "code",
   "execution_count": null,
   "id": "644581d2",
   "metadata": {
    "id": "644581d2"
   },
   "outputs": [],
   "source": []
  },
  {
   "cell_type": "markdown",
   "id": "1152464d",
   "metadata": {
    "id": "1152464d"
   },
   "source": [
    "## Fine Tune LLM to imporve performance"
   ]
  },
  {
   "cell_type": "markdown",
   "id": "7696fa7c",
   "metadata": {
    "id": "7696fa7c"
   },
   "source": [
    "\n",
    "#### We experiment tuning pre-trained sentence LLM model \"all-MiniLM-L6-v2\" to part of queries to examine whether the matching performance could be improved.\n",
    "\n",
    "#### The analysis is performed as follows:\n",
    "\n",
    "\n",
    "1.   Query set is split into training and test query sets. Test query set is 40% of the entire query set.\n",
    "2.   Train label set is split out of the entire label set. The train label set contains all products associated to all train queries. In this way, the model tuning process does not see the test queries at all. This maps to the practical situation where test queries are completely new queries. The train label set contains the queries and the associated product names.\n",
    "3.   An evaluation label set is split out from the train label set. (10% of the train label set.) This is used as the valuation set for the tuning process.\n",
    "4.   The sentence LLM model is tuned using the train label set and the evaluation label set.\n",
    "\n",
    "#### Because the test queries are blinded from the training process. Performance comparison within the test query set is a fair comparsion between the pre-trained model and the tuned model.\n",
    "\n",
    "#### It turns out that the tuning process over-fit the training queries. Performance of the tuned model is worse than the pre-trained model.\n",
    "\n",
    "#### MAP@10 for the test queries:\n",
    "\n",
    "\n",
    "*   pre-trained model: 0.32\n",
    "*   tuned model: 0.28\n",
    "\n",
    "#### NDCG@10 for the test queries:\n",
    "\n",
    "\n",
    "\n",
    "*   pre-trained model: 0.70\n",
    "*   tuned model: 0.65\n",
    "\n",
    "In reality, big product platforms, such as Amazon, have seen many repeated queries. Therefore, queries appeared in the training set can come up again later. To evaluate the model performance in this situation, I compared the model performance in the entire query set.\n",
    "\n",
    "#### MAP@10 for the entire query set:\n",
    "\n",
    "\n",
    "*   pre-trained model: 0.35\n",
    "*   tuned model: 0.38\n",
    "\n",
    "#### NDCG@10 for the entire query set:\n",
    "\n",
    "\n",
    "\n",
    "*   pre-trained model: 0.71\n",
    "*   tuned model: 0.70\n",
    "\n",
    "The performance improved due to the improved performance in the training set.\n",
    "\n",
    "#### MAP@10 for the training set:\n",
    "\n",
    "\n",
    "*   pre-trained model: 0.37\n",
    "*   tuned model: 0.44\n",
    "\n",
    "#### NDCG@10 for the training set:\n",
    "\n",
    "\n",
    "\n",
    "*  pre-trained model: 0.72\n",
    "*  tuned model: 0.74\n",
    "\n",
    "\n",
    "\n",
    "\n",
    "\n",
    "\n",
    "\n",
    "\n",
    "\n"
   ]
  },
  {
   "cell_type": "code",
   "execution_count": 36,
   "id": "8429ef55",
   "metadata": {
    "executionInfo": {
     "elapsed": 488,
     "status": "ok",
     "timestamp": 1712090183253,
     "user": {
      "displayName": "Hao Xing",
      "userId": "09879780144362031268"
     },
     "user_tz": 240
    },
    "id": "8429ef55"
   },
   "outputs": [],
   "source": [
    "from sentence_transformers import util, InputExample, losses, evaluation\n",
    "import torch\n",
    "import math\n",
    "from torch.utils.data import DataLoader\n",
    "from sentence_transformers.evaluation import EmbeddingSimilarityEvaluator"
   ]
  },
  {
   "cell_type": "code",
   "execution_count": 37,
   "id": "6915a75a",
   "metadata": {
    "colab": {
     "base_uri": "https://localhost:8080/"
    },
    "executionInfo": {
     "elapsed": 1377,
     "status": "ok",
     "timestamp": 1712090192217,
     "user": {
      "displayName": "Hao Xing",
      "userId": "09879780144362031268"
     },
     "user_tz": 240
    },
    "id": "6915a75a",
    "outputId": "18cb1599-eaa2-4d92-99b3-0568fea8b059"
   },
   "outputs": [
    {
     "name": "stdout",
     "output_type": "stream",
     "text": [
      "(42994, 9) (480, 3) (233448, 4)\n"
     ]
    }
   ],
   "source": [
    "# Reload the datasets for analysis.\n",
    "\n",
    "# get products\n",
    "product_df = pd.read_csv(\"WANDS/dataset/product.csv\", sep='\\t')\n",
    "\n",
    "# get search queries\n",
    "query_df = pd.read_csv(\"WANDS/dataset/query.csv\", sep='\\t')\n",
    "\n",
    "# get manually labeled groundtruth lables\n",
    "label_df = pd.read_csv(\"WANDS/dataset/label.csv\", sep='\\t')\n",
    "\n",
    "#group the labels for each query to use when identifying exact matches\n",
    "grouped_label_df = label_df.groupby('query_id')\n",
    "\n",
    "print(product_df.shape, query_df.shape, label_df.shape)"
   ]
  },
  {
   "cell_type": "code",
   "execution_count": 38,
   "id": "9e0474cd",
   "metadata": {
    "colab": {
     "base_uri": "https://localhost:8080/"
    },
    "executionInfo": {
     "elapsed": 411,
     "status": "ok",
     "timestamp": 1712090196266,
     "user": {
      "displayName": "Hao Xing",
      "userId": "09879780144362031268"
     },
     "user_tz": 240
    },
    "id": "9e0474cd",
    "outputId": "25a23955-bb2f-429e-ce87-7ba873db51cd"
   },
   "outputs": [
    {
     "name": "stdout",
     "output_type": "stream",
     "text": [
      "(288, 3) (192, 3)\n"
     ]
    }
   ],
   "source": [
    "# split the query set into train and test sets\n",
    "\n",
    "from sklearn.model_selection import train_test_split\n",
    "train_query, test_query = train_test_split(query_df, test_size=0.4, random_state=42)\n",
    "print(train_query.shape, test_query.shape)\n"
   ]
  },
  {
   "cell_type": "code",
   "execution_count": 39,
   "id": "f7b15196",
   "metadata": {
    "colab": {
     "base_uri": "https://localhost:8080/"
    },
    "executionInfo": {
     "elapsed": 354,
     "status": "ok",
     "timestamp": 1712090209172,
     "user": {
      "displayName": "Hao Xing",
      "userId": "09879780144362031268"
     },
     "user_tz": 240
    },
    "id": "f7b15196",
    "outputId": "e0be4fd2-ff33-433e-90e1-086fe77b9616"
   },
   "outputs": [
    {
     "name": "stdout",
     "output_type": "stream",
     "text": [
      "(132268, 5)\n"
     ]
    }
   ],
   "source": [
    "dict_map = {'Exact':1.0, 'Partial':0.5, 'Irrelevant':0.0}\n",
    "label_df['score'] = label_df['label'].map(dict_map)\n",
    "\n",
    "# train_label_df contains all queries whose id are in the train query set\n",
    "# train_label_df also contains all corresponding products of each train query\n",
    "train_query_id = train_query[\"query_id\"].unique()\n",
    "train_label_df = label_df[label_df[\"query_id\"].isin(train_query_id)]\n",
    "print(train_label_df.shape)"
   ]
  },
  {
   "cell_type": "code",
   "execution_count": 40,
   "id": "4074e315",
   "metadata": {
    "colab": {
     "base_uri": "https://localhost:8080/"
    },
    "executionInfo": {
     "elapsed": 314,
     "status": "ok",
     "timestamp": 1712090229142,
     "user": {
      "displayName": "Hao Xing",
      "userId": "09879780144362031268"
     },
     "user_tz": 240
    },
    "id": "4074e315",
    "outputId": "f2499ac2-bcab-425e-e2f4-585c0c564f63"
   },
   "outputs": [
    {
     "name": "stderr",
     "output_type": "stream",
     "text": [
      "<ipython-input-40-56ed4a589f62>:6: SettingWithCopyWarning: \n",
      "A value is trying to be set on a copy of a slice from a DataFrame.\n",
      "Try using .loc[row_indexer,col_indexer] = value instead\n",
      "\n",
      "See the caveats in the documentation: https://pandas.pydata.org/pandas-docs/stable/user_guide/indexing.html#returning-a-view-versus-a-copy\n",
      "  train_label_df['query_name'] = train_label_df['query_id'].map(dict_queryid)\n",
      "<ipython-input-40-56ed4a589f62>:7: SettingWithCopyWarning: \n",
      "A value is trying to be set on a copy of a slice from a DataFrame.\n",
      "Try using .loc[row_indexer,col_indexer] = value instead\n",
      "\n",
      "See the caveats in the documentation: https://pandas.pydata.org/pandas-docs/stable/user_guide/indexing.html#returning-a-view-versus-a-copy\n",
      "  train_label_df['product_name'] = train_label_df['product_id'].map(dict_id)\n"
     ]
    }
   ],
   "source": [
    "# add query text and product names\n",
    "dict_id = dict(zip(product_df['product_id'], product_df['product_name']))\n",
    "dict_desc = dict(zip(product_df['product_id'], product_df['product_description']))\n",
    "dict_queryid = dict(zip(train_query['query_id'], train_query['query']))\n",
    "\n",
    "train_label_df['query_name'] = train_label_df['query_id'].map(dict_queryid)\n",
    "train_label_df['product_name'] = train_label_df['product_id'].map(dict_id)"
   ]
  },
  {
   "cell_type": "code",
   "execution_count": 41,
   "id": "bf8cf5c4",
   "metadata": {
    "colab": {
     "base_uri": "https://localhost:8080/"
    },
    "executionInfo": {
     "elapsed": 305,
     "status": "ok",
     "timestamp": 1712090244762,
     "user": {
      "displayName": "Hao Xing",
      "userId": "09879780144362031268"
     },
     "user_tz": 240
    },
    "id": "bf8cf5c4",
    "outputId": "8a9d0850-f269-4e8e-fe06-9775cd56d653"
   },
   "outputs": [
    {
     "name": "stdout",
     "output_type": "stream",
     "text": [
      "(119041, 7) (13227, 7)\n"
     ]
    }
   ],
   "source": [
    "# construct train and evaluation sets for fine tune\n",
    "\n",
    "train_sample, eval_sample = train_test_split(train_label_df, test_size=0.1, random_state=42)\n",
    "print(train_sample.shape, eval_sample.shape)"
   ]
  },
  {
   "cell_type": "code",
   "execution_count": 42,
   "id": "c2080264",
   "metadata": {
    "executionInfo": {
     "elapsed": 2557,
     "status": "ok",
     "timestamp": 1712090256785,
     "user": {
      "displayName": "Hao Xing",
      "userId": "09879780144362031268"
     },
     "user_tz": 240
    },
    "id": "c2080264"
   },
   "outputs": [],
   "source": [
    "def create_input(doc1, doc2, score):\n",
    "  return InputExample(texts=[doc1, doc2], label=score)\n",
    "\n",
    "# construct input for fine tune\n",
    "inputs = train_sample.apply(\n",
    "  lambda s: create_input(s['query_name'], s['product_name'], s['score']), axis=1\n",
    "  ).to_list()\n",
    "\n",
    "# construct evaluation set for fine tune\n",
    "evals = eval_sample.apply(\n",
    "  lambda s: create_input(s['query_name'], s['product_name'], s['score']), axis=1\n",
    ")\n"
   ]
  },
  {
   "cell_type": "code",
   "execution_count": 43,
   "id": "286adc57",
   "metadata": {
    "executionInfo": {
     "elapsed": 2824,
     "status": "ok",
     "timestamp": 1712090280645,
     "user": {
      "displayName": "Hao Xing",
      "userId": "09879780144362031268"
     },
     "user_tz": 240
    },
    "id": "286adc57"
   },
   "outputs": [],
   "source": [
    "# define instructions for feeding inputs to model\n",
    "\n",
    "input_dataloader = DataLoader(inputs, shuffle=True, batch_size=16) # feed 16 records at a time to the model\n",
    "\n",
    "evaluator = EmbeddingSimilarityEvaluator.from_input_examples(evals, name=\"eval_sample\")\n",
    "\n",
    "# define loss metric to optimize for\n",
    "\n",
    "tuned_model = SentenceTransformer('all-MiniLM-L6-v2')\n",
    "\n",
    "loss = losses.CosineSimilarityLoss(tuned_model)\n",
    "\n",
    "num_epochs = 1\n",
    "\n",
    "warmup_steps = math.ceil(len(input_dataloader) * num_epochs * 0.1)"
   ]
  },
  {
   "cell_type": "markdown",
   "id": "8cc97a42",
   "metadata": {
    "id": "8cc97a42"
   },
   "source": [
    "### Please note the following fine tune codes took long time to run in CPU. Better to run it in GPU. (It takes 5 mins under GPU.)"
   ]
  },
  {
   "cell_type": "code",
   "execution_count": 44,
   "id": "24acda67",
   "metadata": {
    "colab": {
     "base_uri": "https://localhost:8080/",
     "height": 81,
     "referenced_widgets": [
      "d60f7e832149433eb91530f0a180f2cf",
      "2976a2a85b9b4ea4aa35d7dd388894a0",
      "1856a8d527fb4fbcb33febf4a939f621",
      "3a889ce898d24dad8d34d690c0e87fe1",
      "bd2ccd86d091475fb27ae040b8a065e2",
      "e932f50fed9e435daad645fbdbedb35b",
      "d43cbbb79ed8416aa00872d3de4ce3d5",
      "eebd4d98874e49b29dbfb6a616254899",
      "a2d3d30948eb4fdb9997652e28ebfbef",
      "82957f9ba5cc492399f1973f3b8efd94",
      "17a23aede0254137bccf8dee90cdd900",
      "9eb7762cf9b74e8495f47fcf665f1baf",
      "f8e8f871642d404cb3439797b60bcd67",
      "cb4e823af6a94c258ab4727f3d15ddfa",
      "f675dc0e08b445639782fb1cf603290f",
      "8a489e0260d348fa9ed7e72bc2dc577f",
      "821856cbb8a349af85f56cd5a332864f",
      "cecf976e4d88403386f5f599da71ba26",
      "b5c189afd2ac4b22a57e541db28a8194",
      "8d938572895d475698f63fa63a6491bb",
      "2fa10c2d81c74cd1bea1063d38ec0ad7",
      "835349143156455f8c76dcc171dab300"
     ]
    },
    "executionInfo": {
     "elapsed": 374804,
     "status": "ok",
     "timestamp": 1712090665788,
     "user": {
      "displayName": "Hao Xing",
      "userId": "09879780144362031268"
     },
     "user_tz": 240
    },
    "id": "24acda67",
    "outputId": "aa67ad1c-c43f-4e35-a263-09a7aecbcb39"
   },
   "outputs": [
    {
     "data": {
      "application/vnd.jupyter.widget-view+json": {
       "model_id": "d60f7e832149433eb91530f0a180f2cf",
       "version_major": 2,
       "version_minor": 0
      },
      "text/plain": [
       "Epoch:   0%|          | 0/1 [00:00<?, ?it/s]"
      ]
     },
     "metadata": {},
     "output_type": "display_data"
    },
    {
     "data": {
      "application/vnd.jupyter.widget-view+json": {
       "model_id": "9eb7762cf9b74e8495f47fcf665f1baf",
       "version_major": 2,
       "version_minor": 0
      },
      "text/plain": [
       "Iteration:   0%|          | 0/7441 [00:00<?, ?it/s]"
      ]
     },
     "metadata": {},
     "output_type": "display_data"
    }
   ],
   "source": [
    "# tune the model on the input data\n",
    "\n",
    "tuned_model.fit(\n",
    "  train_objectives=[(input_dataloader, loss)],\n",
    "  evaluator=evaluator,\n",
    "  epochs=num_epochs,\n",
    "  evaluation_steps=1000,\n",
    "  warmup_steps=warmup_steps\n",
    "  )\n",
    "\n",
    "tuned_model.save(\"tuned_model_1\")"
   ]
  },
  {
   "cell_type": "markdown",
   "id": "04840800",
   "metadata": {
    "id": "04840800"
   },
   "source": [
    "### Evaluation the performance of the tuned model"
   ]
  },
  {
   "cell_type": "markdown",
   "id": "636b9924",
   "metadata": {
    "id": "636b9924"
   },
   "source": [
    "#### To obtain the results for pre_trained model, set model = SentenceTransformer('all-MiniLM-L6-v2')\n",
    "#### To obtain the results for tuned model, set model = tuned.model to calculate new embedding."
   ]
  },
  {
   "cell_type": "code",
   "execution_count": 50,
   "id": "f8f31175",
   "metadata": {
    "colab": {
     "base_uri": "https://localhost:8080/"
    },
    "executionInfo": {
     "elapsed": 28520,
     "status": "ok",
     "timestamp": 1712090870782,
     "user": {
      "displayName": "Hao Xing",
      "userId": "09879780144362031268"
     },
     "user_tz": 240
    },
    "id": "f8f31175",
    "outputId": "505be8a9-c365-4fc7-888e-4476bf11675d"
   },
   "outputs": [
    {
     "data": {
      "text/plain": [
       "0.27599729938271605"
      ]
     },
     "execution_count": 50,
     "metadata": {},
     "output_type": "execute_result"
    }
   ],
   "source": [
    "#applying the function to obtain top product IDs and adding top K product IDs to the dataframe\n",
    "test_query['top_product_ids'] = test_query['query'].apply(semantic_search_get_top_product_ids_for_query)\n",
    "\n",
    "#adding the list of exact match product_IDs from labels_df\n",
    "test_query['relevant_ids'] = test_query['query_id'].apply(get_exact_matches_for_query)\n",
    "\n",
    "#now assign the map@k score\n",
    "test_query['map@k'] = test_query.apply(lambda x: map_at_k(x['relevant_ids'], x['top_product_ids'], k=10), axis=1)\n",
    "\n",
    "# calculate the MAP across the test query set\n",
    "test_query.loc[:, 'map@k'].mean()"
   ]
  },
  {
   "cell_type": "markdown",
   "id": "9f27b6fb",
   "metadata": {
    "id": "9f27b6fb"
   },
   "source": [
    "#### map@k for the test query set\n",
    "- pre-trained model: 0.323\n",
    "- tuned model: 0.280  \n",
    "#### Both pre-trained model and tuned model have not seen the queries in the test set. This result shows that tuned model over-fit the training queries."
   ]
  },
  {
   "cell_type": "code",
   "execution_count": 51,
   "id": "5db1f5fe",
   "metadata": {
    "colab": {
     "base_uri": "https://localhost:8080/"
    },
    "executionInfo": {
     "elapsed": 71538,
     "status": "ok",
     "timestamp": 1712091002284,
     "user": {
      "displayName": "Hao Xing",
      "userId": "09879780144362031268"
     },
     "user_tz": 240
    },
    "id": "5db1f5fe",
    "outputId": "043d66d1-b147-4989-decd-b8954c2a0575"
   },
   "outputs": [
    {
     "data": {
      "text/plain": [
       "0.332091416813639"
      ]
     },
     "execution_count": 51,
     "metadata": {},
     "output_type": "execute_result"
    }
   ],
   "source": [
    "#applying the function to obtain top product IDs and adding top K product IDs to the dataframe\n",
    "query_df['top_product_ids'] = query_df['query'].apply(semantic_search_get_top_product_ids_for_query)\n",
    "\n",
    "#adding the list of exact match product_IDs from labels_df\n",
    "query_df['relevant_ids'] = query_df['query_id'].apply(get_exact_matches_for_query)\n",
    "\n",
    "#now assign the map@k score\n",
    "query_df['map@k'] = query_df.apply(lambda x: map_at_k(x['relevant_ids'], x['top_product_ids'], k=10), axis=1)\n",
    "\n",
    "# calculate the MAP across the entire query set\n",
    "# this corresponds to the case where trained queries are submitted by other customers again\n",
    "query_df.loc[:, 'map@k'].mean()"
   ]
  },
  {
   "cell_type": "markdown",
   "id": "c90c5c29",
   "metadata": {
    "id": "c90c5c29"
   },
   "source": [
    "#### map@k for the entire query set\n",
    "\n",
    "- pre-trained model: 0.351\n",
    "- tuned model: 0.379\n",
    "\n",
    "#### tuned model performance is improved, because in sample performance is improved by tuning the model"
   ]
  },
  {
   "cell_type": "code",
   "execution_count": 52,
   "id": "ba787f8a",
   "metadata": {
    "colab": {
     "base_uri": "https://localhost:8080/"
    },
    "executionInfo": {
     "elapsed": 42792,
     "status": "ok",
     "timestamp": 1712091045073,
     "user": {
      "displayName": "Hao Xing",
      "userId": "09879780144362031268"
     },
     "user_tz": 240
    },
    "id": "ba787f8a",
    "outputId": "89ddef75-cd67-4550-a5c7-657c518e4dea"
   },
   "outputs": [
    {
     "data": {
      "text/plain": [
       "0.369487495100921"
      ]
     },
     "execution_count": 52,
     "metadata": {},
     "output_type": "execute_result"
    }
   ],
   "source": [
    "#applying the function to obtain top product IDs and adding top K product IDs to the dataframe\n",
    "train_query['top_product_ids'] = train_query['query'].apply(semantic_search_get_top_product_ids_for_query)\n",
    "\n",
    "#adding the list of exact match product_IDs from labels_df\n",
    "train_query['relevant_ids'] = train_query['query_id'].apply(get_exact_matches_for_query)\n",
    "\n",
    "#now assign the map@k score\n",
    "train_query['map@k'] = train_query.apply(lambda x: map_at_k(x['relevant_ids'], x['top_product_ids'], k=10), axis=1)\n",
    "\n",
    "# calculate the MAP for the training query set\n",
    "train_query.loc[:, 'map@k'].mean()"
   ]
  },
  {
   "cell_type": "markdown",
   "id": "ad9917b2",
   "metadata": {
    "id": "ad9917b2"
   },
   "source": [
    "#### map@k for the training query set\n",
    "\n",
    "- pre-trained model: 0.370\n",
    "- tuned model: 0.443"
   ]
  },
  {
   "cell_type": "code",
   "execution_count": 53,
   "id": "63e1806d",
   "metadata": {
    "colab": {
     "base_uri": "https://localhost:8080/"
    },
    "executionInfo": {
     "elapsed": 412,
     "status": "ok",
     "timestamp": 1712091045480,
     "user": {
      "displayName": "Hao Xing",
      "userId": "09879780144362031268"
     },
     "user_tz": 240
    },
    "id": "63e1806d",
    "outputId": "4a38571c-6b2c-441c-e50e-474ad182d2e3"
   },
   "outputs": [
    {
     "name": "stdout",
     "output_type": "stream",
     "text": [
      "Please check the length of true_ids_exact, true_ids_partial or predicted_ids\n",
      "Please check the length of true_ids_exact, true_ids_partial or predicted_ids\n",
      "0.640291826710032\n",
      "0.6617566037566125\n",
      "0.6760664551209994\n"
     ]
    }
   ],
   "source": [
    "# calculate NDCG@K\n",
    "\n",
    "test_query['relevant_ids_partial'] = test_query['query_id'].apply(get_partial_matches_for_query)\n",
    "query_df['relevant_ids_partial'] = query_df['query_id'].apply(get_partial_matches_for_query)\n",
    "train_query['relevant_ids_partial'] = train_query['query_id'].apply(get_partial_matches_for_query)\n",
    "\n",
    "test_query['ndcg@k'] = test_query.apply(lambda x: ndcg_at_k(x['relevant_ids'], x['relevant_ids_partial'], x['top_product_ids'], k=10), axis=1)\n",
    "query_df['ndcg@k'] = query_df.apply(lambda x: ndcg_at_k(x['relevant_ids'], x['relevant_ids_partial'], x['top_product_ids'], k=10), axis=1)\n",
    "train_query['ndcg@k'] = train_query.apply(lambda x: ndcg_at_k(x['relevant_ids'], x['relevant_ids_partial'], x['top_product_ids'], k=10), axis=1)\n",
    "\n",
    "print(test_query['ndcg@k'].mean())\n",
    "print(query_df['ndcg@k'].mean())\n",
    "print(train_query['ndcg@k'].mean())"
   ]
  },
  {
   "cell_type": "markdown",
   "id": "34e3f3c7",
   "metadata": {
    "id": "34e3f3c7"
   },
   "source": [
    "### NDCG@K results:\n",
    "#### Test query set\n",
    "-  pre-trained model: 0.702\n",
    "-  tuned model: 0.648\n",
    "\n",
    "#### Entire query set\n",
    "- pre-trained model: 0.715\n",
    "- tuned model: 0.704\n",
    "\n",
    "#### Training query set\n",
    "- pre-trained model: 0.724\n",
    "- tuned model: 0.736"
   ]
  },
  {
   "cell_type": "code",
   "execution_count": null,
   "id": "c71fb32f",
   "metadata": {
    "id": "c71fb32f"
   },
   "outputs": [],
   "source": []
  }
 ],
 "metadata": {
  "accelerator": "GPU",
  "colab": {
   "gpuType": "A100",
   "provenance": []
  },
  "kernelspec": {
   "display_name": "Python 3 (ipykernel)",
   "language": "python",
   "name": "python3"
  },
  "language_info": {
   "codemirror_mode": {
    "name": "ipython",
    "version": 3
   },
   "file_extension": ".py",
   "mimetype": "text/x-python",
   "name": "python",
   "nbconvert_exporter": "python",
   "pygments_lexer": "ipython3",
   "version": "3.9.16"
  },
  "widgets": {
   "application/vnd.jupyter.widget-state+json": {
    "030a8125cdde46aca33f4c0ebc8df76a": {
     "model_module": "@jupyter-widgets/controls",
     "model_module_version": "1.5.0",
     "model_name": "HBoxModel",
     "state": {
      "_dom_classes": [],
      "_model_module": "@jupyter-widgets/controls",
      "_model_module_version": "1.5.0",
      "_model_name": "HBoxModel",
      "_view_count": null,
      "_view_module": "@jupyter-widgets/controls",
      "_view_module_version": "1.5.0",
      "_view_name": "HBoxView",
      "box_style": "",
      "children": [
       "IPY_MODEL_e2b192e15703433fb6273606df90c017",
       "IPY_MODEL_6b77301453d64a6f999237b25b3a3207",
       "IPY_MODEL_4fca819b2b5341d895c6e909a48f3149"
      ],
      "layout": "IPY_MODEL_03fa3e6b9d9d46019d5d749cf33d46d3"
     }
    },
    "03fa3e6b9d9d46019d5d749cf33d46d3": {
     "model_module": "@jupyter-widgets/base",
     "model_module_version": "1.2.0",
     "model_name": "LayoutModel",
     "state": {
      "_model_module": "@jupyter-widgets/base",
      "_model_module_version": "1.2.0",
      "_model_name": "LayoutModel",
      "_view_count": null,
      "_view_module": "@jupyter-widgets/base",
      "_view_module_version": "1.2.0",
      "_view_name": "LayoutView",
      "align_content": null,
      "align_items": null,
      "align_self": null,
      "border": null,
      "bottom": null,
      "display": null,
      "flex": null,
      "flex_flow": null,
      "grid_area": null,
      "grid_auto_columns": null,
      "grid_auto_flow": null,
      "grid_auto_rows": null,
      "grid_column": null,
      "grid_gap": null,
      "grid_row": null,
      "grid_template_areas": null,
      "grid_template_columns": null,
      "grid_template_rows": null,
      "height": null,
      "justify_content": null,
      "justify_items": null,
      "left": null,
      "margin": null,
      "max_height": null,
      "max_width": null,
      "min_height": null,
      "min_width": null,
      "object_fit": null,
      "object_position": null,
      "order": null,
      "overflow": null,
      "overflow_x": null,
      "overflow_y": null,
      "padding": null,
      "right": null,
      "top": null,
      "visibility": null,
      "width": null
     }
    },
    "17a23aede0254137bccf8dee90cdd900": {
     "model_module": "@jupyter-widgets/controls",
     "model_module_version": "1.5.0",
     "model_name": "DescriptionStyleModel",
     "state": {
      "_model_module": "@jupyter-widgets/controls",
      "_model_module_version": "1.5.0",
      "_model_name": "DescriptionStyleModel",
      "_view_count": null,
      "_view_module": "@jupyter-widgets/base",
      "_view_module_version": "1.2.0",
      "_view_name": "StyleView",
      "description_width": ""
     }
    },
    "1856a8d527fb4fbcb33febf4a939f621": {
     "model_module": "@jupyter-widgets/controls",
     "model_module_version": "1.5.0",
     "model_name": "FloatProgressModel",
     "state": {
      "_dom_classes": [],
      "_model_module": "@jupyter-widgets/controls",
      "_model_module_version": "1.5.0",
      "_model_name": "FloatProgressModel",
      "_view_count": null,
      "_view_module": "@jupyter-widgets/controls",
      "_view_module_version": "1.5.0",
      "_view_name": "ProgressView",
      "bar_style": "success",
      "description": "",
      "description_tooltip": null,
      "layout": "IPY_MODEL_eebd4d98874e49b29dbfb6a616254899",
      "max": 1,
      "min": 0,
      "orientation": "horizontal",
      "style": "IPY_MODEL_a2d3d30948eb4fdb9997652e28ebfbef",
      "value": 1
     }
    },
    "2976a2a85b9b4ea4aa35d7dd388894a0": {
     "model_module": "@jupyter-widgets/controls",
     "model_module_version": "1.5.0",
     "model_name": "HTMLModel",
     "state": {
      "_dom_classes": [],
      "_model_module": "@jupyter-widgets/controls",
      "_model_module_version": "1.5.0",
      "_model_name": "HTMLModel",
      "_view_count": null,
      "_view_module": "@jupyter-widgets/controls",
      "_view_module_version": "1.5.0",
      "_view_name": "HTMLView",
      "description": "",
      "description_tooltip": null,
      "layout": "IPY_MODEL_e932f50fed9e435daad645fbdbedb35b",
      "placeholder": "​",
      "style": "IPY_MODEL_d43cbbb79ed8416aa00872d3de4ce3d5",
      "value": "Epoch: 100%"
     }
    },
    "2a2c76defa5042788e2313b255735620": {
     "model_module": "@jupyter-widgets/controls",
     "model_module_version": "1.5.0",
     "model_name": "FloatProgressModel",
     "state": {
      "_dom_classes": [],
      "_model_module": "@jupyter-widgets/controls",
      "_model_module_version": "1.5.0",
      "_model_name": "FloatProgressModel",
      "_view_count": null,
      "_view_module": "@jupyter-widgets/controls",
      "_view_module_version": "1.5.0",
      "_view_name": "ProgressView",
      "bar_style": "success",
      "description": "",
      "description_tooltip": null,
      "layout": "IPY_MODEL_b0dc1e7ec5dd4262bb8fb4c479f9f37d",
      "max": 1344,
      "min": 0,
      "orientation": "horizontal",
      "style": "IPY_MODEL_93042671cc134c97aa8fd55cde7816ce",
      "value": 1344
     }
    },
    "2fa10c2d81c74cd1bea1063d38ec0ad7": {
     "model_module": "@jupyter-widgets/base",
     "model_module_version": "1.2.0",
     "model_name": "LayoutModel",
     "state": {
      "_model_module": "@jupyter-widgets/base",
      "_model_module_version": "1.2.0",
      "_model_name": "LayoutModel",
      "_view_count": null,
      "_view_module": "@jupyter-widgets/base",
      "_view_module_version": "1.2.0",
      "_view_name": "LayoutView",
      "align_content": null,
      "align_items": null,
      "align_self": null,
      "border": null,
      "bottom": null,
      "display": null,
      "flex": null,
      "flex_flow": null,
      "grid_area": null,
      "grid_auto_columns": null,
      "grid_auto_flow": null,
      "grid_auto_rows": null,
      "grid_column": null,
      "grid_gap": null,
      "grid_row": null,
      "grid_template_areas": null,
      "grid_template_columns": null,
      "grid_template_rows": null,
      "height": null,
      "justify_content": null,
      "justify_items": null,
      "left": null,
      "margin": null,
      "max_height": null,
      "max_width": null,
      "min_height": null,
      "min_width": null,
      "object_fit": null,
      "object_position": null,
      "order": null,
      "overflow": null,
      "overflow_x": null,
      "overflow_y": null,
      "padding": null,
      "right": null,
      "top": null,
      "visibility": null,
      "width": null
     }
    },
    "32e345f4899248ed857d8142e6a14ae7": {
     "model_module": "@jupyter-widgets/base",
     "model_module_version": "1.2.0",
     "model_name": "LayoutModel",
     "state": {
      "_model_module": "@jupyter-widgets/base",
      "_model_module_version": "1.2.0",
      "_model_name": "LayoutModel",
      "_view_count": null,
      "_view_module": "@jupyter-widgets/base",
      "_view_module_version": "1.2.0",
      "_view_name": "LayoutView",
      "align_content": null,
      "align_items": null,
      "align_self": null,
      "border": null,
      "bottom": null,
      "display": null,
      "flex": null,
      "flex_flow": null,
      "grid_area": null,
      "grid_auto_columns": null,
      "grid_auto_flow": null,
      "grid_auto_rows": null,
      "grid_column": null,
      "grid_gap": null,
      "grid_row": null,
      "grid_template_areas": null,
      "grid_template_columns": null,
      "grid_template_rows": null,
      "height": null,
      "justify_content": null,
      "justify_items": null,
      "left": null,
      "margin": null,
      "max_height": null,
      "max_width": null,
      "min_height": null,
      "min_width": null,
      "object_fit": null,
      "object_position": null,
      "order": null,
      "overflow": null,
      "overflow_x": null,
      "overflow_y": null,
      "padding": null,
      "right": null,
      "top": null,
      "visibility": null,
      "width": null
     }
    },
    "3a889ce898d24dad8d34d690c0e87fe1": {
     "model_module": "@jupyter-widgets/controls",
     "model_module_version": "1.5.0",
     "model_name": "HTMLModel",
     "state": {
      "_dom_classes": [],
      "_model_module": "@jupyter-widgets/controls",
      "_model_module_version": "1.5.0",
      "_model_name": "HTMLModel",
      "_view_count": null,
      "_view_module": "@jupyter-widgets/controls",
      "_view_module_version": "1.5.0",
      "_view_name": "HTMLView",
      "description": "",
      "description_tooltip": null,
      "layout": "IPY_MODEL_82957f9ba5cc492399f1973f3b8efd94",
      "placeholder": "​",
      "style": "IPY_MODEL_17a23aede0254137bccf8dee90cdd900",
      "value": " 1/1 [06:14&lt;00:00, 374.53s/it]"
     }
    },
    "49982d2440b5433898f1d20b0d54b75e": {
     "model_module": "@jupyter-widgets/controls",
     "model_module_version": "1.5.0",
     "model_name": "DescriptionStyleModel",
     "state": {
      "_model_module": "@jupyter-widgets/controls",
      "_model_module_version": "1.5.0",
      "_model_name": "DescriptionStyleModel",
      "_view_count": null,
      "_view_module": "@jupyter-widgets/base",
      "_view_module_version": "1.2.0",
      "_view_name": "StyleView",
      "description_width": ""
     }
    },
    "4af29f2a5d4948deb8b3b8a57fef827d": {
     "model_module": "@jupyter-widgets/controls",
     "model_module_version": "1.5.0",
     "model_name": "DescriptionStyleModel",
     "state": {
      "_model_module": "@jupyter-widgets/controls",
      "_model_module_version": "1.5.0",
      "_model_name": "DescriptionStyleModel",
      "_view_count": null,
      "_view_module": "@jupyter-widgets/base",
      "_view_module_version": "1.2.0",
      "_view_name": "StyleView",
      "description_width": ""
     }
    },
    "4fca819b2b5341d895c6e909a48f3149": {
     "model_module": "@jupyter-widgets/controls",
     "model_module_version": "1.5.0",
     "model_name": "HTMLModel",
     "state": {
      "_dom_classes": [],
      "_model_module": "@jupyter-widgets/controls",
      "_model_module_version": "1.5.0",
      "_model_name": "HTMLModel",
      "_view_count": null,
      "_view_module": "@jupyter-widgets/controls",
      "_view_module_version": "1.5.0",
      "_view_name": "HTMLView",
      "description": "",
      "description_tooltip": null,
      "layout": "IPY_MODEL_32e345f4899248ed857d8142e6a14ae7",
      "placeholder": "​",
      "style": "IPY_MODEL_fe15a001a2964e2784feebbe31e6ad25",
      "value": " 1344/1344 [00:17&lt;00:00, 142.63it/s]"
     }
    },
    "56eab682e5ed41f485344c3665bb42b0": {
     "model_module": "@jupyter-widgets/controls",
     "model_module_version": "1.5.0",
     "model_name": "DescriptionStyleModel",
     "state": {
      "_model_module": "@jupyter-widgets/controls",
      "_model_module_version": "1.5.0",
      "_model_name": "DescriptionStyleModel",
      "_view_count": null,
      "_view_module": "@jupyter-widgets/base",
      "_view_module_version": "1.2.0",
      "_view_name": "StyleView",
      "description_width": ""
     }
    },
    "5876fdf0e87b4bfe8fdaee5c905b0df5": {
     "model_module": "@jupyter-widgets/base",
     "model_module_version": "1.2.0",
     "model_name": "LayoutModel",
     "state": {
      "_model_module": "@jupyter-widgets/base",
      "_model_module_version": "1.2.0",
      "_model_name": "LayoutModel",
      "_view_count": null,
      "_view_module": "@jupyter-widgets/base",
      "_view_module_version": "1.2.0",
      "_view_name": "LayoutView",
      "align_content": null,
      "align_items": null,
      "align_self": null,
      "border": null,
      "bottom": null,
      "display": null,
      "flex": null,
      "flex_flow": null,
      "grid_area": null,
      "grid_auto_columns": null,
      "grid_auto_flow": null,
      "grid_auto_rows": null,
      "grid_column": null,
      "grid_gap": null,
      "grid_row": null,
      "grid_template_areas": null,
      "grid_template_columns": null,
      "grid_template_rows": null,
      "height": null,
      "justify_content": null,
      "justify_items": null,
      "left": null,
      "margin": null,
      "max_height": null,
      "max_width": null,
      "min_height": null,
      "min_width": null,
      "object_fit": null,
      "object_position": null,
      "order": null,
      "overflow": null,
      "overflow_x": null,
      "overflow_y": null,
      "padding": null,
      "right": null,
      "top": null,
      "visibility": null,
      "width": null
     }
    },
    "5b14e1473edb42ba9b1d9a5ffead3b8d": {
     "model_module": "@jupyter-widgets/controls",
     "model_module_version": "1.5.0",
     "model_name": "HTMLModel",
     "state": {
      "_dom_classes": [],
      "_model_module": "@jupyter-widgets/controls",
      "_model_module_version": "1.5.0",
      "_model_name": "HTMLModel",
      "_view_count": null,
      "_view_module": "@jupyter-widgets/controls",
      "_view_module_version": "1.5.0",
      "_view_name": "HTMLView",
      "description": "",
      "description_tooltip": null,
      "layout": "IPY_MODEL_fc74157f17e24c4fb28224e93c9694a9",
      "placeholder": "​",
      "style": "IPY_MODEL_4af29f2a5d4948deb8b3b8a57fef827d",
      "value": "Batches: 100%"
     }
    },
    "6015912e9b524e91831cbb2bcc2d628a": {
     "model_module": "@jupyter-widgets/base",
     "model_module_version": "1.2.0",
     "model_name": "LayoutModel",
     "state": {
      "_model_module": "@jupyter-widgets/base",
      "_model_module_version": "1.2.0",
      "_model_name": "LayoutModel",
      "_view_count": null,
      "_view_module": "@jupyter-widgets/base",
      "_view_module_version": "1.2.0",
      "_view_name": "LayoutView",
      "align_content": null,
      "align_items": null,
      "align_self": null,
      "border": null,
      "bottom": null,
      "display": null,
      "flex": null,
      "flex_flow": null,
      "grid_area": null,
      "grid_auto_columns": null,
      "grid_auto_flow": null,
      "grid_auto_rows": null,
      "grid_column": null,
      "grid_gap": null,
      "grid_row": null,
      "grid_template_areas": null,
      "grid_template_columns": null,
      "grid_template_rows": null,
      "height": null,
      "justify_content": null,
      "justify_items": null,
      "left": null,
      "margin": null,
      "max_height": null,
      "max_width": null,
      "min_height": null,
      "min_width": null,
      "object_fit": null,
      "object_position": null,
      "order": null,
      "overflow": null,
      "overflow_x": null,
      "overflow_y": null,
      "padding": null,
      "right": null,
      "top": null,
      "visibility": null,
      "width": null
     }
    },
    "61dcc91687134cae8fff7ae77f899961": {
     "model_module": "@jupyter-widgets/controls",
     "model_module_version": "1.5.0",
     "model_name": "HTMLModel",
     "state": {
      "_dom_classes": [],
      "_model_module": "@jupyter-widgets/controls",
      "_model_module_version": "1.5.0",
      "_model_name": "HTMLModel",
      "_view_count": null,
      "_view_module": "@jupyter-widgets/controls",
      "_view_module_version": "1.5.0",
      "_view_name": "HTMLView",
      "description": "",
      "description_tooltip": null,
      "layout": "IPY_MODEL_8dd785d22b6a4f619d33ec5bdc5b8471",
      "placeholder": "​",
      "style": "IPY_MODEL_56eab682e5ed41f485344c3665bb42b0",
      "value": " 1344/1344 [00:09&lt;00:00, 147.61it/s]"
     }
    },
    "61eecdc7e0c5487f9b336f4858deea25": {
     "model_module": "@jupyter-widgets/base",
     "model_module_version": "1.2.0",
     "model_name": "LayoutModel",
     "state": {
      "_model_module": "@jupyter-widgets/base",
      "_model_module_version": "1.2.0",
      "_model_name": "LayoutModel",
      "_view_count": null,
      "_view_module": "@jupyter-widgets/base",
      "_view_module_version": "1.2.0",
      "_view_name": "LayoutView",
      "align_content": null,
      "align_items": null,
      "align_self": null,
      "border": null,
      "bottom": null,
      "display": null,
      "flex": null,
      "flex_flow": null,
      "grid_area": null,
      "grid_auto_columns": null,
      "grid_auto_flow": null,
      "grid_auto_rows": null,
      "grid_column": null,
      "grid_gap": null,
      "grid_row": null,
      "grid_template_areas": null,
      "grid_template_columns": null,
      "grid_template_rows": null,
      "height": null,
      "justify_content": null,
      "justify_items": null,
      "left": null,
      "margin": null,
      "max_height": null,
      "max_width": null,
      "min_height": null,
      "min_width": null,
      "object_fit": null,
      "object_position": null,
      "order": null,
      "overflow": null,
      "overflow_x": null,
      "overflow_y": null,
      "padding": null,
      "right": null,
      "top": null,
      "visibility": null,
      "width": null
     }
    },
    "6b77301453d64a6f999237b25b3a3207": {
     "model_module": "@jupyter-widgets/controls",
     "model_module_version": "1.5.0",
     "model_name": "FloatProgressModel",
     "state": {
      "_dom_classes": [],
      "_model_module": "@jupyter-widgets/controls",
      "_model_module_version": "1.5.0",
      "_model_name": "FloatProgressModel",
      "_view_count": null,
      "_view_module": "@jupyter-widgets/controls",
      "_view_module_version": "1.5.0",
      "_view_name": "ProgressView",
      "bar_style": "success",
      "description": "",
      "description_tooltip": null,
      "layout": "IPY_MODEL_61eecdc7e0c5487f9b336f4858deea25",
      "max": 1344,
      "min": 0,
      "orientation": "horizontal",
      "style": "IPY_MODEL_b5bb78be4dc847ae9d2867b6c982ef77",
      "value": 1344
     }
    },
    "6d2afdcfd76d4a5a8749382791e07798": {
     "model_module": "@jupyter-widgets/controls",
     "model_module_version": "1.5.0",
     "model_name": "HBoxModel",
     "state": {
      "_dom_classes": [],
      "_model_module": "@jupyter-widgets/controls",
      "_model_module_version": "1.5.0",
      "_model_name": "HBoxModel",
      "_view_count": null,
      "_view_module": "@jupyter-widgets/controls",
      "_view_module_version": "1.5.0",
      "_view_name": "HBoxView",
      "box_style": "",
      "children": [
       "IPY_MODEL_5b14e1473edb42ba9b1d9a5ffead3b8d",
       "IPY_MODEL_2a2c76defa5042788e2313b255735620",
       "IPY_MODEL_61dcc91687134cae8fff7ae77f899961"
      ],
      "layout": "IPY_MODEL_5876fdf0e87b4bfe8fdaee5c905b0df5"
     }
    },
    "821856cbb8a349af85f56cd5a332864f": {
     "model_module": "@jupyter-widgets/base",
     "model_module_version": "1.2.0",
     "model_name": "LayoutModel",
     "state": {
      "_model_module": "@jupyter-widgets/base",
      "_model_module_version": "1.2.0",
      "_model_name": "LayoutModel",
      "_view_count": null,
      "_view_module": "@jupyter-widgets/base",
      "_view_module_version": "1.2.0",
      "_view_name": "LayoutView",
      "align_content": null,
      "align_items": null,
      "align_self": null,
      "border": null,
      "bottom": null,
      "display": null,
      "flex": null,
      "flex_flow": null,
      "grid_area": null,
      "grid_auto_columns": null,
      "grid_auto_flow": null,
      "grid_auto_rows": null,
      "grid_column": null,
      "grid_gap": null,
      "grid_row": null,
      "grid_template_areas": null,
      "grid_template_columns": null,
      "grid_template_rows": null,
      "height": null,
      "justify_content": null,
      "justify_items": null,
      "left": null,
      "margin": null,
      "max_height": null,
      "max_width": null,
      "min_height": null,
      "min_width": null,
      "object_fit": null,
      "object_position": null,
      "order": null,
      "overflow": null,
      "overflow_x": null,
      "overflow_y": null,
      "padding": null,
      "right": null,
      "top": null,
      "visibility": null,
      "width": null
     }
    },
    "82957f9ba5cc492399f1973f3b8efd94": {
     "model_module": "@jupyter-widgets/base",
     "model_module_version": "1.2.0",
     "model_name": "LayoutModel",
     "state": {
      "_model_module": "@jupyter-widgets/base",
      "_model_module_version": "1.2.0",
      "_model_name": "LayoutModel",
      "_view_count": null,
      "_view_module": "@jupyter-widgets/base",
      "_view_module_version": "1.2.0",
      "_view_name": "LayoutView",
      "align_content": null,
      "align_items": null,
      "align_self": null,
      "border": null,
      "bottom": null,
      "display": null,
      "flex": null,
      "flex_flow": null,
      "grid_area": null,
      "grid_auto_columns": null,
      "grid_auto_flow": null,
      "grid_auto_rows": null,
      "grid_column": null,
      "grid_gap": null,
      "grid_row": null,
      "grid_template_areas": null,
      "grid_template_columns": null,
      "grid_template_rows": null,
      "height": null,
      "justify_content": null,
      "justify_items": null,
      "left": null,
      "margin": null,
      "max_height": null,
      "max_width": null,
      "min_height": null,
      "min_width": null,
      "object_fit": null,
      "object_position": null,
      "order": null,
      "overflow": null,
      "overflow_x": null,
      "overflow_y": null,
      "padding": null,
      "right": null,
      "top": null,
      "visibility": null,
      "width": null
     }
    },
    "835349143156455f8c76dcc171dab300": {
     "model_module": "@jupyter-widgets/controls",
     "model_module_version": "1.5.0",
     "model_name": "DescriptionStyleModel",
     "state": {
      "_model_module": "@jupyter-widgets/controls",
      "_model_module_version": "1.5.0",
      "_model_name": "DescriptionStyleModel",
      "_view_count": null,
      "_view_module": "@jupyter-widgets/base",
      "_view_module_version": "1.2.0",
      "_view_name": "StyleView",
      "description_width": ""
     }
    },
    "8a489e0260d348fa9ed7e72bc2dc577f": {
     "model_module": "@jupyter-widgets/base",
     "model_module_version": "1.2.0",
     "model_name": "LayoutModel",
     "state": {
      "_model_module": "@jupyter-widgets/base",
      "_model_module_version": "1.2.0",
      "_model_name": "LayoutModel",
      "_view_count": null,
      "_view_module": "@jupyter-widgets/base",
      "_view_module_version": "1.2.0",
      "_view_name": "LayoutView",
      "align_content": null,
      "align_items": null,
      "align_self": null,
      "border": null,
      "bottom": null,
      "display": null,
      "flex": null,
      "flex_flow": null,
      "grid_area": null,
      "grid_auto_columns": null,
      "grid_auto_flow": null,
      "grid_auto_rows": null,
      "grid_column": null,
      "grid_gap": null,
      "grid_row": null,
      "grid_template_areas": null,
      "grid_template_columns": null,
      "grid_template_rows": null,
      "height": null,
      "justify_content": null,
      "justify_items": null,
      "left": null,
      "margin": null,
      "max_height": null,
      "max_width": null,
      "min_height": null,
      "min_width": null,
      "object_fit": null,
      "object_position": null,
      "order": null,
      "overflow": null,
      "overflow_x": null,
      "overflow_y": null,
      "padding": null,
      "right": null,
      "top": null,
      "visibility": null,
      "width": null
     }
    },
    "8d938572895d475698f63fa63a6491bb": {
     "model_module": "@jupyter-widgets/controls",
     "model_module_version": "1.5.0",
     "model_name": "ProgressStyleModel",
     "state": {
      "_model_module": "@jupyter-widgets/controls",
      "_model_module_version": "1.5.0",
      "_model_name": "ProgressStyleModel",
      "_view_count": null,
      "_view_module": "@jupyter-widgets/base",
      "_view_module_version": "1.2.0",
      "_view_name": "StyleView",
      "bar_color": null,
      "description_width": ""
     }
    },
    "8dd785d22b6a4f619d33ec5bdc5b8471": {
     "model_module": "@jupyter-widgets/base",
     "model_module_version": "1.2.0",
     "model_name": "LayoutModel",
     "state": {
      "_model_module": "@jupyter-widgets/base",
      "_model_module_version": "1.2.0",
      "_model_name": "LayoutModel",
      "_view_count": null,
      "_view_module": "@jupyter-widgets/base",
      "_view_module_version": "1.2.0",
      "_view_name": "LayoutView",
      "align_content": null,
      "align_items": null,
      "align_self": null,
      "border": null,
      "bottom": null,
      "display": null,
      "flex": null,
      "flex_flow": null,
      "grid_area": null,
      "grid_auto_columns": null,
      "grid_auto_flow": null,
      "grid_auto_rows": null,
      "grid_column": null,
      "grid_gap": null,
      "grid_row": null,
      "grid_template_areas": null,
      "grid_template_columns": null,
      "grid_template_rows": null,
      "height": null,
      "justify_content": null,
      "justify_items": null,
      "left": null,
      "margin": null,
      "max_height": null,
      "max_width": null,
      "min_height": null,
      "min_width": null,
      "object_fit": null,
      "object_position": null,
      "order": null,
      "overflow": null,
      "overflow_x": null,
      "overflow_y": null,
      "padding": null,
      "right": null,
      "top": null,
      "visibility": null,
      "width": null
     }
    },
    "93042671cc134c97aa8fd55cde7816ce": {
     "model_module": "@jupyter-widgets/controls",
     "model_module_version": "1.5.0",
     "model_name": "ProgressStyleModel",
     "state": {
      "_model_module": "@jupyter-widgets/controls",
      "_model_module_version": "1.5.0",
      "_model_name": "ProgressStyleModel",
      "_view_count": null,
      "_view_module": "@jupyter-widgets/base",
      "_view_module_version": "1.2.0",
      "_view_name": "StyleView",
      "bar_color": null,
      "description_width": ""
     }
    },
    "9eb7762cf9b74e8495f47fcf665f1baf": {
     "model_module": "@jupyter-widgets/controls",
     "model_module_version": "1.5.0",
     "model_name": "HBoxModel",
     "state": {
      "_dom_classes": [],
      "_model_module": "@jupyter-widgets/controls",
      "_model_module_version": "1.5.0",
      "_model_name": "HBoxModel",
      "_view_count": null,
      "_view_module": "@jupyter-widgets/controls",
      "_view_module_version": "1.5.0",
      "_view_name": "HBoxView",
      "box_style": "",
      "children": [
       "IPY_MODEL_f8e8f871642d404cb3439797b60bcd67",
       "IPY_MODEL_cb4e823af6a94c258ab4727f3d15ddfa",
       "IPY_MODEL_f675dc0e08b445639782fb1cf603290f"
      ],
      "layout": "IPY_MODEL_8a489e0260d348fa9ed7e72bc2dc577f"
     }
    },
    "a2d3d30948eb4fdb9997652e28ebfbef": {
     "model_module": "@jupyter-widgets/controls",
     "model_module_version": "1.5.0",
     "model_name": "ProgressStyleModel",
     "state": {
      "_model_module": "@jupyter-widgets/controls",
      "_model_module_version": "1.5.0",
      "_model_name": "ProgressStyleModel",
      "_view_count": null,
      "_view_module": "@jupyter-widgets/base",
      "_view_module_version": "1.2.0",
      "_view_name": "StyleView",
      "bar_color": null,
      "description_width": ""
     }
    },
    "b0dc1e7ec5dd4262bb8fb4c479f9f37d": {
     "model_module": "@jupyter-widgets/base",
     "model_module_version": "1.2.0",
     "model_name": "LayoutModel",
     "state": {
      "_model_module": "@jupyter-widgets/base",
      "_model_module_version": "1.2.0",
      "_model_name": "LayoutModel",
      "_view_count": null,
      "_view_module": "@jupyter-widgets/base",
      "_view_module_version": "1.2.0",
      "_view_name": "LayoutView",
      "align_content": null,
      "align_items": null,
      "align_self": null,
      "border": null,
      "bottom": null,
      "display": null,
      "flex": null,
      "flex_flow": null,
      "grid_area": null,
      "grid_auto_columns": null,
      "grid_auto_flow": null,
      "grid_auto_rows": null,
      "grid_column": null,
      "grid_gap": null,
      "grid_row": null,
      "grid_template_areas": null,
      "grid_template_columns": null,
      "grid_template_rows": null,
      "height": null,
      "justify_content": null,
      "justify_items": null,
      "left": null,
      "margin": null,
      "max_height": null,
      "max_width": null,
      "min_height": null,
      "min_width": null,
      "object_fit": null,
      "object_position": null,
      "order": null,
      "overflow": null,
      "overflow_x": null,
      "overflow_y": null,
      "padding": null,
      "right": null,
      "top": null,
      "visibility": null,
      "width": null
     }
    },
    "b5bb78be4dc847ae9d2867b6c982ef77": {
     "model_module": "@jupyter-widgets/controls",
     "model_module_version": "1.5.0",
     "model_name": "ProgressStyleModel",
     "state": {
      "_model_module": "@jupyter-widgets/controls",
      "_model_module_version": "1.5.0",
      "_model_name": "ProgressStyleModel",
      "_view_count": null,
      "_view_module": "@jupyter-widgets/base",
      "_view_module_version": "1.2.0",
      "_view_name": "StyleView",
      "bar_color": null,
      "description_width": ""
     }
    },
    "b5c189afd2ac4b22a57e541db28a8194": {
     "model_module": "@jupyter-widgets/base",
     "model_module_version": "1.2.0",
     "model_name": "LayoutModel",
     "state": {
      "_model_module": "@jupyter-widgets/base",
      "_model_module_version": "1.2.0",
      "_model_name": "LayoutModel",
      "_view_count": null,
      "_view_module": "@jupyter-widgets/base",
      "_view_module_version": "1.2.0",
      "_view_name": "LayoutView",
      "align_content": null,
      "align_items": null,
      "align_self": null,
      "border": null,
      "bottom": null,
      "display": null,
      "flex": null,
      "flex_flow": null,
      "grid_area": null,
      "grid_auto_columns": null,
      "grid_auto_flow": null,
      "grid_auto_rows": null,
      "grid_column": null,
      "grid_gap": null,
      "grid_row": null,
      "grid_template_areas": null,
      "grid_template_columns": null,
      "grid_template_rows": null,
      "height": null,
      "justify_content": null,
      "justify_items": null,
      "left": null,
      "margin": null,
      "max_height": null,
      "max_width": null,
      "min_height": null,
      "min_width": null,
      "object_fit": null,
      "object_position": null,
      "order": null,
      "overflow": null,
      "overflow_x": null,
      "overflow_y": null,
      "padding": null,
      "right": null,
      "top": null,
      "visibility": null,
      "width": null
     }
    },
    "bd2ccd86d091475fb27ae040b8a065e2": {
     "model_module": "@jupyter-widgets/base",
     "model_module_version": "1.2.0",
     "model_name": "LayoutModel",
     "state": {
      "_model_module": "@jupyter-widgets/base",
      "_model_module_version": "1.2.0",
      "_model_name": "LayoutModel",
      "_view_count": null,
      "_view_module": "@jupyter-widgets/base",
      "_view_module_version": "1.2.0",
      "_view_name": "LayoutView",
      "align_content": null,
      "align_items": null,
      "align_self": null,
      "border": null,
      "bottom": null,
      "display": null,
      "flex": null,
      "flex_flow": null,
      "grid_area": null,
      "grid_auto_columns": null,
      "grid_auto_flow": null,
      "grid_auto_rows": null,
      "grid_column": null,
      "grid_gap": null,
      "grid_row": null,
      "grid_template_areas": null,
      "grid_template_columns": null,
      "grid_template_rows": null,
      "height": null,
      "justify_content": null,
      "justify_items": null,
      "left": null,
      "margin": null,
      "max_height": null,
      "max_width": null,
      "min_height": null,
      "min_width": null,
      "object_fit": null,
      "object_position": null,
      "order": null,
      "overflow": null,
      "overflow_x": null,
      "overflow_y": null,
      "padding": null,
      "right": null,
      "top": null,
      "visibility": null,
      "width": null
     }
    },
    "cb4e823af6a94c258ab4727f3d15ddfa": {
     "model_module": "@jupyter-widgets/controls",
     "model_module_version": "1.5.0",
     "model_name": "FloatProgressModel",
     "state": {
      "_dom_classes": [],
      "_model_module": "@jupyter-widgets/controls",
      "_model_module_version": "1.5.0",
      "_model_name": "FloatProgressModel",
      "_view_count": null,
      "_view_module": "@jupyter-widgets/controls",
      "_view_module_version": "1.5.0",
      "_view_name": "ProgressView",
      "bar_style": "success",
      "description": "",
      "description_tooltip": null,
      "layout": "IPY_MODEL_b5c189afd2ac4b22a57e541db28a8194",
      "max": 7441,
      "min": 0,
      "orientation": "horizontal",
      "style": "IPY_MODEL_8d938572895d475698f63fa63a6491bb",
      "value": 7441
     }
    },
    "cecf976e4d88403386f5f599da71ba26": {
     "model_module": "@jupyter-widgets/controls",
     "model_module_version": "1.5.0",
     "model_name": "DescriptionStyleModel",
     "state": {
      "_model_module": "@jupyter-widgets/controls",
      "_model_module_version": "1.5.0",
      "_model_name": "DescriptionStyleModel",
      "_view_count": null,
      "_view_module": "@jupyter-widgets/base",
      "_view_module_version": "1.2.0",
      "_view_name": "StyleView",
      "description_width": ""
     }
    },
    "d43cbbb79ed8416aa00872d3de4ce3d5": {
     "model_module": "@jupyter-widgets/controls",
     "model_module_version": "1.5.0",
     "model_name": "DescriptionStyleModel",
     "state": {
      "_model_module": "@jupyter-widgets/controls",
      "_model_module_version": "1.5.0",
      "_model_name": "DescriptionStyleModel",
      "_view_count": null,
      "_view_module": "@jupyter-widgets/base",
      "_view_module_version": "1.2.0",
      "_view_name": "StyleView",
      "description_width": ""
     }
    },
    "d60f7e832149433eb91530f0a180f2cf": {
     "model_module": "@jupyter-widgets/controls",
     "model_module_version": "1.5.0",
     "model_name": "HBoxModel",
     "state": {
      "_dom_classes": [],
      "_model_module": "@jupyter-widgets/controls",
      "_model_module_version": "1.5.0",
      "_model_name": "HBoxModel",
      "_view_count": null,
      "_view_module": "@jupyter-widgets/controls",
      "_view_module_version": "1.5.0",
      "_view_name": "HBoxView",
      "box_style": "",
      "children": [
       "IPY_MODEL_2976a2a85b9b4ea4aa35d7dd388894a0",
       "IPY_MODEL_1856a8d527fb4fbcb33febf4a939f621",
       "IPY_MODEL_3a889ce898d24dad8d34d690c0e87fe1"
      ],
      "layout": "IPY_MODEL_bd2ccd86d091475fb27ae040b8a065e2"
     }
    },
    "e2b192e15703433fb6273606df90c017": {
     "model_module": "@jupyter-widgets/controls",
     "model_module_version": "1.5.0",
     "model_name": "HTMLModel",
     "state": {
      "_dom_classes": [],
      "_model_module": "@jupyter-widgets/controls",
      "_model_module_version": "1.5.0",
      "_model_name": "HTMLModel",
      "_view_count": null,
      "_view_module": "@jupyter-widgets/controls",
      "_view_module_version": "1.5.0",
      "_view_name": "HTMLView",
      "description": "",
      "description_tooltip": null,
      "layout": "IPY_MODEL_6015912e9b524e91831cbb2bcc2d628a",
      "placeholder": "​",
      "style": "IPY_MODEL_49982d2440b5433898f1d20b0d54b75e",
      "value": "Batches: 100%"
     }
    },
    "e932f50fed9e435daad645fbdbedb35b": {
     "model_module": "@jupyter-widgets/base",
     "model_module_version": "1.2.0",
     "model_name": "LayoutModel",
     "state": {
      "_model_module": "@jupyter-widgets/base",
      "_model_module_version": "1.2.0",
      "_model_name": "LayoutModel",
      "_view_count": null,
      "_view_module": "@jupyter-widgets/base",
      "_view_module_version": "1.2.0",
      "_view_name": "LayoutView",
      "align_content": null,
      "align_items": null,
      "align_self": null,
      "border": null,
      "bottom": null,
      "display": null,
      "flex": null,
      "flex_flow": null,
      "grid_area": null,
      "grid_auto_columns": null,
      "grid_auto_flow": null,
      "grid_auto_rows": null,
      "grid_column": null,
      "grid_gap": null,
      "grid_row": null,
      "grid_template_areas": null,
      "grid_template_columns": null,
      "grid_template_rows": null,
      "height": null,
      "justify_content": null,
      "justify_items": null,
      "left": null,
      "margin": null,
      "max_height": null,
      "max_width": null,
      "min_height": null,
      "min_width": null,
      "object_fit": null,
      "object_position": null,
      "order": null,
      "overflow": null,
      "overflow_x": null,
      "overflow_y": null,
      "padding": null,
      "right": null,
      "top": null,
      "visibility": null,
      "width": null
     }
    },
    "eebd4d98874e49b29dbfb6a616254899": {
     "model_module": "@jupyter-widgets/base",
     "model_module_version": "1.2.0",
     "model_name": "LayoutModel",
     "state": {
      "_model_module": "@jupyter-widgets/base",
      "_model_module_version": "1.2.0",
      "_model_name": "LayoutModel",
      "_view_count": null,
      "_view_module": "@jupyter-widgets/base",
      "_view_module_version": "1.2.0",
      "_view_name": "LayoutView",
      "align_content": null,
      "align_items": null,
      "align_self": null,
      "border": null,
      "bottom": null,
      "display": null,
      "flex": null,
      "flex_flow": null,
      "grid_area": null,
      "grid_auto_columns": null,
      "grid_auto_flow": null,
      "grid_auto_rows": null,
      "grid_column": null,
      "grid_gap": null,
      "grid_row": null,
      "grid_template_areas": null,
      "grid_template_columns": null,
      "grid_template_rows": null,
      "height": null,
      "justify_content": null,
      "justify_items": null,
      "left": null,
      "margin": null,
      "max_height": null,
      "max_width": null,
      "min_height": null,
      "min_width": null,
      "object_fit": null,
      "object_position": null,
      "order": null,
      "overflow": null,
      "overflow_x": null,
      "overflow_y": null,
      "padding": null,
      "right": null,
      "top": null,
      "visibility": null,
      "width": null
     }
    },
    "f675dc0e08b445639782fb1cf603290f": {
     "model_module": "@jupyter-widgets/controls",
     "model_module_version": "1.5.0",
     "model_name": "HTMLModel",
     "state": {
      "_dom_classes": [],
      "_model_module": "@jupyter-widgets/controls",
      "_model_module_version": "1.5.0",
      "_model_name": "HTMLModel",
      "_view_count": null,
      "_view_module": "@jupyter-widgets/controls",
      "_view_module_version": "1.5.0",
      "_view_name": "HTMLView",
      "description": "",
      "description_tooltip": null,
      "layout": "IPY_MODEL_2fa10c2d81c74cd1bea1063d38ec0ad7",
      "placeholder": "​",
      "style": "IPY_MODEL_835349143156455f8c76dcc171dab300",
      "value": " 7441/7441 [06:03&lt;00:00, 25.84it/s]"
     }
    },
    "f8e8f871642d404cb3439797b60bcd67": {
     "model_module": "@jupyter-widgets/controls",
     "model_module_version": "1.5.0",
     "model_name": "HTMLModel",
     "state": {
      "_dom_classes": [],
      "_model_module": "@jupyter-widgets/controls",
      "_model_module_version": "1.5.0",
      "_model_name": "HTMLModel",
      "_view_count": null,
      "_view_module": "@jupyter-widgets/controls",
      "_view_module_version": "1.5.0",
      "_view_name": "HTMLView",
      "description": "",
      "description_tooltip": null,
      "layout": "IPY_MODEL_821856cbb8a349af85f56cd5a332864f",
      "placeholder": "​",
      "style": "IPY_MODEL_cecf976e4d88403386f5f599da71ba26",
      "value": "Iteration: 100%"
     }
    },
    "fc74157f17e24c4fb28224e93c9694a9": {
     "model_module": "@jupyter-widgets/base",
     "model_module_version": "1.2.0",
     "model_name": "LayoutModel",
     "state": {
      "_model_module": "@jupyter-widgets/base",
      "_model_module_version": "1.2.0",
      "_model_name": "LayoutModel",
      "_view_count": null,
      "_view_module": "@jupyter-widgets/base",
      "_view_module_version": "1.2.0",
      "_view_name": "LayoutView",
      "align_content": null,
      "align_items": null,
      "align_self": null,
      "border": null,
      "bottom": null,
      "display": null,
      "flex": null,
      "flex_flow": null,
      "grid_area": null,
      "grid_auto_columns": null,
      "grid_auto_flow": null,
      "grid_auto_rows": null,
      "grid_column": null,
      "grid_gap": null,
      "grid_row": null,
      "grid_template_areas": null,
      "grid_template_columns": null,
      "grid_template_rows": null,
      "height": null,
      "justify_content": null,
      "justify_items": null,
      "left": null,
      "margin": null,
      "max_height": null,
      "max_width": null,
      "min_height": null,
      "min_width": null,
      "object_fit": null,
      "object_position": null,
      "order": null,
      "overflow": null,
      "overflow_x": null,
      "overflow_y": null,
      "padding": null,
      "right": null,
      "top": null,
      "visibility": null,
      "width": null
     }
    },
    "fe15a001a2964e2784feebbe31e6ad25": {
     "model_module": "@jupyter-widgets/controls",
     "model_module_version": "1.5.0",
     "model_name": "DescriptionStyleModel",
     "state": {
      "_model_module": "@jupyter-widgets/controls",
      "_model_module_version": "1.5.0",
      "_model_name": "DescriptionStyleModel",
      "_view_count": null,
      "_view_module": "@jupyter-widgets/base",
      "_view_module_version": "1.2.0",
      "_view_name": "StyleView",
      "description_width": ""
     }
    }
   }
  }
 },
 "nbformat": 4,
 "nbformat_minor": 5
}
