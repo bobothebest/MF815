{
  "cells": [
    {
      "cell_type": "markdown",
      "metadata": {
        "id": "8kVMIK-zI2hS"
      },
      "source": [
        "# Mutual Fund Style Classification from Prospectus\n",
        "## Questrom School of Business"
      ]
    },
    {
      "cell_type": "markdown",
      "source": [
        "### 目标：use the mutual fund text summaries to predict which investment strategy each fund uses"
      ],
      "metadata": {
        "id": "Vpgih4B8iHSm"
      }
    },
    {
      "cell_type": "markdown",
      "metadata": {
        "id": "QUn5aNmOOs7L"
      },
      "source": [
        "# Setup\n",
        "### 导入数据，导入包"
      ]
    },
    {
      "cell_type": "markdown",
      "metadata": {
        "id": "jCL-gd8yK1Fx"
      },
      "source": [
        "<h3>Data</h3>\n",
        "We will work on 2 Corpuses (or set of texts). All the texts or publicly available texts dealing with mutual funds. More precisely, the text has been extracted from the prospectuses of Mutual funds.\n",
        "<ul>\n",
        "  <li><u>MutualFundSummary</u><br>\n",
        "      This file contains around 500 fund summaries in text files. A summary is the part of the prospectus that summaries the objective of the fund, the principal strategy, the decomposition of the fees, the principal risks that face the fund and some other information about the management of the fund.\n",
        "  </li>\n",
        "  <li><u>MutualFundLabels.csv</u><br>\n",
        "      This table contains information about around 400 mutual funds. We will mostly focus on the \"derivative\" column that states whereas funds use derivatives or not. (the precise schema of the table is given later)\n",
        "  </li>\n",
        "</ul>\n"
      ]
    },
    {
      "cell_type": "markdown",
      "metadata": {
        "id": "WwAlFzRyOuBB"
      },
      "source": [
        "Let's first setup our environment.\n",
        "\n",
        "I recommend you add a <b>GPU</b> to the colab virtual machine. <br>\n",
        "Edit -> Notebook settings -> Hardware accelerator -> GPU -> SAVE\n"
      ]
    },
    {
      "cell_type": "code",
      "execution_count": 2,
      "metadata": {
        "colab": {
          "base_uri": "https://localhost:8080/"
        },
        "id": "s14LT54KKlDR",
        "outputId": "907eaf78-aeda-4d6f-b3cb-81da789564b8"
      },
      "outputs": [
        {
          "output_type": "stream",
          "name": "stdout",
          "text": [
            "Requirement already satisfied: tensorflow>=2.15.0 in /usr/local/lib/python3.10/dist-packages (2.15.0)\n",
            "Requirement already satisfied: absl-py>=1.0.0 in /usr/local/lib/python3.10/dist-packages (from tensorflow>=2.15.0) (1.4.0)\n",
            "Requirement already satisfied: astunparse>=1.6.0 in /usr/local/lib/python3.10/dist-packages (from tensorflow>=2.15.0) (1.6.3)\n",
            "Requirement already satisfied: flatbuffers>=23.5.26 in /usr/local/lib/python3.10/dist-packages (from tensorflow>=2.15.0) (24.3.25)\n",
            "Requirement already satisfied: gast!=0.5.0,!=0.5.1,!=0.5.2,>=0.2.1 in /usr/local/lib/python3.10/dist-packages (from tensorflow>=2.15.0) (0.5.4)\n",
            "Requirement already satisfied: google-pasta>=0.1.1 in /usr/local/lib/python3.10/dist-packages (from tensorflow>=2.15.0) (0.2.0)\n",
            "Requirement already satisfied: h5py>=2.9.0 in /usr/local/lib/python3.10/dist-packages (from tensorflow>=2.15.0) (3.9.0)\n",
            "Requirement already satisfied: libclang>=13.0.0 in /usr/local/lib/python3.10/dist-packages (from tensorflow>=2.15.0) (18.1.1)\n",
            "Requirement already satisfied: ml-dtypes~=0.2.0 in /usr/local/lib/python3.10/dist-packages (from tensorflow>=2.15.0) (0.2.0)\n",
            "Requirement already satisfied: numpy<2.0.0,>=1.23.5 in /usr/local/lib/python3.10/dist-packages (from tensorflow>=2.15.0) (1.25.2)\n",
            "Requirement already satisfied: opt-einsum>=2.3.2 in /usr/local/lib/python3.10/dist-packages (from tensorflow>=2.15.0) (3.3.0)\n",
            "Requirement already satisfied: packaging in /usr/local/lib/python3.10/dist-packages (from tensorflow>=2.15.0) (24.0)\n",
            "Requirement already satisfied: protobuf!=4.21.0,!=4.21.1,!=4.21.2,!=4.21.3,!=4.21.4,!=4.21.5,<5.0.0dev,>=3.20.3 in /usr/local/lib/python3.10/dist-packages (from tensorflow>=2.15.0) (3.20.3)\n",
            "Requirement already satisfied: setuptools in /usr/local/lib/python3.10/dist-packages (from tensorflow>=2.15.0) (67.7.2)\n",
            "Requirement already satisfied: six>=1.12.0 in /usr/local/lib/python3.10/dist-packages (from tensorflow>=2.15.0) (1.16.0)\n",
            "Requirement already satisfied: termcolor>=1.1.0 in /usr/local/lib/python3.10/dist-packages (from tensorflow>=2.15.0) (2.4.0)\n",
            "Requirement already satisfied: typing-extensions>=3.6.6 in /usr/local/lib/python3.10/dist-packages (from tensorflow>=2.15.0) (4.11.0)\n",
            "Requirement already satisfied: wrapt<1.15,>=1.11.0 in /usr/local/lib/python3.10/dist-packages (from tensorflow>=2.15.0) (1.14.1)\n",
            "Requirement already satisfied: tensorflow-io-gcs-filesystem>=0.23.1 in /usr/local/lib/python3.10/dist-packages (from tensorflow>=2.15.0) (0.36.0)\n",
            "Requirement already satisfied: grpcio<2.0,>=1.24.3 in /usr/local/lib/python3.10/dist-packages (from tensorflow>=2.15.0) (1.62.2)\n",
            "Requirement already satisfied: tensorboard<2.16,>=2.15 in /usr/local/lib/python3.10/dist-packages (from tensorflow>=2.15.0) (2.15.2)\n",
            "Requirement already satisfied: tensorflow-estimator<2.16,>=2.15.0 in /usr/local/lib/python3.10/dist-packages (from tensorflow>=2.15.0) (2.15.0)\n",
            "Requirement already satisfied: keras<2.16,>=2.15.0 in /usr/local/lib/python3.10/dist-packages (from tensorflow>=2.15.0) (2.15.0)\n",
            "Requirement already satisfied: wheel<1.0,>=0.23.0 in /usr/local/lib/python3.10/dist-packages (from astunparse>=1.6.0->tensorflow>=2.15.0) (0.43.0)\n",
            "Requirement already satisfied: google-auth<3,>=1.6.3 in /usr/local/lib/python3.10/dist-packages (from tensorboard<2.16,>=2.15->tensorflow>=2.15.0) (2.27.0)\n",
            "Requirement already satisfied: google-auth-oauthlib<2,>=0.5 in /usr/local/lib/python3.10/dist-packages (from tensorboard<2.16,>=2.15->tensorflow>=2.15.0) (1.2.0)\n",
            "Requirement already satisfied: markdown>=2.6.8 in /usr/local/lib/python3.10/dist-packages (from tensorboard<2.16,>=2.15->tensorflow>=2.15.0) (3.6)\n",
            "Requirement already satisfied: requests<3,>=2.21.0 in /usr/local/lib/python3.10/dist-packages (from tensorboard<2.16,>=2.15->tensorflow>=2.15.0) (2.31.0)\n",
            "Requirement already satisfied: tensorboard-data-server<0.8.0,>=0.7.0 in /usr/local/lib/python3.10/dist-packages (from tensorboard<2.16,>=2.15->tensorflow>=2.15.0) (0.7.2)\n",
            "Requirement already satisfied: werkzeug>=1.0.1 in /usr/local/lib/python3.10/dist-packages (from tensorboard<2.16,>=2.15->tensorflow>=2.15.0) (3.0.2)\n",
            "Requirement already satisfied: cachetools<6.0,>=2.0.0 in /usr/local/lib/python3.10/dist-packages (from google-auth<3,>=1.6.3->tensorboard<2.16,>=2.15->tensorflow>=2.15.0) (5.3.3)\n",
            "Requirement already satisfied: pyasn1-modules>=0.2.1 in /usr/local/lib/python3.10/dist-packages (from google-auth<3,>=1.6.3->tensorboard<2.16,>=2.15->tensorflow>=2.15.0) (0.4.0)\n",
            "Requirement already satisfied: rsa<5,>=3.1.4 in /usr/local/lib/python3.10/dist-packages (from google-auth<3,>=1.6.3->tensorboard<2.16,>=2.15->tensorflow>=2.15.0) (4.9)\n",
            "Requirement already satisfied: requests-oauthlib>=0.7.0 in /usr/local/lib/python3.10/dist-packages (from google-auth-oauthlib<2,>=0.5->tensorboard<2.16,>=2.15->tensorflow>=2.15.0) (1.3.1)\n",
            "Requirement already satisfied: charset-normalizer<4,>=2 in /usr/local/lib/python3.10/dist-packages (from requests<3,>=2.21.0->tensorboard<2.16,>=2.15->tensorflow>=2.15.0) (3.3.2)\n",
            "Requirement already satisfied: idna<4,>=2.5 in /usr/local/lib/python3.10/dist-packages (from requests<3,>=2.21.0->tensorboard<2.16,>=2.15->tensorflow>=2.15.0) (3.7)\n",
            "Requirement already satisfied: urllib3<3,>=1.21.1 in /usr/local/lib/python3.10/dist-packages (from requests<3,>=2.21.0->tensorboard<2.16,>=2.15->tensorflow>=2.15.0) (2.0.7)\n",
            "Requirement already satisfied: certifi>=2017.4.17 in /usr/local/lib/python3.10/dist-packages (from requests<3,>=2.21.0->tensorboard<2.16,>=2.15->tensorflow>=2.15.0) (2024.2.2)\n",
            "Requirement already satisfied: MarkupSafe>=2.1.1 in /usr/local/lib/python3.10/dist-packages (from werkzeug>=1.0.1->tensorboard<2.16,>=2.15->tensorflow>=2.15.0) (2.1.5)\n",
            "Requirement already satisfied: pyasn1<0.7.0,>=0.4.6 in /usr/local/lib/python3.10/dist-packages (from pyasn1-modules>=0.2.1->google-auth<3,>=1.6.3->tensorboard<2.16,>=2.15->tensorflow>=2.15.0) (0.6.0)\n",
            "Requirement already satisfied: oauthlib>=3.0.0 in /usr/local/lib/python3.10/dist-packages (from requests-oauthlib>=0.7.0->google-auth-oauthlib<2,>=0.5->tensorboard<2.16,>=2.15->tensorflow>=2.15.0) (3.2.2)\n",
            "Requirement already satisfied: tensorflow-hub in /usr/local/lib/python3.10/dist-packages (0.16.1)\n",
            "Requirement already satisfied: numpy>=1.12.0 in /usr/local/lib/python3.10/dist-packages (from tensorflow-hub) (1.25.2)\n",
            "Requirement already satisfied: protobuf>=3.19.6 in /usr/local/lib/python3.10/dist-packages (from tensorflow-hub) (3.20.3)\n",
            "Requirement already satisfied: tf-keras>=2.14.1 in /usr/local/lib/python3.10/dist-packages (from tensorflow-hub) (2.15.1)\n",
            "Requirement already satisfied: tensorflow<2.16,>=2.15 in /usr/local/lib/python3.10/dist-packages (from tf-keras>=2.14.1->tensorflow-hub) (2.15.0)\n",
            "Requirement already satisfied: absl-py>=1.0.0 in /usr/local/lib/python3.10/dist-packages (from tensorflow<2.16,>=2.15->tf-keras>=2.14.1->tensorflow-hub) (1.4.0)\n",
            "Requirement already satisfied: astunparse>=1.6.0 in /usr/local/lib/python3.10/dist-packages (from tensorflow<2.16,>=2.15->tf-keras>=2.14.1->tensorflow-hub) (1.6.3)\n",
            "Requirement already satisfied: flatbuffers>=23.5.26 in /usr/local/lib/python3.10/dist-packages (from tensorflow<2.16,>=2.15->tf-keras>=2.14.1->tensorflow-hub) (24.3.25)\n",
            "Requirement already satisfied: gast!=0.5.0,!=0.5.1,!=0.5.2,>=0.2.1 in /usr/local/lib/python3.10/dist-packages (from tensorflow<2.16,>=2.15->tf-keras>=2.14.1->tensorflow-hub) (0.5.4)\n",
            "Requirement already satisfied: google-pasta>=0.1.1 in /usr/local/lib/python3.10/dist-packages (from tensorflow<2.16,>=2.15->tf-keras>=2.14.1->tensorflow-hub) (0.2.0)\n",
            "Requirement already satisfied: h5py>=2.9.0 in /usr/local/lib/python3.10/dist-packages (from tensorflow<2.16,>=2.15->tf-keras>=2.14.1->tensorflow-hub) (3.9.0)\n",
            "Requirement already satisfied: libclang>=13.0.0 in /usr/local/lib/python3.10/dist-packages (from tensorflow<2.16,>=2.15->tf-keras>=2.14.1->tensorflow-hub) (18.1.1)\n",
            "Requirement already satisfied: ml-dtypes~=0.2.0 in /usr/local/lib/python3.10/dist-packages (from tensorflow<2.16,>=2.15->tf-keras>=2.14.1->tensorflow-hub) (0.2.0)\n",
            "Requirement already satisfied: opt-einsum>=2.3.2 in /usr/local/lib/python3.10/dist-packages (from tensorflow<2.16,>=2.15->tf-keras>=2.14.1->tensorflow-hub) (3.3.0)\n",
            "Requirement already satisfied: packaging in /usr/local/lib/python3.10/dist-packages (from tensorflow<2.16,>=2.15->tf-keras>=2.14.1->tensorflow-hub) (24.0)\n",
            "Requirement already satisfied: setuptools in /usr/local/lib/python3.10/dist-packages (from tensorflow<2.16,>=2.15->tf-keras>=2.14.1->tensorflow-hub) (67.7.2)\n",
            "Requirement already satisfied: six>=1.12.0 in /usr/local/lib/python3.10/dist-packages (from tensorflow<2.16,>=2.15->tf-keras>=2.14.1->tensorflow-hub) (1.16.0)\n",
            "Requirement already satisfied: termcolor>=1.1.0 in /usr/local/lib/python3.10/dist-packages (from tensorflow<2.16,>=2.15->tf-keras>=2.14.1->tensorflow-hub) (2.4.0)\n",
            "Requirement already satisfied: typing-extensions>=3.6.6 in /usr/local/lib/python3.10/dist-packages (from tensorflow<2.16,>=2.15->tf-keras>=2.14.1->tensorflow-hub) (4.11.0)\n",
            "Requirement already satisfied: wrapt<1.15,>=1.11.0 in /usr/local/lib/python3.10/dist-packages (from tensorflow<2.16,>=2.15->tf-keras>=2.14.1->tensorflow-hub) (1.14.1)\n",
            "Requirement already satisfied: tensorflow-io-gcs-filesystem>=0.23.1 in /usr/local/lib/python3.10/dist-packages (from tensorflow<2.16,>=2.15->tf-keras>=2.14.1->tensorflow-hub) (0.36.0)\n",
            "Requirement already satisfied: grpcio<2.0,>=1.24.3 in /usr/local/lib/python3.10/dist-packages (from tensorflow<2.16,>=2.15->tf-keras>=2.14.1->tensorflow-hub) (1.62.2)\n",
            "Requirement already satisfied: tensorboard<2.16,>=2.15 in /usr/local/lib/python3.10/dist-packages (from tensorflow<2.16,>=2.15->tf-keras>=2.14.1->tensorflow-hub) (2.15.2)\n",
            "Requirement already satisfied: tensorflow-estimator<2.16,>=2.15.0 in /usr/local/lib/python3.10/dist-packages (from tensorflow<2.16,>=2.15->tf-keras>=2.14.1->tensorflow-hub) (2.15.0)\n",
            "Requirement already satisfied: keras<2.16,>=2.15.0 in /usr/local/lib/python3.10/dist-packages (from tensorflow<2.16,>=2.15->tf-keras>=2.14.1->tensorflow-hub) (2.15.0)\n",
            "Requirement already satisfied: wheel<1.0,>=0.23.0 in /usr/local/lib/python3.10/dist-packages (from astunparse>=1.6.0->tensorflow<2.16,>=2.15->tf-keras>=2.14.1->tensorflow-hub) (0.43.0)\n",
            "Requirement already satisfied: google-auth<3,>=1.6.3 in /usr/local/lib/python3.10/dist-packages (from tensorboard<2.16,>=2.15->tensorflow<2.16,>=2.15->tf-keras>=2.14.1->tensorflow-hub) (2.27.0)\n",
            "Requirement already satisfied: google-auth-oauthlib<2,>=0.5 in /usr/local/lib/python3.10/dist-packages (from tensorboard<2.16,>=2.15->tensorflow<2.16,>=2.15->tf-keras>=2.14.1->tensorflow-hub) (1.2.0)\n",
            "Requirement already satisfied: markdown>=2.6.8 in /usr/local/lib/python3.10/dist-packages (from tensorboard<2.16,>=2.15->tensorflow<2.16,>=2.15->tf-keras>=2.14.1->tensorflow-hub) (3.6)\n",
            "Requirement already satisfied: requests<3,>=2.21.0 in /usr/local/lib/python3.10/dist-packages (from tensorboard<2.16,>=2.15->tensorflow<2.16,>=2.15->tf-keras>=2.14.1->tensorflow-hub) (2.31.0)\n",
            "Requirement already satisfied: tensorboard-data-server<0.8.0,>=0.7.0 in /usr/local/lib/python3.10/dist-packages (from tensorboard<2.16,>=2.15->tensorflow<2.16,>=2.15->tf-keras>=2.14.1->tensorflow-hub) (0.7.2)\n",
            "Requirement already satisfied: werkzeug>=1.0.1 in /usr/local/lib/python3.10/dist-packages (from tensorboard<2.16,>=2.15->tensorflow<2.16,>=2.15->tf-keras>=2.14.1->tensorflow-hub) (3.0.2)\n",
            "Requirement already satisfied: cachetools<6.0,>=2.0.0 in /usr/local/lib/python3.10/dist-packages (from google-auth<3,>=1.6.3->tensorboard<2.16,>=2.15->tensorflow<2.16,>=2.15->tf-keras>=2.14.1->tensorflow-hub) (5.3.3)\n",
            "Requirement already satisfied: pyasn1-modules>=0.2.1 in /usr/local/lib/python3.10/dist-packages (from google-auth<3,>=1.6.3->tensorboard<2.16,>=2.15->tensorflow<2.16,>=2.15->tf-keras>=2.14.1->tensorflow-hub) (0.4.0)\n",
            "Requirement already satisfied: rsa<5,>=3.1.4 in /usr/local/lib/python3.10/dist-packages (from google-auth<3,>=1.6.3->tensorboard<2.16,>=2.15->tensorflow<2.16,>=2.15->tf-keras>=2.14.1->tensorflow-hub) (4.9)\n",
            "Requirement already satisfied: requests-oauthlib>=0.7.0 in /usr/local/lib/python3.10/dist-packages (from google-auth-oauthlib<2,>=0.5->tensorboard<2.16,>=2.15->tensorflow<2.16,>=2.15->tf-keras>=2.14.1->tensorflow-hub) (1.3.1)\n",
            "Requirement already satisfied: charset-normalizer<4,>=2 in /usr/local/lib/python3.10/dist-packages (from requests<3,>=2.21.0->tensorboard<2.16,>=2.15->tensorflow<2.16,>=2.15->tf-keras>=2.14.1->tensorflow-hub) (3.3.2)\n",
            "Requirement already satisfied: idna<4,>=2.5 in /usr/local/lib/python3.10/dist-packages (from requests<3,>=2.21.0->tensorboard<2.16,>=2.15->tensorflow<2.16,>=2.15->tf-keras>=2.14.1->tensorflow-hub) (3.7)\n",
            "Requirement already satisfied: urllib3<3,>=1.21.1 in /usr/local/lib/python3.10/dist-packages (from requests<3,>=2.21.0->tensorboard<2.16,>=2.15->tensorflow<2.16,>=2.15->tf-keras>=2.14.1->tensorflow-hub) (2.0.7)\n",
            "Requirement already satisfied: certifi>=2017.4.17 in /usr/local/lib/python3.10/dist-packages (from requests<3,>=2.21.0->tensorboard<2.16,>=2.15->tensorflow<2.16,>=2.15->tf-keras>=2.14.1->tensorflow-hub) (2024.2.2)\n",
            "Requirement already satisfied: MarkupSafe>=2.1.1 in /usr/local/lib/python3.10/dist-packages (from werkzeug>=1.0.1->tensorboard<2.16,>=2.15->tensorflow<2.16,>=2.15->tf-keras>=2.14.1->tensorflow-hub) (2.1.5)\n",
            "Requirement already satisfied: pyasn1<0.7.0,>=0.4.6 in /usr/local/lib/python3.10/dist-packages (from pyasn1-modules>=0.2.1->google-auth<3,>=1.6.3->tensorboard<2.16,>=2.15->tensorflow<2.16,>=2.15->tf-keras>=2.14.1->tensorflow-hub) (0.6.0)\n",
            "Requirement already satisfied: oauthlib>=3.0.0 in /usr/local/lib/python3.10/dist-packages (from requests-oauthlib>=0.7.0->google-auth-oauthlib<2,>=0.5->tensorboard<2.16,>=2.15->tensorflow<2.16,>=2.15->tf-keras>=2.14.1->tensorflow-hub) (3.2.2)\n"
          ]
        }
      ],
      "source": [
        "# Install tensorflow 2 to the virtual environment.\n",
        "!pip install \"tensorflow>=2.15.0\"\n",
        "!pip install --upgrade tensorflow-hub\n",
        "\n",
        "# Restart Runtime after installation !\n",
        "# -> Runtime -> Restart Runtime...\n",
        "# Rerun the cell when the runtime has restarted"
      ]
    },
    {
      "cell_type": "code",
      "execution_count": 3,
      "metadata": {
        "colab": {
          "base_uri": "https://localhost:8080/"
        },
        "id": "Tm6GcnmiI4Mu",
        "outputId": "f98c84a9-37ce-4420-e818-8396387e9019"
      },
      "outputs": [
        {
          "output_type": "stream",
          "name": "stdout",
          "text": [
            "Mounted at /content/gdrive\n"
          ]
        }
      ],
      "source": [
        "# Uncomment if you are using colab. Now we connect the colab notebook to our drive to access the data.\n",
        "from google.colab import drive\n",
        "drive.mount('/content/gdrive')\n",
        "# Run the cell and follow the instructions"
      ]
    },
    {
      "cell_type": "code",
      "execution_count": 4,
      "metadata": {
        "colab": {
          "base_uri": "https://localhost:8080/"
        },
        "id": "o5nzqEXaQznj",
        "outputId": "fa1e1ea9-e444-4f6d-c8c9-a3b9a83e1399"
      },
      "outputs": [
        {
          "output_type": "stream",
          "name": "stderr",
          "text": [
            "[nltk_data] Downloading package stopwords to /root/nltk_data...\n",
            "[nltk_data]   Unzipping corpora/stopwords.zip.\n",
            "[nltk_data] Downloading package punkt to /root/nltk_data...\n",
            "[nltk_data]   Unzipping tokenizers/punkt.zip.\n",
            "[nltk_data] Downloading package wordnet to /root/nltk_data...\n"
          ]
        }
      ],
      "source": [
        "# Import the libraries\n",
        "\n",
        "import os\n",
        "import sys\n",
        "from IPython.display import HTML, display\n",
        "\n",
        "import numpy as np\n",
        "import pandas as pd\n",
        "import tensorflow as tf\n",
        "from math import ceil\n",
        "from scipy.spatial.distance import cosine\n",
        "\n",
        "import matplotlib.pyplot as plt\n",
        "import seaborn as sns\n",
        "\n",
        "import collections\n",
        "import random\n",
        "import time\n",
        "import string\n",
        "import re\n",
        "\n",
        "import nltk\n",
        "nltk.download('stopwords')\n",
        "nltk.download('punkt')\n",
        "nltk.download('wordnet')\n",
        "from nltk.corpus import stopwords\n",
        "from nltk.stem import WordNetLemmatizer\n",
        "from nltk.tokenize import word_tokenize\n",
        "from nltk.tokenize import sent_tokenize\n",
        "\n",
        "from sklearn.model_selection import train_test_split\n",
        "from sklearn.feature_extraction.text import TfidfVectorizer\n",
        "from sklearn.naive_bayes import MultinomialNB\n",
        "from sklearn.model_selection import GridSearchCV\n",
        "from sklearn.svm import SVC\n",
        "from sklearn.metrics import roc_curve, auc\n",
        "from sklearn.metrics import confusion_matrix\n",
        "from sklearn.metrics import classification_report\n",
        "\n",
        "from tensorflow.keras.preprocessing.sequence import pad_sequences\n",
        "from tensorflow.keras.preprocessing.text import Tokenizer\n",
        "from tensorflow.keras.models import Sequential, Model\n",
        "from tensorflow.keras.layers import Input, Embedding, Dense, Convolution1D, MaxPooling1D, GlobalMaxPooling1D, Flatten, Dropout, LSTM, Bidirectional"
      ]
    },
    {
      "cell_type": "code",
      "execution_count": 5,
      "metadata": {
        "colab": {
          "base_uri": "https://localhost:8080/"
        },
        "id": "hc5wap82UTBb",
        "outputId": "3930368b-3faa-4607-bb44-6104df4f70e5"
      },
      "outputs": [
        {
          "output_type": "stream",
          "name": "stdout",
          "text": [
            "2.15.0\n"
          ]
        }
      ],
      "source": [
        "print(tf.__version__)"
      ]
    },
    {
      "cell_type": "code",
      "execution_count": 8,
      "metadata": {
        "id": "x6JW_BtETzjQ"
      },
      "outputs": [],
      "source": [
        "DIRECTORY = '/content/gdrive/MyDrive/Colab Notebooks/NLP_app'\n",
        "\n",
        "SUMMARY_PATH = '/content/gdrive/MyDrive/Colab Notebooks/NLP_app/MutualFundSummary'\n",
        "SUMMARY_LABELS_PATH = '/content/gdrive/MyDrive/Colab Notebooks/MF815/NLP/NLP_app/MutualFundLabels.csv'\n",
        "\n",
        "#HEALTHY_ARTICLES_PATH = os.path.join(DIRECTORY, \"Data\", \"FundArticlesHealthy.csv\")\n",
        "#UNHEALTHY_ARTICLES_PATH = os.path.join(DIRECTORY, \"Data\", \"FundArticlesUnhealthy.csv\")\n",
        "\n",
        "glove_word2vec = 'glove.6B.50d.txt'\n",
        "our_word2vec = 'word2vec_perso.txt'"
      ]
    },
    {
      "cell_type": "markdown",
      "metadata": {
        "id": "k3AJm3yfYx5Y"
      },
      "source": [
        "# Util\n",
        "Some useful functions. <br>\n",
        "You don’t really need to understand them, these are utilities functions.\n"
      ]
    },
    {
      "cell_type": "code",
      "execution_count": 9,
      "metadata": {
        "id": "ezvaewG9YKW9"
      },
      "outputs": [],
      "source": [
        "# Progress bar\n",
        "def progress(value, max=100):\n",
        "    return HTML(\"\"\"\n",
        "        <progress\n",
        "            value='{value}'\n",
        "            max='{max}',\n",
        "            style='width: 100%'\n",
        "        >\n",
        "            {value}\n",
        "        </progress>\n",
        "    \"\"\".format(value=value, max=max))\n",
        "\n",
        "# Save a word2vec dictionary.\n",
        "def save_word2vec(filename):\n",
        "    #with open(os.path.join('/Users/haoxing/Documents/Work/Teaching/Machine learning for Finance/Codes/NLP/NLP_app', filename),'a' , encoding='utf-8') as f :\n",
        "    with open(os.path.join('/content/gdrive/MyDrive/Colab Notebooks/MF815/NLP/NLP_app/', filename),'a' , encoding='utf-8') as f :\n",
        "        for k, v in word2vec.items():\n",
        "            line = k+' '+str(list(v)).strip('[]').replace(',','')+'\\n'\n",
        "            f.write(line)\n",
        "\n",
        "# Load a word2vec dictionary.\n",
        "def load_word2vec(filename):\n",
        "    word2vec = {}\n",
        "    #with open(os.path.join('/Users/haoxing/Documents/Work/Teaching/Machine learning for Finance/Codes/NLP/NLP_app', filename), encoding='utf8') as f:\n",
        "    with open(os.path.join('/content/gdrive/MyDrive/Colab Notebooks/MF815/NLP/NLP_app/', filename), encoding='utf8') as f:\n",
        "        for line in f:\n",
        "            try :\n",
        "                values = line.split()\n",
        "                word = values[0]\n",
        "                vec = np.asarray(values[1:], dtype='float32')\n",
        "                word2vec[word] = vec\n",
        "            except :\n",
        "                None\n",
        "    return word2vec\n",
        "\n",
        "# read the repo in PATH and append the texts in a list\n",
        "def get_data(PATH):\n",
        "    list_dir = os.listdir(PATH)\n",
        "    texts = []\n",
        "    fund_names = []\n",
        "    out = display(progress(0, len(list_dir)-1), display_id=True)\n",
        "    for ii, filename in enumerate(list_dir) :\n",
        "        with open(PATH+'/'+filename, 'r', encoding=\"utf8\") as f :\n",
        "            txt = f.read()\n",
        "            try :\n",
        "                txt_split = txt.split('<head_breaker>')\n",
        "                summary = txt_split[1].strip()\n",
        "                fund_name = txt_split[0].strip()\n",
        "            except :\n",
        "                summary = txt\n",
        "                fund_name = ''\n",
        "        texts.append(summary)\n",
        "        fund_names.append(fund_name)\n",
        "        out.update(progress(ii, len(list_dir)-1))\n",
        "    return fund_names, texts"
      ]
    },
    {
      "cell_type": "markdown",
      "metadata": {
        "id": "QkiUARao1RqR"
      },
      "source": [
        "# Use pre-trained model (for example, sentence Bert) to extract key sentences of each summary"
      ]
    },
    {
      "cell_type": "markdown",
      "source": [
        "***1.Split the data into training, validation, and testing. ***\n",
        "\n",
        "---\n",
        "\n",
        "还没划分好"
      ],
      "metadata": {
        "id": "3j90ZGCJid1T"
      }
    },
    {
      "cell_type": "markdown",
      "source": [
        "导入数据"
      ],
      "metadata": {
        "id": "HtIXOSKzo0_k"
      }
    },
    {
      "cell_type": "code",
      "execution_count": 10,
      "metadata": {
        "colab": {
          "base_uri": "https://localhost:8080/",
          "height": 34
        },
        "id": "AJ7cvn2HYfOx",
        "outputId": "d7c6260d-14fe-4750-9708-ee472150b772"
      },
      "outputs": [
        {
          "output_type": "display_data",
          "data": {
            "text/plain": [
              "<IPython.core.display.HTML object>"
            ],
            "text/html": [
              "\n",
              "        <progress\n",
              "            value='544'\n",
              "            max='544',\n",
              "            style='width: 100%'\n",
              "        >\n",
              "            544\n",
              "        </progress>\n",
              "    "
            ]
          },
          "metadata": {}
        }
      ],
      "source": [
        "# Get the summaries\n",
        "fund_names, summaries = get_data(SUMMARY_PATH)\n",
        "# The reading function can take several minutes depending on your internet connection.\n",
        "# The reading function store the data in the cache so that rerunning the cell should be must faster."
      ]
    },
    {
      "cell_type": "code",
      "execution_count": 11,
      "metadata": {
        "colab": {
          "base_uri": "https://localhost:8080/"
        },
        "id": "9N_BySdUbU8o",
        "outputId": "2db11b0c-1f50-4874-e220-c8abed91cbfd"
      },
      "outputs": [
        {
          "output_type": "execute_result",
          "data": {
            "text/plain": [
              "['AB Arizona Portfolio',\n",
              " 'AB Asia ex-Japan Equity Portfolio',\n",
              " 'AB Credit Long/Short Portfolio',\n",
              " 'AB Balanced Wealth Strategy Portfolio',\n",
              " 'AB Bond Inflation Strategy',\n",
              " 'AB All Market Real Return Portfolio',\n",
              " 'AB All Market Income Portfolio',\n",
              " 'AB Discovery Value Fund',\n",
              " 'AB Dynamic Asset Allocation Portfolio',\n",
              " 'AB FlexFee International Strategic Core Portfolio',\n",
              " 'AB FlexFee Emerging Markets Growth Portfolio',\n",
              " 'AB FlexFee Core Opportunities Portfolio',\n",
              " 'AB Global Risk Allocation-Moderate Portfolio',\n",
              " 'AB FlexFee Large Cap Growth Portfolio',\n",
              " 'AB Global Thematic Growth Portfolio',\n",
              " 'AB Income Fund',\n",
              " 'AB Limited Duration High Income Portfolio',\n",
              " 'AB Intermediate Bond Portfolio',\n",
              " 'AB Massachusetts Portfolio',\n",
              " 'AB Minnesota Portfolio',\n",
              " 'AB Municipal Bond Inflation Strategy',\n",
              " 'AB Tax-Aware Fixed Income Portfolio',\n",
              " 'AB New York Portfolio',\n",
              " 'AB New Jersey Portfolio',\n",
              " 'AB Small Cap Value Portfolio',\n",
              " 'AB Pennsylvania Portfolio',\n",
              " 'AB Small/Mid Cap Value Portfolio',\n",
              " 'AB Real Estate Investment Portfolio',\n",
              " 'ADAPTIVE EQUITY FUND',\n",
              " 'AB Virginia Portfolio',\n",
              " 'AC ALTERNATIVES DISCIPLINED LONG SHORT FUND',\n",
              " 'AC ALTERNATIVES EQUITY MARKET NEUTRAL FUND',\n",
              " 'Aggressive Growth Fund',\n",
              " 'AllianzGI Emerging Markets Opportunities Fund',\n",
              " 'ALL CAP GROWTH FUND',\n",
              " 'AllianzGI Health Sciences Fund',\n",
              " 'AllianzGI Focused Growth Fund',\n",
              " 'AllianzGI NFJ Dividend Value Fund',\n",
              " 'AllianzGI Global Small-Cap Fund',\n",
              " 'AllianzGI Mid-Cap Fund',\n",
              " 'AllianzGI Income & Growth Fund',\n",
              " 'AllianzGI Global Natural Resources Fund',\n",
              " 'AllianzGI NFJ International Value Fund',\n",
              " 'AllianzGI NFJ Large-Cap Value Fund',\n",
              " 'AllianzGI NFJ Mid-Cap Value Fund',\n",
              " 'AllianzGI NFJ Small-Cap Value Fund',\n",
              " 'American Century Diversified Municipal Bond ETF',\n",
              " 'AllianzGI Technology Fund',\n",
              " 'American Century Quality Diversified International ETF',\n",
              " 'American Century Diversified Corporate Bond ETF',\n",
              " 'AllianzGI Small-Cap Fund',\n",
              " 'American Century STOXX U.S. Quality Growth ETF',\n",
              " 'American Century Growth ETF',\n",
              " 'American Funds 2045 Target Date Retirement Fund',\n",
              " 'American Funds 2010 Target Date Retirement Fund',\n",
              " 'American Century Value ETF',\n",
              " 'American Century STOXX U.S. Quality Value ETF',\n",
              " 'American Funds 2015 Target Date Retirement Fund',\n",
              " 'American Funds 2020 Target Date Retirement Fund',\n",
              " 'American Funds 2025 Target Date Retirement Fund',\n",
              " 'American Funds 2030 Target Date Retirement Fund',\n",
              " 'American Funds 2035 Target Date Retirement Fund',\n",
              " 'American Funds 2040 Target Date Retirement Fund',\n",
              " 'American Funds 2055 Target Date Retirement Fund',\n",
              " 'American Funds 2050 Target Date Retirement Fund',\n",
              " 'American Funds 2060 Target Date Retirement Fund',\n",
              " 'American Funds College 2018 Fund',\n",
              " 'American Funds College 2021 Fund',\n",
              " 'American Funds College Enrollment Fund',\n",
              " 'American Funds College 2024 Fund',\n",
              " 'American Funds College 2027 Fund',\n",
              " 'American Funds College 2033 Fund',\n",
              " 'American Funds College 2030 Fund',\n",
              " 'American Funds College 2036 Fund',\n",
              " 'American Funds Conservative Growth and Income Portfolio',\n",
              " 'American Funds Moderate Growth and Income Portfolio',\n",
              " 'American Funds Preservation Portfolio',\n",
              " 'American Funds Retirement Income Portfolio - Conservative',\n",
              " 'American Funds Retirement Income Portfolio - Enhanced',\n",
              " 'Anchor Tactical Equity Strategies Fund',\n",
              " 'American Funds Tax-Advantaged Growth and Income Portfolio',\n",
              " 'American Funds Retirement Income Portfolio - Moderate',\n",
              " 'American Funds Tax-Exempt Preservation Portfolio',\n",
              " 'BALANCED FUND',\n",
              " 'Asset Allocation Fund',\n",
              " 'American Funds U.S. Government Money Market Fund',\n",
              " 'Anchor Tactical Municipal Strategies Fund',\n",
              " 'Anchor Tactical Credit Strategies Fund',\n",
              " 'BBH Core Select',\n",
              " 'BBH Global Core Select',\n",
              " 'BBH Partner Fund - International Equity',\n",
              " 'Capital Growth Fund',\n",
              " 'BBH Limited Duration Fund',\n",
              " 'BBH Intermediate Municipal Bond Fund',\n",
              " 'Blue Chip Income and Growth Fund',\n",
              " 'Bond Fund',\n",
              " 'CALIFORNIA TAX-FREE MONEY MARKET FUND',\n",
              " 'CALIFORNIA INTERMEDIATE-TERM TAX-FREE BOND FUND',\n",
              " 'CALIFORNIA HIGH-YIELD MUNICIPAL FUND',\n",
              " 'Capital Income Builder',\n",
              " 'ClearBridge Global Health Care Innovations Fund',\n",
              " 'CAPITAL VALUE FUND',\n",
              " 'Columbia Dividend Opportunity Fund',\n",
              " 'Columbia Commodity Strategy Fund',\n",
              " 'Columbia Flexible Capital Income Fund',\n",
              " 'Columbia Large Cap Value Fund',\n",
              " 'Columbia High Yield Bond Fund',\n",
              " 'Columbia Large Cap Enhanced Core Fund',\n",
              " 'Columbia Large Cap Growth Fund III',\n",
              " 'Columbia Large Cap Index Fund',\n",
              " 'Columbia Mid Cap Index Fund',\n",
              " 'Columbia Overseas Value Fund',\n",
              " 'Columbia Mortgage Opportunities Fund',\n",
              " 'Columbia Mid Cap Value Fund',\n",
              " 'Columbia Select Global Growth Fund',\n",
              " 'Columbia Select International Equity Fund',\n",
              " 'Columbia Small/Mid Cap Value Fund',\n",
              " 'Columbia Select Large Cap Equity Fund',\n",
              " 'Columbia Seligman Communications and Information Fund',\n",
              " 'Columbia Small Cap Index Fund',\n",
              " 'Columbia Variable Portfolio - Balanced Fund',\n",
              " 'Columbia Small Cap Value Fund II',\n",
              " 'Columbia Variable Portfolio - Disciplined Core Fund',\n",
              " 'Columbia Variable Portfolio - Dividend Opportunity Fund',\n",
              " 'Columbia Variable Portfolio - Emerging Markets Fund',\n",
              " 'Columbia Variable Portfolio - Global Bond Fund',\n",
              " 'Columbia Variable Portfolio - Large Cap Index Fund',\n",
              " 'Columbia Variable Portfolio - Mid Cap Growth Fund',\n",
              " 'Columbia Variable Portfolio - Mid Cap Value Fund',\n",
              " 'Columbia Variable Portfolio - Government Money Market Fund',\n",
              " 'Columbia Variable Portfolio - High Yield Bond Fund',\n",
              " 'Columbia Variable Portfolio - Select Large-Cap Value Fund',\n",
              " 'Columbia Variable Portfolio - Income Opportunities Fund',\n",
              " 'Columbia Variable Portfolio - Intermediate Bond Fund',\n",
              " 'Columbia Variable Portfolio - Large Cap Growth Fund',\n",
              " 'CORE PLUS FUND',\n",
              " 'Columbia Variable Portfolio - U.S. Government Mortgage Fund',\n",
              " 'Columbia Variable Portfolio - Select Smaller-Cap Value Fund',\n",
              " 'CORE EQUITY PLUS FUND',\n",
              " 'Cornerstone Moderately Aggressive Fund',\n",
              " 'Cornerstone Moderately Conservative Fund',\n",
              " 'Corporate Bond Fund',\n",
              " 'Delaware International Small Cap Fund',\n",
              " 'DELAWARE GLOBAL VALUE FUND',\n",
              " 'DELAWARE EMERGING MARKETS FUND',\n",
              " 'DELAWARE INTERNATIONAL VALUE EQUITY FUND',\n",
              " 'DISCIPLINED GROWTH FUND',\n",
              " 'DIVERSIFIED BOND FUND',\n",
              " 'Dreyfus Alternative Diversifier Strategies Fund',\n",
              " 'Eaton Vance Connecticut Municipal Income Fund',\n",
              " 'Dreyfus Global Equity Income Fund',\n",
              " 'Dreyfus Global Emerging Markets Fund',\n",
              " 'Dreyfus International Bond Fund',\n",
              " 'Eaton Vance Dividend Builder Fund',\n",
              " 'Eaton Vance Global Small-Cap Fund',\n",
              " 'Dreyfus Select Managers Long/Short Fund',\n",
              " 'Dreyfus Yield Enhancement Strategy Fund',\n",
              " 'Eaton Vance Growth Fund',\n",
              " 'Eaton Vance Large-Cap Value Fund',\n",
              " 'Eaton Vance Arizona Municipal Income Fund',\n",
              " 'Eaton Vance TABS 5-to-15 Year Laddered Municipal Bond Fund',\n",
              " 'Eaton Vance Minnesota Municipal Income Fund',\n",
              " 'Eaton Vance Pennsylvania Municipal Income Fund',\n",
              " 'Eaton Vance Real Estate Fund',\n",
              " 'Eaton Vance Small-Cap Fund',\n",
              " 'Eaton Vance TABS 1-to-10 Year Laddered Municipal Bond Fund',\n",
              " 'Eaton Vance TABS 10-to-20 Year Laddered Municipal Bond Fund',\n",
              " 'Eaton Vance Municipal Opportunities Fund',\n",
              " 'Eaton Vance Special Equities Fund',\n",
              " 'Eaton Vance New Jersey Municipal Income Fund',\n",
              " 'Eaton Vance TABS Intermediate-Term Municipal Bond Fund',\n",
              " 'Eaton Vance TABS Short-Term Municipal Bond Fund',\n",
              " 'Emerging Markets Fund',\n",
              " 'EQUITY GROWTH FUND',\n",
              " 'Federated MDT Balanced Fund',\n",
              " 'Federated MDT All Cap Core Fund',\n",
              " 'EMERGING MARKETS SMALL CAP FUND',\n",
              " 'Federated MDT Large Cap Growth Fund',\n",
              " 'Fidelity Advisor Communications Equipment Fund',\n",
              " 'Federated MDT Small Cap Core Fund',\n",
              " 'Federated MDT Small Cap Growth Fund',\n",
              " 'Fidelity Advisor Consumer Discretionary Fund',\n",
              " 'Fidelity Advisor Financial Services Fund',\n",
              " 'Fidelity Advisor Freedom 2005 Fund',\n",
              " 'Fidelity Advisor Energy Fund',\n",
              " 'Fidelity Advisor Freedom 2010 Fund',\n",
              " 'Fidelity Advisor Freedom 2020 Fund',\n",
              " 'Fidelity Advisor Freedom 2015 Fund',\n",
              " 'Fidelity Advisor Freedom 2055 Fund',\n",
              " 'Fidelity Advisor Freedom 2050 Fund',\n",
              " 'Fidelity Advisor Freedom 2045 Fund',\n",
              " 'Fidelity Advisor Freedom 2040 Fund',\n",
              " 'Fidelity Advisor Freedom 2025 Fund',\n",
              " 'Fidelity Advisor Freedom 2030 Fund',\n",
              " 'Fidelity Advisor Freedom 2035 Fund',\n",
              " 'Fidelity Advisor Freedom 2060 Fund',\n",
              " 'Fidelity Advisor Health Care Fund',\n",
              " 'Fidelity Advisor Series Equity Value Fund',\n",
              " 'Fidelity Advisor Semiconductors Fund',\n",
              " 'Fidelity Advisor Industrials Fund',\n",
              " 'Fidelity Advisor New Insights Fund',\n",
              " 'Fidelity Advisor Series Opportunistic Insights Fund',\n",
              " 'Fidelity Advisor Utilities Fund',\n",
              " 'Fidelity Advisor Technology Fund',\n",
              " 'Fidelity Contrafund K6',\n",
              " 'Fidelity Contrafund',\n",
              " 'Fidelity Diversified International Fund',\n",
              " 'Fidelity Global Equity Income Fund',\n",
              " 'Fidelity Emerging Asia Fund',\n",
              " 'Fidelity Emerging Markets Discovery Fund',\n",
              " 'Fidelity Emerging Europe, Middle East, Africa (EMEA) Fund',\n",
              " 'Fidelity Flex Conservative Income Bond Fund',\n",
              " 'Fidelity Flex Short-Term Bond Fund',\n",
              " 'Fidelity Flex Opportunistic Insights Fund',\n",
              " 'Fidelity Flex U.S. Bond Index Fund',\n",
              " 'Fidelity Emerging Markets Fund',\n",
              " 'Fidelity GNMA Fund',\n",
              " 'Fidelity International Discovery Fund',\n",
              " 'Fidelity Managed Retirement 2005 Fund',\n",
              " 'Fidelity International Capital Appreciation Fund',\n",
              " 'Fidelity International Growth Fund',\n",
              " 'Fidelity Investment Grade Bond Fund',\n",
              " 'Fidelity Managed Retirement 2015 Fund',\n",
              " 'Fidelity Managed Retirement 2025 Fund',\n",
              " 'Fidelity Managed Retirement Income Fund',\n",
              " 'Fidelity Managed Retirement 2020 Fund',\n",
              " 'Fidelity Managed Retirement 2010 Fund',\n",
              " 'Fidelity Municipal Income 2019 Fund',\n",
              " 'Fidelity Municipal Income 2023 Fund',\n",
              " 'Fidelity Municipal Income 2021 Fund',\n",
              " 'Fidelity Municipal Income 2025 Fund',\n",
              " 'Fidelity Simplicity RMD 2015 Fund',\n",
              " 'Fidelity Simplicity RMD 2005 Fund',\n",
              " 'Fidelity Simplicity RMD 2010 Fund',\n",
              " 'Fidelity Series Short-Term Credit Fund',\n",
              " 'Fidelity Series Corporate Bond Fund',\n",
              " 'Fidelity Series Opportunistic Insights Fund',\n",
              " 'Fidelity Simplicity RMD Income Fund',\n",
              " 'Fidelity ZERO Extended Market Index Fund',\n",
              " 'Fidelity Simplicity RMD 2020 Fund',\n",
              " 'Fidelity ZERO Large Cap Index Fund',\n",
              " 'FOCUSED INTERNATIONAL GROWTH FUND',\n",
              " 'Franklin FTSE Asia ex Japan ETF',\n",
              " 'Franklin FTSE Brazil ETF',\n",
              " 'Franklin FTSE Australia ETF',\n",
              " 'Franklin FTSE Europe ETF',\n",
              " 'Franklin FTSE Germany ETF',\n",
              " 'Franklin FTSE Europe Hedged ETF',\n",
              " 'Franklin FTSE Canada ETF',\n",
              " 'Franklin FTSE China ETF',\n",
              " 'Franklin FTSE France ETF',\n",
              " 'Franklin FTSE Hong Kong ETF',\n",
              " 'Franklin FTSE India ETF',\n",
              " 'Franklin FTSE Switzerland ETF',\n",
              " 'Franklin FTSE South Korea ETF',\n",
              " 'Franklin FTSE Italy ETF',\n",
              " 'Franklin FTSE Taiwan ETF',\n",
              " 'Franklin FTSE Mexico ETF',\n",
              " 'Franklin FTSE United Kingdom ETF',\n",
              " 'Franklin FTSE Japan ETF',\n",
              " 'Franklin FTSE Japan Hedged ETF',\n",
              " 'Franklin FTSE Russia ETF',\n",
              " 'Franklin Liberty Intermediate Municipal Opportunities ETF',\n",
              " 'Franklin Liberty Investment Grade Corporate ETF',\n",
              " 'Franklin Liberty International Opportunities ETF',\n",
              " 'Franklin Liberty Municipal Bond ETF',\n",
              " 'Franklin Liberty U.S. Low Volatility ETF',\n",
              " 'Franklin LibertyQ Emerging Markets ETF',\n",
              " 'Franklin LibertyQ Global Dividend ETF',\n",
              " 'Franklin LibertyQ International Equity Hedged ETF',\n",
              " 'Franklin LibertyQ Global Equity ETF',\n",
              " 'Franklin LibertyQ U.S. Mid Cap Equity ETF',\n",
              " 'Franklin LibertyQ U.S. Equity ETF',\n",
              " 'Franklin Payout 2019 Fund',\n",
              " 'Franklin Payout 2018 Fund',\n",
              " 'Franklin LibertyQ U.S. Small Cap Equity ETF',\n",
              " 'GLOBAL GOLD FUND',\n",
              " 'Franklin Payout 2020 Fund',\n",
              " 'Global Growth Fund',\n",
              " 'GLOBAL SMALL CAP FUND',\n",
              " 'Global Growth and Income Fund',\n",
              " 'Franklin Payout 2021 Fund',\n",
              " 'Franklin Payout 2022 Fund',\n",
              " 'Global Balanced Fund',\n",
              " 'Global Small Capitalization Fund',\n",
              " 'Franklin Payout 2023 Fund',\n",
              " 'Global Bond Fund',\n",
              " 'Government Securities Fund',\n",
              " 'Growth and Tax Strategy Fund',\n",
              " 'Growth & Income Fund',\n",
              " 'Income Stock Fund',\n",
              " 'Growth-Income Fund',\n",
              " 'Growth Fund',\n",
              " 'HERITAGE FUND',\n",
              " 'High-Income Bond Fund',\n",
              " 'INCOME & GROWTH FUND',\n",
              " 'High Income Fund',\n",
              " 'Intermediate-Term Bond Fund',\n",
              " 'INTERNATIONAL DISCOVERY FUND',\n",
              " 'INTERNATIONAL CORE EQUITY FUND',\n",
              " 'International Fund',\n",
              " 'International Growth and Income Fund',\n",
              " 'Ivy European Opportunities Fund',\n",
              " 'INTERNATIONAL VALUE FUND',\n",
              " 'INTERNATIONAL OPPORTUNITIES FUND',\n",
              " 'INTERNATIONAL GROWTH FUND',\n",
              " 'Ivy Core Equity Fund',\n",
              " 'Ivy Asset Strategy Fund',\n",
              " 'Ivy Emerging Markets Equity Fund',\n",
              " 'Ivy Balanced Fund',\n",
              " 'Ivy Energy Fund',\n",
              " 'Ivy Global Equity Income Fund',\n",
              " 'Ivy Managed International Opportunities Fund',\n",
              " 'Ivy Mid Cap Income Opportunities Fund',\n",
              " 'Ivy Global Growth Fund',\n",
              " 'Ivy Mid Cap Growth Fund',\n",
              " 'Ivy High Income Fund',\n",
              " 'Ivy Large Cap Growth Fund',\n",
              " 'Ivy Micro Cap Growth Fund',\n",
              " 'Ivy Global Income Allocation Fund',\n",
              " 'Ivy LaSalle Global Risk-Managed Real Estate Fund',\n",
              " 'Ivy Municipal Bond Fund',\n",
              " 'Ivy Limited-Term Bond Fund',\n",
              " 'Ivy Municipal High Income Fund',\n",
              " 'Ivy Natural Resources Fund',\n",
              " 'Ivy Science and Technology Fund',\n",
              " 'Ivy Securian Core Bond Fund',\n",
              " 'Ivy Securian Real Estate Securities Fund',\n",
              " 'Ivy Small Cap Core Fund',\n",
              " 'Ivy Small Cap Growth Fund',\n",
              " 'Janus Henderson Balanced Fund',\n",
              " 'Janus Henderson Emerging Markets Fund',\n",
              " 'Ivy Tax-Managed Equity Fund',\n",
              " 'Janus Henderson Asia Equity Fund',\n",
              " 'Janus Henderson Contrarian Fund',\n",
              " 'Ivy Value Fund',\n",
              " 'Janus Henderson Balanced Portfolio',\n",
              " 'Janus Henderson Enterprise Fund',\n",
              " 'Janus Henderson Forty Fund',\n",
              " 'Janus Henderson Enterprise Portfolio',\n",
              " 'Janus Henderson Flexible Bond Portfolio',\n",
              " 'Janus Henderson European Focus Fund',\n",
              " 'Janus Henderson Global Bond Portfolio',\n",
              " 'Janus Henderson Global Equity Income Fund',\n",
              " 'Janus Henderson Forty Portfolio',\n",
              " 'Janus Henderson Global Research Fund',\n",
              " 'Janus Henderson Global Real Estate Fund',\n",
              " 'Janus Henderson Global Life Sciences Fund',\n",
              " 'Janus Henderson Global Research Portfolio',\n",
              " 'Janus Henderson Global Select Fund',\n",
              " 'Janus Henderson Growth and Income Fund',\n",
              " 'Janus Henderson Global Technology Fund',\n",
              " 'Janus Henderson Global Technology Portfolio',\n",
              " 'Janus Henderson Global Unconstrained Bond Portfolio',\n",
              " 'Janus Henderson International Opportunities Fund',\n",
              " 'Janus Henderson Mid Cap Value Portfolio',\n",
              " 'Janus Henderson International Value Fund',\n",
              " 'Janus Henderson International Small Cap Fund',\n",
              " 'Janus Henderson Global Value Fund',\n",
              " 'Janus Henderson Venture Fund',\n",
              " 'JPMorgan Equity Focus Fund',\n",
              " 'Janus Henderson Overseas Fund',\n",
              " 'JPMorgan Access Balanced Fund',\n",
              " 'Janus Henderson Overseas Portfolio',\n",
              " 'Janus Henderson Triton Fund',\n",
              " 'JPMorgan California Tax Free Bond Fund',\n",
              " 'Janus Henderson U.S. Growth Opportunities Fund',\n",
              " 'Janus Henderson Research Portfolio',\n",
              " 'Janus Henderson Research Fund',\n",
              " 'JPMorgan Europe Dynamic Fund',\n",
              " 'JPMorgan Global Allocation Fund',\n",
              " 'JPMorgan New York Tax Free Bond Fund',\n",
              " 'MainStay VP Epoch U.S. Small Cap Portfolio',\n",
              " 'MainStay VP Common Stock Portfolio',\n",
              " 'MainStay VP Balanced Portfolio',\n",
              " 'JPMorgan Tax Aware Equity Fund',\n",
              " 'MainStay VP Eagle Small Growth Portfolio',\n",
              " 'MainStay VP Convertible Portfolio',\n",
              " 'MainStay VP Emerging Markets Equity Portfolio',\n",
              " 'MainStay VP Epoch U.S. Equity Yield Portfolio',\n",
              " 'MainStay VP Income Builder Portfolio',\n",
              " 'MainStay VP Growth Allocation Portfolio',\n",
              " 'MainStay VP Janus Henderson Balanced Portfolio',\n",
              " 'MainStay VP International Equity Portfolio',\n",
              " 'MainStay VP Large Cap Growth Portfolio',\n",
              " 'MainStay VP Mid Cap Core Portfolio',\n",
              " 'MainStay VP MFS Utilities Portfolio',\n",
              " 'MainStay VP S&P 500 Index Portfolio',\n",
              " 'Managed Allocation Fund',\n",
              " 'MainStay VP Small Cap Core Portfolio',\n",
              " 'MainStay VP T. Rowe Price Equity Income Portfolio',\n",
              " 'Managed Risk Asset Allocation Fund',\n",
              " 'Managed Risk Blue Chip Income and Growth Fund',\n",
              " 'Managed Risk Growth Fund',\n",
              " 'Managed Risk Growth-Income Fund',\n",
              " 'Managed Risk International Fund',\n",
              " 'MFS Arkansas Municipal Bond Fund',\n",
              " 'MFS Alabama Municipal Bond Fund',\n",
              " 'MFS California Municipal Bond Fund',\n",
              " 'MFS Georgia Municipal Bond Fund',\n",
              " 'MFS Global Equity Fund',\n",
              " 'MFS Global Growth Fund',\n",
              " 'MFS Massachusetts Municipal Bond Fund',\n",
              " 'MFS Global Total Return Fund',\n",
              " 'MFS Maryland Municipal Bond Fund',\n",
              " 'MFS Mississippi Municipal Bond Fund',\n",
              " 'MFS Strategic Income Fund',\n",
              " 'MFS Municipal Income Fund',\n",
              " 'MFS Tennessee Municipal Bond Fund',\n",
              " 'MFS North Carolina Municipal Bond Fund',\n",
              " 'MFS Utilities Fund',\n",
              " 'MFS New York Municipal Bond Fund',\n",
              " 'MFS Virginia Municipal Bond Fund',\n",
              " 'MFS Pennsylvania Municipal Bond Fund',\n",
              " 'MFS South Carolina Municipal Bond Fund',\n",
              " 'MFS West Virginia Municipal Bond Fund',\n",
              " 'Money Market Fund',\n",
              " 'Mortgage Fund',\n",
              " 'NORTHERN U.S. GOVERNMENT SELECT MONEY MARKET FUND',\n",
              " 'MULTI-ASSET REAL RETURN FUND',\n",
              " 'Multi-Manager Value Strategies Fund',\n",
              " 'Nasdaq-100 Index Fund',\n",
              " 'New World Fund',\n",
              " 'NORTHERN U.S. GOVERNMENT MONEY MARKET FUND',\n",
              " 'NT CORE EQUITY PLUS FUND',\n",
              " 'NORTHERN MONEY MARKET FUND',\n",
              " 'NORTHERN MUNICIPAL MONEY MARKET FUND',\n",
              " 'NT GROWTH FUND',\n",
              " 'NT EQUITY GROWTH FUND',\n",
              " 'NT EMERGING MARKETS FUND',\n",
              " 'NT HERITAGE FUND',\n",
              " 'NT INTERNATIONAL VALUE FUND',\n",
              " 'NT INTERNATIONAL SMALL-MID CAP FUND',\n",
              " 'NT SMALL COMPANY',\n",
              " 'PIMCO California Intermediate Municipal Bond Fund',\n",
              " 'PIMCO California Municipal Bond Fund',\n",
              " 'PIMCO California Short Duration Municipal Income Fund',\n",
              " 'PIMCO Gurtin National Municipal Opportunistic Value Fund',\n",
              " 'PIMCO Gurtin California Municipal Intermediate Value Fund',\n",
              " 'PIMCO Gurtin National Municipal Intermediate Value Fund',\n",
              " 'PIMCO Gurtin California Municipal Opportunistic Value Fund',\n",
              " 'PIMCO REALPATH 2020 Fund',\n",
              " 'PIMCO REALPATH 2025 Fund',\n",
              " 'PIMCO REALPATH 2050 Fund',\n",
              " 'PIMCO REALPATH 2030 Fund',\n",
              " 'PIMCO REALPATH 2055',\n",
              " 'PIMCO REALPATH 2035 Fund',\n",
              " 'PIMCO REALPATH 2040 Fund',\n",
              " 'Pioneer Dynamic Credit Fund',\n",
              " 'Pioneer Fundamental Growth Fund',\n",
              " 'PIMCO REALPATH 2045 Fund',\n",
              " 'Pioneer Global High Yield Fund',\n",
              " 'Portfolio Series - American Funds Managed Risk Growth Portfolio',\n",
              " 'S&P 500 Index Fund',\n",
              " 'Pioneer Global Multisector Income Fund',\n",
              " 'Precious Metals and Minerals Fund',\n",
              " 'PRIME MONEY MARKET FUND',\n",
              " 'Pioneer Multi-Asset Ultrashort Income Fund',\n",
              " 'Portfolio Series - American Funds Growth and Income Portfolio',\n",
              " 'Portfolio Series - American Funds Global Growth Portfolio',\n",
              " 'Portfolio Series - American Funds Managed Risk Global Allocation Portfolio',\n",
              " 'Portfolio Series - American Funds Managed Risk Growth and Income Portfolio',\n",
              " 'Schwab New York Municipal Money Fund',\n",
              " 'Schwab California Municipal Money Fund',\n",
              " 'SELECT FUND',\n",
              " 'Science & Technology Fund',\n",
              " 'SHORT DURATION INFLATION PROTECTION BOND FUND',\n",
              " 'Short-Term Bond Fund',\n",
              " 'Swan Defined Risk Emerging Markets Fund',\n",
              " 'SMALL CAP GROWTH FUND',\n",
              " 'Small Cap Stock Fund',\n",
              " 'SUSTAINABLE EQUITY FUND',\n",
              " 'Swan Defined Risk Foreign Developed Fund',\n",
              " 'Swan Defined Risk Fund',\n",
              " 'T. Rowe Price Africa & Middle East Fund',\n",
              " 'Swan Defined Risk U.S. Small Cap Fund',\n",
              " 'T. Rowe Price Institutional Emerging Markets Equity Fund',\n",
              " 'T. Rowe Price Asia Opportunities Fund',\n",
              " 'T. Rowe Price Emerging Europe Fund',\n",
              " 'T. Rowe Price Emerging Markets Stock Fund',\n",
              " 'T. Rowe Price Institutional Global Focused Growth Equity Fund',\n",
              " 'T. Rowe Price Institutional Africa & Middle East Fund',\n",
              " 'T. Rowe Price Institutional Global Growth Equity Fund',\n",
              " 'T. Rowe Price Institutional Emerging Markets Bond Fund',\n",
              " 'T. Rowe Price Institutional Frontier Markets Equity Fund',\n",
              " 'T. Rowe Price Emerging Markets Value Stock Fund',\n",
              " 'T. Rowe Price Institutional Global Value Equity Fund',\n",
              " 'T. Rowe Price Institutional International Bond Fund',\n",
              " 'Ultra-Short Bond Fund',\n",
              " 'T. Rowe Price Institutional International Growth Equity Fund',\n",
              " 'T. Rowe Price Institutional International Core Equity Fund',\n",
              " 'T. Rowe Price Institutional International Concentrated Equity Fund',\n",
              " 'Total Return Strategy Fund',\n",
              " 'Thrivent Partner Healthcare Portfolio',\n",
              " 'Treasury Money Market Trust',\n",
              " 'U.S. Government/AAA-Rated Securities Fund',\n",
              " 'ULTRA FUND',\n",
              " 'USAA MSCI Emerging Markets Value Momentum Blend Index ETF',\n",
              " 'USAA MSCI International Value Momentum Blend Index ETF',\n",
              " 'USAA MSCI USA Small Cap Value Momentum Blend Index ETF',\n",
              " 'UTILITIES FUND',\n",
              " 'USAA MSCI USA Value Momentum Blend Index ETF',\n",
              " 'Vanguard Intermediate-Term Corporate Bond Index Fund',\n",
              " 'Vanguard Health Care Fund',\n",
              " 'Vanguard GNMA Fund',\n",
              " 'Vanguard Energy Fund',\n",
              " 'Vanguard Intermediate-Term Investment-Grade Fund',\n",
              " 'Vanguard Intermediate-Term Treasury Fund',\n",
              " 'Vanguard Long-Term Investment-Grade Fund',\n",
              " 'Vanguard Long-Term Corporate Bond Index Fund',\n",
              " 'Vanguard Intermediate-Term Treasury Index Fund',\n",
              " 'Vanguard Russell 1000 Index Fund',\n",
              " 'Vanguard Real Estate Index Fund',\n",
              " 'Vanguard Russell 1000 Growth Index Fund',\n",
              " 'Vanguard Real Estate II Index Fund',\n",
              " 'Vanguard Precious Metals and Mining Fund',\n",
              " 'Vanguard Long-Term Treasury Fund',\n",
              " 'Vanguard Long-Term Treasury Index Fund',\n",
              " 'Vanguard Russell 1000 Value Index Fund',\n",
              " 'Vanguard Russell 2000 Index Fund',\n",
              " 'Vanguard Russell 2000 Growth Index Fund',\n",
              " 'Vanguard Russell 2000 Value Index Fund',\n",
              " 'Vanguard Russell 3000 Index Fund',\n",
              " 'Vanguard Short-Term Treasury Fund',\n",
              " 'Vanguard Short-Term Federal Fund',\n",
              " 'Vanguard Ultra-Short-Term Bond Fund',\n",
              " 'Vanguard Short-Term Investment-Grade Fund',\n",
              " 'Vanguard Short-Term Treasury Index Fund',\n",
              " 'Vanguard Short-Term Corporate Bond Index Fund',\n",
              " 'Variable Portfolio - BlackRock Global Inflation-Protected Securities Fund',\n",
              " 'Variable Portfolio - MFS Value Fund',\n",
              " 'Variable Portfolio - MFS Blended Research Core Equity Fund',\n",
              " 'Variable Portfolio - Wells Fargo Short Duration Government Fund',\n",
              " 'Variable Portfolio - Morgan Stanley Advantage Fund',\n",
              " 'Variable Portfolio - Oppenheimer International Growth Fund',\n",
              " 'Virtus Enhanced U.S. Equity ETF',\n",
              " 'Variable Portfolio - T. Rowe Price Large Cap Value Fund',\n",
              " 'Variable Portfolio - Partners Small Cap Value Fund',\n",
              " 'Virtus Newfleet Dynamic Credit ETF',\n",
              " 'Variable Portfolio - TCW Core Plus Bond Fund',\n",
              " 'Western Asset Intermediate Maturity California Municipals Fund',\n",
              " 'Variable Portfolio - Victory Sycamore Established Value Fund',\n",
              " 'Western Asset Intermediate Maturity New York Municipals Fund',\n",
              " 'Western Asset Massachusetts Municipals Fund',\n",
              " 'World Growth Fund']"
            ]
          },
          "metadata": {},
          "execution_count": 11
        }
      ],
      "source": [
        "fund_names"
      ]
    },
    {
      "cell_type": "markdown",
      "metadata": {
        "id": "cKJgD6UWYmXE"
      },
      "source": [
        "设置分词器，删除停用词。\n",
        "\n",
        "The following tokenizer function takes a text as input. The function removes the stopwords, the tokens with no letters and returns a list of the remining tokens."
      ]
    },
    {
      "cell_type": "code",
      "source": [
        "def lemma_tokenizer(text):\n",
        "    lemmatizer=WordNetLemmatizer()\n",
        "    return [lemmatizer.lemmatize(token) for token in word_tokenize(text.replace(\"'\",\" \"))]"
      ],
      "metadata": {
        "id": "NW_YB3IJmda-"
      },
      "execution_count": 14,
      "outputs": []
    },
    {
      "cell_type": "code",
      "source": [
        "stop_words = set(stopwords.words(\"english\")+list(string.punctuation)+['``',\"''\"]+[\"]\",\"[\",\"*\"]+['doe', 'ha', 'wa'])"
      ],
      "metadata": {
        "id": "5j9UdUdam6n5"
      },
      "execution_count": 15,
      "outputs": []
    },
    {
      "cell_type": "code",
      "execution_count": 16,
      "metadata": {
        "id": "64c-ynP839yU"
      },
      "outputs": [],
      "source": [
        "# clean and tokenize the text -> we don't want to lemmatize\n",
        "def tokenizer(txt):\n",
        "    txt = txt.replace('\\n', ' ').replace('\\t', ' ').lower()\n",
        "    word_tokens = word_tokenize(txt)\n",
        "    filtered_sentence = [w for w in word_tokens if not w in stop_words]\n",
        "    filtered_sentence = [w for w in filtered_sentence if re.sub(\"[^A-Za-z ]+\",'',w) != '']\n",
        "    return filtered_sentence"
      ]
    },
    {
      "cell_type": "markdown",
      "metadata": {
        "id": "w_v5BJXK3t0e"
      },
      "source": [
        "More cleaning could be done. We could for instance remove the tokens that have less than 3 letters or all the tokens that contains non-letter characters. <br>\n",
        "Then we create one long list of tokens by tokenizing all the summaries with our \"tokenizer\" function and concatenating all the summaries.\n"
      ]
    },
    {
      "cell_type": "code",
      "execution_count": 17,
      "metadata": {
        "id": "CTcU8kqz64Tv"
      },
      "outputs": [],
      "source": [
        "text_words = np.concatenate([tokenizer(summary) for summary in summaries])"
      ]
    },
    {
      "cell_type": "code",
      "execution_count": 18,
      "metadata": {
        "colab": {
          "base_uri": "https://localhost:8080/"
        },
        "id": "e7leuC6iUfez",
        "outputId": "df533c02-cb73-4580-c98e-0dab67e72923"
      },
      "outputs": [
        {
          "output_type": "stream",
          "name": "stdout",
          "text": [
            "['ab' 'arizona' 'portfolio' 'investment' 'objective' 'investment'\n",
            " 'objective' 'portfolio' 'earn' 'highest' 'level' 'current' 'income'\n",
            " 'exempt' 'federal' 'income' 'tax' 'state' 'arizona' 'personal']\n"
          ]
        }
      ],
      "source": [
        "print(text_words[:20])"
      ]
    },
    {
      "cell_type": "markdown",
      "source": [
        "使用预训练模型从summary中获得key sentences"
      ],
      "metadata": {
        "id": "FSSrcoy2oxxN"
      }
    },
    {
      "cell_type": "code",
      "source": [
        "!pip install sentence-transformers"
      ],
      "metadata": {
        "colab": {
          "base_uri": "https://localhost:8080/"
        },
        "id": "SnogAYDKndh7",
        "outputId": "9947daac-388f-4d86-dbc6-a7e6a5fa1eca"
      },
      "execution_count": 19,
      "outputs": [
        {
          "output_type": "stream",
          "name": "stdout",
          "text": [
            "Collecting sentence-transformers\n",
            "  Downloading sentence_transformers-2.7.0-py3-none-any.whl (171 kB)\n",
            "\u001b[2K     \u001b[90m━━━━━━━━━━━━━━━━━━━━━━━━━━━━━━━━━━━━━━━━\u001b[0m \u001b[32m171.5/171.5 kB\u001b[0m \u001b[31m3.0 MB/s\u001b[0m eta \u001b[36m0:00:00\u001b[0m\n",
            "\u001b[?25hRequirement already satisfied: transformers<5.0.0,>=4.34.0 in /usr/local/lib/python3.10/dist-packages (from sentence-transformers) (4.40.0)\n",
            "Requirement already satisfied: tqdm in /usr/local/lib/python3.10/dist-packages (from sentence-transformers) (4.66.2)\n",
            "Requirement already satisfied: torch>=1.11.0 in /usr/local/lib/python3.10/dist-packages (from sentence-transformers) (2.2.1+cu121)\n",
            "Requirement already satisfied: numpy in /usr/local/lib/python3.10/dist-packages (from sentence-transformers) (1.25.2)\n",
            "Requirement already satisfied: scikit-learn in /usr/local/lib/python3.10/dist-packages (from sentence-transformers) (1.2.2)\n",
            "Requirement already satisfied: scipy in /usr/local/lib/python3.10/dist-packages (from sentence-transformers) (1.11.4)\n",
            "Requirement already satisfied: huggingface-hub>=0.15.1 in /usr/local/lib/python3.10/dist-packages (from sentence-transformers) (0.20.3)\n",
            "Requirement already satisfied: Pillow in /usr/local/lib/python3.10/dist-packages (from sentence-transformers) (9.4.0)\n",
            "Requirement already satisfied: filelock in /usr/local/lib/python3.10/dist-packages (from huggingface-hub>=0.15.1->sentence-transformers) (3.13.4)\n",
            "Requirement already satisfied: fsspec>=2023.5.0 in /usr/local/lib/python3.10/dist-packages (from huggingface-hub>=0.15.1->sentence-transformers) (2023.6.0)\n",
            "Requirement already satisfied: requests in /usr/local/lib/python3.10/dist-packages (from huggingface-hub>=0.15.1->sentence-transformers) (2.31.0)\n",
            "Requirement already satisfied: pyyaml>=5.1 in /usr/local/lib/python3.10/dist-packages (from huggingface-hub>=0.15.1->sentence-transformers) (6.0.1)\n",
            "Requirement already satisfied: typing-extensions>=3.7.4.3 in /usr/local/lib/python3.10/dist-packages (from huggingface-hub>=0.15.1->sentence-transformers) (4.11.0)\n",
            "Requirement already satisfied: packaging>=20.9 in /usr/local/lib/python3.10/dist-packages (from huggingface-hub>=0.15.1->sentence-transformers) (24.0)\n",
            "Requirement already satisfied: sympy in /usr/local/lib/python3.10/dist-packages (from torch>=1.11.0->sentence-transformers) (1.12)\n",
            "Requirement already satisfied: networkx in /usr/local/lib/python3.10/dist-packages (from torch>=1.11.0->sentence-transformers) (3.3)\n",
            "Requirement already satisfied: jinja2 in /usr/local/lib/python3.10/dist-packages (from torch>=1.11.0->sentence-transformers) (3.1.3)\n",
            "Collecting nvidia-cuda-nvrtc-cu12==12.1.105 (from torch>=1.11.0->sentence-transformers)\n",
            "  Using cached nvidia_cuda_nvrtc_cu12-12.1.105-py3-none-manylinux1_x86_64.whl (23.7 MB)\n",
            "Collecting nvidia-cuda-runtime-cu12==12.1.105 (from torch>=1.11.0->sentence-transformers)\n",
            "  Using cached nvidia_cuda_runtime_cu12-12.1.105-py3-none-manylinux1_x86_64.whl (823 kB)\n",
            "Collecting nvidia-cuda-cupti-cu12==12.1.105 (from torch>=1.11.0->sentence-transformers)\n",
            "  Using cached nvidia_cuda_cupti_cu12-12.1.105-py3-none-manylinux1_x86_64.whl (14.1 MB)\n",
            "Collecting nvidia-cudnn-cu12==8.9.2.26 (from torch>=1.11.0->sentence-transformers)\n",
            "  Using cached nvidia_cudnn_cu12-8.9.2.26-py3-none-manylinux1_x86_64.whl (731.7 MB)\n",
            "Collecting nvidia-cublas-cu12==12.1.3.1 (from torch>=1.11.0->sentence-transformers)\n",
            "  Using cached nvidia_cublas_cu12-12.1.3.1-py3-none-manylinux1_x86_64.whl (410.6 MB)\n",
            "Collecting nvidia-cufft-cu12==11.0.2.54 (from torch>=1.11.0->sentence-transformers)\n",
            "  Using cached nvidia_cufft_cu12-11.0.2.54-py3-none-manylinux1_x86_64.whl (121.6 MB)\n",
            "Collecting nvidia-curand-cu12==10.3.2.106 (from torch>=1.11.0->sentence-transformers)\n",
            "  Using cached nvidia_curand_cu12-10.3.2.106-py3-none-manylinux1_x86_64.whl (56.5 MB)\n",
            "Collecting nvidia-cusolver-cu12==11.4.5.107 (from torch>=1.11.0->sentence-transformers)\n",
            "  Using cached nvidia_cusolver_cu12-11.4.5.107-py3-none-manylinux1_x86_64.whl (124.2 MB)\n",
            "Collecting nvidia-cusparse-cu12==12.1.0.106 (from torch>=1.11.0->sentence-transformers)\n",
            "  Using cached nvidia_cusparse_cu12-12.1.0.106-py3-none-manylinux1_x86_64.whl (196.0 MB)\n",
            "Collecting nvidia-nccl-cu12==2.19.3 (from torch>=1.11.0->sentence-transformers)\n",
            "  Using cached nvidia_nccl_cu12-2.19.3-py3-none-manylinux1_x86_64.whl (166.0 MB)\n",
            "Collecting nvidia-nvtx-cu12==12.1.105 (from torch>=1.11.0->sentence-transformers)\n",
            "  Using cached nvidia_nvtx_cu12-12.1.105-py3-none-manylinux1_x86_64.whl (99 kB)\n",
            "Requirement already satisfied: triton==2.2.0 in /usr/local/lib/python3.10/dist-packages (from torch>=1.11.0->sentence-transformers) (2.2.0)\n",
            "Collecting nvidia-nvjitlink-cu12 (from nvidia-cusolver-cu12==11.4.5.107->torch>=1.11.0->sentence-transformers)\n",
            "  Using cached nvidia_nvjitlink_cu12-12.4.127-py3-none-manylinux2014_x86_64.whl (21.1 MB)\n",
            "Requirement already satisfied: regex!=2019.12.17 in /usr/local/lib/python3.10/dist-packages (from transformers<5.0.0,>=4.34.0->sentence-transformers) (2023.12.25)\n",
            "Requirement already satisfied: tokenizers<0.20,>=0.19 in /usr/local/lib/python3.10/dist-packages (from transformers<5.0.0,>=4.34.0->sentence-transformers) (0.19.1)\n",
            "Requirement already satisfied: safetensors>=0.4.1 in /usr/local/lib/python3.10/dist-packages (from transformers<5.0.0,>=4.34.0->sentence-transformers) (0.4.3)\n",
            "Requirement already satisfied: joblib>=1.1.1 in /usr/local/lib/python3.10/dist-packages (from scikit-learn->sentence-transformers) (1.4.0)\n",
            "Requirement already satisfied: threadpoolctl>=2.0.0 in /usr/local/lib/python3.10/dist-packages (from scikit-learn->sentence-transformers) (3.4.0)\n",
            "Requirement already satisfied: MarkupSafe>=2.0 in /usr/local/lib/python3.10/dist-packages (from jinja2->torch>=1.11.0->sentence-transformers) (2.1.5)\n",
            "Requirement already satisfied: charset-normalizer<4,>=2 in /usr/local/lib/python3.10/dist-packages (from requests->huggingface-hub>=0.15.1->sentence-transformers) (3.3.2)\n",
            "Requirement already satisfied: idna<4,>=2.5 in /usr/local/lib/python3.10/dist-packages (from requests->huggingface-hub>=0.15.1->sentence-transformers) (3.7)\n",
            "Requirement already satisfied: urllib3<3,>=1.21.1 in /usr/local/lib/python3.10/dist-packages (from requests->huggingface-hub>=0.15.1->sentence-transformers) (2.0.7)\n",
            "Requirement already satisfied: certifi>=2017.4.17 in /usr/local/lib/python3.10/dist-packages (from requests->huggingface-hub>=0.15.1->sentence-transformers) (2024.2.2)\n",
            "Requirement already satisfied: mpmath>=0.19 in /usr/local/lib/python3.10/dist-packages (from sympy->torch>=1.11.0->sentence-transformers) (1.3.0)\n",
            "Installing collected packages: nvidia-nvtx-cu12, nvidia-nvjitlink-cu12, nvidia-nccl-cu12, nvidia-curand-cu12, nvidia-cufft-cu12, nvidia-cuda-runtime-cu12, nvidia-cuda-nvrtc-cu12, nvidia-cuda-cupti-cu12, nvidia-cublas-cu12, nvidia-cusparse-cu12, nvidia-cudnn-cu12, nvidia-cusolver-cu12, sentence-transformers\n",
            "Successfully installed nvidia-cublas-cu12-12.1.3.1 nvidia-cuda-cupti-cu12-12.1.105 nvidia-cuda-nvrtc-cu12-12.1.105 nvidia-cuda-runtime-cu12-12.1.105 nvidia-cudnn-cu12-8.9.2.26 nvidia-cufft-cu12-11.0.2.54 nvidia-curand-cu12-10.3.2.106 nvidia-cusolver-cu12-11.4.5.107 nvidia-cusparse-cu12-12.1.0.106 nvidia-nccl-cu12-2.19.3 nvidia-nvjitlink-cu12-12.4.127 nvidia-nvtx-cu12-12.1.105 sentence-transformers-2.7.0\n"
          ]
        }
      ]
    },
    {
      "cell_type": "code",
      "source": [
        "from sentence_transformers import SentenceTransformer\n",
        "import numpy as np"
      ],
      "metadata": {
        "id": "XjlKN5qBndsh"
      },
      "execution_count": 20,
      "outputs": []
    },
    {
      "cell_type": "code",
      "source": [
        "model = SentenceTransformer('bert-base-nli-mean-tokens')"
      ],
      "metadata": {
        "colab": {
          "base_uri": "https://localhost:8080/",
          "height": 528,
          "referenced_widgets": [
            "eba4d0fc6db24b5b88fa7e3e3985b283",
            "705ed3c666624adabbf07cbfed26706c",
            "091242fb3f9d48a4b1fbbe74df82729e",
            "3259b5cf670a40aa9610801e2bb1772b",
            "a463ffb2b6654c649c4da64ef4551b51",
            "b45a1dc7b1e44485893ef2ece2075ef6",
            "9fcbd3155c1145fe8c6f7373307bc256",
            "feaebca148b24420b9029fcdeab0c5cc",
            "b4c4b6eac209486d8cc3bfd52e16c3fb",
            "9b0dcaa8c60342daa82e9a27cceaedef",
            "e507dcf7b5c5403bb04d3fb379f585c0",
            "30434a19ddd3459a982bec221bdb42da",
            "a4bb59c442e446a682fa37f0072d8ac3",
            "f9242b11b6c5454182d97cfddbade8ac",
            "e83bd72b500048e9a694cf1cc08653ec",
            "d3820a7edef5490c831b77ba5f364f9f",
            "20ac68939d484684a520bdf3798fb1cd",
            "c2011dd69e4c4722992aa82ae8eb3b92",
            "bbf6d0b92a534a33abf295806076d276",
            "e0bb3d588dc94f158873f4c2b56edaf4",
            "63c104d00bed4067a4d0c5abbe3ed146",
            "a87c04feb691423c90dbdfc1d6ae7d00",
            "0d7c05f3816445a0a6f5f77ee03e833b",
            "39f8c9766b6a470cb601ce413a4450b0",
            "d4ae18b56d294cafab88787557a0b517",
            "3ce3112e84894973a651c7e4f07bcf9f",
            "fd9f394ab11b4c7782cebaa7ea9112b4",
            "748aa9a15d4946d0aca7d94d8b57f70a",
            "107c35637cf84979872d55a262c7cc18",
            "da5f23c739ea4b149186cdd315370acb",
            "8a7ac0f1e96d483d9ed985d629e9ff3a",
            "a25d724120834a59980eb1e76c833634",
            "46f9d04fc30c4bc981f442e34920e203",
            "d0dcbec400c04d0ab8e0c53cab6446cf",
            "1bbeaeeb62a448898f01c12709e758d2",
            "72d776d2ff154d12afa7db1d9f62b0f8",
            "2efb0f6d6662496e8501fc63fab99102",
            "4150f72811374cb48804edd47611830f",
            "94e8263486f747d392f46d981c257a28",
            "a43818ae899048b5a15e6d0b4034d71a",
            "bdec594767bd45d49914faf45eaf3085",
            "b559914514da43a38505d2c86fbb607a",
            "9809c14cb001408e9772f972e6e75d33",
            "451fdc01c09743a5a7f71c6c7e5945a6",
            "cc3941037611439996bfeb689cf1ebb9",
            "cae45c7cb0b84803bddb9f0cd7c684ae",
            "ec7ec8ebb7124ec695e4c2c52573431f",
            "16318e6b665348efb9e94559618f1090",
            "a4390b11e80e4edf93654e568af90a88",
            "ba5b763d469843429f1d1612dbe62cc9",
            "00bc19c22e95475fb3d44f0016572786",
            "56aacf5248a1433b83f4771334441059",
            "09d547a031164eb4805efc754ed1b85c",
            "7cca339178084f26932cda0bb2bef458",
            "1101d5878c1b409a9f874f4b2568ae2f",
            "1b3c7503b1ed45208f42c270ef6a05df",
            "e55d728334964344a052e81084a44717",
            "9f6b6f2f9ac34ed5b6041eaff7f6d3cd",
            "9dc0f93567e24bd690d14e3e301799ed",
            "2371ce187022473290fd23eb672d2421",
            "98425ea48f9842df84948af60b459944",
            "d5ad3962241f490dbe0bf8aef4625da9",
            "dd799eb1d76845b8a91e9e11537483e6",
            "2e4207827c964b169ca9bb9ef1389a9d",
            "199243a040f64db28bc61e4c6e0b4cf7",
            "e9d9aa36fc6a4bf39cae72a25f936d45",
            "859aadc755f747ef920d61fa22904a1e",
            "337a3d06de7149d9ba6973c9ac773847",
            "0e7361e407f54ae1bb38cc75609350d9",
            "84802a1109b648b9b3e078fd80e8ea10",
            "39590035ffe34d2b95969d16e8c7a21e",
            "3f8c6a6e4390477d8bd6f1419ef23d5d",
            "39f248b42a6f440ca40f08e313f09c89",
            "e85af396e2b24ee2ae0afe12a029fdfd",
            "f9279e6ebc5644cd823c99776562a459",
            "2448f128f8f44e10a5ec2dc3ac3f5376",
            "e7b91472e80f41ccb9ed21219c946925",
            "391f808120af4a87bf998f570d333dfe",
            "6385cac4b14b42dc924575385679bb14",
            "d4d34f207e1a4b5c8f07c7a26e447836",
            "7c43a3cd1cbc438daf70f8140b67b489",
            "37064ba5b8c64b50ba23e809e99f3ca1",
            "bc5e44bc615b40418521d7de88c95c7b",
            "39e26a0a494d477695d6415e1f13f3be",
            "e49f9025997b4fa5a7d2f8762c3d84c7",
            "3fc932c58c8849e6b1a07f2f71c08f9c",
            "dd46d47228be459b9d234c84826a97a9",
            "863059cc96054d7493ee0a2d47b11945",
            "f68f769294f0415a9cb0ba7792fefa3a",
            "96d4e17cffa04b20965333d2f7712b6a",
            "9b58b5a674544d879d1e6526d2713afe",
            "179e1487e21e4e13bb1f17adb9a1f845",
            "122c3bb33526435ebea2d0d27913df11",
            "29c778110084490c88b5e22500e30eb5",
            "6fd42cd9e18140b5a3c0eff477a4c12f",
            "0018752dc31547da903451e724059a8c",
            "68303b5e125b46a9a6ffd12282e9d65a",
            "ec2bc947238045b68be820bd7b6f0e33",
            "fb6b57f027534f55ae7ea6c92b71cfff",
            "485aac9d492f4a369a2df3d89802f99d",
            "fa362de023aa4add9d6148e8e310b76c",
            "b92f3694089b418aaae7f6ff789e0949",
            "92c1891d91504fe7ab2bee8578e56337",
            "4a76fecf83454e65b29cdd735471d9d0",
            "62944d6735714f5284fc565670aa4c4c",
            "1551e1e693c641fab4a7fbeeed8b640f",
            "6cb57ae23ed64f8f89267659c257e647",
            "ec78041643eb457ab702f7812f5c12d0",
            "15c854ab2e924242b6b713a26d6c7bb3",
            "1bd760a44105461da5754b081dcecd65",
            "e22f6bf18c944d22b36baf3840f5f385",
            "6a14c503474145708f7a21fa723f6cbd",
            "bd0c154cfe1b458db8b51e2a23c2bca5",
            "ccf670b5857e4881bc30ae9dee68945a",
            "50588af21b2847449885954a30b1eb47",
            "63b4967bb16647dc83ce7ceface0de49",
            "d2709252384246e5b791bdb1136af0fd",
            "7fcddb8d03db4b70b2744aeb85cd3ac2",
            "3e41792de5c4492ab1faaf4b38808706",
            "9f7df1b7c9494fc9a895bfec83a4f600",
            "a1482344334848dba1552746f8397096",
            "5ec280b24a024c1181e61cceb4b425d3",
            "69515da331f847b5bed90cd4ac654150",
            "2dbefb83651245108feeb98d6064f4fa",
            "8900f80cdc704007a665a8820e2daef5",
            "058a9a4595a34180a5d420d5e90806bc",
            "87f028251ee5406aadb8cb0f69ed5e6b",
            "ab9aa869a0a849788bdd0e08a76c6e4d",
            "aa17e9fe574c438b98b215fb5164bfb1",
            "34629fd3c2db4656ae8cf120cf5bd30e",
            "6000ee15ad804b79bf3b2f7dbdf3fd7f",
            "89ae64759c624514bcce4007e9b60c2e"
          ]
        },
        "id": "cTDggFXQndvH",
        "outputId": "c5e62269-b090-40ca-8302-32b2c152c6d7"
      },
      "execution_count": 21,
      "outputs": [
        {
          "output_type": "stream",
          "name": "stderr",
          "text": [
            "/usr/local/lib/python3.10/dist-packages/huggingface_hub/utils/_token.py:88: UserWarning: \n",
            "The secret `HF_TOKEN` does not exist in your Colab secrets.\n",
            "To authenticate with the Hugging Face Hub, create a token in your settings tab (https://huggingface.co/settings/tokens), set it as secret in your Google Colab and restart your session.\n",
            "You will be able to reuse this secret in all of your notebooks.\n",
            "Please note that authentication is recommended but still optional to access public models or datasets.\n",
            "  warnings.warn(\n"
          ]
        },
        {
          "output_type": "display_data",
          "data": {
            "text/plain": [
              "modules.json:   0%|          | 0.00/229 [00:00<?, ?B/s]"
            ],
            "application/vnd.jupyter.widget-view+json": {
              "version_major": 2,
              "version_minor": 0,
              "model_id": "eba4d0fc6db24b5b88fa7e3e3985b283"
            }
          },
          "metadata": {}
        },
        {
          "output_type": "display_data",
          "data": {
            "text/plain": [
              "config_sentence_transformers.json:   0%|          | 0.00/122 [00:00<?, ?B/s]"
            ],
            "application/vnd.jupyter.widget-view+json": {
              "version_major": 2,
              "version_minor": 0,
              "model_id": "30434a19ddd3459a982bec221bdb42da"
            }
          },
          "metadata": {}
        },
        {
          "output_type": "display_data",
          "data": {
            "text/plain": [
              "README.md:   0%|          | 0.00/3.99k [00:00<?, ?B/s]"
            ],
            "application/vnd.jupyter.widget-view+json": {
              "version_major": 2,
              "version_minor": 0,
              "model_id": "0d7c05f3816445a0a6f5f77ee03e833b"
            }
          },
          "metadata": {}
        },
        {
          "output_type": "display_data",
          "data": {
            "text/plain": [
              "sentence_bert_config.json:   0%|          | 0.00/53.0 [00:00<?, ?B/s]"
            ],
            "application/vnd.jupyter.widget-view+json": {
              "version_major": 2,
              "version_minor": 0,
              "model_id": "d0dcbec400c04d0ab8e0c53cab6446cf"
            }
          },
          "metadata": {}
        },
        {
          "output_type": "display_data",
          "data": {
            "text/plain": [
              "config.json:   0%|          | 0.00/625 [00:00<?, ?B/s]"
            ],
            "application/vnd.jupyter.widget-view+json": {
              "version_major": 2,
              "version_minor": 0,
              "model_id": "cc3941037611439996bfeb689cf1ebb9"
            }
          },
          "metadata": {}
        },
        {
          "output_type": "display_data",
          "data": {
            "text/plain": [
              "model.safetensors:   0%|          | 0.00/438M [00:00<?, ?B/s]"
            ],
            "application/vnd.jupyter.widget-view+json": {
              "version_major": 2,
              "version_minor": 0,
              "model_id": "1b3c7503b1ed45208f42c270ef6a05df"
            }
          },
          "metadata": {}
        },
        {
          "output_type": "display_data",
          "data": {
            "text/plain": [
              "tokenizer_config.json:   0%|          | 0.00/399 [00:00<?, ?B/s]"
            ],
            "application/vnd.jupyter.widget-view+json": {
              "version_major": 2,
              "version_minor": 0,
              "model_id": "859aadc755f747ef920d61fa22904a1e"
            }
          },
          "metadata": {}
        },
        {
          "output_type": "display_data",
          "data": {
            "text/plain": [
              "vocab.txt:   0%|          | 0.00/232k [00:00<?, ?B/s]"
            ],
            "application/vnd.jupyter.widget-view+json": {
              "version_major": 2,
              "version_minor": 0,
              "model_id": "391f808120af4a87bf998f570d333dfe"
            }
          },
          "metadata": {}
        },
        {
          "output_type": "display_data",
          "data": {
            "text/plain": [
              "tokenizer.json:   0%|          | 0.00/466k [00:00<?, ?B/s]"
            ],
            "application/vnd.jupyter.widget-view+json": {
              "version_major": 2,
              "version_minor": 0,
              "model_id": "f68f769294f0415a9cb0ba7792fefa3a"
            }
          },
          "metadata": {}
        },
        {
          "output_type": "display_data",
          "data": {
            "text/plain": [
              "added_tokens.json:   0%|          | 0.00/2.00 [00:00<?, ?B/s]"
            ],
            "application/vnd.jupyter.widget-view+json": {
              "version_major": 2,
              "version_minor": 0,
              "model_id": "485aac9d492f4a369a2df3d89802f99d"
            }
          },
          "metadata": {}
        },
        {
          "output_type": "display_data",
          "data": {
            "text/plain": [
              "special_tokens_map.json:   0%|          | 0.00/112 [00:00<?, ?B/s]"
            ],
            "application/vnd.jupyter.widget-view+json": {
              "version_major": 2,
              "version_minor": 0,
              "model_id": "e22f6bf18c944d22b36baf3840f5f385"
            }
          },
          "metadata": {}
        },
        {
          "output_type": "display_data",
          "data": {
            "text/plain": [
              "1_Pooling/config.json:   0%|          | 0.00/190 [00:00<?, ?B/s]"
            ],
            "application/vnd.jupyter.widget-view+json": {
              "version_major": 2,
              "version_minor": 0,
              "model_id": "5ec280b24a024c1181e61cceb4b425d3"
            }
          },
          "metadata": {}
        }
      ]
    },
    {
      "cell_type": "code",
      "source": [
        "from nltk.tokenize import sent_tokenize\n",
        "\n",
        "def split_sentences(summary):\n",
        "    return sent_tokenize(summary)\n",
        "\n",
        "sentences_list = [split_sentences(summary) for summary in summaries]"
      ],
      "metadata": {
        "id": "fuJdeQzZndxS"
      },
      "execution_count": 22,
      "outputs": []
    },
    {
      "cell_type": "code",
      "source": [
        "def extract_embeddings(sentences):\n",
        "    embeddings = model.encode(sentences)\n",
        "    return embeddings\n",
        "\n",
        "embeddings_list = [extract_embeddings(sentences) for sentences in sentences_list]"
      ],
      "metadata": {
        "colab": {
          "base_uri": "https://localhost:8080/",
          "height": 329
        },
        "id": "dkvzVkerndzs",
        "outputId": "a5972a4d-be27-4396-ee60-f0bb2f2813ea"
      },
      "execution_count": 23,
      "outputs": [
        {
          "output_type": "error",
          "ename": "KeyboardInterrupt",
          "evalue": "",
          "traceback": [
            "\u001b[0;31m---------------------------------------------------------------------------\u001b[0m",
            "\u001b[0;31mKeyboardInterrupt\u001b[0m                         Traceback (most recent call last)",
            "\u001b[0;32m<ipython-input-23-380d5b116f8b>\u001b[0m in \u001b[0;36m<cell line: 5>\u001b[0;34m()\u001b[0m\n\u001b[1;32m      3\u001b[0m     \u001b[0;32mreturn\u001b[0m \u001b[0membeddings\u001b[0m\u001b[0;34m\u001b[0m\u001b[0;34m\u001b[0m\u001b[0m\n\u001b[1;32m      4\u001b[0m \u001b[0;34m\u001b[0m\u001b[0m\n\u001b[0;32m----> 5\u001b[0;31m \u001b[0membeddings_list\u001b[0m \u001b[0;34m=\u001b[0m \u001b[0;34m[\u001b[0m\u001b[0mextract_embeddings\u001b[0m\u001b[0;34m(\u001b[0m\u001b[0msentences\u001b[0m\u001b[0;34m)\u001b[0m \u001b[0;32mfor\u001b[0m \u001b[0msentences\u001b[0m \u001b[0;32min\u001b[0m \u001b[0msentences_list\u001b[0m\u001b[0;34m]\u001b[0m\u001b[0;34m\u001b[0m\u001b[0;34m\u001b[0m\u001b[0m\n\u001b[0m",
            "\u001b[0;32m<ipython-input-23-380d5b116f8b>\u001b[0m in \u001b[0;36m<listcomp>\u001b[0;34m(.0)\u001b[0m\n\u001b[1;32m      3\u001b[0m     \u001b[0;32mreturn\u001b[0m \u001b[0membeddings\u001b[0m\u001b[0;34m\u001b[0m\u001b[0;34m\u001b[0m\u001b[0m\n\u001b[1;32m      4\u001b[0m \u001b[0;34m\u001b[0m\u001b[0m\n\u001b[0;32m----> 5\u001b[0;31m \u001b[0membeddings_list\u001b[0m \u001b[0;34m=\u001b[0m \u001b[0;34m[\u001b[0m\u001b[0mextract_embeddings\u001b[0m\u001b[0;34m(\u001b[0m\u001b[0msentences\u001b[0m\u001b[0;34m)\u001b[0m \u001b[0;32mfor\u001b[0m \u001b[0msentences\u001b[0m \u001b[0;32min\u001b[0m \u001b[0msentences_list\u001b[0m\u001b[0;34m]\u001b[0m\u001b[0;34m\u001b[0m\u001b[0;34m\u001b[0m\u001b[0m\n\u001b[0m",
            "\u001b[0;32m<ipython-input-23-380d5b116f8b>\u001b[0m in \u001b[0;36mextract_embeddings\u001b[0;34m(sentences)\u001b[0m\n\u001b[1;32m      1\u001b[0m \u001b[0;32mdef\u001b[0m \u001b[0mextract_embeddings\u001b[0m\u001b[0;34m(\u001b[0m\u001b[0msentences\u001b[0m\u001b[0;34m)\u001b[0m\u001b[0;34m:\u001b[0m\u001b[0;34m\u001b[0m\u001b[0;34m\u001b[0m\u001b[0m\n\u001b[0;32m----> 2\u001b[0;31m     \u001b[0membeddings\u001b[0m \u001b[0;34m=\u001b[0m \u001b[0mmodel\u001b[0m\u001b[0;34m.\u001b[0m\u001b[0mencode\u001b[0m\u001b[0;34m(\u001b[0m\u001b[0msentences\u001b[0m\u001b[0;34m)\u001b[0m\u001b[0;34m\u001b[0m\u001b[0;34m\u001b[0m\u001b[0m\n\u001b[0m\u001b[1;32m      3\u001b[0m     \u001b[0;32mreturn\u001b[0m \u001b[0membeddings\u001b[0m\u001b[0;34m\u001b[0m\u001b[0;34m\u001b[0m\u001b[0m\n\u001b[1;32m      4\u001b[0m \u001b[0;34m\u001b[0m\u001b[0m\n\u001b[1;32m      5\u001b[0m \u001b[0membeddings_list\u001b[0m \u001b[0;34m=\u001b[0m \u001b[0;34m[\u001b[0m\u001b[0mextract_embeddings\u001b[0m\u001b[0;34m(\u001b[0m\u001b[0msentences\u001b[0m\u001b[0;34m)\u001b[0m \u001b[0;32mfor\u001b[0m \u001b[0msentences\u001b[0m \u001b[0;32min\u001b[0m \u001b[0msentences_list\u001b[0m\u001b[0;34m]\u001b[0m\u001b[0;34m\u001b[0m\u001b[0;34m\u001b[0m\u001b[0m\n",
            "\u001b[0;32m/usr/local/lib/python3.10/dist-packages/sentence_transformers/SentenceTransformer.py\u001b[0m in \u001b[0;36mencode\u001b[0;34m(self, sentences, prompt_name, prompt, batch_size, show_progress_bar, output_value, precision, convert_to_numpy, convert_to_tensor, device, normalize_embeddings)\u001b[0m\n\u001b[1;32m    369\u001b[0m \u001b[0;34m\u001b[0m\u001b[0m\n\u001b[1;32m    370\u001b[0m             \u001b[0;32mwith\u001b[0m \u001b[0mtorch\u001b[0m\u001b[0;34m.\u001b[0m\u001b[0mno_grad\u001b[0m\u001b[0;34m(\u001b[0m\u001b[0;34m)\u001b[0m\u001b[0;34m:\u001b[0m\u001b[0;34m\u001b[0m\u001b[0;34m\u001b[0m\u001b[0m\n\u001b[0;32m--> 371\u001b[0;31m                 \u001b[0mout_features\u001b[0m \u001b[0;34m=\u001b[0m \u001b[0mself\u001b[0m\u001b[0;34m.\u001b[0m\u001b[0mforward\u001b[0m\u001b[0;34m(\u001b[0m\u001b[0mfeatures\u001b[0m\u001b[0;34m)\u001b[0m\u001b[0;34m\u001b[0m\u001b[0;34m\u001b[0m\u001b[0m\n\u001b[0m\u001b[1;32m    372\u001b[0m                 out_features[\"sentence_embedding\"] = truncate_embeddings(\n\u001b[1;32m    373\u001b[0m                     \u001b[0mout_features\u001b[0m\u001b[0;34m[\u001b[0m\u001b[0;34m\"sentence_embedding\"\u001b[0m\u001b[0;34m]\u001b[0m\u001b[0;34m,\u001b[0m \u001b[0mself\u001b[0m\u001b[0;34m.\u001b[0m\u001b[0mtruncate_dim\u001b[0m\u001b[0;34m\u001b[0m\u001b[0;34m\u001b[0m\u001b[0m\n",
            "\u001b[0;32m/usr/local/lib/python3.10/dist-packages/torch/nn/modules/container.py\u001b[0m in \u001b[0;36mforward\u001b[0;34m(self, input)\u001b[0m\n\u001b[1;32m    215\u001b[0m     \u001b[0;32mdef\u001b[0m \u001b[0mforward\u001b[0m\u001b[0;34m(\u001b[0m\u001b[0mself\u001b[0m\u001b[0;34m,\u001b[0m \u001b[0minput\u001b[0m\u001b[0;34m)\u001b[0m\u001b[0;34m:\u001b[0m\u001b[0;34m\u001b[0m\u001b[0;34m\u001b[0m\u001b[0m\n\u001b[1;32m    216\u001b[0m         \u001b[0;32mfor\u001b[0m \u001b[0mmodule\u001b[0m \u001b[0;32min\u001b[0m \u001b[0mself\u001b[0m\u001b[0;34m:\u001b[0m\u001b[0;34m\u001b[0m\u001b[0;34m\u001b[0m\u001b[0m\n\u001b[0;32m--> 217\u001b[0;31m             \u001b[0minput\u001b[0m \u001b[0;34m=\u001b[0m \u001b[0mmodule\u001b[0m\u001b[0;34m(\u001b[0m\u001b[0minput\u001b[0m\u001b[0;34m)\u001b[0m\u001b[0;34m\u001b[0m\u001b[0;34m\u001b[0m\u001b[0m\n\u001b[0m\u001b[1;32m    218\u001b[0m         \u001b[0;32mreturn\u001b[0m \u001b[0minput\u001b[0m\u001b[0;34m\u001b[0m\u001b[0;34m\u001b[0m\u001b[0m\n\u001b[1;32m    219\u001b[0m \u001b[0;34m\u001b[0m\u001b[0m\n",
            "\u001b[0;32m/usr/local/lib/python3.10/dist-packages/torch/nn/modules/module.py\u001b[0m in \u001b[0;36m_wrapped_call_impl\u001b[0;34m(self, *args, **kwargs)\u001b[0m\n\u001b[1;32m   1509\u001b[0m             \u001b[0;32mreturn\u001b[0m \u001b[0mself\u001b[0m\u001b[0;34m.\u001b[0m\u001b[0m_compiled_call_impl\u001b[0m\u001b[0;34m(\u001b[0m\u001b[0;34m*\u001b[0m\u001b[0margs\u001b[0m\u001b[0;34m,\u001b[0m \u001b[0;34m**\u001b[0m\u001b[0mkwargs\u001b[0m\u001b[0;34m)\u001b[0m  \u001b[0;31m# type: ignore[misc]\u001b[0m\u001b[0;34m\u001b[0m\u001b[0;34m\u001b[0m\u001b[0m\n\u001b[1;32m   1510\u001b[0m         \u001b[0;32melse\u001b[0m\u001b[0;34m:\u001b[0m\u001b[0;34m\u001b[0m\u001b[0;34m\u001b[0m\u001b[0m\n\u001b[0;32m-> 1511\u001b[0;31m             \u001b[0;32mreturn\u001b[0m \u001b[0mself\u001b[0m\u001b[0;34m.\u001b[0m\u001b[0m_call_impl\u001b[0m\u001b[0;34m(\u001b[0m\u001b[0;34m*\u001b[0m\u001b[0margs\u001b[0m\u001b[0;34m,\u001b[0m \u001b[0;34m**\u001b[0m\u001b[0mkwargs\u001b[0m\u001b[0;34m)\u001b[0m\u001b[0;34m\u001b[0m\u001b[0;34m\u001b[0m\u001b[0m\n\u001b[0m\u001b[1;32m   1512\u001b[0m \u001b[0;34m\u001b[0m\u001b[0m\n\u001b[1;32m   1513\u001b[0m     \u001b[0;32mdef\u001b[0m \u001b[0m_call_impl\u001b[0m\u001b[0;34m(\u001b[0m\u001b[0mself\u001b[0m\u001b[0;34m,\u001b[0m \u001b[0;34m*\u001b[0m\u001b[0margs\u001b[0m\u001b[0;34m,\u001b[0m \u001b[0;34m**\u001b[0m\u001b[0mkwargs\u001b[0m\u001b[0;34m)\u001b[0m\u001b[0;34m:\u001b[0m\u001b[0;34m\u001b[0m\u001b[0;34m\u001b[0m\u001b[0m\n",
            "\u001b[0;32m/usr/local/lib/python3.10/dist-packages/torch/nn/modules/module.py\u001b[0m in \u001b[0;36m_call_impl\u001b[0;34m(self, *args, **kwargs)\u001b[0m\n\u001b[1;32m   1518\u001b[0m                 \u001b[0;32mor\u001b[0m \u001b[0m_global_backward_pre_hooks\u001b[0m \u001b[0;32mor\u001b[0m \u001b[0m_global_backward_hooks\u001b[0m\u001b[0;34m\u001b[0m\u001b[0;34m\u001b[0m\u001b[0m\n\u001b[1;32m   1519\u001b[0m                 or _global_forward_hooks or _global_forward_pre_hooks):\n\u001b[0;32m-> 1520\u001b[0;31m             \u001b[0;32mreturn\u001b[0m \u001b[0mforward_call\u001b[0m\u001b[0;34m(\u001b[0m\u001b[0;34m*\u001b[0m\u001b[0margs\u001b[0m\u001b[0;34m,\u001b[0m \u001b[0;34m**\u001b[0m\u001b[0mkwargs\u001b[0m\u001b[0;34m)\u001b[0m\u001b[0;34m\u001b[0m\u001b[0;34m\u001b[0m\u001b[0m\n\u001b[0m\u001b[1;32m   1521\u001b[0m \u001b[0;34m\u001b[0m\u001b[0m\n\u001b[1;32m   1522\u001b[0m         \u001b[0;32mtry\u001b[0m\u001b[0;34m:\u001b[0m\u001b[0;34m\u001b[0m\u001b[0;34m\u001b[0m\u001b[0m\n",
            "\u001b[0;32m/usr/local/lib/python3.10/dist-packages/sentence_transformers/models/Transformer.py\u001b[0m in \u001b[0;36mforward\u001b[0;34m(self, features)\u001b[0m\n\u001b[1;32m     96\u001b[0m             \u001b[0mtrans_features\u001b[0m\u001b[0;34m[\u001b[0m\u001b[0;34m\"token_type_ids\"\u001b[0m\u001b[0;34m]\u001b[0m \u001b[0;34m=\u001b[0m \u001b[0mfeatures\u001b[0m\u001b[0;34m[\u001b[0m\u001b[0;34m\"token_type_ids\"\u001b[0m\u001b[0;34m]\u001b[0m\u001b[0;34m\u001b[0m\u001b[0;34m\u001b[0m\u001b[0m\n\u001b[1;32m     97\u001b[0m \u001b[0;34m\u001b[0m\u001b[0m\n\u001b[0;32m---> 98\u001b[0;31m         \u001b[0moutput_states\u001b[0m \u001b[0;34m=\u001b[0m \u001b[0mself\u001b[0m\u001b[0;34m.\u001b[0m\u001b[0mauto_model\u001b[0m\u001b[0;34m(\u001b[0m\u001b[0;34m**\u001b[0m\u001b[0mtrans_features\u001b[0m\u001b[0;34m,\u001b[0m \u001b[0mreturn_dict\u001b[0m\u001b[0;34m=\u001b[0m\u001b[0;32mFalse\u001b[0m\u001b[0;34m)\u001b[0m\u001b[0;34m\u001b[0m\u001b[0;34m\u001b[0m\u001b[0m\n\u001b[0m\u001b[1;32m     99\u001b[0m         \u001b[0moutput_tokens\u001b[0m \u001b[0;34m=\u001b[0m \u001b[0moutput_states\u001b[0m\u001b[0;34m[\u001b[0m\u001b[0;36m0\u001b[0m\u001b[0;34m]\u001b[0m\u001b[0;34m\u001b[0m\u001b[0;34m\u001b[0m\u001b[0m\n\u001b[1;32m    100\u001b[0m \u001b[0;34m\u001b[0m\u001b[0m\n",
            "\u001b[0;32m/usr/local/lib/python3.10/dist-packages/torch/nn/modules/module.py\u001b[0m in \u001b[0;36m_wrapped_call_impl\u001b[0;34m(self, *args, **kwargs)\u001b[0m\n\u001b[1;32m   1509\u001b[0m             \u001b[0;32mreturn\u001b[0m \u001b[0mself\u001b[0m\u001b[0;34m.\u001b[0m\u001b[0m_compiled_call_impl\u001b[0m\u001b[0;34m(\u001b[0m\u001b[0;34m*\u001b[0m\u001b[0margs\u001b[0m\u001b[0;34m,\u001b[0m \u001b[0;34m**\u001b[0m\u001b[0mkwargs\u001b[0m\u001b[0;34m)\u001b[0m  \u001b[0;31m# type: ignore[misc]\u001b[0m\u001b[0;34m\u001b[0m\u001b[0;34m\u001b[0m\u001b[0m\n\u001b[1;32m   1510\u001b[0m         \u001b[0;32melse\u001b[0m\u001b[0;34m:\u001b[0m\u001b[0;34m\u001b[0m\u001b[0;34m\u001b[0m\u001b[0m\n\u001b[0;32m-> 1511\u001b[0;31m             \u001b[0;32mreturn\u001b[0m \u001b[0mself\u001b[0m\u001b[0;34m.\u001b[0m\u001b[0m_call_impl\u001b[0m\u001b[0;34m(\u001b[0m\u001b[0;34m*\u001b[0m\u001b[0margs\u001b[0m\u001b[0;34m,\u001b[0m \u001b[0;34m**\u001b[0m\u001b[0mkwargs\u001b[0m\u001b[0;34m)\u001b[0m\u001b[0;34m\u001b[0m\u001b[0;34m\u001b[0m\u001b[0m\n\u001b[0m\u001b[1;32m   1512\u001b[0m \u001b[0;34m\u001b[0m\u001b[0m\n\u001b[1;32m   1513\u001b[0m     \u001b[0;32mdef\u001b[0m \u001b[0m_call_impl\u001b[0m\u001b[0;34m(\u001b[0m\u001b[0mself\u001b[0m\u001b[0;34m,\u001b[0m \u001b[0;34m*\u001b[0m\u001b[0margs\u001b[0m\u001b[0;34m,\u001b[0m \u001b[0;34m**\u001b[0m\u001b[0mkwargs\u001b[0m\u001b[0;34m)\u001b[0m\u001b[0;34m:\u001b[0m\u001b[0;34m\u001b[0m\u001b[0;34m\u001b[0m\u001b[0m\n",
            "\u001b[0;32m/usr/local/lib/python3.10/dist-packages/torch/nn/modules/module.py\u001b[0m in \u001b[0;36m_call_impl\u001b[0;34m(self, *args, **kwargs)\u001b[0m\n\u001b[1;32m   1518\u001b[0m                 \u001b[0;32mor\u001b[0m \u001b[0m_global_backward_pre_hooks\u001b[0m \u001b[0;32mor\u001b[0m \u001b[0m_global_backward_hooks\u001b[0m\u001b[0;34m\u001b[0m\u001b[0;34m\u001b[0m\u001b[0m\n\u001b[1;32m   1519\u001b[0m                 or _global_forward_hooks or _global_forward_pre_hooks):\n\u001b[0;32m-> 1520\u001b[0;31m             \u001b[0;32mreturn\u001b[0m \u001b[0mforward_call\u001b[0m\u001b[0;34m(\u001b[0m\u001b[0;34m*\u001b[0m\u001b[0margs\u001b[0m\u001b[0;34m,\u001b[0m \u001b[0;34m**\u001b[0m\u001b[0mkwargs\u001b[0m\u001b[0;34m)\u001b[0m\u001b[0;34m\u001b[0m\u001b[0;34m\u001b[0m\u001b[0m\n\u001b[0m\u001b[1;32m   1521\u001b[0m \u001b[0;34m\u001b[0m\u001b[0m\n\u001b[1;32m   1522\u001b[0m         \u001b[0;32mtry\u001b[0m\u001b[0;34m:\u001b[0m\u001b[0;34m\u001b[0m\u001b[0;34m\u001b[0m\u001b[0m\n",
            "\u001b[0;32m/usr/local/lib/python3.10/dist-packages/transformers/models/bert/modeling_bert.py\u001b[0m in \u001b[0;36mforward\u001b[0;34m(self, input_ids, attention_mask, token_type_ids, position_ids, head_mask, inputs_embeds, encoder_hidden_states, encoder_attention_mask, past_key_values, use_cache, output_attentions, output_hidden_states, return_dict)\u001b[0m\n\u001b[1;32m    986\u001b[0m             \u001b[0mpast_key_values_length\u001b[0m\u001b[0;34m=\u001b[0m\u001b[0mpast_key_values_length\u001b[0m\u001b[0;34m,\u001b[0m\u001b[0;34m\u001b[0m\u001b[0;34m\u001b[0m\u001b[0m\n\u001b[1;32m    987\u001b[0m         )\n\u001b[0;32m--> 988\u001b[0;31m         encoder_outputs = self.encoder(\n\u001b[0m\u001b[1;32m    989\u001b[0m             \u001b[0membedding_output\u001b[0m\u001b[0;34m,\u001b[0m\u001b[0;34m\u001b[0m\u001b[0;34m\u001b[0m\u001b[0m\n\u001b[1;32m    990\u001b[0m             \u001b[0mattention_mask\u001b[0m\u001b[0;34m=\u001b[0m\u001b[0mextended_attention_mask\u001b[0m\u001b[0;34m,\u001b[0m\u001b[0;34m\u001b[0m\u001b[0;34m\u001b[0m\u001b[0m\n",
            "\u001b[0;32m/usr/local/lib/python3.10/dist-packages/torch/nn/modules/module.py\u001b[0m in \u001b[0;36m_wrapped_call_impl\u001b[0;34m(self, *args, **kwargs)\u001b[0m\n\u001b[1;32m   1509\u001b[0m             \u001b[0;32mreturn\u001b[0m \u001b[0mself\u001b[0m\u001b[0;34m.\u001b[0m\u001b[0m_compiled_call_impl\u001b[0m\u001b[0;34m(\u001b[0m\u001b[0;34m*\u001b[0m\u001b[0margs\u001b[0m\u001b[0;34m,\u001b[0m \u001b[0;34m**\u001b[0m\u001b[0mkwargs\u001b[0m\u001b[0;34m)\u001b[0m  \u001b[0;31m# type: ignore[misc]\u001b[0m\u001b[0;34m\u001b[0m\u001b[0;34m\u001b[0m\u001b[0m\n\u001b[1;32m   1510\u001b[0m         \u001b[0;32melse\u001b[0m\u001b[0;34m:\u001b[0m\u001b[0;34m\u001b[0m\u001b[0;34m\u001b[0m\u001b[0m\n\u001b[0;32m-> 1511\u001b[0;31m             \u001b[0;32mreturn\u001b[0m \u001b[0mself\u001b[0m\u001b[0;34m.\u001b[0m\u001b[0m_call_impl\u001b[0m\u001b[0;34m(\u001b[0m\u001b[0;34m*\u001b[0m\u001b[0margs\u001b[0m\u001b[0;34m,\u001b[0m \u001b[0;34m**\u001b[0m\u001b[0mkwargs\u001b[0m\u001b[0;34m)\u001b[0m\u001b[0;34m\u001b[0m\u001b[0;34m\u001b[0m\u001b[0m\n\u001b[0m\u001b[1;32m   1512\u001b[0m \u001b[0;34m\u001b[0m\u001b[0m\n\u001b[1;32m   1513\u001b[0m     \u001b[0;32mdef\u001b[0m \u001b[0m_call_impl\u001b[0m\u001b[0;34m(\u001b[0m\u001b[0mself\u001b[0m\u001b[0;34m,\u001b[0m \u001b[0;34m*\u001b[0m\u001b[0margs\u001b[0m\u001b[0;34m,\u001b[0m \u001b[0;34m**\u001b[0m\u001b[0mkwargs\u001b[0m\u001b[0;34m)\u001b[0m\u001b[0;34m:\u001b[0m\u001b[0;34m\u001b[0m\u001b[0;34m\u001b[0m\u001b[0m\n",
            "\u001b[0;32m/usr/local/lib/python3.10/dist-packages/torch/nn/modules/module.py\u001b[0m in \u001b[0;36m_call_impl\u001b[0;34m(self, *args, **kwargs)\u001b[0m\n\u001b[1;32m   1518\u001b[0m                 \u001b[0;32mor\u001b[0m \u001b[0m_global_backward_pre_hooks\u001b[0m \u001b[0;32mor\u001b[0m \u001b[0m_global_backward_hooks\u001b[0m\u001b[0;34m\u001b[0m\u001b[0;34m\u001b[0m\u001b[0m\n\u001b[1;32m   1519\u001b[0m                 or _global_forward_hooks or _global_forward_pre_hooks):\n\u001b[0;32m-> 1520\u001b[0;31m             \u001b[0;32mreturn\u001b[0m \u001b[0mforward_call\u001b[0m\u001b[0;34m(\u001b[0m\u001b[0;34m*\u001b[0m\u001b[0margs\u001b[0m\u001b[0;34m,\u001b[0m \u001b[0;34m**\u001b[0m\u001b[0mkwargs\u001b[0m\u001b[0;34m)\u001b[0m\u001b[0;34m\u001b[0m\u001b[0;34m\u001b[0m\u001b[0m\n\u001b[0m\u001b[1;32m   1521\u001b[0m \u001b[0;34m\u001b[0m\u001b[0m\n\u001b[1;32m   1522\u001b[0m         \u001b[0;32mtry\u001b[0m\u001b[0;34m:\u001b[0m\u001b[0;34m\u001b[0m\u001b[0;34m\u001b[0m\u001b[0m\n",
            "\u001b[0;32m/usr/local/lib/python3.10/dist-packages/transformers/models/bert/modeling_bert.py\u001b[0m in \u001b[0;36mforward\u001b[0;34m(self, hidden_states, attention_mask, head_mask, encoder_hidden_states, encoder_attention_mask, past_key_values, use_cache, output_attentions, output_hidden_states, return_dict)\u001b[0m\n\u001b[1;32m    580\u001b[0m                 )\n\u001b[1;32m    581\u001b[0m             \u001b[0;32melse\u001b[0m\u001b[0;34m:\u001b[0m\u001b[0;34m\u001b[0m\u001b[0;34m\u001b[0m\u001b[0m\n\u001b[0;32m--> 582\u001b[0;31m                 layer_outputs = layer_module(\n\u001b[0m\u001b[1;32m    583\u001b[0m                     \u001b[0mhidden_states\u001b[0m\u001b[0;34m,\u001b[0m\u001b[0;34m\u001b[0m\u001b[0;34m\u001b[0m\u001b[0m\n\u001b[1;32m    584\u001b[0m                     \u001b[0mattention_mask\u001b[0m\u001b[0;34m,\u001b[0m\u001b[0;34m\u001b[0m\u001b[0;34m\u001b[0m\u001b[0m\n",
            "\u001b[0;32m/usr/local/lib/python3.10/dist-packages/torch/nn/modules/module.py\u001b[0m in \u001b[0;36m_wrapped_call_impl\u001b[0;34m(self, *args, **kwargs)\u001b[0m\n\u001b[1;32m   1509\u001b[0m             \u001b[0;32mreturn\u001b[0m \u001b[0mself\u001b[0m\u001b[0;34m.\u001b[0m\u001b[0m_compiled_call_impl\u001b[0m\u001b[0;34m(\u001b[0m\u001b[0;34m*\u001b[0m\u001b[0margs\u001b[0m\u001b[0;34m,\u001b[0m \u001b[0;34m**\u001b[0m\u001b[0mkwargs\u001b[0m\u001b[0;34m)\u001b[0m  \u001b[0;31m# type: ignore[misc]\u001b[0m\u001b[0;34m\u001b[0m\u001b[0;34m\u001b[0m\u001b[0m\n\u001b[1;32m   1510\u001b[0m         \u001b[0;32melse\u001b[0m\u001b[0;34m:\u001b[0m\u001b[0;34m\u001b[0m\u001b[0;34m\u001b[0m\u001b[0m\n\u001b[0;32m-> 1511\u001b[0;31m             \u001b[0;32mreturn\u001b[0m \u001b[0mself\u001b[0m\u001b[0;34m.\u001b[0m\u001b[0m_call_impl\u001b[0m\u001b[0;34m(\u001b[0m\u001b[0;34m*\u001b[0m\u001b[0margs\u001b[0m\u001b[0;34m,\u001b[0m \u001b[0;34m**\u001b[0m\u001b[0mkwargs\u001b[0m\u001b[0;34m)\u001b[0m\u001b[0;34m\u001b[0m\u001b[0;34m\u001b[0m\u001b[0m\n\u001b[0m\u001b[1;32m   1512\u001b[0m \u001b[0;34m\u001b[0m\u001b[0m\n\u001b[1;32m   1513\u001b[0m     \u001b[0;32mdef\u001b[0m \u001b[0m_call_impl\u001b[0m\u001b[0;34m(\u001b[0m\u001b[0mself\u001b[0m\u001b[0;34m,\u001b[0m \u001b[0;34m*\u001b[0m\u001b[0margs\u001b[0m\u001b[0;34m,\u001b[0m \u001b[0;34m**\u001b[0m\u001b[0mkwargs\u001b[0m\u001b[0;34m)\u001b[0m\u001b[0;34m:\u001b[0m\u001b[0;34m\u001b[0m\u001b[0;34m\u001b[0m\u001b[0m\n",
            "\u001b[0;32m/usr/local/lib/python3.10/dist-packages/torch/nn/modules/module.py\u001b[0m in \u001b[0;36m_call_impl\u001b[0;34m(self, *args, **kwargs)\u001b[0m\n\u001b[1;32m   1518\u001b[0m                 \u001b[0;32mor\u001b[0m \u001b[0m_global_backward_pre_hooks\u001b[0m \u001b[0;32mor\u001b[0m \u001b[0m_global_backward_hooks\u001b[0m\u001b[0;34m\u001b[0m\u001b[0;34m\u001b[0m\u001b[0m\n\u001b[1;32m   1519\u001b[0m                 or _global_forward_hooks or _global_forward_pre_hooks):\n\u001b[0;32m-> 1520\u001b[0;31m             \u001b[0;32mreturn\u001b[0m \u001b[0mforward_call\u001b[0m\u001b[0;34m(\u001b[0m\u001b[0;34m*\u001b[0m\u001b[0margs\u001b[0m\u001b[0;34m,\u001b[0m \u001b[0;34m**\u001b[0m\u001b[0mkwargs\u001b[0m\u001b[0;34m)\u001b[0m\u001b[0;34m\u001b[0m\u001b[0;34m\u001b[0m\u001b[0m\n\u001b[0m\u001b[1;32m   1521\u001b[0m \u001b[0;34m\u001b[0m\u001b[0m\n\u001b[1;32m   1522\u001b[0m         \u001b[0;32mtry\u001b[0m\u001b[0;34m:\u001b[0m\u001b[0;34m\u001b[0m\u001b[0;34m\u001b[0m\u001b[0m\n",
            "\u001b[0;32m/usr/local/lib/python3.10/dist-packages/transformers/models/bert/modeling_bert.py\u001b[0m in \u001b[0;36mforward\u001b[0;34m(self, hidden_states, attention_mask, head_mask, encoder_hidden_states, encoder_attention_mask, past_key_value, output_attentions)\u001b[0m\n\u001b[1;32m    512\u001b[0m             \u001b[0mpresent_key_value\u001b[0m \u001b[0;34m=\u001b[0m \u001b[0mpresent_key_value\u001b[0m \u001b[0;34m+\u001b[0m \u001b[0mcross_attn_present_key_value\u001b[0m\u001b[0;34m\u001b[0m\u001b[0;34m\u001b[0m\u001b[0m\n\u001b[1;32m    513\u001b[0m \u001b[0;34m\u001b[0m\u001b[0m\n\u001b[0;32m--> 514\u001b[0;31m         layer_output = apply_chunking_to_forward(\n\u001b[0m\u001b[1;32m    515\u001b[0m             \u001b[0mself\u001b[0m\u001b[0;34m.\u001b[0m\u001b[0mfeed_forward_chunk\u001b[0m\u001b[0;34m,\u001b[0m \u001b[0mself\u001b[0m\u001b[0;34m.\u001b[0m\u001b[0mchunk_size_feed_forward\u001b[0m\u001b[0;34m,\u001b[0m \u001b[0mself\u001b[0m\u001b[0;34m.\u001b[0m\u001b[0mseq_len_dim\u001b[0m\u001b[0;34m,\u001b[0m \u001b[0mattention_output\u001b[0m\u001b[0;34m\u001b[0m\u001b[0;34m\u001b[0m\u001b[0m\n\u001b[1;32m    516\u001b[0m         )\n",
            "\u001b[0;32m/usr/local/lib/python3.10/dist-packages/transformers/pytorch_utils.py\u001b[0m in \u001b[0;36mapply_chunking_to_forward\u001b[0;34m(forward_fn, chunk_size, chunk_dim, *input_tensors)\u001b[0m\n\u001b[1;32m    235\u001b[0m         \u001b[0;32mreturn\u001b[0m \u001b[0mtorch\u001b[0m\u001b[0;34m.\u001b[0m\u001b[0mcat\u001b[0m\u001b[0;34m(\u001b[0m\u001b[0moutput_chunks\u001b[0m\u001b[0;34m,\u001b[0m \u001b[0mdim\u001b[0m\u001b[0;34m=\u001b[0m\u001b[0mchunk_dim\u001b[0m\u001b[0;34m)\u001b[0m\u001b[0;34m\u001b[0m\u001b[0;34m\u001b[0m\u001b[0m\n\u001b[1;32m    236\u001b[0m \u001b[0;34m\u001b[0m\u001b[0m\n\u001b[0;32m--> 237\u001b[0;31m     \u001b[0;32mreturn\u001b[0m \u001b[0mforward_fn\u001b[0m\u001b[0;34m(\u001b[0m\u001b[0;34m*\u001b[0m\u001b[0minput_tensors\u001b[0m\u001b[0;34m)\u001b[0m\u001b[0;34m\u001b[0m\u001b[0;34m\u001b[0m\u001b[0m\n\u001b[0m\u001b[1;32m    238\u001b[0m \u001b[0;34m\u001b[0m\u001b[0m\n\u001b[1;32m    239\u001b[0m \u001b[0;34m\u001b[0m\u001b[0m\n",
            "\u001b[0;32m/usr/local/lib/python3.10/dist-packages/transformers/models/bert/modeling_bert.py\u001b[0m in \u001b[0;36mfeed_forward_chunk\u001b[0;34m(self, attention_output)\u001b[0m\n\u001b[1;32m    525\u001b[0m     \u001b[0;32mdef\u001b[0m \u001b[0mfeed_forward_chunk\u001b[0m\u001b[0;34m(\u001b[0m\u001b[0mself\u001b[0m\u001b[0;34m,\u001b[0m \u001b[0mattention_output\u001b[0m\u001b[0;34m)\u001b[0m\u001b[0;34m:\u001b[0m\u001b[0;34m\u001b[0m\u001b[0;34m\u001b[0m\u001b[0m\n\u001b[1;32m    526\u001b[0m         \u001b[0mintermediate_output\u001b[0m \u001b[0;34m=\u001b[0m \u001b[0mself\u001b[0m\u001b[0;34m.\u001b[0m\u001b[0mintermediate\u001b[0m\u001b[0;34m(\u001b[0m\u001b[0mattention_output\u001b[0m\u001b[0;34m)\u001b[0m\u001b[0;34m\u001b[0m\u001b[0;34m\u001b[0m\u001b[0m\n\u001b[0;32m--> 527\u001b[0;31m         \u001b[0mlayer_output\u001b[0m \u001b[0;34m=\u001b[0m \u001b[0mself\u001b[0m\u001b[0;34m.\u001b[0m\u001b[0moutput\u001b[0m\u001b[0;34m(\u001b[0m\u001b[0mintermediate_output\u001b[0m\u001b[0;34m,\u001b[0m \u001b[0mattention_output\u001b[0m\u001b[0;34m)\u001b[0m\u001b[0;34m\u001b[0m\u001b[0;34m\u001b[0m\u001b[0m\n\u001b[0m\u001b[1;32m    528\u001b[0m         \u001b[0;32mreturn\u001b[0m \u001b[0mlayer_output\u001b[0m\u001b[0;34m\u001b[0m\u001b[0;34m\u001b[0m\u001b[0m\n\u001b[1;32m    529\u001b[0m \u001b[0;34m\u001b[0m\u001b[0m\n",
            "\u001b[0;32m/usr/local/lib/python3.10/dist-packages/torch/nn/modules/module.py\u001b[0m in \u001b[0;36m_wrapped_call_impl\u001b[0;34m(self, *args, **kwargs)\u001b[0m\n\u001b[1;32m   1509\u001b[0m             \u001b[0;32mreturn\u001b[0m \u001b[0mself\u001b[0m\u001b[0;34m.\u001b[0m\u001b[0m_compiled_call_impl\u001b[0m\u001b[0;34m(\u001b[0m\u001b[0;34m*\u001b[0m\u001b[0margs\u001b[0m\u001b[0;34m,\u001b[0m \u001b[0;34m**\u001b[0m\u001b[0mkwargs\u001b[0m\u001b[0;34m)\u001b[0m  \u001b[0;31m# type: ignore[misc]\u001b[0m\u001b[0;34m\u001b[0m\u001b[0;34m\u001b[0m\u001b[0m\n\u001b[1;32m   1510\u001b[0m         \u001b[0;32melse\u001b[0m\u001b[0;34m:\u001b[0m\u001b[0;34m\u001b[0m\u001b[0;34m\u001b[0m\u001b[0m\n\u001b[0;32m-> 1511\u001b[0;31m             \u001b[0;32mreturn\u001b[0m \u001b[0mself\u001b[0m\u001b[0;34m.\u001b[0m\u001b[0m_call_impl\u001b[0m\u001b[0;34m(\u001b[0m\u001b[0;34m*\u001b[0m\u001b[0margs\u001b[0m\u001b[0;34m,\u001b[0m \u001b[0;34m**\u001b[0m\u001b[0mkwargs\u001b[0m\u001b[0;34m)\u001b[0m\u001b[0;34m\u001b[0m\u001b[0;34m\u001b[0m\u001b[0m\n\u001b[0m\u001b[1;32m   1512\u001b[0m \u001b[0;34m\u001b[0m\u001b[0m\n\u001b[1;32m   1513\u001b[0m     \u001b[0;32mdef\u001b[0m \u001b[0m_call_impl\u001b[0m\u001b[0;34m(\u001b[0m\u001b[0mself\u001b[0m\u001b[0;34m,\u001b[0m \u001b[0;34m*\u001b[0m\u001b[0margs\u001b[0m\u001b[0;34m,\u001b[0m \u001b[0;34m**\u001b[0m\u001b[0mkwargs\u001b[0m\u001b[0;34m)\u001b[0m\u001b[0;34m:\u001b[0m\u001b[0;34m\u001b[0m\u001b[0;34m\u001b[0m\u001b[0m\n",
            "\u001b[0;32m/usr/local/lib/python3.10/dist-packages/torch/nn/modules/module.py\u001b[0m in \u001b[0;36m_call_impl\u001b[0;34m(self, *args, **kwargs)\u001b[0m\n\u001b[1;32m   1518\u001b[0m                 \u001b[0;32mor\u001b[0m \u001b[0m_global_backward_pre_hooks\u001b[0m \u001b[0;32mor\u001b[0m \u001b[0m_global_backward_hooks\u001b[0m\u001b[0;34m\u001b[0m\u001b[0;34m\u001b[0m\u001b[0m\n\u001b[1;32m   1519\u001b[0m                 or _global_forward_hooks or _global_forward_pre_hooks):\n\u001b[0;32m-> 1520\u001b[0;31m             \u001b[0;32mreturn\u001b[0m \u001b[0mforward_call\u001b[0m\u001b[0;34m(\u001b[0m\u001b[0;34m*\u001b[0m\u001b[0margs\u001b[0m\u001b[0;34m,\u001b[0m \u001b[0;34m**\u001b[0m\u001b[0mkwargs\u001b[0m\u001b[0;34m)\u001b[0m\u001b[0;34m\u001b[0m\u001b[0;34m\u001b[0m\u001b[0m\n\u001b[0m\u001b[1;32m   1521\u001b[0m \u001b[0;34m\u001b[0m\u001b[0m\n\u001b[1;32m   1522\u001b[0m         \u001b[0;32mtry\u001b[0m\u001b[0;34m:\u001b[0m\u001b[0;34m\u001b[0m\u001b[0;34m\u001b[0m\u001b[0m\n",
            "\u001b[0;32m/usr/local/lib/python3.10/dist-packages/transformers/models/bert/modeling_bert.py\u001b[0m in \u001b[0;36mforward\u001b[0;34m(self, hidden_states, input_tensor)\u001b[0m\n\u001b[1;32m    437\u001b[0m \u001b[0;34m\u001b[0m\u001b[0m\n\u001b[1;32m    438\u001b[0m     \u001b[0;32mdef\u001b[0m \u001b[0mforward\u001b[0m\u001b[0;34m(\u001b[0m\u001b[0mself\u001b[0m\u001b[0;34m,\u001b[0m \u001b[0mhidden_states\u001b[0m\u001b[0;34m:\u001b[0m \u001b[0mtorch\u001b[0m\u001b[0;34m.\u001b[0m\u001b[0mTensor\u001b[0m\u001b[0;34m,\u001b[0m \u001b[0minput_tensor\u001b[0m\u001b[0;34m:\u001b[0m \u001b[0mtorch\u001b[0m\u001b[0;34m.\u001b[0m\u001b[0mTensor\u001b[0m\u001b[0;34m)\u001b[0m \u001b[0;34m->\u001b[0m \u001b[0mtorch\u001b[0m\u001b[0;34m.\u001b[0m\u001b[0mTensor\u001b[0m\u001b[0;34m:\u001b[0m\u001b[0;34m\u001b[0m\u001b[0;34m\u001b[0m\u001b[0m\n\u001b[0;32m--> 439\u001b[0;31m         \u001b[0mhidden_states\u001b[0m \u001b[0;34m=\u001b[0m \u001b[0mself\u001b[0m\u001b[0;34m.\u001b[0m\u001b[0mdense\u001b[0m\u001b[0;34m(\u001b[0m\u001b[0mhidden_states\u001b[0m\u001b[0;34m)\u001b[0m\u001b[0;34m\u001b[0m\u001b[0;34m\u001b[0m\u001b[0m\n\u001b[0m\u001b[1;32m    440\u001b[0m         \u001b[0mhidden_states\u001b[0m \u001b[0;34m=\u001b[0m \u001b[0mself\u001b[0m\u001b[0;34m.\u001b[0m\u001b[0mdropout\u001b[0m\u001b[0;34m(\u001b[0m\u001b[0mhidden_states\u001b[0m\u001b[0;34m)\u001b[0m\u001b[0;34m\u001b[0m\u001b[0;34m\u001b[0m\u001b[0m\n\u001b[1;32m    441\u001b[0m         \u001b[0mhidden_states\u001b[0m \u001b[0;34m=\u001b[0m \u001b[0mself\u001b[0m\u001b[0;34m.\u001b[0m\u001b[0mLayerNorm\u001b[0m\u001b[0;34m(\u001b[0m\u001b[0mhidden_states\u001b[0m \u001b[0;34m+\u001b[0m \u001b[0minput_tensor\u001b[0m\u001b[0;34m)\u001b[0m\u001b[0;34m\u001b[0m\u001b[0;34m\u001b[0m\u001b[0m\n",
            "\u001b[0;32m/usr/local/lib/python3.10/dist-packages/torch/nn/modules/module.py\u001b[0m in \u001b[0;36m_wrapped_call_impl\u001b[0;34m(self, *args, **kwargs)\u001b[0m\n\u001b[1;32m   1509\u001b[0m             \u001b[0;32mreturn\u001b[0m \u001b[0mself\u001b[0m\u001b[0;34m.\u001b[0m\u001b[0m_compiled_call_impl\u001b[0m\u001b[0;34m(\u001b[0m\u001b[0;34m*\u001b[0m\u001b[0margs\u001b[0m\u001b[0;34m,\u001b[0m \u001b[0;34m**\u001b[0m\u001b[0mkwargs\u001b[0m\u001b[0;34m)\u001b[0m  \u001b[0;31m# type: ignore[misc]\u001b[0m\u001b[0;34m\u001b[0m\u001b[0;34m\u001b[0m\u001b[0m\n\u001b[1;32m   1510\u001b[0m         \u001b[0;32melse\u001b[0m\u001b[0;34m:\u001b[0m\u001b[0;34m\u001b[0m\u001b[0;34m\u001b[0m\u001b[0m\n\u001b[0;32m-> 1511\u001b[0;31m             \u001b[0;32mreturn\u001b[0m \u001b[0mself\u001b[0m\u001b[0;34m.\u001b[0m\u001b[0m_call_impl\u001b[0m\u001b[0;34m(\u001b[0m\u001b[0;34m*\u001b[0m\u001b[0margs\u001b[0m\u001b[0;34m,\u001b[0m \u001b[0;34m**\u001b[0m\u001b[0mkwargs\u001b[0m\u001b[0;34m)\u001b[0m\u001b[0;34m\u001b[0m\u001b[0;34m\u001b[0m\u001b[0m\n\u001b[0m\u001b[1;32m   1512\u001b[0m \u001b[0;34m\u001b[0m\u001b[0m\n\u001b[1;32m   1513\u001b[0m     \u001b[0;32mdef\u001b[0m \u001b[0m_call_impl\u001b[0m\u001b[0;34m(\u001b[0m\u001b[0mself\u001b[0m\u001b[0;34m,\u001b[0m \u001b[0;34m*\u001b[0m\u001b[0margs\u001b[0m\u001b[0;34m,\u001b[0m \u001b[0;34m**\u001b[0m\u001b[0mkwargs\u001b[0m\u001b[0;34m)\u001b[0m\u001b[0;34m:\u001b[0m\u001b[0;34m\u001b[0m\u001b[0;34m\u001b[0m\u001b[0m\n",
            "\u001b[0;32m/usr/local/lib/python3.10/dist-packages/torch/nn/modules/module.py\u001b[0m in \u001b[0;36m_call_impl\u001b[0;34m(self, *args, **kwargs)\u001b[0m\n\u001b[1;32m   1518\u001b[0m                 \u001b[0;32mor\u001b[0m \u001b[0m_global_backward_pre_hooks\u001b[0m \u001b[0;32mor\u001b[0m \u001b[0m_global_backward_hooks\u001b[0m\u001b[0;34m\u001b[0m\u001b[0;34m\u001b[0m\u001b[0m\n\u001b[1;32m   1519\u001b[0m                 or _global_forward_hooks or _global_forward_pre_hooks):\n\u001b[0;32m-> 1520\u001b[0;31m             \u001b[0;32mreturn\u001b[0m \u001b[0mforward_call\u001b[0m\u001b[0;34m(\u001b[0m\u001b[0;34m*\u001b[0m\u001b[0margs\u001b[0m\u001b[0;34m,\u001b[0m \u001b[0;34m**\u001b[0m\u001b[0mkwargs\u001b[0m\u001b[0;34m)\u001b[0m\u001b[0;34m\u001b[0m\u001b[0;34m\u001b[0m\u001b[0m\n\u001b[0m\u001b[1;32m   1521\u001b[0m \u001b[0;34m\u001b[0m\u001b[0m\n\u001b[1;32m   1522\u001b[0m         \u001b[0;32mtry\u001b[0m\u001b[0;34m:\u001b[0m\u001b[0;34m\u001b[0m\u001b[0;34m\u001b[0m\u001b[0m\n",
            "\u001b[0;32m/usr/local/lib/python3.10/dist-packages/torch/nn/modules/linear.py\u001b[0m in \u001b[0;36mforward\u001b[0;34m(self, input)\u001b[0m\n\u001b[1;32m    114\u001b[0m \u001b[0;34m\u001b[0m\u001b[0m\n\u001b[1;32m    115\u001b[0m     \u001b[0;32mdef\u001b[0m \u001b[0mforward\u001b[0m\u001b[0;34m(\u001b[0m\u001b[0mself\u001b[0m\u001b[0;34m,\u001b[0m \u001b[0minput\u001b[0m\u001b[0;34m:\u001b[0m \u001b[0mTensor\u001b[0m\u001b[0;34m)\u001b[0m \u001b[0;34m->\u001b[0m \u001b[0mTensor\u001b[0m\u001b[0;34m:\u001b[0m\u001b[0;34m\u001b[0m\u001b[0;34m\u001b[0m\u001b[0m\n\u001b[0;32m--> 116\u001b[0;31m         \u001b[0;32mreturn\u001b[0m \u001b[0mF\u001b[0m\u001b[0;34m.\u001b[0m\u001b[0mlinear\u001b[0m\u001b[0;34m(\u001b[0m\u001b[0minput\u001b[0m\u001b[0;34m,\u001b[0m \u001b[0mself\u001b[0m\u001b[0;34m.\u001b[0m\u001b[0mweight\u001b[0m\u001b[0;34m,\u001b[0m \u001b[0mself\u001b[0m\u001b[0;34m.\u001b[0m\u001b[0mbias\u001b[0m\u001b[0;34m)\u001b[0m\u001b[0;34m\u001b[0m\u001b[0;34m\u001b[0m\u001b[0m\n\u001b[0m\u001b[1;32m    117\u001b[0m \u001b[0;34m\u001b[0m\u001b[0m\n\u001b[1;32m    118\u001b[0m     \u001b[0;32mdef\u001b[0m \u001b[0mextra_repr\u001b[0m\u001b[0;34m(\u001b[0m\u001b[0mself\u001b[0m\u001b[0;34m)\u001b[0m \u001b[0;34m->\u001b[0m \u001b[0mstr\u001b[0m\u001b[0;34m:\u001b[0m\u001b[0;34m\u001b[0m\u001b[0;34m\u001b[0m\u001b[0m\n",
            "\u001b[0;31mKeyboardInterrupt\u001b[0m: "
          ]
        }
      ]
    },
    {
      "cell_type": "code",
      "source": [],
      "metadata": {
        "id": "lpq36nSund1v"
      },
      "execution_count": null,
      "outputs": []
    },
    {
      "cell_type": "code",
      "source": [],
      "metadata": {
        "id": "cjNh7Rrdnd8m"
      },
      "execution_count": null,
      "outputs": []
    },
    {
      "cell_type": "code",
      "source": [],
      "metadata": {
        "id": "9z2PnmtRnd-v"
      },
      "execution_count": null,
      "outputs": []
    },
    {
      "cell_type": "markdown",
      "metadata": {
        "id": "vC7tG2VKIp3E"
      },
      "source": [
        "# C- Sentence extraction"
      ]
    },
    {
      "cell_type": "markdown",
      "metadata": {
        "id": "4c4xHPnTIs_y"
      },
      "source": [
        "<h3>Objective</h3>\n",
        "Our objective for the next two parts is to create a model that will be able to predict if a fund uses derivatives based on the summary.\n",
        "The first step is to extract from the summaries the sentences that deals with derivatives.\n"
      ]
    },
    {
      "cell_type": "markdown",
      "metadata": {
        "id": "ZFkWHx69IzvM"
      },
      "source": [
        "<h3> 1_ Create a knowledge base </h3>"
      ]
    },
    {
      "cell_type": "markdown",
      "metadata": {
        "id": "Hir6HhJAJVCk"
      },
      "source": [
        "<b>What is a knowledge base? </b><br>\n",
        "A knowledge base is an explicitly formulated domain or word knowledge. In other words, in language models, a knowledge base is a semantic dataset which is informing the model part of the pipeline. A knowledge base provides the computer with this semantic context while it is analysing the input data. For instance, A Knowledge base might contain definitions of entities or the sentiment of particular words. Systems based on knowledge base are widely used in NLP, this paper (https://pdfs.semanticscholar.org/6d85/d867de2fdb8d2e094a429a48ff4749b05603.pdf) give a good overview of KB-NLP systems (knowledge-based system). <br>\n",
        "In our case, we will create a very simple knowledge base that only describes one domain: Derivatives. This knowledge base will be a simple set of words related to derivatives. This set defines the Entity derivatives.\n"
      ]
    },
    {
      "cell_type": "markdown",
      "metadata": {
        "id": "EygfF_nfJWXN"
      },
      "source": [
        "<b>Why do we want to create a knowledge base? </b><br>\n",
        "The objective of this section is to extract sentences that deals with the use of derivatives in the fund summaries. Having a knowledge base that gives a broad definition of Derivatives will allows us to score each sentence accordingly to their distance to the Entity Derivatives. The sentences that are the closer to our knowledge base are more likely to discuss about derivatives and will therefore be extracted.\n"
      ]
    },
    {
      "cell_type": "markdown",
      "metadata": {
        "id": "EMgNQewzJl9n"
      },
      "source": [
        "<b>How we create the knowledge base? </b><br>\n",
        "To create the knowledge base, we will use the word2vec we trained above. We start from a list of related words and extend this list by adding the \"num_neighbors\" closer words (in terms of distance in our word2vec space) of each word of this list.\n"
      ]
    },
    {
      "cell_type": "code",
      "execution_count": null,
      "metadata": {
        "id": "wsDkD26Rmm9s"
      },
      "outputs": [],
      "source": [
        "key_words = ['bond', 'cash', 'swap', 'swaps', 'derivative', 'derivatives', 'futures', 'options', 'put', 'call', 'loan', 'loans', 'synthetic', 'underlying']"
      ]
    },
    {
      "cell_type": "code",
      "execution_count": null,
      "metadata": {
        "id": "2WyYOLRJHrUB"
      },
      "outputs": [],
      "source": [
        "word2vec = load_word2vec(glove_word2vec)"
      ]
    },
    {
      "cell_type": "code",
      "execution_count": null,
      "metadata": {
        "id": "d7LXRBskmm5j"
      },
      "outputs": [],
      "source": [
        "# Creates the knwoledge base by taking the num_neighbors closes neighbors of each key_words in word2vec\n",
        "def create_knowledge_base(num_neighbors, word2vec, key_words):\n",
        "    knowledge_base = set()\n",
        "    out = display(progress(0, len(key_words)-1), display_id=True)\n",
        "    for ii, key_word in enumerate(key_words) :\n",
        "        knowledge_base.add(key_word)\n",
        "        neighbors = []\n",
        "        try :\n",
        "            neighbors = get_n_closer(key_word, num_neighbors, word2vec)\n",
        "        except :\n",
        "            print(key_word + ' not in word2vec')\n",
        "\n",
        "        knowledge_base.update(neighbors)\n",
        "\n",
        "        out.update(progress(ii, len(key_words)-1))\n",
        "    return knowledge_base"
      ]
    },
    {
      "cell_type": "code",
      "execution_count": null,
      "metadata": {
        "colab": {
          "base_uri": "https://localhost:8080/",
          "height": 277
        },
        "id": "XX0IYDsYmhu2",
        "outputId": "952cef07-80b0-4d7d-c67a-8eee137e9e8a"
      },
      "outputs": [
        {
          "data": {
            "text/html": [
              "\n",
              "        <progress\n",
              "            value='13'\n",
              "            max='13',\n",
              "            style='width: 100%'\n",
              "        >\n",
              "            13\n",
              "        </progress>\n",
              "    "
            ],
            "text/plain": [
              "<IPython.core.display.HTML object>"
            ]
          },
          "metadata": {},
          "output_type": "display_data"
        },
        {
          "name": "stdout",
          "output_type": "stream",
          "text": [
            "bond not in word2vec\n",
            "cash not in word2vec\n",
            "swap not in word2vec\n",
            "swaps not in word2vec\n",
            "derivative not in word2vec\n",
            "derivatives not in word2vec\n",
            "futures not in word2vec\n",
            "options not in word2vec\n",
            "put not in word2vec\n",
            "call not in word2vec\n",
            "loan not in word2vec\n",
            "loans not in word2vec\n",
            "synthetic not in word2vec\n",
            "underlying not in word2vec\n"
          ]
        }
      ],
      "source": [
        "#word2vec = load_word2vec(our_word2vec)\n",
        "knowledge_base = create_knowledge_base(5, word2vec, key_words)"
      ]
    },
    {
      "cell_type": "markdown",
      "metadata": {
        "id": "wJFmX58wKNtR"
      },
      "source": [
        "\n",
        "We can now take a look at our knowledge base\n",
        "\n"
      ]
    },
    {
      "cell_type": "code",
      "execution_count": null,
      "metadata": {
        "colab": {
          "base_uri": "https://localhost:8080/"
        },
        "id": "1cTbcCbTKM0R",
        "outputId": "5f2c6077-19f0-4c72-d21e-6a4c6b5e2145"
      },
      "outputs": [
        {
          "name": "stdout",
          "output_type": "stream",
          "text": [
            "{'negotiating', 'loans', 'bonds', 'mortgages', 'ask', 'derivative', 'fundamental', 'asking', 'loan', 'money', 'trades', 'cash', 'negotiate', 'arbitrage', 'perception', 'treasury', 'commodity', 'trading', 'options', 'structural', 'out', 'option', 'calls', 'polymers', 'variable', 'swap', 'deals', 'swapping', 'considering', 'call', 'pay', 'synthetic', 'interest', 'paying', 'treasuries', 'stock', 'fibers', 'bond', 'derivatives', 'swaps', 'putting', 'underlying', 'resin', 'covariant', 'benchmark', 'paid', 'analogous', 'payments', 'lenders', 'resins', 'offer', 'but', 'credit', 'put', 'futures', 'hedge', 'offering', 'keep', 'calling', 'debt', 'reflects', 'leveraged', 'dollar'}\n"
          ]
        }
      ],
      "source": [
        "print(knowledge_base)"
      ]
    },
    {
      "cell_type": "markdown",
      "metadata": {
        "id": "uGLPVTSiKlRw"
      },
      "source": [
        "<u>Observations</u> :<br>\n",
        "1_ Some words such as leverage or hedged has been added to the knowledge base and makes perfect sense! <br>\n",
        "2_ Other words such as power or international seems to make less sense for us! It doesn't mean that these words are irrelevant, may be the model is seeing things that we don't!"
      ]
    },
    {
      "cell_type": "markdown",
      "metadata": {
        "id": "p8Ce-1mjshlR"
      },
      "source": [
        "### 2_ Scoring function"
      ]
    },
    {
      "cell_type": "markdown",
      "metadata": {
        "id": "U8HXISXssi01"
      },
      "source": [
        "The objective here is to score each sentence accordingly to their distance to the knowledge base. In order to extract the sentences that deals with the use of derivatives from the summaries. <br>\n",
        "There is an infinite way of doing this scoring (see entity linking paper). We will implement 2 scoring functions and compare the performance of the overall extraction framework.\n"
      ]
    },
    {
      "cell_type": "code",
      "execution_count": null,
      "metadata": {
        "colab": {
          "base_uri": "https://localhost:8080/",
          "height": 206
        },
        "id": "daiFapl4sVE3",
        "outputId": "24020fdc-2252-4ef9-fb55-55f4a1fc552a"
      },
      "outputs": [
        {
          "data": {
            "application/vnd.google.colaboratory.intrinsic+json": {
              "summary": "{\n  \"name\": \"df\",\n  \"rows\": 467,\n  \"fields\": [\n    {\n      \"column\": \"id\",\n      \"properties\": {\n        \"dtype\": \"category\",\n        \"num_unique_values\": 58,\n        \"samples\": [\n          \"0000051931-18-000151\",\n          \"0000051931-18-001409\",\n          \"0001193125-18-286983\"\n        ],\n        \"semantic_type\": \"\",\n        \"description\": \"\"\n      }\n    },\n    {\n      \"column\": \"fund_name\",\n      \"properties\": {\n        \"dtype\": \"string\",\n        \"num_unique_values\": 467,\n        \"samples\": [\n          \"American Funds 2055 Target Date Retirement Fund\",\n          \"GROWTH FUND\",\n          \"Portfolio Series - American Funds Managed Risk Global Allocation Portfolio\"\n        ],\n        \"semantic_type\": \"\",\n        \"description\": \"\"\n      }\n    },\n    {\n      \"column\": \"Performance fee?\",\n      \"properties\": {\n        \"dtype\": \"category\",\n        \"num_unique_values\": 1,\n        \"samples\": [\n          \"Some performance Fees\"\n        ],\n        \"semantic_type\": \"\",\n        \"description\": \"\"\n      }\n    },\n    {\n      \"column\": \"Ivestment Strategy\",\n      \"properties\": {\n        \"dtype\": \"category\",\n        \"num_unique_values\": 5,\n        \"samples\": [\n          \"Fixed Income Long Only (Low Risk)\"\n        ],\n        \"semantic_type\": \"\",\n        \"description\": \"\"\n      }\n    },\n    {\n      \"column\": \"Leverage?\",\n      \"properties\": {\n        \"dtype\": \"category\",\n        \"num_unique_values\": 2,\n        \"samples\": [\n          \"No\"\n        ],\n        \"semantic_type\": \"\",\n        \"description\": \"\"\n      }\n    },\n    {\n      \"column\": \"Portfolio composition\",\n      \"properties\": {\n        \"dtype\": \"category\",\n        \"num_unique_values\": 3,\n        \"samples\": [\n          \"Investment grade securities\"\n        ],\n        \"semantic_type\": \"\",\n        \"description\": \"\"\n      }\n    },\n    {\n      \"column\": \" Concentration\",\n      \"properties\": {\n        \"dtype\": \"category\",\n        \"num_unique_values\": 2,\n        \"samples\": [\n          \"Concentrated by issuer / sector / jurisdiction\"\n        ],\n        \"semantic_type\": \"\",\n        \"description\": \"\"\n      }\n    },\n    {\n      \"column\": \"summary\",\n      \"properties\": {\n        \"dtype\": \"string\",\n        \"num_unique_values\": 462,\n        \"samples\": [\n          \"PIMCO California Municipal Bond Fund\\n\\n\\n\\n\\nInvestment Objective\\n\\n\\nThe Fund seeks high current income exempt from federal and California income tax.\\n\\n\\nFees and Expenses of the Fund\\n\\n\\nThis table describes the fees and expenses that you may pay if you buy and hold shares of the Fund. You may qualify for sales charge discounts if you and your family invest, or agree to invest in the future, at least $100,000 in Class A shares of eligible funds offered by PIMCO Equity Series and PIMCO Funds. More information about these and other discounts is available in the \\\"Classes of Shares\\\" section on page [ ] of the Fund's prospectus, Appendix B to the Fund's prospectus (Financial Firm-Specific Sales Charge Waivers and Discounts) or from your financial advisor.\\n\\n\\nShareholder Fees (fees paid directly from your investment):\\n\\n \\n\\n\\nInst\\nClass\\n\\nI-2\\n\\nClass A\\n\\nClass C\\n\\nMaximum Sales Charge (Load) Imposed on Purchases (as a percentage of offering price)\\n\\nNone\\n\\nNone\\n\\n2.25%\\n\\nNone\\n\\nMaximum Deferred Sales Charge (Load) (as a percentage of the lower of the original purchase price or redemption price)\\n\\nNone\\n\\nNone\\n\\n1.00%\\n\\n1.00%\\n\\nAnnual Fund Operating Expenses (expenses that you pay each year as a percentage of the value of your investment):\\n\\n \\n\\n\\nInst\\nClass\\n\\nI-2\\n\\nClass A\\n\\nClass C\\n\\nManagement Fees\\n\\n0.44%\\n\\n0.54%\\n\\n0.54%\\n\\n0.54%\\n\\nDistribution and/or Service (12b-1) Fees\\n\\nN/A\\n\\nN/A\\n\\n0.25%\\n\\n1.00%\\n\\nOther Expenses(1)\\n\\n[ ]\\n\\n[ ]\\n\\n[ ]\\n\\n[ ]\\n\\nTotal Annual Fund Operating Expenses\\n\\n[ ]\\n\\n[ ]\\n\\n[ ]\\n\\n[ ]\\n\\n \\n\\n1 \\\"Other Expenses\\\" include interest expense of [ ]%. Interest expense is borne by the Fund separately from the management fees paid to PIMCO. Excluding interest expense, Total Annual Fund Operating Expenses are [ ]%, [ ]%, [ ]% and [ ]% for Institutional Class, I-2, Class A and Class C shares, respectively.\\n\\n\\nExample. The Example is intended to help you compare the cost of investing in Institutional Class, I-2, Class A or Class C shares of the Fund with the costs of investing in other mutual funds. The Example assumes that you invest $10,000 in the noted class of shares for the time periods indicated, and then redeem all your shares at the end of those periods. The Example also assumes that your investment has a 5% return each year and that the Fund's operating expenses remain the same. Investors may pay brokerage commissions on their purchases and sales of Institutional Class shares or I-2 shares of the Fund, which are not reflected in the Example. Although your actual costs may be higher or lower, based on these assumptions your costs would be:\\n\\n\\nIf you redeem your shares at the end of each period:\\n\\n \\n\\n\\n1 Year\\n\\n3 Years\\n\\n5 Years\\n\\n10 Years\\n\\nInstitutional Class\\n\\n[ ]\\n\\n[ ]\\n\\n[ ]\\n\\n[ ]\\n\\nI-2\\n\\n[ ]\\n\\n[ ]\\n\\n[ ]\\n\\n[ ]\\n\\nClass A\\n\\n[ ]\\n\\n[ ]\\n\\n[ ]\\n\\n[ ]\\n\\nClass C\\n\\n[ ]\\n\\n[ ]\\n\\n[ ]\\n\\n[ ]\\n\\nIf you do not redeem your shares:\\n\\n \\n\\n\\n1 Year\\n\\n3 Years\\n\\n5 Years\\n\\n10 Years\\n\\nClass A\\n\\n[ ]\\n\\n[ ]\\n\\n[ ]\\n\\n[ ]\\n\\nClass C\\n\\n[ ]\\n\\n[ ]\\n\\n[ ]\\n\\n[ ]\\n\\nPortfolio Turnover\\n\\n\\nThe Fund pays transaction costs when it buys and sells securities (or \\\"turns over\\\" its portfolio). A higher portfolio turnover rate may indicate higher transaction costs and may result in higher taxes when Fund shares are held in a taxable account. These costs, which are not reflected in the Annual Fund Operating Expenses or in the Example tables, affect the Fund's performance. During the most recent fiscal year, the Fund's portfolio turnover rate was [ ]% of the average value of its portfolio.\\n\\n\\nPrincipal Investment Strategies\\n\\n\\nThe Fund seeks to achieve its investment objective by investing under normal circumstances at least 80% of its assets in debt securities whose interest is, in the opinion of bond counsel for the issuer at the time of issuance, exempt from regular federal income tax and California income tax (\\\"California Municipal Bonds\\\"). California Municipal Bonds generally are issued by or on behalf of the State of California and its political subdivisions, financing authorities and their agencies. The Fund may invest in debt securities of an issuer located outside of California whose interest is, in the opinion of bond counsel for the issuer at the time of issuance, exempt from regular federal income tax and California income tax. By concentrating its investments in California, the Fund will be subject to California State-Specific Risk.\\n\\n\\nThe Fund may invest in Fixed Income Instruments which include bonds, debt securities and other similar instruments issued by various U.S. and non-U.S. public- or private-sector entities. The Fund may invest without limitation in \\\"private activity\\\" bonds whose interest is a tax-preference item for purposes of the federal alternative minimum tax (\\\"AMT\\\"). For shareholders subject to the AMT, a substantial portion of the Fund's distributions may not be exempt from federal income tax. The Fund may invest 25% or more of its total assets in debt securities whose interest is, in the opinion of bond counsel for the issuer at the time of issuance, exempt from federal income tax (\\\"Municipal Bonds\\\") that finance education, health care, housing, transportation, utilities and other similar projects, and 25% or more of its total assets in industrial development bonds. The Fund may invest the remainder of its net assets in other types of Fixed Income Instruments. \\\"Fixed Income Instruments\\\" include bonds, debt securities and other similar instruments issued by various U.S. and non-U.S. public- or private-sector entities. The average portfolio duration of this Fund normally varies within (negative) 2 years to positive 4 years of the portfolio duration of the securities comprising the Bloomberg Barclays California Municipal Bond Index, as calculated by Pacific Investment Management Company LLC (\\\"PIMCO\\\"), which as of [ ] was [ ] years. Duration is a measure used to determine the sensitivity of a security's price to changes in interest rates. The longer a security's duration, the more sensitive it will be to changes in interest rates. The portfolio manager focuses on bonds with the potential to offer attractive current income, typically looking for bonds that can provide\\n\\n \\n\\n\\n\\n\\nPIMCO FUNDS | PROSPECTUS\\n\\n5\\n\\n \\n\\nTable of Contents\\n\\n\\n\\nPIMCO California Municipal Bond Fund\\n\\n\\n\\n\\nconsistently attractive current yields or that are trading at competitive market prices. Capital appreciation, if any, generally arises from decreases in interest rates or improving credit fundamentals for a particular state, municipality or issuer.\\n\\nThe Fund invests primarily in investment grade debt securities, but may invest up to 20% of its total assets in high yield securities (\\\"junk bonds\\\"), as rated by Moody's Investors Service, Inc. (\\\"Moody's\\\"), Standard & Poor's Ratings Services (\\\"S&P\\\") or Fitch, Inc. (\\\"Fitch\\\"), or, if unrated, as determined by Pacific Investment Management Company LLC (\\\"PIMCO\\\"). The Fund is non-diversified, which means that it may invest its assets in a smaller number of issuers than a diversified fund.\\n\\n\\nThe Fund may invest in derivative instruments, such as options, futures contracts or swap agreements, or in mortgage- or asset backed securities. The Fund may purchase or sell securities on a when-issued, delayed delivery or forward commitment basis and may engage in short sales. The Fund may also invest in securities issued by entities, such as trusts, whose underlying assets are municipal bonds, including, without limitation, residual interest bonds. The Fund may, without limitation, seek to obtain market exposure to the securities in which it primarily invests by entering into a series of purchase and sale contracts or by using other investment techniques (such as buy backs or dollar rolls). The Fund may also invest up to 10% of its total assets in preferred securities.\\n\\n\\nPrincipal Risks\\n\\n\\nIt is possible to lose money on an investment in the Fund. The principal risks of investing in the Fund, which could adversely affect its net asset value, yield and total return are listed below.\\n\\n\\n\\nNew/Small Fund Risk: the risk that a new or smaller Fund's performance may not represent how the Fund is expected to or may perform in the long term. In addition, new Funds have limited operating histories for investors to evaluate and new and smaller Funds may not attract sufficient assets to achieve investment and trading efficiencies\\n\\n\\n\\nInterest Rate Risk: the risk that fixed income securities will decline in value because of an increase in interest rates; a fund with a longer average portfolio duration will be more sensitive to changes in interest rates than a fund with a shorter average portfolio duration\\n\\n\\n\\nCall Risk: the risk that an issuer may exercise its right to redeem a fixed income security earlier than expected (a call). Issuers may call outstanding securities prior to their maturity for a number of reasons (e.g., declining interest rates, changes in credit spreads and improvements in the issuer's credit quality). If an issuer calls a security that the Fund has invested in, the Fund may not recoup the full amount of its initial investment and may be forced to reinvest in lower-yielding securities, securities with greater credit risks or securities with other, less favorable features\\n\\n\\n\\nCredit Risk: the risk that the Fund could lose money if the issuer or guarantor of a fixed income security, or the counterparty to a derivative contract, is unable or unwilling to meet its financial obligations\\n\\n\\n\\nHigh Yield Risk: the risk that high yield securities and unrated securities of similar credit quality (commonly known as \\\"junk bonds\\\") are subject to greater levels of credit, call and liquidity risks. High yield securities are considered primarily speculative with respect to the issuer's continuing ability to make principal and interest payments, and may be more volatile than higher-rated securities of similar maturity\\n\\n\\n\\nMarket Risk: the risk that the value of securities owned by the Fund may go up or down, sometimes rapidly or unpredictably, due to factors affecting securities markets generally or particular industries\\n\\n\\n\\nIssuer Risk: the risk that the value of a security may decline for a reason directly related to the issuer, such as management performance, financial leverage and reduced demand for the issuer's goods or services\\n\\n\\n\\nLiquidity Risk: the risk that a particular investment may be difficult to purchase or sell and that the Fund may be unable to sell illiquid securities at an advantageous time or price or achieve its desired level of exposure to a certain sector. Liquidity risk may result from the lack of an active market, reduced number and capacity of traditional market participants to make a market in fixed income securities, and may be magnified in a rising interest rate environment or other circumstances where investor redemptions from fixed income mutual funds may be higher than normal, causing increased supply in the market due to selling activity\\n\\n\\n\\nDerivatives Risk: the risk of investing in derivative instruments (such as futures, swaps and structured securities), including leverage, liquidity, interest rate, market, credit and management risks, mispricing or valuation complexity. Changes in the value of the derivative may not correlate perfectly with, and may be more sensitive to market events than, the underlying asset, rate or index, and the Fund could lose more than the initial amount invested. The Fund's use of derivatives may result in losses to the Fund, a reduction in the Fund's returns and/or increased volatility. Over-the-counter (\\\"OTC\\\") derivatives are also subject to the risk that a counterparty to the transaction will not fulfill its contractual obligations to the other party, as many of the protections afforded to centrally-cleared derivative transactions might not be available for OTC derivatives. For derivatives traded on an exchange or through a central counterparty, credit risk resides with the Fund's clearing broker, or the clearinghouse itself, rather than with a counterparty in an OTC derivative transaction. Changes in regulation relating to a mutual fund's use of derivatives and related instruments could potentially limit or impact the Fund's ability to invest in derivatives, limit the Fund's ability to employ certain strategies that use derivatives and/or adversely affect the value of derivatives and the Fund's performance\\n\\n\\n\\nEquity Risk: the risk that the value of equity securities, such as common stocks and preferred securities, may decline due to general market conditions which are not specifically related to a particular company or to factors affecting a particular industry or industries. Equity securities generally have greater price volatility than fixed income securities\\n\\n\\n\\nMortgage-Related and Other Asset-Backed Securities Risk: the risks of investing in mortgage-related and other asset-backed securities, including interest rate risk, extension risk, prepayment risk and credit risk\\n\\n\\n\\nIssuer Non-Diversification Risk: the risk of focusing investments in a small number of issuers, including being more susceptible to risks associated with a single economic, political or regulatory occurrence than a more diversified portfolio might be. Funds that are \\\"non-diversified\\\" may invest a greater percentage of their assets in the securities of a single issuer (such as bonds issued by a particular state) than funds that are \\\"diversified\\\"\\n\\n \\n\\n6     \\n\\nPROSPECTUS | PIMCO FUNDS     \\n\\n \\n\\nTable of Contents\\n\\n\\n\\n\\nProspectus\\n\\n\\n\\n\\nLeveraging Risk: the risk that certain transactions of the Fund, such as reverse repurchase agreements, loans of portfolio securities, and the use of when-issued, delayed delivery or forward commitment transactions, or derivative instruments, may give rise to leverage, magnifying gains and losses and causing the Fund to be more volatile than if it had not been leveraged. This means that leverage entails a heightened risk of loss\\n\\n\\n\\nManagement Risk: the risk that the investment techniques and risk analyses applied by PIMCO will not produce the desired results and that legislative, regulatory, or tax restrictions, policies or developments may affect the investment techniques available to PIMCO and the individual portfolio manager in connection with managing the Fund. There is no guarantee that the investment objective of the Fund will be achieved\\n\\n\\n\\nMunicipal Bond Risk: the risk that a Fund may be affected significantly by the economic, regulatory or political developments affecting the ability of issuers of Municipal Bonds to pay interest or repay principal\\n\\n\\n\\nCalifornia State-Specific Risk: the risk that by concentrating its investments in California Municipal Bonds, the Fund may be affected significantly by economic, regulatory or political developments affecting the ability of California issuers to pay interest or repay principal\\n\\n\\n\\nMunicipal Project-Specific Risk: the risk that the Fund may be more sensitive to adverse economic, business or political developments if it invests a substantial portion of its assets in the bonds of similar projects (such as those relating to education, health care, housing, transportation, and utilities), industrial development bonds, or in bonds from issuers in a single state\\n\\n\\n\\nShort Exposure Risk: the risk of entering into short sales, including the potential loss of more money than the actual cost of the investment, and the risk that the third party to the short sale will not fulfill its contractual obligations, causing a loss to the Fund\\n\\n\\n\\nPlease see \\\"Description of Principal Risks\\\" in the Fund's prospectus for a more detailed description of the risks of investing in the Fund. An investment in the Fund is not a deposit of a bank and is not insured or guaranteed by the Federal Deposit Insurance Corporation or any other government agency.\\n\\n\\nPerformance Information\\n\\n\\nThe performance information shows summary performance information for the Fund in a bar chart and an Average Annual Total Returns table. The information provides some indication of the risks of investing in the Fund by showing changes in its performance from year to year and by showing how the Fund's average annual returns compare with the returns of a broad-based securities market index and an index of similar funds. Absent any applicable fee waivers and/or expense limitations performance would have been lower. The bar chart shows performance of the Fund's Institutional Class shares. Performance for Class A and Class C shares in the Average Annual Total Returns table reflects the impact of sales charges. The Fund's past performance, before and after taxes, is not necessarily an indication of how the Fund will perform in the future.\\n\\n\\nThe Bloomberg Barclays California Municipal Bond Index is the California component of the Bloomberg Barclays Municipal Bond Index. The Bloomberg Barclays Municipal Bond Index is a rules-based, market-value-weighted index engineered for the long term tax-exempt bond market. To be included in the Index, bonds must be rated investment-grade (Baa3/ BBB- or higher) by at least two of the following ratings agencies: Moody's, S&P and Fitch. If only two of the three agencies rate the security, the lower rating is used to determine index eligibility. If only one of the three agencies rates a security, the rating must be investment-grade. They must have an outstanding par value of at least $7 million and be issued as part of a transaction of at least $75 million. The bonds must be fixed rate, have a dated-date after December 31, 1990, and must be at least one year from their maturity date. Remarketed issues, taxable municipal bonds, bonds with floating rates, and derivatives, are excluded from the benchmark. The Lipper California Municipal Debt Funds Average is a total return performance average of Funds tracked by Lipper, Inc. that invest at least 65% of its assets in municipal debt issues that are exempt from taxation in California, with dollar-weighted average maturities of ten years or more.\\n\\n\\nPerformance for the Fund is updated daily and quarterly and may be obtained as follows: daily updates on the net asset value and performance page at http://investments.pimco.com/DailyPerformance and quarterly updates at http://investments.pimco.com/QuarterlyPerformance.\\n\\n\\nCalendar Year Total Returns \\u2014 Institutional Class*\\n\\n \\n\\n[To be updated by subsequent amendment]\\n\\n\\n\\n\\n*The year-to-date return as of June 30, 2018 is [ ]%. For the periods shown in the bar chart, the highest quarterly return was [ ]% in the [ ], and the lowest quarterly return was [ ]% in the [ ].\\n\\n\\nAverage Annual Total Returns (for periods ended 12/31/17)\\n\\n \\n\\n\\n1 Year\\n\\n5 Years\\n\\nSince Inception (05/31/2012)\\n\\nInstitutional Class Return Before Taxes\\n\\n[ ]\\n\\n\\n[ ]\\n\\n\\n[ ]\\n\\n\\nInstitutional Class Return After Taxes on Distributions\\u200c(1)\\n\\n[ ]\\n\\n\\n[ ]\\n\\n\\n[ ]\\n\\n\\nInstitutional Class Return After Taxes on Distributions and Sales of Fund Shares\\u200c(1)\\n\\n[ ]\\n\\n\\n[ ]\\n\\n\\n[ ]\\n\\n\\nI-2 Return Before Taxes\\n\\n[ ]\\n\\n\\n[ ]\\n\\n\\n[ ]\\n\\n\\nClass A Return Before Taxes\\n\\n[ ]\\n\\n\\n[ ]\\n\\n\\n[ ]\\n\\n\\nClass C Return Before Taxes\\n\\n[ ]\\n\\n\\n[ ]\\n\\n\\n[ ]\\n\\n\\nBloomberg Barclays California Municipal Bond Index (reflects no deductions for fees, expenses or taxes)\\n\\n[ ]\\n\\n\\n[ ]\\n\\n\\n[ ]\\n\\n\\n \\n\\nLipper California Municipal Debt Funds Average (reflects no deductions for taxes)\\n\\n[ ]\\n\\n\\n[ ]\\n\\n\\n[ ]\\n\\n\\n\\n(1) After-tax returns are calculated using the highest historical individual federal marginal income tax rates and do not reflect the impact of state and local taxes. Actual after-tax\\n\\n \\n\\n[ ] | PROSPECTUS\\n\\n7\\n\\n \\n\\nTable of Contents\\n\\n\\n\\nPIMCO California Municipal Bond Fund\\n\\n\\n\\n\\nreturns depend on an investor's tax situation and may differ from those shown, and the after-tax returns shown are not relevant to investors who hold their Fund shares through tax-deferred arrangements, such as 401(k) plans or individual retirement accounts. In some cases the return after taxes may exceed the return before taxes due to an assumed tax benefit from any losses on a sale of Fund shares at the end of the measurement period. After-tax returns are for Institutional Class shares only. After-tax returns for other classes will vary.\\n\\nInvestment Adviser/Portfolio Manager\\n\\n\\nPIMCO serves as the investment adviser for the Fund. The Fund's portfolio is managed by David Hammer. Mr. Hammer is an Executive Vice President of PIMCO, and he has managed the Fund since August 2015.\\n\\n\\nOther Important Information Regarding Fund Shares\\n\\n\\nFor important information about purchase and sale of Fund shares, tax information, and payments to broker-dealers and other financial intermediaries, please turn to the \\\"Summary of Other Important Information Regarding Fund Shares\\\" section on page [ ] of this prospectus.\"\n        ],\n        \"semantic_type\": \"\",\n        \"description\": \"\"\n      }\n    }\n  ]\n}",
              "type": "dataframe",
              "variable_name": "df"
            },
            "text/html": [
              "\n",
              "  <div id=\"df-4979683a-637c-4fbc-90e0-36d1015559c7\" class=\"colab-df-container\">\n",
              "    <div>\n",
              "<style scoped>\n",
              "    .dataframe tbody tr th:only-of-type {\n",
              "        vertical-align: middle;\n",
              "    }\n",
              "\n",
              "    .dataframe tbody tr th {\n",
              "        vertical-align: top;\n",
              "    }\n",
              "\n",
              "    .dataframe thead th {\n",
              "        text-align: right;\n",
              "    }\n",
              "</style>\n",
              "<table border=\"1\" class=\"dataframe\">\n",
              "  <thead>\n",
              "    <tr style=\"text-align: right;\">\n",
              "      <th></th>\n",
              "      <th>id</th>\n",
              "      <th>fund_name</th>\n",
              "      <th>Performance fee?</th>\n",
              "      <th>Ivestment Strategy</th>\n",
              "      <th>Leverage?</th>\n",
              "      <th>Portfolio composition</th>\n",
              "      <th>Concentration</th>\n",
              "      <th>summary</th>\n",
              "    </tr>\n",
              "  </thead>\n",
              "  <tbody>\n",
              "    <tr>\n",
              "      <th>0</th>\n",
              "      <td>0000051931-18-000151</td>\n",
              "      <td>American Funds College 2018 Fund</td>\n",
              "      <td>NaN</td>\n",
              "      <td>Balanced Fund (Low Risk)</td>\n",
              "      <td>Yes</td>\n",
              "      <td>Investment grade securities</td>\n",
              "      <td>Diversified</td>\n",
              "      <td>American Funds College 2018 Fund\\n\\nInvestment...</td>\n",
              "    </tr>\n",
              "    <tr>\n",
              "      <th>1</th>\n",
              "      <td>0000051931-18-000151</td>\n",
              "      <td>American Funds College 2021 Fund</td>\n",
              "      <td>NaN</td>\n",
              "      <td>Balanced Fund (Low Risk)</td>\n",
              "      <td>Yes</td>\n",
              "      <td>Investment grade securities</td>\n",
              "      <td>Diversified</td>\n",
              "      <td>American Funds College 2021 Fund\\n\\nInvestment...</td>\n",
              "    </tr>\n",
              "    <tr>\n",
              "      <th>2</th>\n",
              "      <td>0000051931-18-000151</td>\n",
              "      <td>American Funds College 2024 Fund</td>\n",
              "      <td>NaN</td>\n",
              "      <td>Balanced Fund (Low Risk)</td>\n",
              "      <td>Yes</td>\n",
              "      <td>Investment grade securities</td>\n",
              "      <td>Diversified</td>\n",
              "      <td>American Funds College 2024 Fund\\n\\nInvestment...</td>\n",
              "    </tr>\n",
              "    <tr>\n",
              "      <th>3</th>\n",
              "      <td>0000051931-18-000151</td>\n",
              "      <td>American Funds College 2027 Fund</td>\n",
              "      <td>NaN</td>\n",
              "      <td>Balanced Fund (Low Risk)</td>\n",
              "      <td>Yes</td>\n",
              "      <td>Investment grade securities</td>\n",
              "      <td>Diversified</td>\n",
              "      <td>American Funds College 2027 Fund\\n\\nInvestment...</td>\n",
              "    </tr>\n",
              "    <tr>\n",
              "      <th>4</th>\n",
              "      <td>0000051931-18-000151</td>\n",
              "      <td>American Funds College 2030 Fund</td>\n",
              "      <td>NaN</td>\n",
              "      <td>Balanced Fund (Low Risk)</td>\n",
              "      <td>Yes</td>\n",
              "      <td>Investment grade securities</td>\n",
              "      <td>Diversified</td>\n",
              "      <td>American Funds College 2030 Fund\\n\\nInvestment...</td>\n",
              "    </tr>\n",
              "  </tbody>\n",
              "</table>\n",
              "</div>\n",
              "    <div class=\"colab-df-buttons\">\n",
              "\n",
              "  <div class=\"colab-df-container\">\n",
              "    <button class=\"colab-df-convert\" onclick=\"convertToInteractive('df-4979683a-637c-4fbc-90e0-36d1015559c7')\"\n",
              "            title=\"Convert this dataframe to an interactive table.\"\n",
              "            style=\"display:none;\">\n",
              "\n",
              "  <svg xmlns=\"http://www.w3.org/2000/svg\" height=\"24px\" viewBox=\"0 -960 960 960\">\n",
              "    <path d=\"M120-120v-720h720v720H120Zm60-500h600v-160H180v160Zm220 220h160v-160H400v160Zm0 220h160v-160H400v160ZM180-400h160v-160H180v160Zm440 0h160v-160H620v160ZM180-180h160v-160H180v160Zm440 0h160v-160H620v160Z\"/>\n",
              "  </svg>\n",
              "    </button>\n",
              "\n",
              "  <style>\n",
              "    .colab-df-container {\n",
              "      display:flex;\n",
              "      gap: 12px;\n",
              "    }\n",
              "\n",
              "    .colab-df-convert {\n",
              "      background-color: #E8F0FE;\n",
              "      border: none;\n",
              "      border-radius: 50%;\n",
              "      cursor: pointer;\n",
              "      display: none;\n",
              "      fill: #1967D2;\n",
              "      height: 32px;\n",
              "      padding: 0 0 0 0;\n",
              "      width: 32px;\n",
              "    }\n",
              "\n",
              "    .colab-df-convert:hover {\n",
              "      background-color: #E2EBFA;\n",
              "      box-shadow: 0px 1px 2px rgba(60, 64, 67, 0.3), 0px 1px 3px 1px rgba(60, 64, 67, 0.15);\n",
              "      fill: #174EA6;\n",
              "    }\n",
              "\n",
              "    .colab-df-buttons div {\n",
              "      margin-bottom: 4px;\n",
              "    }\n",
              "\n",
              "    [theme=dark] .colab-df-convert {\n",
              "      background-color: #3B4455;\n",
              "      fill: #D2E3FC;\n",
              "    }\n",
              "\n",
              "    [theme=dark] .colab-df-convert:hover {\n",
              "      background-color: #434B5C;\n",
              "      box-shadow: 0px 1px 3px 1px rgba(0, 0, 0, 0.15);\n",
              "      filter: drop-shadow(0px 1px 2px rgba(0, 0, 0, 0.3));\n",
              "      fill: #FFFFFF;\n",
              "    }\n",
              "  </style>\n",
              "\n",
              "    <script>\n",
              "      const buttonEl =\n",
              "        document.querySelector('#df-4979683a-637c-4fbc-90e0-36d1015559c7 button.colab-df-convert');\n",
              "      buttonEl.style.display =\n",
              "        google.colab.kernel.accessAllowed ? 'block' : 'none';\n",
              "\n",
              "      async function convertToInteractive(key) {\n",
              "        const element = document.querySelector('#df-4979683a-637c-4fbc-90e0-36d1015559c7');\n",
              "        const dataTable =\n",
              "          await google.colab.kernel.invokeFunction('convertToInteractive',\n",
              "                                                    [key], {});\n",
              "        if (!dataTable) return;\n",
              "\n",
              "        const docLinkHtml = 'Like what you see? Visit the ' +\n",
              "          '<a target=\"_blank\" href=https://colab.research.google.com/notebooks/data_table.ipynb>data table notebook</a>'\n",
              "          + ' to learn more about interactive tables.';\n",
              "        element.innerHTML = '';\n",
              "        dataTable['output_type'] = 'display_data';\n",
              "        await google.colab.output.renderOutput(dataTable, element);\n",
              "        const docLink = document.createElement('div');\n",
              "        docLink.innerHTML = docLinkHtml;\n",
              "        element.appendChild(docLink);\n",
              "      }\n",
              "    </script>\n",
              "  </div>\n",
              "\n",
              "\n",
              "<div id=\"df-6c5d4f99-d2e2-4d53-9347-edbf5d6f8b53\">\n",
              "  <button class=\"colab-df-quickchart\" onclick=\"quickchart('df-6c5d4f99-d2e2-4d53-9347-edbf5d6f8b53')\"\n",
              "            title=\"Suggest charts\"\n",
              "            style=\"display:none;\">\n",
              "\n",
              "<svg xmlns=\"http://www.w3.org/2000/svg\" height=\"24px\"viewBox=\"0 0 24 24\"\n",
              "     width=\"24px\">\n",
              "    <g>\n",
              "        <path d=\"M19 3H5c-1.1 0-2 .9-2 2v14c0 1.1.9 2 2 2h14c1.1 0 2-.9 2-2V5c0-1.1-.9-2-2-2zM9 17H7v-7h2v7zm4 0h-2V7h2v10zm4 0h-2v-4h2v4z\"/>\n",
              "    </g>\n",
              "</svg>\n",
              "  </button>\n",
              "\n",
              "<style>\n",
              "  .colab-df-quickchart {\n",
              "      --bg-color: #E8F0FE;\n",
              "      --fill-color: #1967D2;\n",
              "      --hover-bg-color: #E2EBFA;\n",
              "      --hover-fill-color: #174EA6;\n",
              "      --disabled-fill-color: #AAA;\n",
              "      --disabled-bg-color: #DDD;\n",
              "  }\n",
              "\n",
              "  [theme=dark] .colab-df-quickchart {\n",
              "      --bg-color: #3B4455;\n",
              "      --fill-color: #D2E3FC;\n",
              "      --hover-bg-color: #434B5C;\n",
              "      --hover-fill-color: #FFFFFF;\n",
              "      --disabled-bg-color: #3B4455;\n",
              "      --disabled-fill-color: #666;\n",
              "  }\n",
              "\n",
              "  .colab-df-quickchart {\n",
              "    background-color: var(--bg-color);\n",
              "    border: none;\n",
              "    border-radius: 50%;\n",
              "    cursor: pointer;\n",
              "    display: none;\n",
              "    fill: var(--fill-color);\n",
              "    height: 32px;\n",
              "    padding: 0;\n",
              "    width: 32px;\n",
              "  }\n",
              "\n",
              "  .colab-df-quickchart:hover {\n",
              "    background-color: var(--hover-bg-color);\n",
              "    box-shadow: 0 1px 2px rgba(60, 64, 67, 0.3), 0 1px 3px 1px rgba(60, 64, 67, 0.15);\n",
              "    fill: var(--button-hover-fill-color);\n",
              "  }\n",
              "\n",
              "  .colab-df-quickchart-complete:disabled,\n",
              "  .colab-df-quickchart-complete:disabled:hover {\n",
              "    background-color: var(--disabled-bg-color);\n",
              "    fill: var(--disabled-fill-color);\n",
              "    box-shadow: none;\n",
              "  }\n",
              "\n",
              "  .colab-df-spinner {\n",
              "    border: 2px solid var(--fill-color);\n",
              "    border-color: transparent;\n",
              "    border-bottom-color: var(--fill-color);\n",
              "    animation:\n",
              "      spin 1s steps(1) infinite;\n",
              "  }\n",
              "\n",
              "  @keyframes spin {\n",
              "    0% {\n",
              "      border-color: transparent;\n",
              "      border-bottom-color: var(--fill-color);\n",
              "      border-left-color: var(--fill-color);\n",
              "    }\n",
              "    20% {\n",
              "      border-color: transparent;\n",
              "      border-left-color: var(--fill-color);\n",
              "      border-top-color: var(--fill-color);\n",
              "    }\n",
              "    30% {\n",
              "      border-color: transparent;\n",
              "      border-left-color: var(--fill-color);\n",
              "      border-top-color: var(--fill-color);\n",
              "      border-right-color: var(--fill-color);\n",
              "    }\n",
              "    40% {\n",
              "      border-color: transparent;\n",
              "      border-right-color: var(--fill-color);\n",
              "      border-top-color: var(--fill-color);\n",
              "    }\n",
              "    60% {\n",
              "      border-color: transparent;\n",
              "      border-right-color: var(--fill-color);\n",
              "    }\n",
              "    80% {\n",
              "      border-color: transparent;\n",
              "      border-right-color: var(--fill-color);\n",
              "      border-bottom-color: var(--fill-color);\n",
              "    }\n",
              "    90% {\n",
              "      border-color: transparent;\n",
              "      border-bottom-color: var(--fill-color);\n",
              "    }\n",
              "  }\n",
              "</style>\n",
              "\n",
              "  <script>\n",
              "    async function quickchart(key) {\n",
              "      const quickchartButtonEl =\n",
              "        document.querySelector('#' + key + ' button');\n",
              "      quickchartButtonEl.disabled = true;  // To prevent multiple clicks.\n",
              "      quickchartButtonEl.classList.add('colab-df-spinner');\n",
              "      try {\n",
              "        const charts = await google.colab.kernel.invokeFunction(\n",
              "            'suggestCharts', [key], {});\n",
              "      } catch (error) {\n",
              "        console.error('Error during call to suggestCharts:', error);\n",
              "      }\n",
              "      quickchartButtonEl.classList.remove('colab-df-spinner');\n",
              "      quickchartButtonEl.classList.add('colab-df-quickchart-complete');\n",
              "    }\n",
              "    (() => {\n",
              "      let quickchartButtonEl =\n",
              "        document.querySelector('#df-6c5d4f99-d2e2-4d53-9347-edbf5d6f8b53 button');\n",
              "      quickchartButtonEl.style.display =\n",
              "        google.colab.kernel.accessAllowed ? 'block' : 'none';\n",
              "    })();\n",
              "  </script>\n",
              "</div>\n",
              "\n",
              "    </div>\n",
              "  </div>\n"
            ],
            "text/plain": [
              "                     id                         fund_name Performance fee?  \\\n",
              "0  0000051931-18-000151  American Funds College 2018 Fund              NaN   \n",
              "1  0000051931-18-000151  American Funds College 2021 Fund              NaN   \n",
              "2  0000051931-18-000151  American Funds College 2024 Fund              NaN   \n",
              "3  0000051931-18-000151  American Funds College 2027 Fund              NaN   \n",
              "4  0000051931-18-000151  American Funds College 2030 Fund              NaN   \n",
              "\n",
              "         Ivestment Strategy Leverage?        Portfolio composition  \\\n",
              "0  Balanced Fund (Low Risk)       Yes  Investment grade securities   \n",
              "1  Balanced Fund (Low Risk)       Yes  Investment grade securities   \n",
              "2  Balanced Fund (Low Risk)       Yes  Investment grade securities   \n",
              "3  Balanced Fund (Low Risk)       Yes  Investment grade securities   \n",
              "4  Balanced Fund (Low Risk)       Yes  Investment grade securities   \n",
              "\n",
              "   Concentration                                            summary  \n",
              "0    Diversified  American Funds College 2018 Fund\\n\\nInvestment...  \n",
              "1    Diversified  American Funds College 2021 Fund\\n\\nInvestment...  \n",
              "2    Diversified  American Funds College 2024 Fund\\n\\nInvestment...  \n",
              "3    Diversified  American Funds College 2027 Fund\\n\\nInvestment...  \n",
              "4    Diversified  American Funds College 2030 Fund\\n\\nInvestment...  "
            ]
          },
          "execution_count": 57,
          "metadata": {},
          "output_type": "execute_result"
        }
      ],
      "source": [
        "# We create here the dataframe tha contains the summaries along with their labels\n",
        "df_extraction = pd.DataFrame({'fund_name' : fund_names, 'summary':summaries})\n",
        "df_label = pd.read_csv(SUMMARY_LABELS_PATH)\n",
        "df = df_label.merge(df_extraction, on='fund_name', how='left')\n",
        "df.head()"
      ]
    },
    {
      "cell_type": "code",
      "execution_count": null,
      "metadata": {
        "id": "2lfvQwxmk-l3"
      },
      "outputs": [],
      "source": [
        "df['summary'] = df['summary'].astype(str)"
      ]
    },
    {
      "cell_type": "markdown",
      "metadata": {
        "id": "qFm7t7wItkry"
      },
      "source": [
        "<u>Schema of the data</u> :\n",
        "* <b>id</b> : is a unique id attached to a mutual fund (this is the id given by the SEC)\n",
        "* <b>fund_name</b> : is the name of the mutual fund\n",
        "* <b>summary</b> : is the summary of the mutual fund\n",
        "* <b>Performance fee?</b> : Answer the question : Does the fund assess performance fees ?<br> ['None', 'Some performance Fees']\n",
        "* <b>Investment Strategy</b> : What is the main strategy of the fund ? <br>['Balanced Fund (Low Risk)', 'Fixed Income Long Only (Low Risk)', 'Equity Long Only (Low Risk)', 'Commodities Fund (Low Risk)', 'Long Short Funds (High Risk)']\n",
        "* <b>Leverage?</b> : Does the fund use Derivatives ? <br> ['Yes', 'No']\n",
        "* <b>Portfolio composition</b> : What is the main assets traded ? <br> ['Investment grade securities', 'Listed Equities', 'Sub-investment grade securities or emerging markets']\n",
        "* <b>Concentration</b> : Does the fund assess a Concentration risk? <br> ['Diversified', 'Concentrated by issuer / sector / jurisdiction']\n",
        "<br><br>\n",
        "In the rest of the notebook we will mostly focus on The Leverage Column."
      ]
    },
    {
      "cell_type": "markdown",
      "metadata": {
        "id": "5kr3WgIYwNxx"
      },
      "source": [
        "<b>a_ Using distances</b><br>\n",
        "A first method to extract the sentences dealing with derivaties could be to take the distance between the barycentre of the sentence and the words in the knwoldege base. We create the distance score by averaging the n_closer smaller distances.\n",
        "\n",
        "We should not forget that some words (the ones with low frequencies) are not in our word2vec mapping so, if there are less than n_reject vectorisable vectors in the sentence, we drop the sentence.\n",
        "\n",
        "Finally, we can choose the number of sentences we want to extract (num_sent)."
      ]
    },
    {
      "cell_type": "code",
      "execution_count": null,
      "metadata": {
        "id": "BT-Zf_LXthvx"
      },
      "outputs": [],
      "source": [
        "# Takes a summary, the knowledge base and some hyper parameters and returns the \"num_sent\" sentences\n",
        "# of the summary that are closer to the the knowledge base in term of spacial distances.\n",
        "def extract_sentence_distance(summary, knowledge, n_closer, n_reject, num_sent):\n",
        "    # Split the summary into sentences.\n",
        "    sentences = sent_tokenize(summary)\n",
        "    sentence_scores = []\n",
        "    # Loop over the sentences.\n",
        "    for j, sentence in enumerate(sentences):\n",
        "        # we tokenize and clean the sentence\n",
        "        tokens = tokenizer(sentence)\n",
        "\n",
        "        sentence_barycentre = np.zeros(embedding_size)\n",
        "        effective_len = 0\n",
        "        # Compute the barycentre of the sentence\n",
        "        for token in tokens :\n",
        "            try :\n",
        "                sentence_barycentre += np.array(word2vec[token])\n",
        "                effective_len += 1\n",
        "            except KeyError :\n",
        "                pass\n",
        "            except :\n",
        "                raise\n",
        "\n",
        "        # Reject sentences with less than n_reject words in our word2vec map\n",
        "        if effective_len <= n_reject :\n",
        "            sentence_scores.append(1)\n",
        "\n",
        "        else :\n",
        "            sentence_barycentre = sentence_barycentre/effective_len\n",
        "            # Compute the distance sentece_barycentre -> words in our knowledge base\n",
        "            barycentre_distance = [cosine(sentence_barycentre, word2vec[key_word]) for key_word in knowledge]\n",
        "            barycentre_distance.sort()\n",
        "            # Create the score of the sentence by averaging the \"n_closer\" smallest distances\n",
        "            score = np.mean(barycentre_distance[:n_closer])\n",
        "            sentence_scores.append(score)\n",
        "    # Select the \"num_sent\" sentences that have the smallest score (smallest distance score with the knowledge base)\n",
        "    sentence_scores, sentences = zip(*sorted(zip(sentence_scores, sentences)))\n",
        "    top_sentences = sentences[:num_sent]\n",
        "    return ' '.join(top_sentences)"
      ]
    },
    {
      "cell_type": "code",
      "execution_count": null,
      "metadata": {
        "id": "XWIXBcSZzFhq"
      },
      "outputs": [],
      "source": [
        "# It takes several minutes (5-10 minutes)\n",
        "df['deriv_sentences_distance'] = df.apply(lambda x : extract_sentence_distance(x['summary'], knowledge_base, n_closer=10, n_reject=5, num_sent=5), axis=1)"
      ]
    },
    {
      "cell_type": "markdown",
      "metadata": {
        "id": "KktKO2P3zJZv"
      },
      "source": [
        "We cannot really assess the performance of the extraction. We will however see how this extraction impact the performance of the final extraction in the next section."
      ]
    },
    {
      "cell_type": "markdown",
      "metadata": {
        "id": "Vkhloxnc4BKE"
      },
      "source": [
        "<b>b_ Match extraction</b><br>\n",
        "The second method is simply to count the number of words that are in the intersection of the knowledge base and the sentence.\n",
        "This scoring function is highly dependent on the number of neighbours  chose to create the knowledge base."
      ]
    },
    {
      "cell_type": "code",
      "execution_count": null,
      "metadata": {
        "id": "T2CMeYUh3upq"
      },
      "outputs": [],
      "source": [
        "def extract_sentence_match(summary, knowledge, num_sent):\n",
        "    sentences = sent_tokenize(summary)\n",
        "    sentence_scores = []\n",
        "    for j, sentence in enumerate(sentences):\n",
        "        set_tokens = set(tokenizer(sentence))\n",
        "\n",
        "        # Find the number of common words between the knowledge base and the sentence\n",
        "        inter_knwoledge = set_tokens.intersection(knowledge)\n",
        "\n",
        "        sentence_scores.append(len(inter_knwoledge))\n",
        "\n",
        "    sentence_scores, sentences = zip(*sorted(zip(sentence_scores, sentences)))\n",
        "    top_sentences = sentences[len(sentences)-num_sent-1:]\n",
        "    return ' '.join(top_sentences)"
      ]
    },
    {
      "cell_type": "code",
      "execution_count": null,
      "metadata": {
        "id": "puYIBm6S4dkI"
      },
      "outputs": [],
      "source": [
        "df['deriv_sentences_match'] = df.apply(lambda x : extract_sentence_match(x['summary'], knowledge_base, num_sent=5), axis=1)"
      ]
    },
    {
      "cell_type": "markdown",
      "metadata": {
        "id": "jOiHLJd34sSD"
      },
      "source": [
        "<h3>3_ Conclusion and Use Cases</h3><br>\n",
        "This kind of unsupervised algorithms based on word distances, token match, knowledge base is used in lots of different NLP frameworks. I put bellow a list of interesting use cases.\n",
        "\n",
        "* Entity linking: [http://aidanhogan.com/docs/entity-linking-link.pdf]\n",
        "* Entity disambiguation : [https://industry.datascience.columbia.edu/sites/default/files/documents/files/Named%20Entity%20Disambiguation%20and%20Other%20Semantic%20Technologies%20at%20Bloomberg.pdf]\n",
        "* unsupervised sentiment analysis: [https://www.mitpressjournals.org/doi/pdf/10.1162/COLI_a_00049]\n"
      ]
    },
    {
      "cell_type": "markdown",
      "metadata": {
        "id": "bsKuU40-7BX-"
      },
      "source": [
        "# D_ Information extraction using deep classifiers"
      ]
    },
    {
      "cell_type": "markdown",
      "metadata": {
        "id": "OwpWG9hj7DcW"
      },
      "source": [
        "<b>Objective</b><br>\n",
        "In this section we will use the sentences that we extracted in the previous section to train 2 deep learning models aimed at predicting if a mutual fund uses derivatives based on its summary."
      ]
    },
    {
      "cell_type": "markdown",
      "metadata": {
        "id": "k5AYLxPo8KfL"
      },
      "source": [
        "<h3>1_ Format data</h3><br>\n",
        "In this paragraph we will prepare the corpus, the dependent variable and split the data to a training set and a testing set. <br>\n",
        "The independent variable (the corpus) is the list of the sentences extracted in the previous section for each fund.\n"
      ]
    },
    {
      "cell_type": "code",
      "execution_count": null,
      "metadata": {
        "colab": {
          "base_uri": "https://localhost:8080/",
          "height": 35
        },
        "id": "-zq9R1xA8Jsm",
        "outputId": "b6bbb8e8-5286-4a99-ead3-ae290f397c8f"
      },
      "outputs": [
        {
          "data": {
            "application/vnd.google.colaboratory.intrinsic+json": {
              "type": "string"
            },
            "text/plain": [
              "'derivatives may difficult underlying fund buy sell opportune time price may difficult terminate othe'"
            ]
          },
          "execution_count": 63,
          "metadata": {},
          "output_type": "execute_result"
        }
      ],
      "source": [
        "X = df['deriv_sentences_match'].values\n",
        "# X = df['deriv_sentences_distance'].values # uncomment to use the first sentence extraction method.\n",
        "# Clean the texts\n",
        "X = [' '.join(tokenizer(txt)) for txt in X]\n",
        "X[0][:100]"
      ]
    },
    {
      "cell_type": "code",
      "execution_count": null,
      "metadata": {
        "id": "UPCavVY49Zpd"
      },
      "outputs": [],
      "source": [
        "y = df['Leverage?'].values\n",
        "y = np.array([1 if x=='Yes' else 0 for x in y])"
      ]
    },
    {
      "cell_type": "code",
      "execution_count": null,
      "metadata": {
        "id": "h9oZlnTv-joS"
      },
      "outputs": [],
      "source": [
        "X_train, X_test, y_train, y_test = train_test_split(X, y, test_size = 0.2, random_state=42)"
      ]
    },
    {
      "cell_type": "markdown",
      "metadata": {
        "id": "VURBnTmo-rz2"
      },
      "source": [
        "<h3>2_ Data pre-processing</h3><br>\n",
        "<b>How do we need to format the data to feed the deep learning algorithms? </b><br>\n",
        "As mentioned earlier, the word2vec representation of words could be used to create a representation of the documents. This process of using the a pretrained algorithm to feed the input of another algorithm is called learning transfer. We transfer the learnings of the skip-gram model to the classification model. <br><br>\n",
        "The deep learning models takes as input the sequence of vector's representation of the words in the document.\n"
      ]
    },
    {
      "cell_type": "markdown",
      "metadata": {
        "id": "V3rEUxTN-utT"
      },
      "source": [
        "![image.png](data:image/png;base64,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)"
      ]
    },
    {
      "cell_type": "markdown",
      "metadata": {
        "id": "k1-N_UZI-_Mx"
      },
      "source": [
        "This input is much richer than the Bag of word or Tf-Idf document vectorization:\n",
        "* We keep the information of the order of the words.\n",
        "* Each word's vector contains a contextual information about the word\n",
        "<br><br>\n",
        "The dimension on the inputs should be the same so we will have to truncate the too long documents and complete the too short documents with null vectors."
      ]
    },
    {
      "cell_type": "code",
      "execution_count": null,
      "metadata": {
        "colab": {
          "base_uri": "https://localhost:8080/",
          "height": 656
        },
        "id": "gHdxN8MN_LGe",
        "outputId": "c75425fd-0220-4400-8bc5-dddac25a1210"
      },
      "outputs": [
        {
          "data": {
            "text/html": [
              "\n",
              "        <progress\n",
              "            value='466'\n",
              "            max='467',\n",
              "            style='width: 100%'\n",
              "        >\n",
              "            466\n",
              "        </progress>\n",
              "    "
            ],
            "text/plain": [
              "<IPython.core.display.HTML object>"
            ]
          },
          "metadata": {},
          "output_type": "display_data"
        },
        {
          "name": "stderr",
          "output_type": "stream",
          "text": [
            "<ipython-input-66-975d4e36aab0>:8: UserWarning: \n",
            "\n",
            "`distplot` is a deprecated function and will be removed in seaborn v0.14.0.\n",
            "\n",
            "Please adapt your code to use either `displot` (a figure-level function with\n",
            "similar flexibility) or `histplot` (an axes-level function for histograms).\n",
            "\n",
            "For a guide to updating your code to use the new functions, please see\n",
            "https://gist.github.com/mwaskom/de44147ed2974457ad6372750bbe5751\n",
            "\n",
            "  sns.distplot(sizes, kde=False, rug=True)\n"
          ]
        },
        {
          "data": {
            "text/plain": [
              "<Axes: >"
            ]
          },
          "execution_count": 66,
          "metadata": {},
          "output_type": "execute_result"
        },
        {
          "data": {
            "image/png": "[encoded data removed]",
            "text/plain": [
              "<Figure size 640x480 with 1 Axes>"
            ]
          },
          "metadata": {},
          "output_type": "display_data"
        }
      ],
      "source": [
        "# In order to set the length of the document series (maxlen), we visualise the distribution of the number of words per documents.\n",
        "sizes = []\n",
        "out = display(progress(0, len(X)), display_id=True)\n",
        "for ii, txt in enumerate(X):\n",
        "    sizes.append(len(word_tokenize(txt)))\n",
        "    out.update(progress(ii, len(X)))\n",
        "\n",
        "sns.distplot(sizes, kde=False, rug=True)"
      ]
    },
    {
      "cell_type": "markdown",
      "metadata": {
        "id": "wrZ_yn4jC6VJ"
      },
      "source": [
        "First, we set the hyper parameters of the pre-processing phase."
      ]
    },
    {
      "cell_type": "code",
      "execution_count": null,
      "metadata": {
        "id": "z0idTTnT_VEn"
      },
      "outputs": [],
      "source": [
        "num_words = 2500 # Size of the vocabulary used. we only consider the 2500 most common words. The other words are removed from the texts.\n",
        "maxlen = 150 # Number of word considered for each document. we cut or lengthen the texts to have texts of 150 words.\n",
        "word_dimension = 50 # dimension of our word vectors."
      ]
    },
    {
      "cell_type": "markdown",
      "metadata": {
        "id": "nyad8c7qC3Jx"
      },
      "source": [
        "Then, we load the standford glove.6B.50d pretrained word2vec."
      ]
    },
    {
      "cell_type": "code",
      "execution_count": null,
      "metadata": {
        "id": "f-dQbC0h-niw"
      },
      "outputs": [],
      "source": [
        "word2vec_g = load_word2vec(glove_word2vec)"
      ]
    },
    {
      "cell_type": "markdown",
      "metadata": {
        "id": "vmf9ak6mDCKp"
      },
      "source": [
        "We could also use our own word2vec to vectorize the words. Both word2vec has their advantages and disadvantages. <br>\n",
        "I encourage you to test both vectorization and observe the impact on the performance of the classification. <br><br>\n",
        "We start the feature creation by assigning a unique index to each word in the vocabulary of the corpus and transform the texts to a list of word index.\n"
      ]
    },
    {
      "cell_type": "code",
      "execution_count": null,
      "metadata": {
        "id": "EcQZboEUCD8e"
      },
      "outputs": [],
      "source": [
        "# The Tokenizer provided by the Keras library allows to perform such transformation.\n",
        "keras_tokenizer = Tokenizer(num_words=num_words)\n",
        "keras_tokenizer.fit_on_texts(X_train)\n",
        "# word_index is the dictionary that contains the index of each words in our 2500 long vocabulary.\n",
        "word_index = keras_tokenizer.word_index\n",
        "sequences_train = keras_tokenizer.texts_to_sequences(X_train)\n",
        "sequences_test = keras_tokenizer.texts_to_sequences(X_test)"
      ]
    },
    {
      "cell_type": "code",
      "execution_count": null,
      "metadata": {
        "colab": {
          "base_uri": "https://localhost:8080/"
        },
        "id": "WVBfD-56EQZ4",
        "outputId": "d0abf512-ba53-4170-80b5-8e5f045df4fc"
      },
      "outputs": [
        {
          "name": "stdout",
          "output_type": "stream",
          "text": [
            "Text : unlike individual debt securities typically pay principal maturity value investment fund fluctuate could lose money investing fund may also receive taxable distributions attributable fund 's sale municipal bonds may buy sell shares various ways internet institutional.fidelity.com phone reach fidelity representative mail fidelity investments p.o may qualify sales charge discounts family invest agree invest future least fund certain fidelity® funds managing fund similar overall interest rate risk compared customized municipal bond index representing fidelity management research company fmr 's view performance fund competitive universe\n",
            "Index sequences : [494, 327, 85, 5, 603, 220, 88, 284, 11, 6, 1, 417, 52, 163, 87, 34, 1, 2, 43, 381, 671, 171, 1166, 1, 46, 158, 164, 119, 2, 182, 44, 17, 98, 495, 545, 246, 115, 99, 546, 672, 115, 432, 604, 115, 18, 183, 641, 2, 274, 120, 132, 190, 205, 27, 275, 27, 149, 174, 1, 54, 112, 9, 932, 1, 116, 394, 16, 24, 3, 1167, 1284, 164, 23, 12, 1285, 115, 80, 496, 74, 605, 46, 1286, 25, 1, 395, 1168]\n"
          ]
        }
      ],
      "source": [
        "print('Text : '+X_train[0])\n",
        "print('Index sequences : ' +str(sequences_train[0]))"
      ]
    },
    {
      "cell_type": "markdown",
      "metadata": {
        "id": "JeM8wXAhFZU5"
      },
      "source": [
        "'Companies' has the index 41, 'may' 3 and so forth<br><br>\n",
        "\n",
        "Then we use the pad_sequence function provided by keras to truncate or lengthen (by adding zeros) each text so they all have the same length : 150"
      ]
    },
    {
      "cell_type": "code",
      "execution_count": null,
      "metadata": {
        "id": "UO7vXJnLDduH"
      },
      "outputs": [],
      "source": [
        "feature_train = pad_sequences(sequences_train, maxlen=maxlen, dtype=float, padding='post', truncating='post')\n",
        "feature_test = pad_sequences(sequences_test, maxlen=maxlen, dtype=float, padding='post', truncating='post')"
      ]
    },
    {
      "cell_type": "code",
      "execution_count": null,
      "metadata": {
        "colab": {
          "base_uri": "https://localhost:8080/"
        },
        "id": "wi1UTxkGHe4H",
        "outputId": "01886f43-a215-4277-bd36-ec45c53ba92c"
      },
      "outputs": [
        {
          "name": "stdout",
          "output_type": "stream",
          "text": [
            "length of the first sequence : 86\n",
            "length of the paded first sequence : 150\n"
          ]
        }
      ],
      "source": [
        "print ('length of the first sequence : '+str(len(sequences_train[0])) )\n",
        "print ('length of the paded first sequence : '+str(len(feature_train[0])) )"
      ]
    },
    {
      "cell_type": "markdown",
      "metadata": {
        "id": "NNQOHintGbZM"
      },
      "source": [
        "Finally, we create our embedding matrix. This is a (2500,50) array filled with the vector's representation of the words in our vocabulary. The line i is the vector representation of the word that has the index i."
      ]
    },
    {
      "cell_type": "code",
      "execution_count": null,
      "metadata": {
        "id": "0en_ShiOGtyV"
      },
      "outputs": [],
      "source": [
        "embedding_matrix = np.zeros((len(word_index) + 1, word_dimension))\n",
        "for word, i in word_index.items():\n",
        "    embedding_vector = word2vec_g.get(word)\n",
        "    #embedding_vector = word2vec.get(word)   # uncomment to use our own word2vec\n",
        "    if embedding_vector is not None:\n",
        "        embedding_matrix[i] = embedding_vector"
      ]
    },
    {
      "cell_type": "code",
      "execution_count": null,
      "metadata": {
        "colab": {
          "base_uri": "https://localhost:8080/"
        },
        "id": "1gp3d1ALQE61",
        "outputId": "f8ffaa8a-eec3-4319-c41e-326764c4bb2d"
      },
      "outputs": [
        {
          "data": {
            "text/plain": [
              "array([ 0.70480001,  0.22261   ,  0.086997  , -0.21241   , -0.089356  ,\n",
              "        0.43742001, -0.28169999,  0.13378   , -0.50858998, -0.18242   ,\n",
              "        0.49506   ,  0.42460999,  0.046785  , -0.50120997,  0.84621   ,\n",
              "        1.01460004, -0.43954   , -0.65499002, -0.64705998, -0.23365   ,\n",
              "        0.27612001, -0.63293999,  0.91064   ,  0.033327  , -0.058451  ,\n",
              "       -1.60590005, -0.34740999, -0.36285001,  0.46722999,  0.244     ,\n",
              "        3.42490005,  0.056168  , -0.71991003, -0.88331997,  0.33741   ,\n",
              "       -0.53236002,  0.33991   ,  0.023837  ,  0.2384    , -0.38712999,\n",
              "       -0.49621001, -0.14846   ,  0.046201  ,  0.10325   ,  0.17374   ,\n",
              "        0.13763   ,  0.084989  , -0.39688   ,  0.17632   ,  0.31862   ])"
            ]
          },
          "execution_count": 74,
          "metadata": {},
          "output_type": "execute_result"
        }
      ],
      "source": [
        "embedding_matrix[2]"
      ]
    },
    {
      "cell_type": "code",
      "execution_count": null,
      "metadata": {
        "colab": {
          "base_uri": "https://localhost:8080/"
        },
        "id": "Km0XVA9ESPmY",
        "outputId": "0ca04d8b-7466-466c-a6d3-c24d8a5a50d7"
      },
      "outputs": [
        {
          "data": {
            "text/plain": [
              "(2183, 50)"
            ]
          },
          "execution_count": 75,
          "metadata": {},
          "output_type": "execute_result"
        }
      ],
      "source": [
        "embedding_matrix.shape"
      ]
    },
    {
      "cell_type": "code",
      "execution_count": null,
      "metadata": {
        "colab": {
          "base_uri": "https://localhost:8080/"
        },
        "id": "_Z43b_zVSbPR",
        "outputId": "5400ed0c-3921-449e-8303-3bf91bdd5cff"
      },
      "outputs": [
        {
          "data": {
            "text/plain": [
              "2183"
            ]
          },
          "execution_count": 76,
          "metadata": {},
          "output_type": "execute_result"
        }
      ],
      "source": [
        "len(word_index) + 1"
      ]
    },
    {
      "cell_type": "code",
      "execution_count": null,
      "metadata": {
        "colab": {
          "base_uri": "https://localhost:8080/"
        },
        "id": "6WFRQFgvSfcp",
        "outputId": "ee52c271-4959-4897-d127-3a997b23928b"
      },
      "outputs": [
        {
          "data": {
            "text/plain": [
              "50"
            ]
          },
          "execution_count": 77,
          "metadata": {},
          "output_type": "execute_result"
        }
      ],
      "source": [
        "word_dimension"
      ]
    },
    {
      "cell_type": "markdown",
      "metadata": {
        "id": "mYy3bCsbH4Im"
      },
      "source": [
        "Now that each text has been translated to a 150 long vector of word indexes and that we have a matrix that transform a word index to its vector representation, we are ready to implement the deep learning models."
      ]
    },
    {
      "cell_type": "markdown",
      "metadata": {
        "id": "oAtqk9oaIups"
      },
      "source": [
        "<h3>3_ First Model : One dimensional Convolutional Neural Network</h3>"
      ]
    },
    {
      "cell_type": "markdown",
      "metadata": {
        "id": "0Phqyv7aI2aJ"
      },
      "source": [
        "Before jumping in to the implementation of the model, we should take a moment to understand how a Convolutional Neural Network (CNN) works and why is it well adapted for text classification."
      ]
    },
    {
      "cell_type": "markdown",
      "metadata": {
        "id": "OFRlLbI8I2VH"
      },
      "source": [
        "<b>What is a 1 dimensional Convolutional Neural Network ?</b>"
      ]
    },
    {
      "cell_type": "markdown",
      "metadata": {
        "id": "CK__wUD2I2IB"
      },
      "source": [
        "Convolutional Neural Networks has first been developed for computer visions problems. The main idea is to break down a given image to a set meaningful new images by applying different filters to this image. Please find bellow an example of 2 filters applied to the same image."
      ]
    },
    {
      "cell_type": "markdown",
      "metadata": {
        "id": "Vdd2DOeYI9m1"
      },
      "source": [
        "<u>Original Image</u> :"
      ]
    },
    {
      "cell_type": "markdown",
      "metadata": {
        "id": "RsZEXjsfI-FH"
      },
      "source": [
        "![image.png](data:image/png;base64,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)"
      ]
    },
    {
      "cell_type": "markdown",
      "metadata": {
        "id": "J7eTzglPJNOu"
      },
      "source": [
        "<u>Filtered Images</u> :"
      ]
    },
    {
      "cell_type": "markdown",
      "metadata": {
        "id": "igNl-lnfJNIE"
      },
      "source": [
        "![image.png](data:image/png;base64,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)"
      ]
    },
    {
      "cell_type": "markdown",
      "metadata": {
        "id": "NvEwjDE1JF_e"
      },
      "source": [
        "By applying different filters, we can highlight different local aspects of the picture. The training of a CNN classifier consists in optimizing these filters so that the outputted images highlight the best features to perform the classification. For more details on how we apply the filters, how the optimization system optimize the filters and how the outputted images are then used to perform the classification I invite you to read this paper : https://towardsdatascience.com/a-comprehensive-guide-to-convolutional-neural-networks-the-eli5-way-3bd2b1164a53"
      ]
    },
    {
      "cell_type": "markdown",
      "metadata": {
        "id": "6FCWi254JciZ"
      },
      "source": [
        "<b>For texts </b> the idea is the same: we train the model to optimize filters that goes through the documents and search for local patterns that best highlight the information we want to extract. For images, the patterns are highlighted by applying filters on the colour’s intensity nuances and for texts the filters are applied on the contextual vectors of the words in the sentences."
      ]
    },
    {
      "cell_type": "markdown",
      "metadata": {
        "id": "hyDjuK-qJgbs"
      },
      "source": [
        "<b>Why are CNNs well adapted for text classification ?</b>"
      ]
    },
    {
      "cell_type": "markdown",
      "metadata": {
        "id": "2veIHV_QJF7R"
      },
      "source": [
        "The same reasons that makes CNNs very efficient for image classification applies to text classification. 1-DCNNs extract features from local input patches allowing for representation modularity.1D convolution layers are also translation invariant in the sense that because the same input transformation is performed on every patch, a pattern learned at a certain position in a sentence can later be recognized at a different position."
      ]
    },
    {
      "cell_type": "markdown",
      "metadata": {
        "id": "-w9ETb2zI-AN"
      },
      "source": [
        "<b>a_ Training of the CNN</b>\n"
      ]
    },
    {
      "cell_type": "code",
      "execution_count": null,
      "metadata": {
        "id": "UcuxLdJCJr5A"
      },
      "outputs": [],
      "source": [
        "def create_CNN_model():\n",
        "    CNN = Sequential()\n",
        "    # The Embedding layer takes the embedding matrix as an argument and transform the inputed the sequences of index to sequences of vectors.\n",
        "    CNN.add(Embedding(len(word_index) + 1, word_dimension, weights=[embedding_matrix], input_length=maxlen, trainable=False))\n",
        "\n",
        "    CNN.add(Convolution1D(64, 5, activation = 'relu'))\n",
        "    CNN.add(MaxPooling1D(pool_size = 5))\n",
        "\n",
        "    CNN.add(Convolution1D(32, 5, activation = 'relu'))\n",
        "    CNN.add(MaxPooling1D(pool_size = 5))\n",
        "\n",
        "    CNN.add(Flatten())\n",
        "    CNN.add(Dense(units = 128 , activation = 'relu'))\n",
        "    CNN.add(Dropout(0.5))\n",
        "    CNN.add(Dense(units = 1, activation = 'sigmoid'))\n",
        "\n",
        "    CNN.compile(optimizer = 'adam', loss = 'binary_crossentropy', metrics = ['accuracy'])\n",
        "\n",
        "    return CNN"
      ]
    },
    {
      "cell_type": "code",
      "execution_count": null,
      "metadata": {
        "id": "o0nCMfsNKTsZ"
      },
      "outputs": [],
      "source": [
        "CNN_model = create_CNN_model()"
      ]
    },
    {
      "cell_type": "code",
      "execution_count": null,
      "metadata": {
        "colab": {
          "base_uri": "https://localhost:8080/"
        },
        "id": "eIaxbDR7KTqM",
        "outputId": "05093497-404d-466b-bc9c-dbb526f54a19"
      },
      "outputs": [
        {
          "name": "stdout",
          "output_type": "stream",
          "text": [
            "Epoch 1/10\n",
            "24/24 [==============================] - 11s 78ms/step - loss: 0.6793 - accuracy: 0.6086 - val_loss: 0.5334 - val_accuracy: 0.7447\n",
            "Epoch 2/10\n",
            "24/24 [==============================] - 0s 14ms/step - loss: 0.4351 - accuracy: 0.8123 - val_loss: 0.3873 - val_accuracy: 0.8511\n",
            "Epoch 3/10\n",
            "24/24 [==============================] - 1s 39ms/step - loss: 0.2703 - accuracy: 0.9088 - val_loss: 0.3905 - val_accuracy: 0.8617\n",
            "Epoch 4/10\n",
            "24/24 [==============================] - 0s 6ms/step - loss: 0.1931 - accuracy: 0.9491 - val_loss: 0.4052 - val_accuracy: 0.8404\n",
            "Epoch 5/10\n",
            "24/24 [==============================] - 0s 6ms/step - loss: 0.1490 - accuracy: 0.9544 - val_loss: 0.2480 - val_accuracy: 0.9149\n",
            "Epoch 6/10\n",
            "24/24 [==============================] - 0s 8ms/step - loss: 0.1282 - accuracy: 0.9625 - val_loss: 0.3390 - val_accuracy: 0.8723\n",
            "Epoch 7/10\n",
            "24/24 [==============================] - 0s 6ms/step - loss: 0.0754 - accuracy: 0.9866 - val_loss: 0.2432 - val_accuracy: 0.9043\n",
            "Epoch 8/10\n",
            "24/24 [==============================] - 0s 6ms/step - loss: 0.0758 - accuracy: 0.9812 - val_loss: 0.4353 - val_accuracy: 0.8511\n",
            "Epoch 9/10\n",
            "24/24 [==============================] - 0s 6ms/step - loss: 0.0641 - accuracy: 0.9839 - val_loss: 0.2291 - val_accuracy: 0.9362\n",
            "Epoch 10/10\n",
            "24/24 [==============================] - 0s 6ms/step - loss: 0.0455 - accuracy: 0.9920 - val_loss: 0.3649 - val_accuracy: 0.8936\n"
          ]
        }
      ],
      "source": [
        "CNN_history = CNN_model.fit(feature_train, y_train, epochs=10, batch_size=16, validation_data=(feature_test, y_test))"
      ]
    },
    {
      "cell_type": "markdown",
      "metadata": {
        "id": "XQzMQv6ZKaHY"
      },
      "source": [
        "Some visualizations of the training :"
      ]
    },
    {
      "cell_type": "code",
      "execution_count": null,
      "metadata": {
        "colab": {
          "base_uri": "https://localhost:8080/",
          "height": 472
        },
        "id": "soEAQ7aUKea_",
        "outputId": "df540361-4a4c-414b-af71-e9923e34be9d"
      },
      "outputs": [
        {
          "data": {
            "image/png": "[encoded data removed]",
            "text/plain": [
              "<Figure size 640x480 with 1 Axes>"
            ]
          },
          "metadata": {},
          "output_type": "display_data"
        }
      ],
      "source": [
        "# Plot training & validation accuracy\n",
        "plt.plot(CNN_history.history['accuracy'])\n",
        "plt.plot(CNN_history.history['val_accuracy'])\n",
        "plt.title('Model accuracy')\n",
        "plt.ylabel('Accuracy')\n",
        "plt.xlabel('Epoch')\n",
        "plt.legend(['Train', 'Test'], loc='upper left')\n",
        "plt.show()"
      ]
    },
    {
      "cell_type": "code",
      "execution_count": null,
      "metadata": {
        "colab": {
          "base_uri": "https://localhost:8080/",
          "height": 472
        },
        "id": "HikYxZVNKeYi",
        "outputId": "12aa981b-4a20-4cfb-d7dd-30640cdfed23"
      },
      "outputs": [
        {
          "data": {
            "image/png": "[encoded data removed]",
            "text/plain": [
              "<Figure size 640x480 with 1 Axes>"
            ]
          },
          "metadata": {},
          "output_type": "display_data"
        }
      ],
      "source": [
        "# Plot training & validation loss values\n",
        "plt.plot(CNN_history.history['loss'])\n",
        "plt.plot(CNN_history.history['val_loss'])\n",
        "plt.title('Model loss')\n",
        "plt.ylabel('Loss')\n",
        "plt.xlabel('Epoch')\n",
        "plt.legend(['Train', 'Test'], loc='upper left')\n",
        "plt.show()"
      ]
    },
    {
      "cell_type": "markdown",
      "metadata": {
        "id": "hHSc3FQlI97V"
      },
      "source": [
        "\n",
        "<b>b_ Evalutation</b>\n",
        "\n"
      ]
    },
    {
      "cell_type": "markdown",
      "metadata": {
        "id": "s1xGAyIlKsWi"
      },
      "source": [
        "We can use the ROC curve to assess the performance of the classification. You can learn more about the ROC curve here :https://en.wikipedia.org/wiki/Receiver_operating_characteristic"
      ]
    },
    {
      "cell_type": "code",
      "execution_count": null,
      "metadata": {
        "colab": {
          "base_uri": "https://localhost:8080/"
        },
        "id": "gg8dLOTEKr0v",
        "outputId": "121e3fac-a487-49d3-830e-f00b9cf852e3"
      },
      "outputs": [
        {
          "name": "stdout",
          "output_type": "stream",
          "text": [
            "3/3 [==============================] - 0s 49ms/step\n"
          ]
        }
      ],
      "source": [
        "y_pred_CNN = CNN_model.predict(feature_test)"
      ]
    },
    {
      "cell_type": "code",
      "execution_count": null,
      "metadata": {
        "colab": {
          "base_uri": "https://localhost:8080/",
          "height": 472
        },
        "id": "GkFQ6Wd0H2-4",
        "outputId": "653d8856-2860-4a61-b779-b998cb9555d8"
      },
      "outputs": [
        {
          "data": {
            "image/png": "[encoded data removed]",
            "text/plain": [
              "<Figure size 640x480 with 1 Axes>"
            ]
          },
          "metadata": {},
          "output_type": "display_data"
        }
      ],
      "source": [
        "fpr, tpr, threshold =roc_curve(y_test, y_pred_CNN)\n",
        "roc_auc = auc(fpr, tpr)\n",
        "\n",
        "plt.title('Receiver Operating Characteristic')\n",
        "plt.plot(fpr, tpr, 'b', label = 'AUC = %0.2f' % roc_auc)\n",
        "plt.legend(loc = 'lower right')\n",
        "plt.plot([0, 1], [0, 1],'r--')\n",
        "plt.xlim([0, 1])\n",
        "plt.ylim([0, 1])\n",
        "plt.ylabel('True Positive Rate')\n",
        "plt.xlabel('False Positive Rate')\n",
        "plt.show()"
      ]
    },
    {
      "cell_type": "markdown",
      "metadata": {
        "id": "KgFJXtOXK3uf"
      },
      "source": [
        "<h3>4_ Second Model : Recurrent Neural Networks</h3>"
      ]
    },
    {
      "cell_type": "markdown",
      "metadata": {
        "id": "0_upqbz1K-TM"
      },
      "source": [
        "Like for the CNN, lets first take a close look at how does a Recurrent Neural Network (RNN) works and why is this type of model actually well adapted to texts classification."
      ]
    },
    {
      "cell_type": "markdown",
      "metadata": {
        "id": "WuTAjfqyK-OG"
      },
      "source": [
        "<b>What is a RNN and how does it work ?</b><br>\n",
        "An RNN is a specific kind of neural network that have the following two properties:\n",
        "* They make use of sequential information.\n",
        "* They have a memory that captures what have been calculated so far.\n",
        "<br><br>\n",
        "For a given document, the RNN layer takes each word sequentially and at a given word, build a vector that combines the information of the current word with the information of all the preceding words. When the layer when through all the document, the output vector reflects the information of each words of the documents taken sequentially.\n",
        "<br>\n",
        "The optimisation of this layer tends to find the best way to understand the sequence of words in order to answer the final question: is the fund using derivatives.\n",
        "<br><br>\n",
        "What does it mean mathematically ?\n",
        "<br>\n",
        "I our case the words have 50 dimensions and a document is composed of 150 words. Let’s xt be the t-th word of a given document. A document could be written as followed:\n",
        "$$\n",
        "[x_1,x_2\\ ,...,x_{t-1},x_t,x_{t+1},...\\ ,x_{250}\\ ]\n",
        "$$\n",
        "for t going from 1 to 250, the RNN layer compute sequentially:\n",
        "$$\n",
        "h_t=f(W*x_t+U*h_{t-1}+b)\n",
        "$$\n",
        "Where f is a nonlinear activation function and b the bias.\n",
        "<br>\n",
        "The training aimed at searching the best W, U and b such that the output of this layer gives the best information for answering our question.\n",
        "<br>\n",
        "The output of the layer is h250. It contains the combined information of each words of the document taken sequentially. This output is used as the input of a feedforward classifier that performs the classification.\n",
        "<br>\n",
        "You will find a great illustrated more detailed explanation of the recurrent neural network here: https://towardsdatascience.com/illustrated-guide-to-recurrent-neural-networks-79e5eb8049c9\n",
        "\n"
      ]
    },
    {
      "cell_type": "markdown",
      "metadata": {
        "id": "013J2a30K-Jn"
      },
      "source": [
        "<b>Why this is a good algo for text classification ?</b><br>\n",
        "The main advantage of this kind of neural network is that it allows to understand inputs as an ordered series. RNN has been widely used for time series analysis. You can find for instance find many papers exploring Stock predictions using deep recurrent neural networks (https://www.scitepress.org/papers/2018/67499/67499.pdf).\n",
        "<br>\n",
        "RNNs has been found very efficient for text classification and more generally for text understanding and processing. The sequential nature of languages could explain why RNNs are well adapted. Indeed, it seems more logical to understand alphabetic sentences as sequences than simply as unordered list of words such as in the ML algorithms we discussed above.\n",
        "\n"
      ]
    },
    {
      "cell_type": "markdown",
      "metadata": {
        "id": "LYtfT1ogK-Fr"
      },
      "source": [
        "<b>RNN or Bidirectional LSTM? what's the difference? </b><br>\n",
        "You will see in the implementation of the model that we use a Bidirectional LSTM layer instead of a simple RNN layer. What is the difference?\n",
        "<br>\n",
        "* <b>Bidirectional</b>\n",
        "means that instead of only reading the sentence from left to right, also build a vector reading from left to right and concatenates both outputs.\n",
        "<br>\n",
        "(see https://en.wikipedia.org/wiki/Bidirectional_recurrent_neural_networks for more details)\n",
        "\n",
        "\n"
      ]
    },
    {
      "cell_type": "markdown",
      "metadata": {
        "id": "TMyH8uoEK99p"
      },
      "source": [
        "<u>Schema of a One direction RNN layer :</u>"
      ]
    },
    {
      "cell_type": "markdown",
      "metadata": {
        "id": "7hhq7dFDMBS_"
      },
      "source": [
        "![image.png](data:image/png;base64,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)"
      ]
    },
    {
      "cell_type": "markdown",
      "metadata": {
        "id": "IJvFOU6aMDks"
      },
      "source": [
        "<u>Schema of a Bidirectional RNN layer :</u>"
      ]
    },
    {
      "cell_type": "markdown",
      "metadata": {
        "id": "XhN-zArXMHwo"
      },
      "source": [
        "![image.png](data:image/png;base64,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)"
      ]
    },
    {
      "cell_type": "markdown",
      "metadata": {
        "id": "rJipQDQjMHr0"
      },
      "source": [
        "* <b>LSTM vs RNN?</b><br>\n",
        "It appears that RNNs have a strong theorical limit called \"Vanishing gradient\". It can be shown that for long series, RNN models can't be well optimized. LSTM layers have been developed to address this issue. for more details on the vanishing gradient problem and how it has been addressed, please look at this paper: https://medium.com/datadriveninvestor/how-do-lstm-networks-solve-the-problem-of-vanishing-gradients-a6784971a577\n"
      ]
    },
    {
      "cell_type": "markdown",
      "metadata": {
        "id": "-lwzX4FYMHlT"
      },
      "source": [
        "<b>a_ training of the RNN</b>"
      ]
    },
    {
      "cell_type": "code",
      "execution_count": null,
      "metadata": {
        "id": "owo7boJYMHGm"
      },
      "outputs": [],
      "source": [
        "def create_RNN_model():\n",
        "    RNN = Sequential()\n",
        "    RNN.add(Embedding(len(word_index) + 1, word_dimension, weights=[embedding_matrix], input_length = maxlen, trainable=False))\n",
        "\n",
        "    RNN.add(Bidirectional(LSTM(word_dimension)))\n",
        "    RNN.add(Dense(word_dimension, activation='relu'))\n",
        "    RNN.add(Dense(1, activation='sigmoid'))\n",
        "    RNN.compile(loss='binary_crossentropy', optimizer='Adam', metrics=['accuracy'])\n",
        "\n",
        "    return RNN"
      ]
    },
    {
      "cell_type": "code",
      "execution_count": null,
      "metadata": {
        "id": "IeTxsM3xKyxH"
      },
      "outputs": [],
      "source": [
        "RNN_model = create_RNN_model()"
      ]
    },
    {
      "cell_type": "code",
      "execution_count": null,
      "metadata": {
        "colab": {
          "base_uri": "https://localhost:8080/"
        },
        "id": "Fo8_99J5MZ-0",
        "outputId": "a6fd978a-3e74-4e74-d917-566880cc590c"
      },
      "outputs": [
        {
          "name": "stdout",
          "output_type": "stream",
          "text": [
            "Epoch 1/10\n",
            "24/24 [==============================] - 5s 55ms/step - loss: 0.6471 - accuracy: 0.6300 - val_loss: 0.5946 - val_accuracy: 0.7447\n",
            "Epoch 2/10\n",
            "24/24 [==============================] - 0s 15ms/step - loss: 0.5433 - accuracy: 0.7748 - val_loss: 0.4260 - val_accuracy: 0.8511\n",
            "Epoch 3/10\n",
            "24/24 [==============================] - 0s 17ms/step - loss: 0.3497 - accuracy: 0.8445 - val_loss: 0.2935 - val_accuracy: 0.9043\n",
            "Epoch 4/10\n",
            "24/24 [==============================] - 0s 21ms/step - loss: 0.2641 - accuracy: 0.9008 - val_loss: 0.2923 - val_accuracy: 0.8617\n",
            "Epoch 5/10\n",
            "24/24 [==============================] - 1s 21ms/step - loss: 0.2623 - accuracy: 0.8874 - val_loss: 0.2054 - val_accuracy: 0.9362\n",
            "Epoch 6/10\n",
            "24/24 [==============================] - 1s 21ms/step - loss: 0.1817 - accuracy: 0.9330 - val_loss: 0.1873 - val_accuracy: 0.9468\n",
            "Epoch 7/10\n",
            "24/24 [==============================] - 1s 21ms/step - loss: 0.1637 - accuracy: 0.9437 - val_loss: 0.2090 - val_accuracy: 0.9362\n",
            "Epoch 8/10\n",
            "24/24 [==============================] - 1s 22ms/step - loss: 0.1557 - accuracy: 0.9330 - val_loss: 0.3861 - val_accuracy: 0.8617\n",
            "Epoch 9/10\n",
            "24/24 [==============================] - 1s 22ms/step - loss: 0.1927 - accuracy: 0.9383 - val_loss: 0.2187 - val_accuracy: 0.9468\n",
            "Epoch 10/10\n",
            "24/24 [==============================] - 0s 17ms/step - loss: 0.1171 - accuracy: 0.9571 - val_loss: 0.2215 - val_accuracy: 0.9468\n"
          ]
        }
      ],
      "source": [
        "RNN_history = RNN_model.fit(feature_train, y_train, epochs=10, batch_size=16, validation_data=(feature_test, y_test))"
      ]
    },
    {
      "cell_type": "markdown",
      "metadata": {
        "id": "hloV4PndMxTe"
      },
      "source": [
        "\n",
        "Some visualizations of the training :\n"
      ]
    },
    {
      "cell_type": "code",
      "execution_count": null,
      "metadata": {
        "colab": {
          "base_uri": "https://localhost:8080/",
          "height": 472
        },
        "id": "cj8vddKXMbb7",
        "outputId": "e2a4d460-e113-482e-aaff-5c171d5aa1fe"
      },
      "outputs": [
        {
          "data": {
            "image/png": "[encoded data removed]",
            "text/plain": [
              "<Figure size 640x480 with 1 Axes>"
            ]
          },
          "metadata": {},
          "output_type": "display_data"
        }
      ],
      "source": [
        "# Plot training & validation accuracy values\n",
        "plt.plot(RNN_history.history['accuracy'])\n",
        "plt.plot(RNN_history.history['val_accuracy'])\n",
        "plt.title('Model accuracy')\n",
        "plt.ylabel('Accuracy')\n",
        "plt.xlabel('Epoch')\n",
        "plt.legend(['Train', 'Test'], loc='upper left')\n",
        "plt.show()"
      ]
    },
    {
      "cell_type": "code",
      "execution_count": null,
      "metadata": {
        "colab": {
          "base_uri": "https://localhost:8080/",
          "height": 472
        },
        "id": "VQdb2iR6M5n8",
        "outputId": "7353aee5-379a-4c77-dc91-811116db6221"
      },
      "outputs": [
        {
          "data": {
            "image/png": "[encoded data removed]",
            "text/plain": [
              "<Figure size 640x480 with 1 Axes>"
            ]
          },
          "metadata": {},
          "output_type": "display_data"
        }
      ],
      "source": [
        "# Plot training & validation loss values\n",
        "plt.plot(RNN_history.history['loss'])\n",
        "plt.plot(RNN_history.history['val_loss'])\n",
        "plt.title('Model loss')\n",
        "plt.ylabel('Loss')\n",
        "plt.xlabel('Epoch')\n",
        "plt.legend(['Train', 'Test'], loc='upper left')\n",
        "plt.show()"
      ]
    },
    {
      "cell_type": "markdown",
      "metadata": {
        "id": "PR1jE89LNBkB"
      },
      "source": [
        "<b>b_ Evaluation</b>"
      ]
    },
    {
      "cell_type": "code",
      "execution_count": null,
      "metadata": {
        "colab": {
          "base_uri": "https://localhost:8080/"
        },
        "id": "L6HZs1ZOM64p",
        "outputId": "6b9a8751-bc0f-479d-e70c-0d30ad600521"
      },
      "outputs": [
        {
          "name": "stdout",
          "output_type": "stream",
          "text": [
            "3/3 [==============================] - 1s 11ms/step\n"
          ]
        }
      ],
      "source": [
        "y_pred_RNN = RNN_model.predict(feature_test)"
      ]
    },
    {
      "cell_type": "code",
      "execution_count": null,
      "metadata": {
        "colab": {
          "base_uri": "https://localhost:8080/",
          "height": 472
        },
        "id": "zXs4geCaNFtv",
        "outputId": "561c22be-2297-4330-e64c-7759646ace2b"
      },
      "outputs": [
        {
          "data": {
            "image/png": "[encoded data removed]",
            "text/plain": [
              "<Figure size 640x480 with 1 Axes>"
            ]
          },
          "metadata": {},
          "output_type": "display_data"
        }
      ],
      "source": [
        "fpr, tpr, threshold = roc_curve(y_test, y_pred_RNN)\n",
        "roc_auc = auc(fpr, tpr)\n",
        "\n",
        "plt.title('Receiver Operating Characteristic')\n",
        "plt.plot(fpr, tpr, 'b', label = 'AUC = %0.2f' % roc_auc)\n",
        "plt.legend(loc = 'lower right')\n",
        "plt.plot([0, 1], [0, 1],'r--')\n",
        "plt.xlim([0, 1])\n",
        "plt.ylim([0, 1])\n",
        "plt.ylabel('True Positive Rate')\n",
        "plt.xlabel('False Positive Rate')\n",
        "plt.show()"
      ]
    },
    {
      "cell_type": "markdown",
      "metadata": {
        "id": "LvFpQKAZR91l"
      },
      "source": [
        "# Conclusion"
      ]
    },
    {
      "cell_type": "markdown",
      "metadata": {
        "id": "hb8FSbzUa9cZ"
      },
      "source": [
        "This Notebooks propose an implementation of some of the most famous algorithms used in NLP. NLP is vast and is growing very fast, I discuss below some other important models.\n",
        "\n",
        "There is a great diversity of pre-built nlp tools such as Parsing models and linguistic models. You can find a great variety of open source software and libraries that propose such models.</br>\n",
        "The following link gives a list of such opensource tools :</br>\n",
        "https://opensource.com/article/19/3/natural-language-processing-tools\n",
        "</br></br>\n",
        "\n",
        "Moreover, NLP is in constant evolution. The Bert model, for instance, has been developed in late 2018 and gives spatial word representation that contains much more contextual information than the ones outputted by the skip-gram model. Recent papers show that Bert allows to out-perform the previous word2vec approaches in text classification. To learn more about the Bert model I invite you to follow the link below.\n",
        "https://towardsdatascience.com/bert-explained-state-of-the-art-language-model-for-nlp-f8b21a9b6270\n"
      ]
    },
    {
      "cell_type": "code",
      "execution_count": null,
      "metadata": {
        "id": "eVXjMMzgSixE"
      },
      "outputs": [],
      "source": []
    }
  ],
  "metadata": {
    "colab": {
      "provenance": [],
      "toc_visible": true
    },
    "kernelspec": {
      "display_name": "Python 3 (ipykernel)",
      "language": "python",
      "name": "python3"
    },
    "language_info": {
      "codemirror_mode": {
        "name": "ipython",
        "version": 3
      },
      "file_extension": ".py",
      "mimetype": "text/x-python",
      "name": "python",
      "nbconvert_exporter": "python",
      "pygments_lexer": "ipython3",
      "version": "3.9.16"
    },
    "widgets": {
      "application/vnd.jupyter.widget-state+json": {
        "eba4d0fc6db24b5b88fa7e3e3985b283": {
          "model_module": "@jupyter-widgets/controls",
          "model_name": "HBoxModel",
          "model_module_version": "1.5.0",
          "state": {
            "_dom_classes": [],
            "_model_module": "@jupyter-widgets/controls",
            "_model_module_version": "1.5.0",
            "_model_name": "HBoxModel",
            "_view_count": null,
            "_view_module": "@jupyter-widgets/controls",
            "_view_module_version": "1.5.0",
            "_view_name": "HBoxView",
            "box_style": "",
            "children": [
              "IPY_MODEL_705ed3c666624adabbf07cbfed26706c",
              "IPY_MODEL_091242fb3f9d48a4b1fbbe74df82729e",
              "IPY_MODEL_3259b5cf670a40aa9610801e2bb1772b"
            ],
            "layout": "IPY_MODEL_a463ffb2b6654c649c4da64ef4551b51"
          }
        },
        "705ed3c666624adabbf07cbfed26706c": {
          "model_module": "@jupyter-widgets/controls",
          "model_name": "HTMLModel",
          "model_module_version": "1.5.0",
          "state": {
            "_dom_classes": [],
            "_model_module": "@jupyter-widgets/controls",
            "_model_module_version": "1.5.0",
            "_model_name": "HTMLModel",
            "_view_count": null,
            "_view_module": "@jupyter-widgets/controls",
            "_view_module_version": "1.5.0",
            "_view_name": "HTMLView",
            "description": "",
            "description_tooltip": null,
            "layout": "IPY_MODEL_b45a1dc7b1e44485893ef2ece2075ef6",
            "placeholder": "​",
            "style": "IPY_MODEL_9fcbd3155c1145fe8c6f7373307bc256",
            "value": "modules.json: 100%"
          }
        },
        "091242fb3f9d48a4b1fbbe74df82729e": {
          "model_module": "@jupyter-widgets/controls",
          "model_name": "FloatProgressModel",
          "model_module_version": "1.5.0",
          "state": {
            "_dom_classes": [],
            "_model_module": "@jupyter-widgets/controls",
            "_model_module_version": "1.5.0",
            "_model_name": "FloatProgressModel",
            "_view_count": null,
            "_view_module": "@jupyter-widgets/controls",
            "_view_module_version": "1.5.0",
            "_view_name": "ProgressView",
            "bar_style": "success",
            "description": "",
            "description_tooltip": null,
            "layout": "IPY_MODEL_feaebca148b24420b9029fcdeab0c5cc",
            "max": 229,
            "min": 0,
            "orientation": "horizontal",
            "style": "IPY_MODEL_b4c4b6eac209486d8cc3bfd52e16c3fb",
            "value": 229
          }
        },
        "3259b5cf670a40aa9610801e2bb1772b": {
          "model_module": "@jupyter-widgets/controls",
          "model_name": "HTMLModel",
          "model_module_version": "1.5.0",
          "state": {
            "_dom_classes": [],
            "_model_module": "@jupyter-widgets/controls",
            "_model_module_version": "1.5.0",
            "_model_name": "HTMLModel",
            "_view_count": null,
            "_view_module": "@jupyter-widgets/controls",
            "_view_module_version": "1.5.0",
            "_view_name": "HTMLView",
            "description": "",
            "description_tooltip": null,
            "layout": "IPY_MODEL_9b0dcaa8c60342daa82e9a27cceaedef",
            "placeholder": "​",
            "style": "IPY_MODEL_e507dcf7b5c5403bb04d3fb379f585c0",
            "value": " 229/229 [00:00&lt;00:00, 4.49kB/s]"
          }
        },
        "a463ffb2b6654c649c4da64ef4551b51": {
          "model_module": "@jupyter-widgets/base",
          "model_name": "LayoutModel",
          "model_module_version": "1.2.0",
          "state": {
            "_model_module": "@jupyter-widgets/base",
            "_model_module_version": "1.2.0",
            "_model_name": "LayoutModel",
            "_view_count": null,
            "_view_module": "@jupyter-widgets/base",
            "_view_module_version": "1.2.0",
            "_view_name": "LayoutView",
            "align_content": null,
            "align_items": null,
            "align_self": null,
            "border": null,
            "bottom": null,
            "display": null,
            "flex": null,
            "flex_flow": null,
            "grid_area": null,
            "grid_auto_columns": null,
            "grid_auto_flow": null,
            "grid_auto_rows": null,
            "grid_column": null,
            "grid_gap": null,
            "grid_row": null,
            "grid_template_areas": null,
            "grid_template_columns": null,
            "grid_template_rows": null,
            "height": null,
            "justify_content": null,
            "justify_items": null,
            "left": null,
            "margin": null,
            "max_height": null,
            "max_width": null,
            "min_height": null,
            "min_width": null,
            "object_fit": null,
            "object_position": null,
            "order": null,
            "overflow": null,
            "overflow_x": null,
            "overflow_y": null,
            "padding": null,
            "right": null,
            "top": null,
            "visibility": null,
            "width": null
          }
        },
        "b45a1dc7b1e44485893ef2ece2075ef6": {
          "model_module": "@jupyter-widgets/base",
          "model_name": "LayoutModel",
          "model_module_version": "1.2.0",
          "state": {
            "_model_module": "@jupyter-widgets/base",
            "_model_module_version": "1.2.0",
            "_model_name": "LayoutModel",
            "_view_count": null,
            "_view_module": "@jupyter-widgets/base",
            "_view_module_version": "1.2.0",
            "_view_name": "LayoutView",
            "align_content": null,
            "align_items": null,
            "align_self": null,
            "border": null,
            "bottom": null,
            "display": null,
            "flex": null,
            "flex_flow": null,
            "grid_area": null,
            "grid_auto_columns": null,
            "grid_auto_flow": null,
            "grid_auto_rows": null,
            "grid_column": null,
            "grid_gap": null,
            "grid_row": null,
            "grid_template_areas": null,
            "grid_template_columns": null,
            "grid_template_rows": null,
            "height": null,
            "justify_content": null,
            "justify_items": null,
            "left": null,
            "margin": null,
            "max_height": null,
            "max_width": null,
            "min_height": null,
            "min_width": null,
            "object_fit": null,
            "object_position": null,
            "order": null,
            "overflow": null,
            "overflow_x": null,
            "overflow_y": null,
            "padding": null,
            "right": null,
            "top": null,
            "visibility": null,
            "width": null
          }
        },
        "9fcbd3155c1145fe8c6f7373307bc256": {
          "model_module": "@jupyter-widgets/controls",
          "model_name": "DescriptionStyleModel",
          "model_module_version": "1.5.0",
          "state": {
            "_model_module": "@jupyter-widgets/controls",
            "_model_module_version": "1.5.0",
            "_model_name": "DescriptionStyleModel",
            "_view_count": null,
            "_view_module": "@jupyter-widgets/base",
            "_view_module_version": "1.2.0",
            "_view_name": "StyleView",
            "description_width": ""
          }
        },
        "feaebca148b24420b9029fcdeab0c5cc": {
          "model_module": "@jupyter-widgets/base",
          "model_name": "LayoutModel",
          "model_module_version": "1.2.0",
          "state": {
            "_model_module": "@jupyter-widgets/base",
            "_model_module_version": "1.2.0",
            "_model_name": "LayoutModel",
            "_view_count": null,
            "_view_module": "@jupyter-widgets/base",
            "_view_module_version": "1.2.0",
            "_view_name": "LayoutView",
            "align_content": null,
            "align_items": null,
            "align_self": null,
            "border": null,
            "bottom": null,
            "display": null,
            "flex": null,
            "flex_flow": null,
            "grid_area": null,
            "grid_auto_columns": null,
            "grid_auto_flow": null,
            "grid_auto_rows": null,
            "grid_column": null,
            "grid_gap": null,
            "grid_row": null,
            "grid_template_areas": null,
            "grid_template_columns": null,
            "grid_template_rows": null,
            "height": null,
            "justify_content": null,
            "justify_items": null,
            "left": null,
            "margin": null,
            "max_height": null,
            "max_width": null,
            "min_height": null,
            "min_width": null,
            "object_fit": null,
            "object_position": null,
            "order": null,
            "overflow": null,
            "overflow_x": null,
            "overflow_y": null,
            "padding": null,
            "right": null,
            "top": null,
            "visibility": null,
            "width": null
          }
        },
        "b4c4b6eac209486d8cc3bfd52e16c3fb": {
          "model_module": "@jupyter-widgets/controls",
          "model_name": "ProgressStyleModel",
          "model_module_version": "1.5.0",
          "state": {
            "_model_module": "@jupyter-widgets/controls",
            "_model_module_version": "1.5.0",
            "_model_name": "ProgressStyleModel",
            "_view_count": null,
            "_view_module": "@jupyter-widgets/base",
            "_view_module_version": "1.2.0",
            "_view_name": "StyleView",
            "bar_color": null,
            "description_width": ""
          }
        },
        "9b0dcaa8c60342daa82e9a27cceaedef": {
          "model_module": "@jupyter-widgets/base",
          "model_name": "LayoutModel",
          "model_module_version": "1.2.0",
          "state": {
            "_model_module": "@jupyter-widgets/base",
            "_model_module_version": "1.2.0",
            "_model_name": "LayoutModel",
            "_view_count": null,
            "_view_module": "@jupyter-widgets/base",
            "_view_module_version": "1.2.0",
            "_view_name": "LayoutView",
            "align_content": null,
            "align_items": null,
            "align_self": null,
            "border": null,
            "bottom": null,
            "display": null,
            "flex": null,
            "flex_flow": null,
            "grid_area": null,
            "grid_auto_columns": null,
            "grid_auto_flow": null,
            "grid_auto_rows": null,
            "grid_column": null,
            "grid_gap": null,
            "grid_row": null,
            "grid_template_areas": null,
            "grid_template_columns": null,
            "grid_template_rows": null,
            "height": null,
            "justify_content": null,
            "justify_items": null,
            "left": null,
            "margin": null,
            "max_height": null,
            "max_width": null,
            "min_height": null,
            "min_width": null,
            "object_fit": null,
            "object_position": null,
            "order": null,
            "overflow": null,
            "overflow_x": null,
            "overflow_y": null,
            "padding": null,
            "right": null,
            "top": null,
            "visibility": null,
            "width": null
          }
        },
        "e507dcf7b5c5403bb04d3fb379f585c0": {
          "model_module": "@jupyter-widgets/controls",
          "model_name": "DescriptionStyleModel",
          "model_module_version": "1.5.0",
          "state": {
            "_model_module": "@jupyter-widgets/controls",
            "_model_module_version": "1.5.0",
            "_model_name": "DescriptionStyleModel",
            "_view_count": null,
            "_view_module": "@jupyter-widgets/base",
            "_view_module_version": "1.2.0",
            "_view_name": "StyleView",
            "description_width": ""
          }
        },
        "30434a19ddd3459a982bec221bdb42da": {
          "model_module": "@jupyter-widgets/controls",
          "model_name": "HBoxModel",
          "model_module_version": "1.5.0",
          "state": {
            "_dom_classes": [],
            "_model_module": "@jupyter-widgets/controls",
            "_model_module_version": "1.5.0",
            "_model_name": "HBoxModel",
            "_view_count": null,
            "_view_module": "@jupyter-widgets/controls",
            "_view_module_version": "1.5.0",
            "_view_name": "HBoxView",
            "box_style": "",
            "children": [
              "IPY_MODEL_a4bb59c442e446a682fa37f0072d8ac3",
              "IPY_MODEL_f9242b11b6c5454182d97cfddbade8ac",
              "IPY_MODEL_e83bd72b500048e9a694cf1cc08653ec"
            ],
            "layout": "IPY_MODEL_d3820a7edef5490c831b77ba5f364f9f"
          }
        },
        "a4bb59c442e446a682fa37f0072d8ac3": {
          "model_module": "@jupyter-widgets/controls",
          "model_name": "HTMLModel",
          "model_module_version": "1.5.0",
          "state": {
            "_dom_classes": [],
            "_model_module": "@jupyter-widgets/controls",
            "_model_module_version": "1.5.0",
            "_model_name": "HTMLModel",
            "_view_count": null,
            "_view_module": "@jupyter-widgets/controls",
            "_view_module_version": "1.5.0",
            "_view_name": "HTMLView",
            "description": "",
            "description_tooltip": null,
            "layout": "IPY_MODEL_20ac68939d484684a520bdf3798fb1cd",
            "placeholder": "​",
            "style": "IPY_MODEL_c2011dd69e4c4722992aa82ae8eb3b92",
            "value": "config_sentence_transformers.json: 100%"
          }
        },
        "f9242b11b6c5454182d97cfddbade8ac": {
          "model_module": "@jupyter-widgets/controls",
          "model_name": "FloatProgressModel",
          "model_module_version": "1.5.0",
          "state": {
            "_dom_classes": [],
            "_model_module": "@jupyter-widgets/controls",
            "_model_module_version": "1.5.0",
            "_model_name": "FloatProgressModel",
            "_view_count": null,
            "_view_module": "@jupyter-widgets/controls",
            "_view_module_version": "1.5.0",
            "_view_name": "ProgressView",
            "bar_style": "success",
            "description": "",
            "description_tooltip": null,
            "layout": "IPY_MODEL_bbf6d0b92a534a33abf295806076d276",
            "max": 122,
            "min": 0,
            "orientation": "horizontal",
            "style": "IPY_MODEL_e0bb3d588dc94f158873f4c2b56edaf4",
            "value": 122
          }
        },
        "e83bd72b500048e9a694cf1cc08653ec": {
          "model_module": "@jupyter-widgets/controls",
          "model_name": "HTMLModel",
          "model_module_version": "1.5.0",
          "state": {
            "_dom_classes": [],
            "_model_module": "@jupyter-widgets/controls",
            "_model_module_version": "1.5.0",
            "_model_name": "HTMLModel",
            "_view_count": null,
            "_view_module": "@jupyter-widgets/controls",
            "_view_module_version": "1.5.0",
            "_view_name": "HTMLView",
            "description": "",
            "description_tooltip": null,
            "layout": "IPY_MODEL_63c104d00bed4067a4d0c5abbe3ed146",
            "placeholder": "​",
            "style": "IPY_MODEL_a87c04feb691423c90dbdfc1d6ae7d00",
            "value": " 122/122 [00:00&lt;00:00, 2.51kB/s]"
          }
        },
        "d3820a7edef5490c831b77ba5f364f9f": {
          "model_module": "@jupyter-widgets/base",
          "model_name": "LayoutModel",
          "model_module_version": "1.2.0",
          "state": {
            "_model_module": "@jupyter-widgets/base",
            "_model_module_version": "1.2.0",
            "_model_name": "LayoutModel",
            "_view_count": null,
            "_view_module": "@jupyter-widgets/base",
            "_view_module_version": "1.2.0",
            "_view_name": "LayoutView",
            "align_content": null,
            "align_items": null,
            "align_self": null,
            "border": null,
            "bottom": null,
            "display": null,
            "flex": null,
            "flex_flow": null,
            "grid_area": null,
            "grid_auto_columns": null,
            "grid_auto_flow": null,
            "grid_auto_rows": null,
            "grid_column": null,
            "grid_gap": null,
            "grid_row": null,
            "grid_template_areas": null,
            "grid_template_columns": null,
            "grid_template_rows": null,
            "height": null,
            "justify_content": null,
            "justify_items": null,
            "left": null,
            "margin": null,
            "max_height": null,
            "max_width": null,
            "min_height": null,
            "min_width": null,
            "object_fit": null,
            "object_position": null,
            "order": null,
            "overflow": null,
            "overflow_x": null,
            "overflow_y": null,
            "padding": null,
            "right": null,
            "top": null,
            "visibility": null,
            "width": null
          }
        },
        "20ac68939d484684a520bdf3798fb1cd": {
          "model_module": "@jupyter-widgets/base",
          "model_name": "LayoutModel",
          "model_module_version": "1.2.0",
          "state": {
            "_model_module": "@jupyter-widgets/base",
            "_model_module_version": "1.2.0",
            "_model_name": "LayoutModel",
            "_view_count": null,
            "_view_module": "@jupyter-widgets/base",
            "_view_module_version": "1.2.0",
            "_view_name": "LayoutView",
            "align_content": null,
            "align_items": null,
            "align_self": null,
            "border": null,
            "bottom": null,
            "display": null,
            "flex": null,
            "flex_flow": null,
            "grid_area": null,
            "grid_auto_columns": null,
            "grid_auto_flow": null,
            "grid_auto_rows": null,
            "grid_column": null,
            "grid_gap": null,
            "grid_row": null,
            "grid_template_areas": null,
            "grid_template_columns": null,
            "grid_template_rows": null,
            "height": null,
            "justify_content": null,
            "justify_items": null,
            "left": null,
            "margin": null,
            "max_height": null,
            "max_width": null,
            "min_height": null,
            "min_width": null,
            "object_fit": null,
            "object_position": null,
            "order": null,
            "overflow": null,
            "overflow_x": null,
            "overflow_y": null,
            "padding": null,
            "right": null,
            "top": null,
            "visibility": null,
            "width": null
          }
        },
        "c2011dd69e4c4722992aa82ae8eb3b92": {
          "model_module": "@jupyter-widgets/controls",
          "model_name": "DescriptionStyleModel",
          "model_module_version": "1.5.0",
          "state": {
            "_model_module": "@jupyter-widgets/controls",
            "_model_module_version": "1.5.0",
            "_model_name": "DescriptionStyleModel",
            "_view_count": null,
            "_view_module": "@jupyter-widgets/base",
            "_view_module_version": "1.2.0",
            "_view_name": "StyleView",
            "description_width": ""
          }
        },
        "bbf6d0b92a534a33abf295806076d276": {
          "model_module": "@jupyter-widgets/base",
          "model_name": "LayoutModel",
          "model_module_version": "1.2.0",
          "state": {
            "_model_module": "@jupyter-widgets/base",
            "_model_module_version": "1.2.0",
            "_model_name": "LayoutModel",
            "_view_count": null,
            "_view_module": "@jupyter-widgets/base",
            "_view_module_version": "1.2.0",
            "_view_name": "LayoutView",
            "align_content": null,
            "align_items": null,
            "align_self": null,
            "border": null,
            "bottom": null,
            "display": null,
            "flex": null,
            "flex_flow": null,
            "grid_area": null,
            "grid_auto_columns": null,
            "grid_auto_flow": null,
            "grid_auto_rows": null,
            "grid_column": null,
            "grid_gap": null,
            "grid_row": null,
            "grid_template_areas": null,
            "grid_template_columns": null,
            "grid_template_rows": null,
            "height": null,
            "justify_content": null,
            "justify_items": null,
            "left": null,
            "margin": null,
            "max_height": null,
            "max_width": null,
            "min_height": null,
            "min_width": null,
            "object_fit": null,
            "object_position": null,
            "order": null,
            "overflow": null,
            "overflow_x": null,
            "overflow_y": null,
            "padding": null,
            "right": null,
            "top": null,
            "visibility": null,
            "width": null
          }
        },
        "e0bb3d588dc94f158873f4c2b56edaf4": {
          "model_module": "@jupyter-widgets/controls",
          "model_name": "ProgressStyleModel",
          "model_module_version": "1.5.0",
          "state": {
            "_model_module": "@jupyter-widgets/controls",
            "_model_module_version": "1.5.0",
            "_model_name": "ProgressStyleModel",
            "_view_count": null,
            "_view_module": "@jupyter-widgets/base",
            "_view_module_version": "1.2.0",
            "_view_name": "StyleView",
            "bar_color": null,
            "description_width": ""
          }
        },
        "63c104d00bed4067a4d0c5abbe3ed146": {
          "model_module": "@jupyter-widgets/base",
          "model_name": "LayoutModel",
          "model_module_version": "1.2.0",
          "state": {
            "_model_module": "@jupyter-widgets/base",
            "_model_module_version": "1.2.0",
            "_model_name": "LayoutModel",
            "_view_count": null,
            "_view_module": "@jupyter-widgets/base",
            "_view_module_version": "1.2.0",
            "_view_name": "LayoutView",
            "align_content": null,
            "align_items": null,
            "align_self": null,
            "border": null,
            "bottom": null,
            "display": null,
            "flex": null,
            "flex_flow": null,
            "grid_area": null,
            "grid_auto_columns": null,
            "grid_auto_flow": null,
            "grid_auto_rows": null,
            "grid_column": null,
            "grid_gap": null,
            "grid_row": null,
            "grid_template_areas": null,
            "grid_template_columns": null,
            "grid_template_rows": null,
            "height": null,
            "justify_content": null,
            "justify_items": null,
            "left": null,
            "margin": null,
            "max_height": null,
            "max_width": null,
            "min_height": null,
            "min_width": null,
            "object_fit": null,
            "object_position": null,
            "order": null,
            "overflow": null,
            "overflow_x": null,
            "overflow_y": null,
            "padding": null,
            "right": null,
            "top": null,
            "visibility": null,
            "width": null
          }
        },
        "a87c04feb691423c90dbdfc1d6ae7d00": {
          "model_module": "@jupyter-widgets/controls",
          "model_name": "DescriptionStyleModel",
          "model_module_version": "1.5.0",
          "state": {
            "_model_module": "@jupyter-widgets/controls",
            "_model_module_version": "1.5.0",
            "_model_name": "DescriptionStyleModel",
            "_view_count": null,
            "_view_module": "@jupyter-widgets/base",
            "_view_module_version": "1.2.0",
            "_view_name": "StyleView",
            "description_width": ""
          }
        },
        "0d7c05f3816445a0a6f5f77ee03e833b": {
          "model_module": "@jupyter-widgets/controls",
          "model_name": "HBoxModel",
          "model_module_version": "1.5.0",
          "state": {
            "_dom_classes": [],
            "_model_module": "@jupyter-widgets/controls",
            "_model_module_version": "1.5.0",
            "_model_name": "HBoxModel",
            "_view_count": null,
            "_view_module": "@jupyter-widgets/controls",
            "_view_module_version": "1.5.0",
            "_view_name": "HBoxView",
            "box_style": "",
            "children": [
              "IPY_MODEL_39f8c9766b6a470cb601ce413a4450b0",
              "IPY_MODEL_d4ae18b56d294cafab88787557a0b517",
              "IPY_MODEL_3ce3112e84894973a651c7e4f07bcf9f"
            ],
            "layout": "IPY_MODEL_fd9f394ab11b4c7782cebaa7ea9112b4"
          }
        },
        "39f8c9766b6a470cb601ce413a4450b0": {
          "model_module": "@jupyter-widgets/controls",
          "model_name": "HTMLModel",
          "model_module_version": "1.5.0",
          "state": {
            "_dom_classes": [],
            "_model_module": "@jupyter-widgets/controls",
            "_model_module_version": "1.5.0",
            "_model_name": "HTMLModel",
            "_view_count": null,
            "_view_module": "@jupyter-widgets/controls",
            "_view_module_version": "1.5.0",
            "_view_name": "HTMLView",
            "description": "",
            "description_tooltip": null,
            "layout": "IPY_MODEL_748aa9a15d4946d0aca7d94d8b57f70a",
            "placeholder": "​",
            "style": "IPY_MODEL_107c35637cf84979872d55a262c7cc18",
            "value": "README.md: 100%"
          }
        },
        "d4ae18b56d294cafab88787557a0b517": {
          "model_module": "@jupyter-widgets/controls",
          "model_name": "FloatProgressModel",
          "model_module_version": "1.5.0",
          "state": {
            "_dom_classes": [],
            "_model_module": "@jupyter-widgets/controls",
            "_model_module_version": "1.5.0",
            "_model_name": "FloatProgressModel",
            "_view_count": null,
            "_view_module": "@jupyter-widgets/controls",
            "_view_module_version": "1.5.0",
            "_view_name": "ProgressView",
            "bar_style": "success",
            "description": "",
            "description_tooltip": null,
            "layout": "IPY_MODEL_da5f23c739ea4b149186cdd315370acb",
            "max": 3987,
            "min": 0,
            "orientation": "horizontal",
            "style": "IPY_MODEL_8a7ac0f1e96d483d9ed985d629e9ff3a",
            "value": 3987
          }
        },
        "3ce3112e84894973a651c7e4f07bcf9f": {
          "model_module": "@jupyter-widgets/controls",
          "model_name": "HTMLModel",
          "model_module_version": "1.5.0",
          "state": {
            "_dom_classes": [],
            "_model_module": "@jupyter-widgets/controls",
            "_model_module_version": "1.5.0",
            "_model_name": "HTMLModel",
            "_view_count": null,
            "_view_module": "@jupyter-widgets/controls",
            "_view_module_version": "1.5.0",
            "_view_name": "HTMLView",
            "description": "",
            "description_tooltip": null,
            "layout": "IPY_MODEL_a25d724120834a59980eb1e76c833634",
            "placeholder": "​",
            "style": "IPY_MODEL_46f9d04fc30c4bc981f442e34920e203",
            "value": " 3.99k/3.99k [00:00&lt;00:00, 113kB/s]"
          }
        },
        "fd9f394ab11b4c7782cebaa7ea9112b4": {
          "model_module": "@jupyter-widgets/base",
          "model_name": "LayoutModel",
          "model_module_version": "1.2.0",
          "state": {
            "_model_module": "@jupyter-widgets/base",
            "_model_module_version": "1.2.0",
            "_model_name": "LayoutModel",
            "_view_count": null,
            "_view_module": "@jupyter-widgets/base",
            "_view_module_version": "1.2.0",
            "_view_name": "LayoutView",
            "align_content": null,
            "align_items": null,
            "align_self": null,
            "border": null,
            "bottom": null,
            "display": null,
            "flex": null,
            "flex_flow": null,
            "grid_area": null,
            "grid_auto_columns": null,
            "grid_auto_flow": null,
            "grid_auto_rows": null,
            "grid_column": null,
            "grid_gap": null,
            "grid_row": null,
            "grid_template_areas": null,
            "grid_template_columns": null,
            "grid_template_rows": null,
            "height": null,
            "justify_content": null,
            "justify_items": null,
            "left": null,
            "margin": null,
            "max_height": null,
            "max_width": null,
            "min_height": null,
            "min_width": null,
            "object_fit": null,
            "object_position": null,
            "order": null,
            "overflow": null,
            "overflow_x": null,
            "overflow_y": null,
            "padding": null,
            "right": null,
            "top": null,
            "visibility": null,
            "width": null
          }
        },
        "748aa9a15d4946d0aca7d94d8b57f70a": {
          "model_module": "@jupyter-widgets/base",
          "model_name": "LayoutModel",
          "model_module_version": "1.2.0",
          "state": {
            "_model_module": "@jupyter-widgets/base",
            "_model_module_version": "1.2.0",
            "_model_name": "LayoutModel",
            "_view_count": null,
            "_view_module": "@jupyter-widgets/base",
            "_view_module_version": "1.2.0",
            "_view_name": "LayoutView",
            "align_content": null,
            "align_items": null,
            "align_self": null,
            "border": null,
            "bottom": null,
            "display": null,
            "flex": null,
            "flex_flow": null,
            "grid_area": null,
            "grid_auto_columns": null,
            "grid_auto_flow": null,
            "grid_auto_rows": null,
            "grid_column": null,
            "grid_gap": null,
            "grid_row": null,
            "grid_template_areas": null,
            "grid_template_columns": null,
            "grid_template_rows": null,
            "height": null,
            "justify_content": null,
            "justify_items": null,
            "left": null,
            "margin": null,
            "max_height": null,
            "max_width": null,
            "min_height": null,
            "min_width": null,
            "object_fit": null,
            "object_position": null,
            "order": null,
            "overflow": null,
            "overflow_x": null,
            "overflow_y": null,
            "padding": null,
            "right": null,
            "top": null,
            "visibility": null,
            "width": null
          }
        },
        "107c35637cf84979872d55a262c7cc18": {
          "model_module": "@jupyter-widgets/controls",
          "model_name": "DescriptionStyleModel",
          "model_module_version": "1.5.0",
          "state": {
            "_model_module": "@jupyter-widgets/controls",
            "_model_module_version": "1.5.0",
            "_model_name": "DescriptionStyleModel",
            "_view_count": null,
            "_view_module": "@jupyter-widgets/base",
            "_view_module_version": "1.2.0",
            "_view_name": "StyleView",
            "description_width": ""
          }
        },
        "da5f23c739ea4b149186cdd315370acb": {
          "model_module": "@jupyter-widgets/base",
          "model_name": "LayoutModel",
          "model_module_version": "1.2.0",
          "state": {
            "_model_module": "@jupyter-widgets/base",
            "_model_module_version": "1.2.0",
            "_model_name": "LayoutModel",
            "_view_count": null,
            "_view_module": "@jupyter-widgets/base",
            "_view_module_version": "1.2.0",
            "_view_name": "LayoutView",
            "align_content": null,
            "align_items": null,
            "align_self": null,
            "border": null,
            "bottom": null,
            "display": null,
            "flex": null,
            "flex_flow": null,
            "grid_area": null,
            "grid_auto_columns": null,
            "grid_auto_flow": null,
            "grid_auto_rows": null,
            "grid_column": null,
            "grid_gap": null,
            "grid_row": null,
            "grid_template_areas": null,
            "grid_template_columns": null,
            "grid_template_rows": null,
            "height": null,
            "justify_content": null,
            "justify_items": null,
            "left": null,
            "margin": null,
            "max_height": null,
            "max_width": null,
            "min_height": null,
            "min_width": null,
            "object_fit": null,
            "object_position": null,
            "order": null,
            "overflow": null,
            "overflow_x": null,
            "overflow_y": null,
            "padding": null,
            "right": null,
            "top": null,
            "visibility": null,
            "width": null
          }
        },
        "8a7ac0f1e96d483d9ed985d629e9ff3a": {
          "model_module": "@jupyter-widgets/controls",
          "model_name": "ProgressStyleModel",
          "model_module_version": "1.5.0",
          "state": {
            "_model_module": "@jupyter-widgets/controls",
            "_model_module_version": "1.5.0",
            "_model_name": "ProgressStyleModel",
            "_view_count": null,
            "_view_module": "@jupyter-widgets/base",
            "_view_module_version": "1.2.0",
            "_view_name": "StyleView",
            "bar_color": null,
            "description_width": ""
          }
        },
        "a25d724120834a59980eb1e76c833634": {
          "model_module": "@jupyter-widgets/base",
          "model_name": "LayoutModel",
          "model_module_version": "1.2.0",
          "state": {
            "_model_module": "@jupyter-widgets/base",
            "_model_module_version": "1.2.0",
            "_model_name": "LayoutModel",
            "_view_count": null,
            "_view_module": "@jupyter-widgets/base",
            "_view_module_version": "1.2.0",
            "_view_name": "LayoutView",
            "align_content": null,
            "align_items": null,
            "align_self": null,
            "border": null,
            "bottom": null,
            "display": null,
            "flex": null,
            "flex_flow": null,
            "grid_area": null,
            "grid_auto_columns": null,
            "grid_auto_flow": null,
            "grid_auto_rows": null,
            "grid_column": null,
            "grid_gap": null,
            "grid_row": null,
            "grid_template_areas": null,
            "grid_template_columns": null,
            "grid_template_rows": null,
            "height": null,
            "justify_content": null,
            "justify_items": null,
            "left": null,
            "margin": null,
            "max_height": null,
            "max_width": null,
            "min_height": null,
            "min_width": null,
            "object_fit": null,
            "object_position": null,
            "order": null,
            "overflow": null,
            "overflow_x": null,
            "overflow_y": null,
            "padding": null,
            "right": null,
            "top": null,
            "visibility": null,
            "width": null
          }
        },
        "46f9d04fc30c4bc981f442e34920e203": {
          "model_module": "@jupyter-widgets/controls",
          "model_name": "DescriptionStyleModel",
          "model_module_version": "1.5.0",
          "state": {
            "_model_module": "@jupyter-widgets/controls",
            "_model_module_version": "1.5.0",
            "_model_name": "DescriptionStyleModel",
            "_view_count": null,
            "_view_module": "@jupyter-widgets/base",
            "_view_module_version": "1.2.0",
            "_view_name": "StyleView",
            "description_width": ""
          }
        },
        "d0dcbec400c04d0ab8e0c53cab6446cf": {
          "model_module": "@jupyter-widgets/controls",
          "model_name": "HBoxModel",
          "model_module_version": "1.5.0",
          "state": {
            "_dom_classes": [],
            "_model_module": "@jupyter-widgets/controls",
            "_model_module_version": "1.5.0",
            "_model_name": "HBoxModel",
            "_view_count": null,
            "_view_module": "@jupyter-widgets/controls",
            "_view_module_version": "1.5.0",
            "_view_name": "HBoxView",
            "box_style": "",
            "children": [
              "IPY_MODEL_1bbeaeeb62a448898f01c12709e758d2",
              "IPY_MODEL_72d776d2ff154d12afa7db1d9f62b0f8",
              "IPY_MODEL_2efb0f6d6662496e8501fc63fab99102"
            ],
            "layout": "IPY_MODEL_4150f72811374cb48804edd47611830f"
          }
        },
        "1bbeaeeb62a448898f01c12709e758d2": {
          "model_module": "@jupyter-widgets/controls",
          "model_name": "HTMLModel",
          "model_module_version": "1.5.0",
          "state": {
            "_dom_classes": [],
            "_model_module": "@jupyter-widgets/controls",
            "_model_module_version": "1.5.0",
            "_model_name": "HTMLModel",
            "_view_count": null,
            "_view_module": "@jupyter-widgets/controls",
            "_view_module_version": "1.5.0",
            "_view_name": "HTMLView",
            "description": "",
            "description_tooltip": null,
            "layout": "IPY_MODEL_94e8263486f747d392f46d981c257a28",
            "placeholder": "​",
            "style": "IPY_MODEL_a43818ae899048b5a15e6d0b4034d71a",
            "value": "sentence_bert_config.json: 100%"
          }
        },
        "72d776d2ff154d12afa7db1d9f62b0f8": {
          "model_module": "@jupyter-widgets/controls",
          "model_name": "FloatProgressModel",
          "model_module_version": "1.5.0",
          "state": {
            "_dom_classes": [],
            "_model_module": "@jupyter-widgets/controls",
            "_model_module_version": "1.5.0",
            "_model_name": "FloatProgressModel",
            "_view_count": null,
            "_view_module": "@jupyter-widgets/controls",
            "_view_module_version": "1.5.0",
            "_view_name": "ProgressView",
            "bar_style": "success",
            "description": "",
            "description_tooltip": null,
            "layout": "IPY_MODEL_bdec594767bd45d49914faf45eaf3085",
            "max": 53,
            "min": 0,
            "orientation": "horizontal",
            "style": "IPY_MODEL_b559914514da43a38505d2c86fbb607a",
            "value": 53
          }
        },
        "2efb0f6d6662496e8501fc63fab99102": {
          "model_module": "@jupyter-widgets/controls",
          "model_name": "HTMLModel",
          "model_module_version": "1.5.0",
          "state": {
            "_dom_classes": [],
            "_model_module": "@jupyter-widgets/controls",
            "_model_module_version": "1.5.0",
            "_model_name": "HTMLModel",
            "_view_count": null,
            "_view_module": "@jupyter-widgets/controls",
            "_view_module_version": "1.5.0",
            "_view_name": "HTMLView",
            "description": "",
            "description_tooltip": null,
            "layout": "IPY_MODEL_9809c14cb001408e9772f972e6e75d33",
            "placeholder": "​",
            "style": "IPY_MODEL_451fdc01c09743a5a7f71c6c7e5945a6",
            "value": " 53.0/53.0 [00:00&lt;00:00, 1.62kB/s]"
          }
        },
        "4150f72811374cb48804edd47611830f": {
          "model_module": "@jupyter-widgets/base",
          "model_name": "LayoutModel",
          "model_module_version": "1.2.0",
          "state": {
            "_model_module": "@jupyter-widgets/base",
            "_model_module_version": "1.2.0",
            "_model_name": "LayoutModel",
            "_view_count": null,
            "_view_module": "@jupyter-widgets/base",
            "_view_module_version": "1.2.0",
            "_view_name": "LayoutView",
            "align_content": null,
            "align_items": null,
            "align_self": null,
            "border": null,
            "bottom": null,
            "display": null,
            "flex": null,
            "flex_flow": null,
            "grid_area": null,
            "grid_auto_columns": null,
            "grid_auto_flow": null,
            "grid_auto_rows": null,
            "grid_column": null,
            "grid_gap": null,
            "grid_row": null,
            "grid_template_areas": null,
            "grid_template_columns": null,
            "grid_template_rows": null,
            "height": null,
            "justify_content": null,
            "justify_items": null,
            "left": null,
            "margin": null,
            "max_height": null,
            "max_width": null,
            "min_height": null,
            "min_width": null,
            "object_fit": null,
            "object_position": null,
            "order": null,
            "overflow": null,
            "overflow_x": null,
            "overflow_y": null,
            "padding": null,
            "right": null,
            "top": null,
            "visibility": null,
            "width": null
          }
        },
        "94e8263486f747d392f46d981c257a28": {
          "model_module": "@jupyter-widgets/base",
          "model_name": "LayoutModel",
          "model_module_version": "1.2.0",
          "state": {
            "_model_module": "@jupyter-widgets/base",
            "_model_module_version": "1.2.0",
            "_model_name": "LayoutModel",
            "_view_count": null,
            "_view_module": "@jupyter-widgets/base",
            "_view_module_version": "1.2.0",
            "_view_name": "LayoutView",
            "align_content": null,
            "align_items": null,
            "align_self": null,
            "border": null,
            "bottom": null,
            "display": null,
            "flex": null,
            "flex_flow": null,
            "grid_area": null,
            "grid_auto_columns": null,
            "grid_auto_flow": null,
            "grid_auto_rows": null,
            "grid_column": null,
            "grid_gap": null,
            "grid_row": null,
            "grid_template_areas": null,
            "grid_template_columns": null,
            "grid_template_rows": null,
            "height": null,
            "justify_content": null,
            "justify_items": null,
            "left": null,
            "margin": null,
            "max_height": null,
            "max_width": null,
            "min_height": null,
            "min_width": null,
            "object_fit": null,
            "object_position": null,
            "order": null,
            "overflow": null,
            "overflow_x": null,
            "overflow_y": null,
            "padding": null,
            "right": null,
            "top": null,
            "visibility": null,
            "width": null
          }
        },
        "a43818ae899048b5a15e6d0b4034d71a": {
          "model_module": "@jupyter-widgets/controls",
          "model_name": "DescriptionStyleModel",
          "model_module_version": "1.5.0",
          "state": {
            "_model_module": "@jupyter-widgets/controls",
            "_model_module_version": "1.5.0",
            "_model_name": "DescriptionStyleModel",
            "_view_count": null,
            "_view_module": "@jupyter-widgets/base",
            "_view_module_version": "1.2.0",
            "_view_name": "StyleView",
            "description_width": ""
          }
        },
        "bdec594767bd45d49914faf45eaf3085": {
          "model_module": "@jupyter-widgets/base",
          "model_name": "LayoutModel",
          "model_module_version": "1.2.0",
          "state": {
            "_model_module": "@jupyter-widgets/base",
            "_model_module_version": "1.2.0",
            "_model_name": "LayoutModel",
            "_view_count": null,
            "_view_module": "@jupyter-widgets/base",
            "_view_module_version": "1.2.0",
            "_view_name": "LayoutView",
            "align_content": null,
            "align_items": null,
            "align_self": null,
            "border": null,
            "bottom": null,
            "display": null,
            "flex": null,
            "flex_flow": null,
            "grid_area": null,
            "grid_auto_columns": null,
            "grid_auto_flow": null,
            "grid_auto_rows": null,
            "grid_column": null,
            "grid_gap": null,
            "grid_row": null,
            "grid_template_areas": null,
            "grid_template_columns": null,
            "grid_template_rows": null,
            "height": null,
            "justify_content": null,
            "justify_items": null,
            "left": null,
            "margin": null,
            "max_height": null,
            "max_width": null,
            "min_height": null,
            "min_width": null,
            "object_fit": null,
            "object_position": null,
            "order": null,
            "overflow": null,
            "overflow_x": null,
            "overflow_y": null,
            "padding": null,
            "right": null,
            "top": null,
            "visibility": null,
            "width": null
          }
        },
        "b559914514da43a38505d2c86fbb607a": {
          "model_module": "@jupyter-widgets/controls",
          "model_name": "ProgressStyleModel",
          "model_module_version": "1.5.0",
          "state": {
            "_model_module": "@jupyter-widgets/controls",
            "_model_module_version": "1.5.0",
            "_model_name": "ProgressStyleModel",
            "_view_count": null,
            "_view_module": "@jupyter-widgets/base",
            "_view_module_version": "1.2.0",
            "_view_name": "StyleView",
            "bar_color": null,
            "description_width": ""
          }
        },
        "9809c14cb001408e9772f972e6e75d33": {
          "model_module": "@jupyter-widgets/base",
          "model_name": "LayoutModel",
          "model_module_version": "1.2.0",
          "state": {
            "_model_module": "@jupyter-widgets/base",
            "_model_module_version": "1.2.0",
            "_model_name": "LayoutModel",
            "_view_count": null,
            "_view_module": "@jupyter-widgets/base",
            "_view_module_version": "1.2.0",
            "_view_name": "LayoutView",
            "align_content": null,
            "align_items": null,
            "align_self": null,
            "border": null,
            "bottom": null,
            "display": null,
            "flex": null,
            "flex_flow": null,
            "grid_area": null,
            "grid_auto_columns": null,
            "grid_auto_flow": null,
            "grid_auto_rows": null,
            "grid_column": null,
            "grid_gap": null,
            "grid_row": null,
            "grid_template_areas": null,
            "grid_template_columns": null,
            "grid_template_rows": null,
            "height": null,
            "justify_content": null,
            "justify_items": null,
            "left": null,
            "margin": null,
            "max_height": null,
            "max_width": null,
            "min_height": null,
            "min_width": null,
            "object_fit": null,
            "object_position": null,
            "order": null,
            "overflow": null,
            "overflow_x": null,
            "overflow_y": null,
            "padding": null,
            "right": null,
            "top": null,
            "visibility": null,
            "width": null
          }
        },
        "451fdc01c09743a5a7f71c6c7e5945a6": {
          "model_module": "@jupyter-widgets/controls",
          "model_name": "DescriptionStyleModel",
          "model_module_version": "1.5.0",
          "state": {
            "_model_module": "@jupyter-widgets/controls",
            "_model_module_version": "1.5.0",
            "_model_name": "DescriptionStyleModel",
            "_view_count": null,
            "_view_module": "@jupyter-widgets/base",
            "_view_module_version": "1.2.0",
            "_view_name": "StyleView",
            "description_width": ""
          }
        },
        "cc3941037611439996bfeb689cf1ebb9": {
          "model_module": "@jupyter-widgets/controls",
          "model_name": "HBoxModel",
          "model_module_version": "1.5.0",
          "state": {
            "_dom_classes": [],
            "_model_module": "@jupyter-widgets/controls",
            "_model_module_version": "1.5.0",
            "_model_name": "HBoxModel",
            "_view_count": null,
            "_view_module": "@jupyter-widgets/controls",
            "_view_module_version": "1.5.0",
            "_view_name": "HBoxView",
            "box_style": "",
            "children": [
              "IPY_MODEL_cae45c7cb0b84803bddb9f0cd7c684ae",
              "IPY_MODEL_ec7ec8ebb7124ec695e4c2c52573431f",
              "IPY_MODEL_16318e6b665348efb9e94559618f1090"
            ],
            "layout": "IPY_MODEL_a4390b11e80e4edf93654e568af90a88"
          }
        },
        "cae45c7cb0b84803bddb9f0cd7c684ae": {
          "model_module": "@jupyter-widgets/controls",
          "model_name": "HTMLModel",
          "model_module_version": "1.5.0",
          "state": {
            "_dom_classes": [],
            "_model_module": "@jupyter-widgets/controls",
            "_model_module_version": "1.5.0",
            "_model_name": "HTMLModel",
            "_view_count": null,
            "_view_module": "@jupyter-widgets/controls",
            "_view_module_version": "1.5.0",
            "_view_name": "HTMLView",
            "description": "",
            "description_tooltip": null,
            "layout": "IPY_MODEL_ba5b763d469843429f1d1612dbe62cc9",
            "placeholder": "​",
            "style": "IPY_MODEL_00bc19c22e95475fb3d44f0016572786",
            "value": "config.json: 100%"
          }
        },
        "ec7ec8ebb7124ec695e4c2c52573431f": {
          "model_module": "@jupyter-widgets/controls",
          "model_name": "FloatProgressModel",
          "model_module_version": "1.5.0",
          "state": {
            "_dom_classes": [],
            "_model_module": "@jupyter-widgets/controls",
            "_model_module_version": "1.5.0",
            "_model_name": "FloatProgressModel",
            "_view_count": null,
            "_view_module": "@jupyter-widgets/controls",
            "_view_module_version": "1.5.0",
            "_view_name": "ProgressView",
            "bar_style": "success",
            "description": "",
            "description_tooltip": null,
            "layout": "IPY_MODEL_56aacf5248a1433b83f4771334441059",
            "max": 625,
            "min": 0,
            "orientation": "horizontal",
            "style": "IPY_MODEL_09d547a031164eb4805efc754ed1b85c",
            "value": 625
          }
        },
        "16318e6b665348efb9e94559618f1090": {
          "model_module": "@jupyter-widgets/controls",
          "model_name": "HTMLModel",
          "model_module_version": "1.5.0",
          "state": {
            "_dom_classes": [],
            "_model_module": "@jupyter-widgets/controls",
            "_model_module_version": "1.5.0",
            "_model_name": "HTMLModel",
            "_view_count": null,
            "_view_module": "@jupyter-widgets/controls",
            "_view_module_version": "1.5.0",
            "_view_name": "HTMLView",
            "description": "",
            "description_tooltip": null,
            "layout": "IPY_MODEL_7cca339178084f26932cda0bb2bef458",
            "placeholder": "​",
            "style": "IPY_MODEL_1101d5878c1b409a9f874f4b2568ae2f",
            "value": " 625/625 [00:00&lt;00:00, 10.9kB/s]"
          }
        },
        "a4390b11e80e4edf93654e568af90a88": {
          "model_module": "@jupyter-widgets/base",
          "model_name": "LayoutModel",
          "model_module_version": "1.2.0",
          "state": {
            "_model_module": "@jupyter-widgets/base",
            "_model_module_version": "1.2.0",
            "_model_name": "LayoutModel",
            "_view_count": null,
            "_view_module": "@jupyter-widgets/base",
            "_view_module_version": "1.2.0",
            "_view_name": "LayoutView",
            "align_content": null,
            "align_items": null,
            "align_self": null,
            "border": null,
            "bottom": null,
            "display": null,
            "flex": null,
            "flex_flow": null,
            "grid_area": null,
            "grid_auto_columns": null,
            "grid_auto_flow": null,
            "grid_auto_rows": null,
            "grid_column": null,
            "grid_gap": null,
            "grid_row": null,
            "grid_template_areas": null,
            "grid_template_columns": null,
            "grid_template_rows": null,
            "height": null,
            "justify_content": null,
            "justify_items": null,
            "left": null,
            "margin": null,
            "max_height": null,
            "max_width": null,
            "min_height": null,
            "min_width": null,
            "object_fit": null,
            "object_position": null,
            "order": null,
            "overflow": null,
            "overflow_x": null,
            "overflow_y": null,
            "padding": null,
            "right": null,
            "top": null,
            "visibility": null,
            "width": null
          }
        },
        "ba5b763d469843429f1d1612dbe62cc9": {
          "model_module": "@jupyter-widgets/base",
          "model_name": "LayoutModel",
          "model_module_version": "1.2.0",
          "state": {
            "_model_module": "@jupyter-widgets/base",
            "_model_module_version": "1.2.0",
            "_model_name": "LayoutModel",
            "_view_count": null,
            "_view_module": "@jupyter-widgets/base",
            "_view_module_version": "1.2.0",
            "_view_name": "LayoutView",
            "align_content": null,
            "align_items": null,
            "align_self": null,
            "border": null,
            "bottom": null,
            "display": null,
            "flex": null,
            "flex_flow": null,
            "grid_area": null,
            "grid_auto_columns": null,
            "grid_auto_flow": null,
            "grid_auto_rows": null,
            "grid_column": null,
            "grid_gap": null,
            "grid_row": null,
            "grid_template_areas": null,
            "grid_template_columns": null,
            "grid_template_rows": null,
            "height": null,
            "justify_content": null,
            "justify_items": null,
            "left": null,
            "margin": null,
            "max_height": null,
            "max_width": null,
            "min_height": null,
            "min_width": null,
            "object_fit": null,
            "object_position": null,
            "order": null,
            "overflow": null,
            "overflow_x": null,
            "overflow_y": null,
            "padding": null,
            "right": null,
            "top": null,
            "visibility": null,
            "width": null
          }
        },
        "00bc19c22e95475fb3d44f0016572786": {
          "model_module": "@jupyter-widgets/controls",
          "model_name": "DescriptionStyleModel",
          "model_module_version": "1.5.0",
          "state": {
            "_model_module": "@jupyter-widgets/controls",
            "_model_module_version": "1.5.0",
            "_model_name": "DescriptionStyleModel",
            "_view_count": null,
            "_view_module": "@jupyter-widgets/base",
            "_view_module_version": "1.2.0",
            "_view_name": "StyleView",
            "description_width": ""
          }
        },
        "56aacf5248a1433b83f4771334441059": {
          "model_module": "@jupyter-widgets/base",
          "model_name": "LayoutModel",
          "model_module_version": "1.2.0",
          "state": {
            "_model_module": "@jupyter-widgets/base",
            "_model_module_version": "1.2.0",
            "_model_name": "LayoutModel",
            "_view_count": null,
            "_view_module": "@jupyter-widgets/base",
            "_view_module_version": "1.2.0",
            "_view_name": "LayoutView",
            "align_content": null,
            "align_items": null,
            "align_self": null,
            "border": null,
            "bottom": null,
            "display": null,
            "flex": null,
            "flex_flow": null,
            "grid_area": null,
            "grid_auto_columns": null,
            "grid_auto_flow": null,
            "grid_auto_rows": null,
            "grid_column": null,
            "grid_gap": null,
            "grid_row": null,
            "grid_template_areas": null,
            "grid_template_columns": null,
            "grid_template_rows": null,
            "height": null,
            "justify_content": null,
            "justify_items": null,
            "left": null,
            "margin": null,
            "max_height": null,
            "max_width": null,
            "min_height": null,
            "min_width": null,
            "object_fit": null,
            "object_position": null,
            "order": null,
            "overflow": null,
            "overflow_x": null,
            "overflow_y": null,
            "padding": null,
            "right": null,
            "top": null,
            "visibility": null,
            "width": null
          }
        },
        "09d547a031164eb4805efc754ed1b85c": {
          "model_module": "@jupyter-widgets/controls",
          "model_name": "ProgressStyleModel",
          "model_module_version": "1.5.0",
          "state": {
            "_model_module": "@jupyter-widgets/controls",
            "_model_module_version": "1.5.0",
            "_model_name": "ProgressStyleModel",
            "_view_count": null,
            "_view_module": "@jupyter-widgets/base",
            "_view_module_version": "1.2.0",
            "_view_name": "StyleView",
            "bar_color": null,
            "description_width": ""
          }
        },
        "7cca339178084f26932cda0bb2bef458": {
          "model_module": "@jupyter-widgets/base",
          "model_name": "LayoutModel",
          "model_module_version": "1.2.0",
          "state": {
            "_model_module": "@jupyter-widgets/base",
            "_model_module_version": "1.2.0",
            "_model_name": "LayoutModel",
            "_view_count": null,
            "_view_module": "@jupyter-widgets/base",
            "_view_module_version": "1.2.0",
            "_view_name": "LayoutView",
            "align_content": null,
            "align_items": null,
            "align_self": null,
            "border": null,
            "bottom": null,
            "display": null,
            "flex": null,
            "flex_flow": null,
            "grid_area": null,
            "grid_auto_columns": null,
            "grid_auto_flow": null,
            "grid_auto_rows": null,
            "grid_column": null,
            "grid_gap": null,
            "grid_row": null,
            "grid_template_areas": null,
            "grid_template_columns": null,
            "grid_template_rows": null,
            "height": null,
            "justify_content": null,
            "justify_items": null,
            "left": null,
            "margin": null,
            "max_height": null,
            "max_width": null,
            "min_height": null,
            "min_width": null,
            "object_fit": null,
            "object_position": null,
            "order": null,
            "overflow": null,
            "overflow_x": null,
            "overflow_y": null,
            "padding": null,
            "right": null,
            "top": null,
            "visibility": null,
            "width": null
          }
        },
        "1101d5878c1b409a9f874f4b2568ae2f": {
          "model_module": "@jupyter-widgets/controls",
          "model_name": "DescriptionStyleModel",
          "model_module_version": "1.5.0",
          "state": {
            "_model_module": "@jupyter-widgets/controls",
            "_model_module_version": "1.5.0",
            "_model_name": "DescriptionStyleModel",
            "_view_count": null,
            "_view_module": "@jupyter-widgets/base",
            "_view_module_version": "1.2.0",
            "_view_name": "StyleView",
            "description_width": ""
          }
        },
        "1b3c7503b1ed45208f42c270ef6a05df": {
          "model_module": "@jupyter-widgets/controls",
          "model_name": "HBoxModel",
          "model_module_version": "1.5.0",
          "state": {
            "_dom_classes": [],
            "_model_module": "@jupyter-widgets/controls",
            "_model_module_version": "1.5.0",
            "_model_name": "HBoxModel",
            "_view_count": null,
            "_view_module": "@jupyter-widgets/controls",
            "_view_module_version": "1.5.0",
            "_view_name": "HBoxView",
            "box_style": "",
            "children": [
              "IPY_MODEL_e55d728334964344a052e81084a44717",
              "IPY_MODEL_9f6b6f2f9ac34ed5b6041eaff7f6d3cd",
              "IPY_MODEL_9dc0f93567e24bd690d14e3e301799ed"
            ],
            "layout": "IPY_MODEL_2371ce187022473290fd23eb672d2421"
          }
        },
        "e55d728334964344a052e81084a44717": {
          "model_module": "@jupyter-widgets/controls",
          "model_name": "HTMLModel",
          "model_module_version": "1.5.0",
          "state": {
            "_dom_classes": [],
            "_model_module": "@jupyter-widgets/controls",
            "_model_module_version": "1.5.0",
            "_model_name": "HTMLModel",
            "_view_count": null,
            "_view_module": "@jupyter-widgets/controls",
            "_view_module_version": "1.5.0",
            "_view_name": "HTMLView",
            "description": "",
            "description_tooltip": null,
            "layout": "IPY_MODEL_98425ea48f9842df84948af60b459944",
            "placeholder": "​",
            "style": "IPY_MODEL_d5ad3962241f490dbe0bf8aef4625da9",
            "value": "model.safetensors: 100%"
          }
        },
        "9f6b6f2f9ac34ed5b6041eaff7f6d3cd": {
          "model_module": "@jupyter-widgets/controls",
          "model_name": "FloatProgressModel",
          "model_module_version": "1.5.0",
          "state": {
            "_dom_classes": [],
            "_model_module": "@jupyter-widgets/controls",
            "_model_module_version": "1.5.0",
            "_model_name": "FloatProgressModel",
            "_view_count": null,
            "_view_module": "@jupyter-widgets/controls",
            "_view_module_version": "1.5.0",
            "_view_name": "ProgressView",
            "bar_style": "success",
            "description": "",
            "description_tooltip": null,
            "layout": "IPY_MODEL_dd799eb1d76845b8a91e9e11537483e6",
            "max": 437955512,
            "min": 0,
            "orientation": "horizontal",
            "style": "IPY_MODEL_2e4207827c964b169ca9bb9ef1389a9d",
            "value": 437955512
          }
        },
        "9dc0f93567e24bd690d14e3e301799ed": {
          "model_module": "@jupyter-widgets/controls",
          "model_name": "HTMLModel",
          "model_module_version": "1.5.0",
          "state": {
            "_dom_classes": [],
            "_model_module": "@jupyter-widgets/controls",
            "_model_module_version": "1.5.0",
            "_model_name": "HTMLModel",
            "_view_count": null,
            "_view_module": "@jupyter-widgets/controls",
            "_view_module_version": "1.5.0",
            "_view_name": "HTMLView",
            "description": "",
            "description_tooltip": null,
            "layout": "IPY_MODEL_199243a040f64db28bc61e4c6e0b4cf7",
            "placeholder": "​",
            "style": "IPY_MODEL_e9d9aa36fc6a4bf39cae72a25f936d45",
            "value": " 438M/438M [00:02&lt;00:00, 170MB/s]"
          }
        },
        "2371ce187022473290fd23eb672d2421": {
          "model_module": "@jupyter-widgets/base",
          "model_name": "LayoutModel",
          "model_module_version": "1.2.0",
          "state": {
            "_model_module": "@jupyter-widgets/base",
            "_model_module_version": "1.2.0",
            "_model_name": "LayoutModel",
            "_view_count": null,
            "_view_module": "@jupyter-widgets/base",
            "_view_module_version": "1.2.0",
            "_view_name": "LayoutView",
            "align_content": null,
            "align_items": null,
            "align_self": null,
            "border": null,
            "bottom": null,
            "display": null,
            "flex": null,
            "flex_flow": null,
            "grid_area": null,
            "grid_auto_columns": null,
            "grid_auto_flow": null,
            "grid_auto_rows": null,
            "grid_column": null,
            "grid_gap": null,
            "grid_row": null,
            "grid_template_areas": null,
            "grid_template_columns": null,
            "grid_template_rows": null,
            "height": null,
            "justify_content": null,
            "justify_items": null,
            "left": null,
            "margin": null,
            "max_height": null,
            "max_width": null,
            "min_height": null,
            "min_width": null,
            "object_fit": null,
            "object_position": null,
            "order": null,
            "overflow": null,
            "overflow_x": null,
            "overflow_y": null,
            "padding": null,
            "right": null,
            "top": null,
            "visibility": null,
            "width": null
          }
        },
        "98425ea48f9842df84948af60b459944": {
          "model_module": "@jupyter-widgets/base",
          "model_name": "LayoutModel",
          "model_module_version": "1.2.0",
          "state": {
            "_model_module": "@jupyter-widgets/base",
            "_model_module_version": "1.2.0",
            "_model_name": "LayoutModel",
            "_view_count": null,
            "_view_module": "@jupyter-widgets/base",
            "_view_module_version": "1.2.0",
            "_view_name": "LayoutView",
            "align_content": null,
            "align_items": null,
            "align_self": null,
            "border": null,
            "bottom": null,
            "display": null,
            "flex": null,
            "flex_flow": null,
            "grid_area": null,
            "grid_auto_columns": null,
            "grid_auto_flow": null,
            "grid_auto_rows": null,
            "grid_column": null,
            "grid_gap": null,
            "grid_row": null,
            "grid_template_areas": null,
            "grid_template_columns": null,
            "grid_template_rows": null,
            "height": null,
            "justify_content": null,
            "justify_items": null,
            "left": null,
            "margin": null,
            "max_height": null,
            "max_width": null,
            "min_height": null,
            "min_width": null,
            "object_fit": null,
            "object_position": null,
            "order": null,
            "overflow": null,
            "overflow_x": null,
            "overflow_y": null,
            "padding": null,
            "right": null,
            "top": null,
            "visibility": null,
            "width": null
          }
        },
        "d5ad3962241f490dbe0bf8aef4625da9": {
          "model_module": "@jupyter-widgets/controls",
          "model_name": "DescriptionStyleModel",
          "model_module_version": "1.5.0",
          "state": {
            "_model_module": "@jupyter-widgets/controls",
            "_model_module_version": "1.5.0",
            "_model_name": "DescriptionStyleModel",
            "_view_count": null,
            "_view_module": "@jupyter-widgets/base",
            "_view_module_version": "1.2.0",
            "_view_name": "StyleView",
            "description_width": ""
          }
        },
        "dd799eb1d76845b8a91e9e11537483e6": {
          "model_module": "@jupyter-widgets/base",
          "model_name": "LayoutModel",
          "model_module_version": "1.2.0",
          "state": {
            "_model_module": "@jupyter-widgets/base",
            "_model_module_version": "1.2.0",
            "_model_name": "LayoutModel",
            "_view_count": null,
            "_view_module": "@jupyter-widgets/base",
            "_view_module_version": "1.2.0",
            "_view_name": "LayoutView",
            "align_content": null,
            "align_items": null,
            "align_self": null,
            "border": null,
            "bottom": null,
            "display": null,
            "flex": null,
            "flex_flow": null,
            "grid_area": null,
            "grid_auto_columns": null,
            "grid_auto_flow": null,
            "grid_auto_rows": null,
            "grid_column": null,
            "grid_gap": null,
            "grid_row": null,
            "grid_template_areas": null,
            "grid_template_columns": null,
            "grid_template_rows": null,
            "height": null,
            "justify_content": null,
            "justify_items": null,
            "left": null,
            "margin": null,
            "max_height": null,
            "max_width": null,
            "min_height": null,
            "min_width": null,
            "object_fit": null,
            "object_position": null,
            "order": null,
            "overflow": null,
            "overflow_x": null,
            "overflow_y": null,
            "padding": null,
            "right": null,
            "top": null,
            "visibility": null,
            "width": null
          }
        },
        "2e4207827c964b169ca9bb9ef1389a9d": {
          "model_module": "@jupyter-widgets/controls",
          "model_name": "ProgressStyleModel",
          "model_module_version": "1.5.0",
          "state": {
            "_model_module": "@jupyter-widgets/controls",
            "_model_module_version": "1.5.0",
            "_model_name": "ProgressStyleModel",
            "_view_count": null,
            "_view_module": "@jupyter-widgets/base",
            "_view_module_version": "1.2.0",
            "_view_name": "StyleView",
            "bar_color": null,
            "description_width": ""
          }
        },
        "199243a040f64db28bc61e4c6e0b4cf7": {
          "model_module": "@jupyter-widgets/base",
          "model_name": "LayoutModel",
          "model_module_version": "1.2.0",
          "state": {
            "_model_module": "@jupyter-widgets/base",
            "_model_module_version": "1.2.0",
            "_model_name": "LayoutModel",
            "_view_count": null,
            "_view_module": "@jupyter-widgets/base",
            "_view_module_version": "1.2.0",
            "_view_name": "LayoutView",
            "align_content": null,
            "align_items": null,
            "align_self": null,
            "border": null,
            "bottom": null,
            "display": null,
            "flex": null,
            "flex_flow": null,
            "grid_area": null,
            "grid_auto_columns": null,
            "grid_auto_flow": null,
            "grid_auto_rows": null,
            "grid_column": null,
            "grid_gap": null,
            "grid_row": null,
            "grid_template_areas": null,
            "grid_template_columns": null,
            "grid_template_rows": null,
            "height": null,
            "justify_content": null,
            "justify_items": null,
            "left": null,
            "margin": null,
            "max_height": null,
            "max_width": null,
            "min_height": null,
            "min_width": null,
            "object_fit": null,
            "object_position": null,
            "order": null,
            "overflow": null,
            "overflow_x": null,
            "overflow_y": null,
            "padding": null,
            "right": null,
            "top": null,
            "visibility": null,
            "width": null
          }
        },
        "e9d9aa36fc6a4bf39cae72a25f936d45": {
          "model_module": "@jupyter-widgets/controls",
          "model_name": "DescriptionStyleModel",
          "model_module_version": "1.5.0",
          "state": {
            "_model_module": "@jupyter-widgets/controls",
            "_model_module_version": "1.5.0",
            "_model_name": "DescriptionStyleModel",
            "_view_count": null,
            "_view_module": "@jupyter-widgets/base",
            "_view_module_version": "1.2.0",
            "_view_name": "StyleView",
            "description_width": ""
          }
        },
        "859aadc755f747ef920d61fa22904a1e": {
          "model_module": "@jupyter-widgets/controls",
          "model_name": "HBoxModel",
          "model_module_version": "1.5.0",
          "state": {
            "_dom_classes": [],
            "_model_module": "@jupyter-widgets/controls",
            "_model_module_version": "1.5.0",
            "_model_name": "HBoxModel",
            "_view_count": null,
            "_view_module": "@jupyter-widgets/controls",
            "_view_module_version": "1.5.0",
            "_view_name": "HBoxView",
            "box_style": "",
            "children": [
              "IPY_MODEL_337a3d06de7149d9ba6973c9ac773847",
              "IPY_MODEL_0e7361e407f54ae1bb38cc75609350d9",
              "IPY_MODEL_84802a1109b648b9b3e078fd80e8ea10"
            ],
            "layout": "IPY_MODEL_39590035ffe34d2b95969d16e8c7a21e"
          }
        },
        "337a3d06de7149d9ba6973c9ac773847": {
          "model_module": "@jupyter-widgets/controls",
          "model_name": "HTMLModel",
          "model_module_version": "1.5.0",
          "state": {
            "_dom_classes": [],
            "_model_module": "@jupyter-widgets/controls",
            "_model_module_version": "1.5.0",
            "_model_name": "HTMLModel",
            "_view_count": null,
            "_view_module": "@jupyter-widgets/controls",
            "_view_module_version": "1.5.0",
            "_view_name": "HTMLView",
            "description": "",
            "description_tooltip": null,
            "layout": "IPY_MODEL_3f8c6a6e4390477d8bd6f1419ef23d5d",
            "placeholder": "​",
            "style": "IPY_MODEL_39f248b42a6f440ca40f08e313f09c89",
            "value": "tokenizer_config.json: 100%"
          }
        },
        "0e7361e407f54ae1bb38cc75609350d9": {
          "model_module": "@jupyter-widgets/controls",
          "model_name": "FloatProgressModel",
          "model_module_version": "1.5.0",
          "state": {
            "_dom_classes": [],
            "_model_module": "@jupyter-widgets/controls",
            "_model_module_version": "1.5.0",
            "_model_name": "FloatProgressModel",
            "_view_count": null,
            "_view_module": "@jupyter-widgets/controls",
            "_view_module_version": "1.5.0",
            "_view_name": "ProgressView",
            "bar_style": "success",
            "description": "",
            "description_tooltip": null,
            "layout": "IPY_MODEL_e85af396e2b24ee2ae0afe12a029fdfd",
            "max": 399,
            "min": 0,
            "orientation": "horizontal",
            "style": "IPY_MODEL_f9279e6ebc5644cd823c99776562a459",
            "value": 399
          }
        },
        "84802a1109b648b9b3e078fd80e8ea10": {
          "model_module": "@jupyter-widgets/controls",
          "model_name": "HTMLModel",
          "model_module_version": "1.5.0",
          "state": {
            "_dom_classes": [],
            "_model_module": "@jupyter-widgets/controls",
            "_model_module_version": "1.5.0",
            "_model_name": "HTMLModel",
            "_view_count": null,
            "_view_module": "@jupyter-widgets/controls",
            "_view_module_version": "1.5.0",
            "_view_name": "HTMLView",
            "description": "",
            "description_tooltip": null,
            "layout": "IPY_MODEL_2448f128f8f44e10a5ec2dc3ac3f5376",
            "placeholder": "​",
            "style": "IPY_MODEL_e7b91472e80f41ccb9ed21219c946925",
            "value": " 399/399 [00:00&lt;00:00, 23.1kB/s]"
          }
        },
        "39590035ffe34d2b95969d16e8c7a21e": {
          "model_module": "@jupyter-widgets/base",
          "model_name": "LayoutModel",
          "model_module_version": "1.2.0",
          "state": {
            "_model_module": "@jupyter-widgets/base",
            "_model_module_version": "1.2.0",
            "_model_name": "LayoutModel",
            "_view_count": null,
            "_view_module": "@jupyter-widgets/base",
            "_view_module_version": "1.2.0",
            "_view_name": "LayoutView",
            "align_content": null,
            "align_items": null,
            "align_self": null,
            "border": null,
            "bottom": null,
            "display": null,
            "flex": null,
            "flex_flow": null,
            "grid_area": null,
            "grid_auto_columns": null,
            "grid_auto_flow": null,
            "grid_auto_rows": null,
            "grid_column": null,
            "grid_gap": null,
            "grid_row": null,
            "grid_template_areas": null,
            "grid_template_columns": null,
            "grid_template_rows": null,
            "height": null,
            "justify_content": null,
            "justify_items": null,
            "left": null,
            "margin": null,
            "max_height": null,
            "max_width": null,
            "min_height": null,
            "min_width": null,
            "object_fit": null,
            "object_position": null,
            "order": null,
            "overflow": null,
            "overflow_x": null,
            "overflow_y": null,
            "padding": null,
            "right": null,
            "top": null,
            "visibility": null,
            "width": null
          }
        },
        "3f8c6a6e4390477d8bd6f1419ef23d5d": {
          "model_module": "@jupyter-widgets/base",
          "model_name": "LayoutModel",
          "model_module_version": "1.2.0",
          "state": {
            "_model_module": "@jupyter-widgets/base",
            "_model_module_version": "1.2.0",
            "_model_name": "LayoutModel",
            "_view_count": null,
            "_view_module": "@jupyter-widgets/base",
            "_view_module_version": "1.2.0",
            "_view_name": "LayoutView",
            "align_content": null,
            "align_items": null,
            "align_self": null,
            "border": null,
            "bottom": null,
            "display": null,
            "flex": null,
            "flex_flow": null,
            "grid_area": null,
            "grid_auto_columns": null,
            "grid_auto_flow": null,
            "grid_auto_rows": null,
            "grid_column": null,
            "grid_gap": null,
            "grid_row": null,
            "grid_template_areas": null,
            "grid_template_columns": null,
            "grid_template_rows": null,
            "height": null,
            "justify_content": null,
            "justify_items": null,
            "left": null,
            "margin": null,
            "max_height": null,
            "max_width": null,
            "min_height": null,
            "min_width": null,
            "object_fit": null,
            "object_position": null,
            "order": null,
            "overflow": null,
            "overflow_x": null,
            "overflow_y": null,
            "padding": null,
            "right": null,
            "top": null,
            "visibility": null,
            "width": null
          }
        },
        "39f248b42a6f440ca40f08e313f09c89": {
          "model_module": "@jupyter-widgets/controls",
          "model_name": "DescriptionStyleModel",
          "model_module_version": "1.5.0",
          "state": {
            "_model_module": "@jupyter-widgets/controls",
            "_model_module_version": "1.5.0",
            "_model_name": "DescriptionStyleModel",
            "_view_count": null,
            "_view_module": "@jupyter-widgets/base",
            "_view_module_version": "1.2.0",
            "_view_name": "StyleView",
            "description_width": ""
          }
        },
        "e85af396e2b24ee2ae0afe12a029fdfd": {
          "model_module": "@jupyter-widgets/base",
          "model_name": "LayoutModel",
          "model_module_version": "1.2.0",
          "state": {
            "_model_module": "@jupyter-widgets/base",
            "_model_module_version": "1.2.0",
            "_model_name": "LayoutModel",
            "_view_count": null,
            "_view_module": "@jupyter-widgets/base",
            "_view_module_version": "1.2.0",
            "_view_name": "LayoutView",
            "align_content": null,
            "align_items": null,
            "align_self": null,
            "border": null,
            "bottom": null,
            "display": null,
            "flex": null,
            "flex_flow": null,
            "grid_area": null,
            "grid_auto_columns": null,
            "grid_auto_flow": null,
            "grid_auto_rows": null,
            "grid_column": null,
            "grid_gap": null,
            "grid_row": null,
            "grid_template_areas": null,
            "grid_template_columns": null,
            "grid_template_rows": null,
            "height": null,
            "justify_content": null,
            "justify_items": null,
            "left": null,
            "margin": null,
            "max_height": null,
            "max_width": null,
            "min_height": null,
            "min_width": null,
            "object_fit": null,
            "object_position": null,
            "order": null,
            "overflow": null,
            "overflow_x": null,
            "overflow_y": null,
            "padding": null,
            "right": null,
            "top": null,
            "visibility": null,
            "width": null
          }
        },
        "f9279e6ebc5644cd823c99776562a459": {
          "model_module": "@jupyter-widgets/controls",
          "model_name": "ProgressStyleModel",
          "model_module_version": "1.5.0",
          "state": {
            "_model_module": "@jupyter-widgets/controls",
            "_model_module_version": "1.5.0",
            "_model_name": "ProgressStyleModel",
            "_view_count": null,
            "_view_module": "@jupyter-widgets/base",
            "_view_module_version": "1.2.0",
            "_view_name": "StyleView",
            "bar_color": null,
            "description_width": ""
          }
        },
        "2448f128f8f44e10a5ec2dc3ac3f5376": {
          "model_module": "@jupyter-widgets/base",
          "model_name": "LayoutModel",
          "model_module_version": "1.2.0",
          "state": {
            "_model_module": "@jupyter-widgets/base",
            "_model_module_version": "1.2.0",
            "_model_name": "LayoutModel",
            "_view_count": null,
            "_view_module": "@jupyter-widgets/base",
            "_view_module_version": "1.2.0",
            "_view_name": "LayoutView",
            "align_content": null,
            "align_items": null,
            "align_self": null,
            "border": null,
            "bottom": null,
            "display": null,
            "flex": null,
            "flex_flow": null,
            "grid_area": null,
            "grid_auto_columns": null,
            "grid_auto_flow": null,
            "grid_auto_rows": null,
            "grid_column": null,
            "grid_gap": null,
            "grid_row": null,
            "grid_template_areas": null,
            "grid_template_columns": null,
            "grid_template_rows": null,
            "height": null,
            "justify_content": null,
            "justify_items": null,
            "left": null,
            "margin": null,
            "max_height": null,
            "max_width": null,
            "min_height": null,
            "min_width": null,
            "object_fit": null,
            "object_position": null,
            "order": null,
            "overflow": null,
            "overflow_x": null,
            "overflow_y": null,
            "padding": null,
            "right": null,
            "top": null,
            "visibility": null,
            "width": null
          }
        },
        "e7b91472e80f41ccb9ed21219c946925": {
          "model_module": "@jupyter-widgets/controls",
          "model_name": "DescriptionStyleModel",
          "model_module_version": "1.5.0",
          "state": {
            "_model_module": "@jupyter-widgets/controls",
            "_model_module_version": "1.5.0",
            "_model_name": "DescriptionStyleModel",
            "_view_count": null,
            "_view_module": "@jupyter-widgets/base",
            "_view_module_version": "1.2.0",
            "_view_name": "StyleView",
            "description_width": ""
          }
        },
        "391f808120af4a87bf998f570d333dfe": {
          "model_module": "@jupyter-widgets/controls",
          "model_name": "HBoxModel",
          "model_module_version": "1.5.0",
          "state": {
            "_dom_classes": [],
            "_model_module": "@jupyter-widgets/controls",
            "_model_module_version": "1.5.0",
            "_model_name": "HBoxModel",
            "_view_count": null,
            "_view_module": "@jupyter-widgets/controls",
            "_view_module_version": "1.5.0",
            "_view_name": "HBoxView",
            "box_style": "",
            "children": [
              "IPY_MODEL_6385cac4b14b42dc924575385679bb14",
              "IPY_MODEL_d4d34f207e1a4b5c8f07c7a26e447836",
              "IPY_MODEL_7c43a3cd1cbc438daf70f8140b67b489"
            ],
            "layout": "IPY_MODEL_37064ba5b8c64b50ba23e809e99f3ca1"
          }
        },
        "6385cac4b14b42dc924575385679bb14": {
          "model_module": "@jupyter-widgets/controls",
          "model_name": "HTMLModel",
          "model_module_version": "1.5.0",
          "state": {
            "_dom_classes": [],
            "_model_module": "@jupyter-widgets/controls",
            "_model_module_version": "1.5.0",
            "_model_name": "HTMLModel",
            "_view_count": null,
            "_view_module": "@jupyter-widgets/controls",
            "_view_module_version": "1.5.0",
            "_view_name": "HTMLView",
            "description": "",
            "description_tooltip": null,
            "layout": "IPY_MODEL_bc5e44bc615b40418521d7de88c95c7b",
            "placeholder": "​",
            "style": "IPY_MODEL_39e26a0a494d477695d6415e1f13f3be",
            "value": "vocab.txt: 100%"
          }
        },
        "d4d34f207e1a4b5c8f07c7a26e447836": {
          "model_module": "@jupyter-widgets/controls",
          "model_name": "FloatProgressModel",
          "model_module_version": "1.5.0",
          "state": {
            "_dom_classes": [],
            "_model_module": "@jupyter-widgets/controls",
            "_model_module_version": "1.5.0",
            "_model_name": "FloatProgressModel",
            "_view_count": null,
            "_view_module": "@jupyter-widgets/controls",
            "_view_module_version": "1.5.0",
            "_view_name": "ProgressView",
            "bar_style": "success",
            "description": "",
            "description_tooltip": null,
            "layout": "IPY_MODEL_e49f9025997b4fa5a7d2f8762c3d84c7",
            "max": 231508,
            "min": 0,
            "orientation": "horizontal",
            "style": "IPY_MODEL_3fc932c58c8849e6b1a07f2f71c08f9c",
            "value": 231508
          }
        },
        "7c43a3cd1cbc438daf70f8140b67b489": {
          "model_module": "@jupyter-widgets/controls",
          "model_name": "HTMLModel",
          "model_module_version": "1.5.0",
          "state": {
            "_dom_classes": [],
            "_model_module": "@jupyter-widgets/controls",
            "_model_module_version": "1.5.0",
            "_model_name": "HTMLModel",
            "_view_count": null,
            "_view_module": "@jupyter-widgets/controls",
            "_view_module_version": "1.5.0",
            "_view_name": "HTMLView",
            "description": "",
            "description_tooltip": null,
            "layout": "IPY_MODEL_dd46d47228be459b9d234c84826a97a9",
            "placeholder": "​",
            "style": "IPY_MODEL_863059cc96054d7493ee0a2d47b11945",
            "value": " 232k/232k [00:00&lt;00:00, 1.76MB/s]"
          }
        },
        "37064ba5b8c64b50ba23e809e99f3ca1": {
          "model_module": "@jupyter-widgets/base",
          "model_name": "LayoutModel",
          "model_module_version": "1.2.0",
          "state": {
            "_model_module": "@jupyter-widgets/base",
            "_model_module_version": "1.2.0",
            "_model_name": "LayoutModel",
            "_view_count": null,
            "_view_module": "@jupyter-widgets/base",
            "_view_module_version": "1.2.0",
            "_view_name": "LayoutView",
            "align_content": null,
            "align_items": null,
            "align_self": null,
            "border": null,
            "bottom": null,
            "display": null,
            "flex": null,
            "flex_flow": null,
            "grid_area": null,
            "grid_auto_columns": null,
            "grid_auto_flow": null,
            "grid_auto_rows": null,
            "grid_column": null,
            "grid_gap": null,
            "grid_row": null,
            "grid_template_areas": null,
            "grid_template_columns": null,
            "grid_template_rows": null,
            "height": null,
            "justify_content": null,
            "justify_items": null,
            "left": null,
            "margin": null,
            "max_height": null,
            "max_width": null,
            "min_height": null,
            "min_width": null,
            "object_fit": null,
            "object_position": null,
            "order": null,
            "overflow": null,
            "overflow_x": null,
            "overflow_y": null,
            "padding": null,
            "right": null,
            "top": null,
            "visibility": null,
            "width": null
          }
        },
        "bc5e44bc615b40418521d7de88c95c7b": {
          "model_module": "@jupyter-widgets/base",
          "model_name": "LayoutModel",
          "model_module_version": "1.2.0",
          "state": {
            "_model_module": "@jupyter-widgets/base",
            "_model_module_version": "1.2.0",
            "_model_name": "LayoutModel",
            "_view_count": null,
            "_view_module": "@jupyter-widgets/base",
            "_view_module_version": "1.2.0",
            "_view_name": "LayoutView",
            "align_content": null,
            "align_items": null,
            "align_self": null,
            "border": null,
            "bottom": null,
            "display": null,
            "flex": null,
            "flex_flow": null,
            "grid_area": null,
            "grid_auto_columns": null,
            "grid_auto_flow": null,
            "grid_auto_rows": null,
            "grid_column": null,
            "grid_gap": null,
            "grid_row": null,
            "grid_template_areas": null,
            "grid_template_columns": null,
            "grid_template_rows": null,
            "height": null,
            "justify_content": null,
            "justify_items": null,
            "left": null,
            "margin": null,
            "max_height": null,
            "max_width": null,
            "min_height": null,
            "min_width": null,
            "object_fit": null,
            "object_position": null,
            "order": null,
            "overflow": null,
            "overflow_x": null,
            "overflow_y": null,
            "padding": null,
            "right": null,
            "top": null,
            "visibility": null,
            "width": null
          }
        },
        "39e26a0a494d477695d6415e1f13f3be": {
          "model_module": "@jupyter-widgets/controls",
          "model_name": "DescriptionStyleModel",
          "model_module_version": "1.5.0",
          "state": {
            "_model_module": "@jupyter-widgets/controls",
            "_model_module_version": "1.5.0",
            "_model_name": "DescriptionStyleModel",
            "_view_count": null,
            "_view_module": "@jupyter-widgets/base",
            "_view_module_version": "1.2.0",
            "_view_name": "StyleView",
            "description_width": ""
          }
        },
        "e49f9025997b4fa5a7d2f8762c3d84c7": {
          "model_module": "@jupyter-widgets/base",
          "model_name": "LayoutModel",
          "model_module_version": "1.2.0",
          "state": {
            "_model_module": "@jupyter-widgets/base",
            "_model_module_version": "1.2.0",
            "_model_name": "LayoutModel",
            "_view_count": null,
            "_view_module": "@jupyter-widgets/base",
            "_view_module_version": "1.2.0",
            "_view_name": "LayoutView",
            "align_content": null,
            "align_items": null,
            "align_self": null,
            "border": null,
            "bottom": null,
            "display": null,
            "flex": null,
            "flex_flow": null,
            "grid_area": null,
            "grid_auto_columns": null,
            "grid_auto_flow": null,
            "grid_auto_rows": null,
            "grid_column": null,
            "grid_gap": null,
            "grid_row": null,
            "grid_template_areas": null,
            "grid_template_columns": null,
            "grid_template_rows": null,
            "height": null,
            "justify_content": null,
            "justify_items": null,
            "left": null,
            "margin": null,
            "max_height": null,
            "max_width": null,
            "min_height": null,
            "min_width": null,
            "object_fit": null,
            "object_position": null,
            "order": null,
            "overflow": null,
            "overflow_x": null,
            "overflow_y": null,
            "padding": null,
            "right": null,
            "top": null,
            "visibility": null,
            "width": null
          }
        },
        "3fc932c58c8849e6b1a07f2f71c08f9c": {
          "model_module": "@jupyter-widgets/controls",
          "model_name": "ProgressStyleModel",
          "model_module_version": "1.5.0",
          "state": {
            "_model_module": "@jupyter-widgets/controls",
            "_model_module_version": "1.5.0",
            "_model_name": "ProgressStyleModel",
            "_view_count": null,
            "_view_module": "@jupyter-widgets/base",
            "_view_module_version": "1.2.0",
            "_view_name": "StyleView",
            "bar_color": null,
            "description_width": ""
          }
        },
        "dd46d47228be459b9d234c84826a97a9": {
          "model_module": "@jupyter-widgets/base",
          "model_name": "LayoutModel",
          "model_module_version": "1.2.0",
          "state": {
            "_model_module": "@jupyter-widgets/base",
            "_model_module_version": "1.2.0",
            "_model_name": "LayoutModel",
            "_view_count": null,
            "_view_module": "@jupyter-widgets/base",
            "_view_module_version": "1.2.0",
            "_view_name": "LayoutView",
            "align_content": null,
            "align_items": null,
            "align_self": null,
            "border": null,
            "bottom": null,
            "display": null,
            "flex": null,
            "flex_flow": null,
            "grid_area": null,
            "grid_auto_columns": null,
            "grid_auto_flow": null,
            "grid_auto_rows": null,
            "grid_column": null,
            "grid_gap": null,
            "grid_row": null,
            "grid_template_areas": null,
            "grid_template_columns": null,
            "grid_template_rows": null,
            "height": null,
            "justify_content": null,
            "justify_items": null,
            "left": null,
            "margin": null,
            "max_height": null,
            "max_width": null,
            "min_height": null,
            "min_width": null,
            "object_fit": null,
            "object_position": null,
            "order": null,
            "overflow": null,
            "overflow_x": null,
            "overflow_y": null,
            "padding": null,
            "right": null,
            "top": null,
            "visibility": null,
            "width": null
          }
        },
        "863059cc96054d7493ee0a2d47b11945": {
          "model_module": "@jupyter-widgets/controls",
          "model_name": "DescriptionStyleModel",
          "model_module_version": "1.5.0",
          "state": {
            "_model_module": "@jupyter-widgets/controls",
            "_model_module_version": "1.5.0",
            "_model_name": "DescriptionStyleModel",
            "_view_count": null,
            "_view_module": "@jupyter-widgets/base",
            "_view_module_version": "1.2.0",
            "_view_name": "StyleView",
            "description_width": ""
          }
        },
        "f68f769294f0415a9cb0ba7792fefa3a": {
          "model_module": "@jupyter-widgets/controls",
          "model_name": "HBoxModel",
          "model_module_version": "1.5.0",
          "state": {
            "_dom_classes": [],
            "_model_module": "@jupyter-widgets/controls",
            "_model_module_version": "1.5.0",
            "_model_name": "HBoxModel",
            "_view_count": null,
            "_view_module": "@jupyter-widgets/controls",
            "_view_module_version": "1.5.0",
            "_view_name": "HBoxView",
            "box_style": "",
            "children": [
              "IPY_MODEL_96d4e17cffa04b20965333d2f7712b6a",
              "IPY_MODEL_9b58b5a674544d879d1e6526d2713afe",
              "IPY_MODEL_179e1487e21e4e13bb1f17adb9a1f845"
            ],
            "layout": "IPY_MODEL_122c3bb33526435ebea2d0d27913df11"
          }
        },
        "96d4e17cffa04b20965333d2f7712b6a": {
          "model_module": "@jupyter-widgets/controls",
          "model_name": "HTMLModel",
          "model_module_version": "1.5.0",
          "state": {
            "_dom_classes": [],
            "_model_module": "@jupyter-widgets/controls",
            "_model_module_version": "1.5.0",
            "_model_name": "HTMLModel",
            "_view_count": null,
            "_view_module": "@jupyter-widgets/controls",
            "_view_module_version": "1.5.0",
            "_view_name": "HTMLView",
            "description": "",
            "description_tooltip": null,
            "layout": "IPY_MODEL_29c778110084490c88b5e22500e30eb5",
            "placeholder": "​",
            "style": "IPY_MODEL_6fd42cd9e18140b5a3c0eff477a4c12f",
            "value": "tokenizer.json: 100%"
          }
        },
        "9b58b5a674544d879d1e6526d2713afe": {
          "model_module": "@jupyter-widgets/controls",
          "model_name": "FloatProgressModel",
          "model_module_version": "1.5.0",
          "state": {
            "_dom_classes": [],
            "_model_module": "@jupyter-widgets/controls",
            "_model_module_version": "1.5.0",
            "_model_name": "FloatProgressModel",
            "_view_count": null,
            "_view_module": "@jupyter-widgets/controls",
            "_view_module_version": "1.5.0",
            "_view_name": "ProgressView",
            "bar_style": "success",
            "description": "",
            "description_tooltip": null,
            "layout": "IPY_MODEL_0018752dc31547da903451e724059a8c",
            "max": 466081,
            "min": 0,
            "orientation": "horizontal",
            "style": "IPY_MODEL_68303b5e125b46a9a6ffd12282e9d65a",
            "value": 466081
          }
        },
        "179e1487e21e4e13bb1f17adb9a1f845": {
          "model_module": "@jupyter-widgets/controls",
          "model_name": "HTMLModel",
          "model_module_version": "1.5.0",
          "state": {
            "_dom_classes": [],
            "_model_module": "@jupyter-widgets/controls",
            "_model_module_version": "1.5.0",
            "_model_name": "HTMLModel",
            "_view_count": null,
            "_view_module": "@jupyter-widgets/controls",
            "_view_module_version": "1.5.0",
            "_view_name": "HTMLView",
            "description": "",
            "description_tooltip": null,
            "layout": "IPY_MODEL_ec2bc947238045b68be820bd7b6f0e33",
            "placeholder": "​",
            "style": "IPY_MODEL_fb6b57f027534f55ae7ea6c92b71cfff",
            "value": " 466k/466k [00:00&lt;00:00, 2.41MB/s]"
          }
        },
        "122c3bb33526435ebea2d0d27913df11": {
          "model_module": "@jupyter-widgets/base",
          "model_name": "LayoutModel",
          "model_module_version": "1.2.0",
          "state": {
            "_model_module": "@jupyter-widgets/base",
            "_model_module_version": "1.2.0",
            "_model_name": "LayoutModel",
            "_view_count": null,
            "_view_module": "@jupyter-widgets/base",
            "_view_module_version": "1.2.0",
            "_view_name": "LayoutView",
            "align_content": null,
            "align_items": null,
            "align_self": null,
            "border": null,
            "bottom": null,
            "display": null,
            "flex": null,
            "flex_flow": null,
            "grid_area": null,
            "grid_auto_columns": null,
            "grid_auto_flow": null,
            "grid_auto_rows": null,
            "grid_column": null,
            "grid_gap": null,
            "grid_row": null,
            "grid_template_areas": null,
            "grid_template_columns": null,
            "grid_template_rows": null,
            "height": null,
            "justify_content": null,
            "justify_items": null,
            "left": null,
            "margin": null,
            "max_height": null,
            "max_width": null,
            "min_height": null,
            "min_width": null,
            "object_fit": null,
            "object_position": null,
            "order": null,
            "overflow": null,
            "overflow_x": null,
            "overflow_y": null,
            "padding": null,
            "right": null,
            "top": null,
            "visibility": null,
            "width": null
          }
        },
        "29c778110084490c88b5e22500e30eb5": {
          "model_module": "@jupyter-widgets/base",
          "model_name": "LayoutModel",
          "model_module_version": "1.2.0",
          "state": {
            "_model_module": "@jupyter-widgets/base",
            "_model_module_version": "1.2.0",
            "_model_name": "LayoutModel",
            "_view_count": null,
            "_view_module": "@jupyter-widgets/base",
            "_view_module_version": "1.2.0",
            "_view_name": "LayoutView",
            "align_content": null,
            "align_items": null,
            "align_self": null,
            "border": null,
            "bottom": null,
            "display": null,
            "flex": null,
            "flex_flow": null,
            "grid_area": null,
            "grid_auto_columns": null,
            "grid_auto_flow": null,
            "grid_auto_rows": null,
            "grid_column": null,
            "grid_gap": null,
            "grid_row": null,
            "grid_template_areas": null,
            "grid_template_columns": null,
            "grid_template_rows": null,
            "height": null,
            "justify_content": null,
            "justify_items": null,
            "left": null,
            "margin": null,
            "max_height": null,
            "max_width": null,
            "min_height": null,
            "min_width": null,
            "object_fit": null,
            "object_position": null,
            "order": null,
            "overflow": null,
            "overflow_x": null,
            "overflow_y": null,
            "padding": null,
            "right": null,
            "top": null,
            "visibility": null,
            "width": null
          }
        },
        "6fd42cd9e18140b5a3c0eff477a4c12f": {
          "model_module": "@jupyter-widgets/controls",
          "model_name": "DescriptionStyleModel",
          "model_module_version": "1.5.0",
          "state": {
            "_model_module": "@jupyter-widgets/controls",
            "_model_module_version": "1.5.0",
            "_model_name": "DescriptionStyleModel",
            "_view_count": null,
            "_view_module": "@jupyter-widgets/base",
            "_view_module_version": "1.2.0",
            "_view_name": "StyleView",
            "description_width": ""
          }
        },
        "0018752dc31547da903451e724059a8c": {
          "model_module": "@jupyter-widgets/base",
          "model_name": "LayoutModel",
          "model_module_version": "1.2.0",
          "state": {
            "_model_module": "@jupyter-widgets/base",
            "_model_module_version": "1.2.0",
            "_model_name": "LayoutModel",
            "_view_count": null,
            "_view_module": "@jupyter-widgets/base",
            "_view_module_version": "1.2.0",
            "_view_name": "LayoutView",
            "align_content": null,
            "align_items": null,
            "align_self": null,
            "border": null,
            "bottom": null,
            "display": null,
            "flex": null,
            "flex_flow": null,
            "grid_area": null,
            "grid_auto_columns": null,
            "grid_auto_flow": null,
            "grid_auto_rows": null,
            "grid_column": null,
            "grid_gap": null,
            "grid_row": null,
            "grid_template_areas": null,
            "grid_template_columns": null,
            "grid_template_rows": null,
            "height": null,
            "justify_content": null,
            "justify_items": null,
            "left": null,
            "margin": null,
            "max_height": null,
            "max_width": null,
            "min_height": null,
            "min_width": null,
            "object_fit": null,
            "object_position": null,
            "order": null,
            "overflow": null,
            "overflow_x": null,
            "overflow_y": null,
            "padding": null,
            "right": null,
            "top": null,
            "visibility": null,
            "width": null
          }
        },
        "68303b5e125b46a9a6ffd12282e9d65a": {
          "model_module": "@jupyter-widgets/controls",
          "model_name": "ProgressStyleModel",
          "model_module_version": "1.5.0",
          "state": {
            "_model_module": "@jupyter-widgets/controls",
            "_model_module_version": "1.5.0",
            "_model_name": "ProgressStyleModel",
            "_view_count": null,
            "_view_module": "@jupyter-widgets/base",
            "_view_module_version": "1.2.0",
            "_view_name": "StyleView",
            "bar_color": null,
            "description_width": ""
          }
        },
        "ec2bc947238045b68be820bd7b6f0e33": {
          "model_module": "@jupyter-widgets/base",
          "model_name": "LayoutModel",
          "model_module_version": "1.2.0",
          "state": {
            "_model_module": "@jupyter-widgets/base",
            "_model_module_version": "1.2.0",
            "_model_name": "LayoutModel",
            "_view_count": null,
            "_view_module": "@jupyter-widgets/base",
            "_view_module_version": "1.2.0",
            "_view_name": "LayoutView",
            "align_content": null,
            "align_items": null,
            "align_self": null,
            "border": null,
            "bottom": null,
            "display": null,
            "flex": null,
            "flex_flow": null,
            "grid_area": null,
            "grid_auto_columns": null,
            "grid_auto_flow": null,
            "grid_auto_rows": null,
            "grid_column": null,
            "grid_gap": null,
            "grid_row": null,
            "grid_template_areas": null,
            "grid_template_columns": null,
            "grid_template_rows": null,
            "height": null,
            "justify_content": null,
            "justify_items": null,
            "left": null,
            "margin": null,
            "max_height": null,
            "max_width": null,
            "min_height": null,
            "min_width": null,
            "object_fit": null,
            "object_position": null,
            "order": null,
            "overflow": null,
            "overflow_x": null,
            "overflow_y": null,
            "padding": null,
            "right": null,
            "top": null,
            "visibility": null,
            "width": null
          }
        },
        "fb6b57f027534f55ae7ea6c92b71cfff": {
          "model_module": "@jupyter-widgets/controls",
          "model_name": "DescriptionStyleModel",
          "model_module_version": "1.5.0",
          "state": {
            "_model_module": "@jupyter-widgets/controls",
            "_model_module_version": "1.5.0",
            "_model_name": "DescriptionStyleModel",
            "_view_count": null,
            "_view_module": "@jupyter-widgets/base",
            "_view_module_version": "1.2.0",
            "_view_name": "StyleView",
            "description_width": ""
          }
        },
        "485aac9d492f4a369a2df3d89802f99d": {
          "model_module": "@jupyter-widgets/controls",
          "model_name": "HBoxModel",
          "model_module_version": "1.5.0",
          "state": {
            "_dom_classes": [],
            "_model_module": "@jupyter-widgets/controls",
            "_model_module_version": "1.5.0",
            "_model_name": "HBoxModel",
            "_view_count": null,
            "_view_module": "@jupyter-widgets/controls",
            "_view_module_version": "1.5.0",
            "_view_name": "HBoxView",
            "box_style": "",
            "children": [
              "IPY_MODEL_fa362de023aa4add9d6148e8e310b76c",
              "IPY_MODEL_b92f3694089b418aaae7f6ff789e0949",
              "IPY_MODEL_92c1891d91504fe7ab2bee8578e56337"
            ],
            "layout": "IPY_MODEL_4a76fecf83454e65b29cdd735471d9d0"
          }
        },
        "fa362de023aa4add9d6148e8e310b76c": {
          "model_module": "@jupyter-widgets/controls",
          "model_name": "HTMLModel",
          "model_module_version": "1.5.0",
          "state": {
            "_dom_classes": [],
            "_model_module": "@jupyter-widgets/controls",
            "_model_module_version": "1.5.0",
            "_model_name": "HTMLModel",
            "_view_count": null,
            "_view_module": "@jupyter-widgets/controls",
            "_view_module_version": "1.5.0",
            "_view_name": "HTMLView",
            "description": "",
            "description_tooltip": null,
            "layout": "IPY_MODEL_62944d6735714f5284fc565670aa4c4c",
            "placeholder": "​",
            "style": "IPY_MODEL_1551e1e693c641fab4a7fbeeed8b640f",
            "value": "added_tokens.json: 100%"
          }
        },
        "b92f3694089b418aaae7f6ff789e0949": {
          "model_module": "@jupyter-widgets/controls",
          "model_name": "FloatProgressModel",
          "model_module_version": "1.5.0",
          "state": {
            "_dom_classes": [],
            "_model_module": "@jupyter-widgets/controls",
            "_model_module_version": "1.5.0",
            "_model_name": "FloatProgressModel",
            "_view_count": null,
            "_view_module": "@jupyter-widgets/controls",
            "_view_module_version": "1.5.0",
            "_view_name": "ProgressView",
            "bar_style": "success",
            "description": "",
            "description_tooltip": null,
            "layout": "IPY_MODEL_6cb57ae23ed64f8f89267659c257e647",
            "max": 2,
            "min": 0,
            "orientation": "horizontal",
            "style": "IPY_MODEL_ec78041643eb457ab702f7812f5c12d0",
            "value": 2
          }
        },
        "92c1891d91504fe7ab2bee8578e56337": {
          "model_module": "@jupyter-widgets/controls",
          "model_name": "HTMLModel",
          "model_module_version": "1.5.0",
          "state": {
            "_dom_classes": [],
            "_model_module": "@jupyter-widgets/controls",
            "_model_module_version": "1.5.0",
            "_model_name": "HTMLModel",
            "_view_count": null,
            "_view_module": "@jupyter-widgets/controls",
            "_view_module_version": "1.5.0",
            "_view_name": "HTMLView",
            "description": "",
            "description_tooltip": null,
            "layout": "IPY_MODEL_15c854ab2e924242b6b713a26d6c7bb3",
            "placeholder": "​",
            "style": "IPY_MODEL_1bd760a44105461da5754b081dcecd65",
            "value": " 2.00/2.00 [00:00&lt;00:00, 104B/s]"
          }
        },
        "4a76fecf83454e65b29cdd735471d9d0": {
          "model_module": "@jupyter-widgets/base",
          "model_name": "LayoutModel",
          "model_module_version": "1.2.0",
          "state": {
            "_model_module": "@jupyter-widgets/base",
            "_model_module_version": "1.2.0",
            "_model_name": "LayoutModel",
            "_view_count": null,
            "_view_module": "@jupyter-widgets/base",
            "_view_module_version": "1.2.0",
            "_view_name": "LayoutView",
            "align_content": null,
            "align_items": null,
            "align_self": null,
            "border": null,
            "bottom": null,
            "display": null,
            "flex": null,
            "flex_flow": null,
            "grid_area": null,
            "grid_auto_columns": null,
            "grid_auto_flow": null,
            "grid_auto_rows": null,
            "grid_column": null,
            "grid_gap": null,
            "grid_row": null,
            "grid_template_areas": null,
            "grid_template_columns": null,
            "grid_template_rows": null,
            "height": null,
            "justify_content": null,
            "justify_items": null,
            "left": null,
            "margin": null,
            "max_height": null,
            "max_width": null,
            "min_height": null,
            "min_width": null,
            "object_fit": null,
            "object_position": null,
            "order": null,
            "overflow": null,
            "overflow_x": null,
            "overflow_y": null,
            "padding": null,
            "right": null,
            "top": null,
            "visibility": null,
            "width": null
          }
        },
        "62944d6735714f5284fc565670aa4c4c": {
          "model_module": "@jupyter-widgets/base",
          "model_name": "LayoutModel",
          "model_module_version": "1.2.0",
          "state": {
            "_model_module": "@jupyter-widgets/base",
            "_model_module_version": "1.2.0",
            "_model_name": "LayoutModel",
            "_view_count": null,
            "_view_module": "@jupyter-widgets/base",
            "_view_module_version": "1.2.0",
            "_view_name": "LayoutView",
            "align_content": null,
            "align_items": null,
            "align_self": null,
            "border": null,
            "bottom": null,
            "display": null,
            "flex": null,
            "flex_flow": null,
            "grid_area": null,
            "grid_auto_columns": null,
            "grid_auto_flow": null,
            "grid_auto_rows": null,
            "grid_column": null,
            "grid_gap": null,
            "grid_row": null,
            "grid_template_areas": null,
            "grid_template_columns": null,
            "grid_template_rows": null,
            "height": null,
            "justify_content": null,
            "justify_items": null,
            "left": null,
            "margin": null,
            "max_height": null,
            "max_width": null,
            "min_height": null,
            "min_width": null,
            "object_fit": null,
            "object_position": null,
            "order": null,
            "overflow": null,
            "overflow_x": null,
            "overflow_y": null,
            "padding": null,
            "right": null,
            "top": null,
            "visibility": null,
            "width": null
          }
        },
        "1551e1e693c641fab4a7fbeeed8b640f": {
          "model_module": "@jupyter-widgets/controls",
          "model_name": "DescriptionStyleModel",
          "model_module_version": "1.5.0",
          "state": {
            "_model_module": "@jupyter-widgets/controls",
            "_model_module_version": "1.5.0",
            "_model_name": "DescriptionStyleModel",
            "_view_count": null,
            "_view_module": "@jupyter-widgets/base",
            "_view_module_version": "1.2.0",
            "_view_name": "StyleView",
            "description_width": ""
          }
        },
        "6cb57ae23ed64f8f89267659c257e647": {
          "model_module": "@jupyter-widgets/base",
          "model_name": "LayoutModel",
          "model_module_version": "1.2.0",
          "state": {
            "_model_module": "@jupyter-widgets/base",
            "_model_module_version": "1.2.0",
            "_model_name": "LayoutModel",
            "_view_count": null,
            "_view_module": "@jupyter-widgets/base",
            "_view_module_version": "1.2.0",
            "_view_name": "LayoutView",
            "align_content": null,
            "align_items": null,
            "align_self": null,
            "border": null,
            "bottom": null,
            "display": null,
            "flex": null,
            "flex_flow": null,
            "grid_area": null,
            "grid_auto_columns": null,
            "grid_auto_flow": null,
            "grid_auto_rows": null,
            "grid_column": null,
            "grid_gap": null,
            "grid_row": null,
            "grid_template_areas": null,
            "grid_template_columns": null,
            "grid_template_rows": null,
            "height": null,
            "justify_content": null,
            "justify_items": null,
            "left": null,
            "margin": null,
            "max_height": null,
            "max_width": null,
            "min_height": null,
            "min_width": null,
            "object_fit": null,
            "object_position": null,
            "order": null,
            "overflow": null,
            "overflow_x": null,
            "overflow_y": null,
            "padding": null,
            "right": null,
            "top": null,
            "visibility": null,
            "width": null
          }
        },
        "ec78041643eb457ab702f7812f5c12d0": {
          "model_module": "@jupyter-widgets/controls",
          "model_name": "ProgressStyleModel",
          "model_module_version": "1.5.0",
          "state": {
            "_model_module": "@jupyter-widgets/controls",
            "_model_module_version": "1.5.0",
            "_model_name": "ProgressStyleModel",
            "_view_count": null,
            "_view_module": "@jupyter-widgets/base",
            "_view_module_version": "1.2.0",
            "_view_name": "StyleView",
            "bar_color": null,
            "description_width": ""
          }
        },
        "15c854ab2e924242b6b713a26d6c7bb3": {
          "model_module": "@jupyter-widgets/base",
          "model_name": "LayoutModel",
          "model_module_version": "1.2.0",
          "state": {
            "_model_module": "@jupyter-widgets/base",
            "_model_module_version": "1.2.0",
            "_model_name": "LayoutModel",
            "_view_count": null,
            "_view_module": "@jupyter-widgets/base",
            "_view_module_version": "1.2.0",
            "_view_name": "LayoutView",
            "align_content": null,
            "align_items": null,
            "align_self": null,
            "border": null,
            "bottom": null,
            "display": null,
            "flex": null,
            "flex_flow": null,
            "grid_area": null,
            "grid_auto_columns": null,
            "grid_auto_flow": null,
            "grid_auto_rows": null,
            "grid_column": null,
            "grid_gap": null,
            "grid_row": null,
            "grid_template_areas": null,
            "grid_template_columns": null,
            "grid_template_rows": null,
            "height": null,
            "justify_content": null,
            "justify_items": null,
            "left": null,
            "margin": null,
            "max_height": null,
            "max_width": null,
            "min_height": null,
            "min_width": null,
            "object_fit": null,
            "object_position": null,
            "order": null,
            "overflow": null,
            "overflow_x": null,
            "overflow_y": null,
            "padding": null,
            "right": null,
            "top": null,
            "visibility": null,
            "width": null
          }
        },
        "1bd760a44105461da5754b081dcecd65": {
          "model_module": "@jupyter-widgets/controls",
          "model_name": "DescriptionStyleModel",
          "model_module_version": "1.5.0",
          "state": {
            "_model_module": "@jupyter-widgets/controls",
            "_model_module_version": "1.5.0",
            "_model_name": "DescriptionStyleModel",
            "_view_count": null,
            "_view_module": "@jupyter-widgets/base",
            "_view_module_version": "1.2.0",
            "_view_name": "StyleView",
            "description_width": ""
          }
        },
        "e22f6bf18c944d22b36baf3840f5f385": {
          "model_module": "@jupyter-widgets/controls",
          "model_name": "HBoxModel",
          "model_module_version": "1.5.0",
          "state": {
            "_dom_classes": [],
            "_model_module": "@jupyter-widgets/controls",
            "_model_module_version": "1.5.0",
            "_model_name": "HBoxModel",
            "_view_count": null,
            "_view_module": "@jupyter-widgets/controls",
            "_view_module_version": "1.5.0",
            "_view_name": "HBoxView",
            "box_style": "",
            "children": [
              "IPY_MODEL_6a14c503474145708f7a21fa723f6cbd",
              "IPY_MODEL_bd0c154cfe1b458db8b51e2a23c2bca5",
              "IPY_MODEL_ccf670b5857e4881bc30ae9dee68945a"
            ],
            "layout": "IPY_MODEL_50588af21b2847449885954a30b1eb47"
          }
        },
        "6a14c503474145708f7a21fa723f6cbd": {
          "model_module": "@jupyter-widgets/controls",
          "model_name": "HTMLModel",
          "model_module_version": "1.5.0",
          "state": {
            "_dom_classes": [],
            "_model_module": "@jupyter-widgets/controls",
            "_model_module_version": "1.5.0",
            "_model_name": "HTMLModel",
            "_view_count": null,
            "_view_module": "@jupyter-widgets/controls",
            "_view_module_version": "1.5.0",
            "_view_name": "HTMLView",
            "description": "",
            "description_tooltip": null,
            "layout": "IPY_MODEL_63b4967bb16647dc83ce7ceface0de49",
            "placeholder": "​",
            "style": "IPY_MODEL_d2709252384246e5b791bdb1136af0fd",
            "value": "special_tokens_map.json: 100%"
          }
        },
        "bd0c154cfe1b458db8b51e2a23c2bca5": {
          "model_module": "@jupyter-widgets/controls",
          "model_name": "FloatProgressModel",
          "model_module_version": "1.5.0",
          "state": {
            "_dom_classes": [],
            "_model_module": "@jupyter-widgets/controls",
            "_model_module_version": "1.5.0",
            "_model_name": "FloatProgressModel",
            "_view_count": null,
            "_view_module": "@jupyter-widgets/controls",
            "_view_module_version": "1.5.0",
            "_view_name": "ProgressView",
            "bar_style": "success",
            "description": "",
            "description_tooltip": null,
            "layout": "IPY_MODEL_7fcddb8d03db4b70b2744aeb85cd3ac2",
            "max": 112,
            "min": 0,
            "orientation": "horizontal",
            "style": "IPY_MODEL_3e41792de5c4492ab1faaf4b38808706",
            "value": 112
          }
        },
        "ccf670b5857e4881bc30ae9dee68945a": {
          "model_module": "@jupyter-widgets/controls",
          "model_name": "HTMLModel",
          "model_module_version": "1.5.0",
          "state": {
            "_dom_classes": [],
            "_model_module": "@jupyter-widgets/controls",
            "_model_module_version": "1.5.0",
            "_model_name": "HTMLModel",
            "_view_count": null,
            "_view_module": "@jupyter-widgets/controls",
            "_view_module_version": "1.5.0",
            "_view_name": "HTMLView",
            "description": "",
            "description_tooltip": null,
            "layout": "IPY_MODEL_9f7df1b7c9494fc9a895bfec83a4f600",
            "placeholder": "​",
            "style": "IPY_MODEL_a1482344334848dba1552746f8397096",
            "value": " 112/112 [00:00&lt;00:00, 6.40kB/s]"
          }
        },
        "50588af21b2847449885954a30b1eb47": {
          "model_module": "@jupyter-widgets/base",
          "model_name": "LayoutModel",
          "model_module_version": "1.2.0",
          "state": {
            "_model_module": "@jupyter-widgets/base",
            "_model_module_version": "1.2.0",
            "_model_name": "LayoutModel",
            "_view_count": null,
            "_view_module": "@jupyter-widgets/base",
            "_view_module_version": "1.2.0",
            "_view_name": "LayoutView",
            "align_content": null,
            "align_items": null,
            "align_self": null,
            "border": null,
            "bottom": null,
            "display": null,
            "flex": null,
            "flex_flow": null,
            "grid_area": null,
            "grid_auto_columns": null,
            "grid_auto_flow": null,
            "grid_auto_rows": null,
            "grid_column": null,
            "grid_gap": null,
            "grid_row": null,
            "grid_template_areas": null,
            "grid_template_columns": null,
            "grid_template_rows": null,
            "height": null,
            "justify_content": null,
            "justify_items": null,
            "left": null,
            "margin": null,
            "max_height": null,
            "max_width": null,
            "min_height": null,
            "min_width": null,
            "object_fit": null,
            "object_position": null,
            "order": null,
            "overflow": null,
            "overflow_x": null,
            "overflow_y": null,
            "padding": null,
            "right": null,
            "top": null,
            "visibility": null,
            "width": null
          }
        },
        "63b4967bb16647dc83ce7ceface0de49": {
          "model_module": "@jupyter-widgets/base",
          "model_name": "LayoutModel",
          "model_module_version": "1.2.0",
          "state": {
            "_model_module": "@jupyter-widgets/base",
            "_model_module_version": "1.2.0",
            "_model_name": "LayoutModel",
            "_view_count": null,
            "_view_module": "@jupyter-widgets/base",
            "_view_module_version": "1.2.0",
            "_view_name": "LayoutView",
            "align_content": null,
            "align_items": null,
            "align_self": null,
            "border": null,
            "bottom": null,
            "display": null,
            "flex": null,
            "flex_flow": null,
            "grid_area": null,
            "grid_auto_columns": null,
            "grid_auto_flow": null,
            "grid_auto_rows": null,
            "grid_column": null,
            "grid_gap": null,
            "grid_row": null,
            "grid_template_areas": null,
            "grid_template_columns": null,
            "grid_template_rows": null,
            "height": null,
            "justify_content": null,
            "justify_items": null,
            "left": null,
            "margin": null,
            "max_height": null,
            "max_width": null,
            "min_height": null,
            "min_width": null,
            "object_fit": null,
            "object_position": null,
            "order": null,
            "overflow": null,
            "overflow_x": null,
            "overflow_y": null,
            "padding": null,
            "right": null,
            "top": null,
            "visibility": null,
            "width": null
          }
        },
        "d2709252384246e5b791bdb1136af0fd": {
          "model_module": "@jupyter-widgets/controls",
          "model_name": "DescriptionStyleModel",
          "model_module_version": "1.5.0",
          "state": {
            "_model_module": "@jupyter-widgets/controls",
            "_model_module_version": "1.5.0",
            "_model_name": "DescriptionStyleModel",
            "_view_count": null,
            "_view_module": "@jupyter-widgets/base",
            "_view_module_version": "1.2.0",
            "_view_name": "StyleView",
            "description_width": ""
          }
        },
        "7fcddb8d03db4b70b2744aeb85cd3ac2": {
          "model_module": "@jupyter-widgets/base",
          "model_name": "LayoutModel",
          "model_module_version": "1.2.0",
          "state": {
            "_model_module": "@jupyter-widgets/base",
            "_model_module_version": "1.2.0",
            "_model_name": "LayoutModel",
            "_view_count": null,
            "_view_module": "@jupyter-widgets/base",
            "_view_module_version": "1.2.0",
            "_view_name": "LayoutView",
            "align_content": null,
            "align_items": null,
            "align_self": null,
            "border": null,
            "bottom": null,
            "display": null,
            "flex": null,
            "flex_flow": null,
            "grid_area": null,
            "grid_auto_columns": null,
            "grid_auto_flow": null,
            "grid_auto_rows": null,
            "grid_column": null,
            "grid_gap": null,
            "grid_row": null,
            "grid_template_areas": null,
            "grid_template_columns": null,
            "grid_template_rows": null,
            "height": null,
            "justify_content": null,
            "justify_items": null,
            "left": null,
            "margin": null,
            "max_height": null,
            "max_width": null,
            "min_height": null,
            "min_width": null,
            "object_fit": null,
            "object_position": null,
            "order": null,
            "overflow": null,
            "overflow_x": null,
            "overflow_y": null,
            "padding": null,
            "right": null,
            "top": null,
            "visibility": null,
            "width": null
          }
        },
        "3e41792de5c4492ab1faaf4b38808706": {
          "model_module": "@jupyter-widgets/controls",
          "model_name": "ProgressStyleModel",
          "model_module_version": "1.5.0",
          "state": {
            "_model_module": "@jupyter-widgets/controls",
            "_model_module_version": "1.5.0",
            "_model_name": "ProgressStyleModel",
            "_view_count": null,
            "_view_module": "@jupyter-widgets/base",
            "_view_module_version": "1.2.0",
            "_view_name": "StyleView",
            "bar_color": null,
            "description_width": ""
          }
        },
        "9f7df1b7c9494fc9a895bfec83a4f600": {
          "model_module": "@jupyter-widgets/base",
          "model_name": "LayoutModel",
          "model_module_version": "1.2.0",
          "state": {
            "_model_module": "@jupyter-widgets/base",
            "_model_module_version": "1.2.0",
            "_model_name": "LayoutModel",
            "_view_count": null,
            "_view_module": "@jupyter-widgets/base",
            "_view_module_version": "1.2.0",
            "_view_name": "LayoutView",
            "align_content": null,
            "align_items": null,
            "align_self": null,
            "border": null,
            "bottom": null,
            "display": null,
            "flex": null,
            "flex_flow": null,
            "grid_area": null,
            "grid_auto_columns": null,
            "grid_auto_flow": null,
            "grid_auto_rows": null,
            "grid_column": null,
            "grid_gap": null,
            "grid_row": null,
            "grid_template_areas": null,
            "grid_template_columns": null,
            "grid_template_rows": null,
            "height": null,
            "justify_content": null,
            "justify_items": null,
            "left": null,
            "margin": null,
            "max_height": null,
            "max_width": null,
            "min_height": null,
            "min_width": null,
            "object_fit": null,
            "object_position": null,
            "order": null,
            "overflow": null,
            "overflow_x": null,
            "overflow_y": null,
            "padding": null,
            "right": null,
            "top": null,
            "visibility": null,
            "width": null
          }
        },
        "a1482344334848dba1552746f8397096": {
          "model_module": "@jupyter-widgets/controls",
          "model_name": "DescriptionStyleModel",
          "model_module_version": "1.5.0",
          "state": {
            "_model_module": "@jupyter-widgets/controls",
            "_model_module_version": "1.5.0",
            "_model_name": "DescriptionStyleModel",
            "_view_count": null,
            "_view_module": "@jupyter-widgets/base",
            "_view_module_version": "1.2.0",
            "_view_name": "StyleView",
            "description_width": ""
          }
        },
        "5ec280b24a024c1181e61cceb4b425d3": {
          "model_module": "@jupyter-widgets/controls",
          "model_name": "HBoxModel",
          "model_module_version": "1.5.0",
          "state": {
            "_dom_classes": [],
            "_model_module": "@jupyter-widgets/controls",
            "_model_module_version": "1.5.0",
            "_model_name": "HBoxModel",
            "_view_count": null,
            "_view_module": "@jupyter-widgets/controls",
            "_view_module_version": "1.5.0",
            "_view_name": "HBoxView",
            "box_style": "",
            "children": [
              "IPY_MODEL_69515da331f847b5bed90cd4ac654150",
              "IPY_MODEL_2dbefb83651245108feeb98d6064f4fa",
              "IPY_MODEL_8900f80cdc704007a665a8820e2daef5"
            ],
            "layout": "IPY_MODEL_058a9a4595a34180a5d420d5e90806bc"
          }
        },
        "69515da331f847b5bed90cd4ac654150": {
          "model_module": "@jupyter-widgets/controls",
          "model_name": "HTMLModel",
          "model_module_version": "1.5.0",
          "state": {
            "_dom_classes": [],
            "_model_module": "@jupyter-widgets/controls",
            "_model_module_version": "1.5.0",
            "_model_name": "HTMLModel",
            "_view_count": null,
            "_view_module": "@jupyter-widgets/controls",
            "_view_module_version": "1.5.0",
            "_view_name": "HTMLView",
            "description": "",
            "description_tooltip": null,
            "layout": "IPY_MODEL_87f028251ee5406aadb8cb0f69ed5e6b",
            "placeholder": "​",
            "style": "IPY_MODEL_ab9aa869a0a849788bdd0e08a76c6e4d",
            "value": "1_Pooling/config.json: 100%"
          }
        },
        "2dbefb83651245108feeb98d6064f4fa": {
          "model_module": "@jupyter-widgets/controls",
          "model_name": "FloatProgressModel",
          "model_module_version": "1.5.0",
          "state": {
            "_dom_classes": [],
            "_model_module": "@jupyter-widgets/controls",
            "_model_module_version": "1.5.0",
            "_model_name": "FloatProgressModel",
            "_view_count": null,
            "_view_module": "@jupyter-widgets/controls",
            "_view_module_version": "1.5.0",
            "_view_name": "ProgressView",
            "bar_style": "success",
            "description": "",
            "description_tooltip": null,
            "layout": "IPY_MODEL_aa17e9fe574c438b98b215fb5164bfb1",
            "max": 190,
            "min": 0,
            "orientation": "horizontal",
            "style": "IPY_MODEL_34629fd3c2db4656ae8cf120cf5bd30e",
            "value": 190
          }
        },
        "8900f80cdc704007a665a8820e2daef5": {
          "model_module": "@jupyter-widgets/controls",
          "model_name": "HTMLModel",
          "model_module_version": "1.5.0",
          "state": {
            "_dom_classes": [],
            "_model_module": "@jupyter-widgets/controls",
            "_model_module_version": "1.5.0",
            "_model_name": "HTMLModel",
            "_view_count": null,
            "_view_module": "@jupyter-widgets/controls",
            "_view_module_version": "1.5.0",
            "_view_name": "HTMLView",
            "description": "",
            "description_tooltip": null,
            "layout": "IPY_MODEL_6000ee15ad804b79bf3b2f7dbdf3fd7f",
            "placeholder": "​",
            "style": "IPY_MODEL_89ae64759c624514bcce4007e9b60c2e",
            "value": " 190/190 [00:00&lt;00:00, 9.63kB/s]"
          }
        },
        "058a9a4595a34180a5d420d5e90806bc": {
          "model_module": "@jupyter-widgets/base",
          "model_name": "LayoutModel",
          "model_module_version": "1.2.0",
          "state": {
            "_model_module": "@jupyter-widgets/base",
            "_model_module_version": "1.2.0",
            "_model_name": "LayoutModel",
            "_view_count": null,
            "_view_module": "@jupyter-widgets/base",
            "_view_module_version": "1.2.0",
            "_view_name": "LayoutView",
            "align_content": null,
            "align_items": null,
            "align_self": null,
            "border": null,
            "bottom": null,
            "display": null,
            "flex": null,
            "flex_flow": null,
            "grid_area": null,
            "grid_auto_columns": null,
            "grid_auto_flow": null,
            "grid_auto_rows": null,
            "grid_column": null,
            "grid_gap": null,
            "grid_row": null,
            "grid_template_areas": null,
            "grid_template_columns": null,
            "grid_template_rows": null,
            "height": null,
            "justify_content": null,
            "justify_items": null,
            "left": null,
            "margin": null,
            "max_height": null,
            "max_width": null,
            "min_height": null,
            "min_width": null,
            "object_fit": null,
            "object_position": null,
            "order": null,
            "overflow": null,
            "overflow_x": null,
            "overflow_y": null,
            "padding": null,
            "right": null,
            "top": null,
            "visibility": null,
            "width": null
          }
        },
        "87f028251ee5406aadb8cb0f69ed5e6b": {
          "model_module": "@jupyter-widgets/base",
          "model_name": "LayoutModel",
          "model_module_version": "1.2.0",
          "state": {
            "_model_module": "@jupyter-widgets/base",
            "_model_module_version": "1.2.0",
            "_model_name": "LayoutModel",
            "_view_count": null,
            "_view_module": "@jupyter-widgets/base",
            "_view_module_version": "1.2.0",
            "_view_name": "LayoutView",
            "align_content": null,
            "align_items": null,
            "align_self": null,
            "border": null,
            "bottom": null,
            "display": null,
            "flex": null,
            "flex_flow": null,
            "grid_area": null,
            "grid_auto_columns": null,
            "grid_auto_flow": null,
            "grid_auto_rows": null,
            "grid_column": null,
            "grid_gap": null,
            "grid_row": null,
            "grid_template_areas": null,
            "grid_template_columns": null,
            "grid_template_rows": null,
            "height": null,
            "justify_content": null,
            "justify_items": null,
            "left": null,
            "margin": null,
            "max_height": null,
            "max_width": null,
            "min_height": null,
            "min_width": null,
            "object_fit": null,
            "object_position": null,
            "order": null,
            "overflow": null,
            "overflow_x": null,
            "overflow_y": null,
            "padding": null,
            "right": null,
            "top": null,
            "visibility": null,
            "width": null
          }
        },
        "ab9aa869a0a849788bdd0e08a76c6e4d": {
          "model_module": "@jupyter-widgets/controls",
          "model_name": "DescriptionStyleModel",
          "model_module_version": "1.5.0",
          "state": {
            "_model_module": "@jupyter-widgets/controls",
            "_model_module_version": "1.5.0",
            "_model_name": "DescriptionStyleModel",
            "_view_count": null,
            "_view_module": "@jupyter-widgets/base",
            "_view_module_version": "1.2.0",
            "_view_name": "StyleView",
            "description_width": ""
          }
        },
        "aa17e9fe574c438b98b215fb5164bfb1": {
          "model_module": "@jupyter-widgets/base",
          "model_name": "LayoutModel",
          "model_module_version": "1.2.0",
          "state": {
            "_model_module": "@jupyter-widgets/base",
            "_model_module_version": "1.2.0",
            "_model_name": "LayoutModel",
            "_view_count": null,
            "_view_module": "@jupyter-widgets/base",
            "_view_module_version": "1.2.0",
            "_view_name": "LayoutView",
            "align_content": null,
            "align_items": null,
            "align_self": null,
            "border": null,
            "bottom": null,
            "display": null,
            "flex": null,
            "flex_flow": null,
            "grid_area": null,
            "grid_auto_columns": null,
            "grid_auto_flow": null,
            "grid_auto_rows": null,
            "grid_column": null,
            "grid_gap": null,
            "grid_row": null,
            "grid_template_areas": null,
            "grid_template_columns": null,
            "grid_template_rows": null,
            "height": null,
            "justify_content": null,
            "justify_items": null,
            "left": null,
            "margin": null,
            "max_height": null,
            "max_width": null,
            "min_height": null,
            "min_width": null,
            "object_fit": null,
            "object_position": null,
            "order": null,
            "overflow": null,
            "overflow_x": null,
            "overflow_y": null,
            "padding": null,
            "right": null,
            "top": null,
            "visibility": null,
            "width": null
          }
        },
        "34629fd3c2db4656ae8cf120cf5bd30e": {
          "model_module": "@jupyter-widgets/controls",
          "model_name": "ProgressStyleModel",
          "model_module_version": "1.5.0",
          "state": {
            "_model_module": "@jupyter-widgets/controls",
            "_model_module_version": "1.5.0",
            "_model_name": "ProgressStyleModel",
            "_view_count": null,
            "_view_module": "@jupyter-widgets/base",
            "_view_module_version": "1.2.0",
            "_view_name": "StyleView",
            "bar_color": null,
            "description_width": ""
          }
        },
        "6000ee15ad804b79bf3b2f7dbdf3fd7f": {
          "model_module": "@jupyter-widgets/base",
          "model_name": "LayoutModel",
          "model_module_version": "1.2.0",
          "state": {
            "_model_module": "@jupyter-widgets/base",
            "_model_module_version": "1.2.0",
            "_model_name": "LayoutModel",
            "_view_count": null,
            "_view_module": "@jupyter-widgets/base",
            "_view_module_version": "1.2.0",
            "_view_name": "LayoutView",
            "align_content": null,
            "align_items": null,
            "align_self": null,
            "border": null,
            "bottom": null,
            "display": null,
            "flex": null,
            "flex_flow": null,
            "grid_area": null,
            "grid_auto_columns": null,
            "grid_auto_flow": null,
            "grid_auto_rows": null,
            "grid_column": null,
            "grid_gap": null,
            "grid_row": null,
            "grid_template_areas": null,
            "grid_template_columns": null,
            "grid_template_rows": null,
            "height": null,
            "justify_content": null,
            "justify_items": null,
            "left": null,
            "margin": null,
            "max_height": null,
            "max_width": null,
            "min_height": null,
            "min_width": null,
            "object_fit": null,
            "object_position": null,
            "order": null,
            "overflow": null,
            "overflow_x": null,
            "overflow_y": null,
            "padding": null,
            "right": null,
            "top": null,
            "visibility": null,
            "width": null
          }
        },
        "89ae64759c624514bcce4007e9b60c2e": {
          "model_module": "@jupyter-widgets/controls",
          "model_name": "DescriptionStyleModel",
          "model_module_version": "1.5.0",
          "state": {
            "_model_module": "@jupyter-widgets/controls",
            "_model_module_version": "1.5.0",
            "_model_name": "DescriptionStyleModel",
            "_view_count": null,
            "_view_module": "@jupyter-widgets/base",
            "_view_module_version": "1.2.0",
            "_view_name": "StyleView",
            "description_width": ""
          }
        }
      }
    }
  },
  "nbformat": 4,
  "nbformat_minor": 0
}